{
 "cells": [
  {
   "cell_type": "code",
   "execution_count": null,
   "id": "e393ad2e",
   "metadata": {},
   "outputs": [],
   "source": [
    "# !cd C:\\Spark\\spark-3.5.5-bin-hadoop3\\bin>\n",
    "# !spark-shell"
   ]
  },
  {
   "cell_type": "code",
   "execution_count": 1,
   "id": "9a0a7e22",
   "metadata": {},
   "outputs": [
    {
     "name": "stdout",
     "output_type": "stream",
     "text": [
      "PySpark Version: 3.5.5\n"
     ]
    }
   ],
   "source": [
    "# import pyspark module\n",
    "from pyspark.sql import SparkSession\n",
    "import pyspark\n",
    "\n",
    "# Get the version of PySpark\n",
    "pyspark_version = pyspark.__version__\n",
    "print(f\"PySpark Version: {pyspark_version}\")"
   ]
  },
  {
   "cell_type": "code",
   "execution_count": 2,
   "id": "c19b2c73",
   "metadata": {},
   "outputs": [],
   "source": [
    "spark = (SparkSession\n",
    "    .builder\n",
    "    .appName(\"teste\")\n",
    "    .config(\"spark.driver.host\", \"localhost\")\n",
    "    .getOrCreate()\n",
    ")\n"
   ]
  },
  {
   "cell_type": "code",
   "execution_count": 3,
   "id": "85f2094b",
   "metadata": {},
   "outputs": [
    {
     "name": "stdout",
     "output_type": "stream",
     "text": [
      "root\n",
      " |-- channels: array (nullable = true)\n",
      " |    |-- element: string (containsNull = true)\n",
      " |-- discount_value: long (nullable = true)\n",
      " |-- duration: double (nullable = true)\n",
      " |-- id: string (nullable = true)\n",
      " |-- min_value: long (nullable = true)\n",
      " |-- offer_type: string (nullable = true)\n",
      "\n",
      "+--------------------+--------------+--------+--------------------+---------+-------------+\n",
      "|            channels|discount_value|duration|                  id|min_value|   offer_type|\n",
      "+--------------------+--------------+--------+--------------------+---------+-------------+\n",
      "|[email, mobile, s...|            10|     7.0|ae264e3637204a6fb...|       10|         bogo|\n",
      "|[web, email, mobi...|            10|     5.0|4d5c57ea9a6940dd8...|       10|         bogo|\n",
      "|[web, email, mobile]|             0|     4.0|3f207df678b143eea...|        0|informational|\n",
      "|[web, email, mobile]|             5|     7.0|9b98b8c7a33c4b65b...|        5|         bogo|\n",
      "|        [web, email]|             5|    10.0|0b1e1539f2cc45b7b...|       20|     discount|\n",
      "|[web, email, mobi...|             3|     7.0|2298d6c36e964ae4a...|        7|     discount|\n",
      "|[web, email, mobi...|             2|    10.0|fafdcd668e3743c1b...|       10|     discount|\n",
      "|[email, mobile, s...|             0|     3.0|5a8bc65990b245e5a...|        0|informational|\n",
      "|[web, email, mobi...|             5|     5.0|f19421c1d4aa40978...|        5|         bogo|\n",
      "|[web, email, mobile]|             2|     7.0|2906b810c7d441179...|       10|     discount|\n",
      "+--------------------+--------------+--------+--------------------+---------+-------------+\n",
      "\n"
     ]
    }
   ],
   "source": [
    "offers = spark.read.json(\"../data/raw/offers.json\")\n",
    "offers.printSchema()\n",
    "offers.show()\n"
   ]
  },
  {
   "cell_type": "code",
   "execution_count": 5,
   "id": "79c33c3c",
   "metadata": {},
   "outputs": [],
   "source": [
    "spark.stop()"
   ]
  }
 ],
 "metadata": {
  "kernelspec": {
   "display_name": "ifoodcase",
   "language": "python",
   "name": "python3"
  },
  "language_info": {
   "codemirror_mode": {
    "name": "ipython",
    "version": 3
   },
   "file_extension": ".py",
   "mimetype": "text/x-python",
   "name": "python",
   "nbconvert_exporter": "python",
   "pygments_lexer": "ipython3",
   "version": "3.13.2"
  }
 },
 "nbformat": 4,
 "nbformat_minor": 5
}
