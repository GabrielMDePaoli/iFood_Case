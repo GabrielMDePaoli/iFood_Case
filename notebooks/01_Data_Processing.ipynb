{
 "cells": [
  {
   "cell_type": "markdown",
   "id": "f3bc8199",
   "metadata": {},
   "source": [
    "# 1. Importando bibliotecas e abrindo sessão spark"
   ]
  },
  {
   "cell_type": "code",
   "execution_count": null,
   "id": "9a0a7e22",
   "metadata": {},
   "outputs": [],
   "source": [
    "%load_ext autoreload\n",
    "%autoreload 2\n",
    "\n",
    "from pyspark.sql import SparkSession\n",
    "import pyspark\n",
    "import pyspark.sql.functions as F\n",
    "from pyspark.sql.window import Window\n",
    "\n",
    "import matplotlib.pyplot as plt\n",
    "import seaborn as sns\n",
    "import plotly.express as px\n",
    "import numpy as np\n",
    "\n",
    "import sys\n",
    "sys.path.append('../src/')\n",
    "\n",
    "from data_processing_functions import *"
   ]
  },
  {
   "cell_type": "code",
   "execution_count": 2,
   "id": "c19b2c73",
   "metadata": {},
   "outputs": [],
   "source": [
    "spark = (SparkSession\n",
    "    .builder\n",
    "    .appName(\"DataUnifier\")\n",
    "    .config(\"spark.driver.host\", \"localhost\")\n",
    "    .config(\"spark.executor.heartbeatInterval\",\"3600s\")\n",
    "    .config(\"spark.network.timeout\",\"3601s\")\n",
    "    .config(\"spark.driver.memory\", \"8g\")\n",
    "    .config(\"spark.executor.memory\", \"8g\")\n",
    "    .config(\"spark.sql.shuffle.partitions\", \"200\")\n",
    "    .getOrCreate()\n",
    ")\n"
   ]
  },
  {
   "cell_type": "markdown",
   "id": "c77c8cd4",
   "metadata": {},
   "source": [
    "# 2. Explorações e modificações iniciais dos dados"
   ]
  },
  {
   "cell_type": "markdown",
   "id": "d7362415",
   "metadata": {},
   "source": [
    "## 2.1. Offers.json\n",
    "\n",
    "Contém os ids das ofertas e metadados de cada uma delas:\n",
    "\n",
    "- id (string): id da oferta \n",
    "- offer_type (string): o tipo da oferta (BOGO, discount, informational)\n",
    "    - BOGO: Oferta de \"compre um, leve outro\". Por exemplo, compre um lanche e ganhe outro grátis\n",
    "    - discount: Oferta com desconto direto em um produto ou serviço. Exemplo: 20% de desconto em uma compra\n",
    "    - informational: Não é uma oferta de fato — é só uma mensagem informativa, como anúncios ou lembretes de promoções futuras, sem incentivo direto\n",
    "- min_value (int): valor mínimo para ativação da oferta \n",
    "- duration (int): duração da oferta \n",
    "- discount_value (int): valor do desconto \n",
    "- channels (list of strings): canais de veiculação "
   ]
  },
  {
   "cell_type": "markdown",
   "id": "a6dbe888",
   "metadata": {},
   "source": [
    "### 2.1.1. Carregando json das ofertas"
   ]
  },
  {
   "cell_type": "code",
   "execution_count": 3,
   "id": "85f2094b",
   "metadata": {},
   "outputs": [
    {
     "name": "stdout",
     "output_type": "stream",
     "text": [
      "root\n",
      " |-- channels: array (nullable = true)\n",
      " |    |-- element: string (containsNull = true)\n",
      " |-- discount_value: long (nullable = true)\n",
      " |-- duration: double (nullable = true)\n",
      " |-- id: string (nullable = true)\n",
      " |-- min_value: long (nullable = true)\n",
      " |-- offer_type: string (nullable = true)\n",
      "\n",
      "+--------------------+--------------+--------+--------------------+---------+-------------+\n",
      "|            channels|discount_value|duration|                  id|min_value|   offer_type|\n",
      "+--------------------+--------------+--------+--------------------+---------+-------------+\n",
      "|[email, mobile, s...|            10|     7.0|ae264e3637204a6fb...|       10|         bogo|\n",
      "|[web, email, mobi...|            10|     5.0|4d5c57ea9a6940dd8...|       10|         bogo|\n",
      "|[web, email, mobile]|             0|     4.0|3f207df678b143eea...|        0|informational|\n",
      "|[web, email, mobile]|             5|     7.0|9b98b8c7a33c4b65b...|        5|         bogo|\n",
      "|        [web, email]|             5|    10.0|0b1e1539f2cc45b7b...|       20|     discount|\n",
      "|[web, email, mobi...|             3|     7.0|2298d6c36e964ae4a...|        7|     discount|\n",
      "|[web, email, mobi...|             2|    10.0|fafdcd668e3743c1b...|       10|     discount|\n",
      "|[email, mobile, s...|             0|     3.0|5a8bc65990b245e5a...|        0|informational|\n",
      "|[web, email, mobi...|             5|     5.0|f19421c1d4aa40978...|        5|         bogo|\n",
      "|[web, email, mobile]|             2|     7.0|2906b810c7d441179...|       10|     discount|\n",
      "+--------------------+--------------+--------+--------------------+---------+-------------+\n",
      "\n"
     ]
    }
   ],
   "source": [
    "offers_ = spark.read.json(\"../data/raw/offers.json\")\n",
    "offers_.printSchema()\n",
    "offers_.show()"
   ]
  },
  {
   "cell_type": "code",
   "execution_count": null,
   "id": "515cdd23",
   "metadata": {},
   "outputs": [],
   "source": [
    "# Copia da tabela original\n",
    "offers = offers_.alias(\"offers\")\n",
    "offers = offers.withColumnRenamed(\"id\", \"offer_id\")"
   ]
  },
  {
   "cell_type": "markdown",
   "id": "c622f4d4",
   "metadata": {},
   "source": [
    "### 2.1.2. Contagem de valores dos canais e tipos de oferta"
   ]
  },
  {
   "cell_type": "code",
   "execution_count": 5,
   "id": "cf38f9e8",
   "metadata": {},
   "outputs": [
    {
     "name": "stdout",
     "output_type": "stream",
     "text": [
      "+--------------------+-----+----------+\n",
      "|            channels|count|percentage|\n",
      "+--------------------+-----+----------+\n",
      "|[web, email, mobi...|    4|      40.0|\n",
      "|[web, email, mobile]|    3|      30.0|\n",
      "|[email, mobile, s...|    2|      20.0|\n",
      "|        [web, email]|    1|      10.0|\n",
      "+--------------------+-----+----------+\n",
      "\n",
      "None\n",
      "+-------------+-----+----------+\n",
      "|   offer_type|count|percentage|\n",
      "+-------------+-----+----------+\n",
      "|     discount|    4|      40.0|\n",
      "|         bogo|    4|      40.0|\n",
      "|informational|    2|      20.0|\n",
      "+-------------+-----+----------+\n",
      "\n",
      "None\n"
     ]
    },
    {
     "data": {
      "text/plain": [
       "DataFrame[offer_type: string, count: bigint, percentage: double]"
      ]
     },
     "execution_count": 5,
     "metadata": {},
     "output_type": "execute_result"
    }
   ],
   "source": [
    "get_values_count(offers, \"channels\")\n",
    "\n",
    "get_values_count(offers, \"offer_type\")"
   ]
  },
  {
   "cell_type": "markdown",
   "id": "97efef2f",
   "metadata": {},
   "source": [
    "### 2.1.3. Criando dummies para cada canal"
   ]
  },
  {
   "cell_type": "code",
   "execution_count": 6,
   "id": "27b50b59",
   "metadata": {},
   "outputs": [
    {
     "name": "stdout",
     "output_type": "stream",
     "text": [
      "['mobile', 'email', 'social', 'web']\n",
      "+--------------+--------+--------------------+---------+-------------+--------------+-------------+--------------+-----------+\n",
      "|discount_value|duration|            offer_id|min_value|   offer_type|channel_mobile|channel_email|channel_social|channel_web|\n",
      "+--------------+--------+--------------------+---------+-------------+--------------+-------------+--------------+-----------+\n",
      "|            10|     7.0|ae264e3637204a6fb...|       10|         bogo|             1|            1|             1|          0|\n",
      "|            10|     5.0|4d5c57ea9a6940dd8...|       10|         bogo|             1|            1|             1|          1|\n",
      "|             0|     4.0|3f207df678b143eea...|        0|informational|             1|            1|             0|          1|\n",
      "|             5|     7.0|9b98b8c7a33c4b65b...|        5|         bogo|             1|            1|             0|          1|\n",
      "|             5|    10.0|0b1e1539f2cc45b7b...|       20|     discount|             0|            1|             0|          1|\n",
      "|             3|     7.0|2298d6c36e964ae4a...|        7|     discount|             1|            1|             1|          1|\n",
      "|             2|    10.0|fafdcd668e3743c1b...|       10|     discount|             1|            1|             1|          1|\n",
      "|             0|     3.0|5a8bc65990b245e5a...|        0|informational|             1|            1|             1|          0|\n",
      "|             5|     5.0|f19421c1d4aa40978...|        5|         bogo|             1|            1|             1|          1|\n",
      "|             2|     7.0|2906b810c7d441179...|       10|     discount|             1|            1|             0|          1|\n",
      "+--------------+--------+--------------------+---------+-------------+--------------+-------------+--------------+-----------+\n",
      "\n"
     ]
    }
   ],
   "source": [
    "# Coletando todos os canais de veiculação unicos\n",
    "unique_channels = (offers\n",
    "    # \"Explodindo\" os canais para se obter uma coluna com cada um dos canais\n",
    "    .withColumn(\"channel\", F.explode(\"channels\"))\n",
    "    .select(\"channel\")\n",
    "    # Coletando os valores unicos dos canais \n",
    "    .distinct()\n",
    "    .rdd.flatMap(lambda x: x)\n",
    "    .collect()\n",
    ")\n",
    "# Mostrando a lista de canais unicos\n",
    "print(unique_channels)\n",
    "\n",
    "# Gerando uma coluna dummie para cada \n",
    "for ch in unique_channels:\n",
    "    offers = offers.withColumn(\n",
    "        f\"channel_{ch}\",\n",
    "        F.when(F.array_contains(\"channels\", ch), 1).otherwise(0)\n",
    "    )\n",
    "\n",
    "offers = offers.drop(\"channels\")\n",
    "\n",
    "# Exibindo a tabela modificada\n",
    "offers.show()\n",
    "\n",
    "del(unique_channels, ch)"
   ]
  },
  {
   "cell_type": "markdown",
   "id": "36963a3d",
   "metadata": {},
   "source": [
    "### 2.1.4. Criando dummies para cada tipo de oferta"
   ]
  },
  {
   "cell_type": "code",
   "execution_count": 7,
   "id": "63b1a3fc",
   "metadata": {},
   "outputs": [
    {
     "name": "stdout",
     "output_type": "stream",
     "text": [
      "+--------------+--------+--------------------+---------+-------------+--------------+-------------+--------------+-----------+-------------------+------------------------+---------------+\n",
      "|discount_value|duration|            offer_id|min_value|   offer_type|channel_mobile|channel_email|channel_social|channel_web|offer_type_discount|offer_type_informational|offer_type_bogo|\n",
      "+--------------+--------+--------------------+---------+-------------+--------------+-------------+--------------+-----------+-------------------+------------------------+---------------+\n",
      "|            10|     7.0|ae264e3637204a6fb...|       10|         bogo|             1|            1|             1|          0|                  0|                       0|              1|\n",
      "|            10|     5.0|4d5c57ea9a6940dd8...|       10|         bogo|             1|            1|             1|          1|                  0|                       0|              1|\n",
      "|             0|     4.0|3f207df678b143eea...|        0|informational|             1|            1|             0|          1|                  0|                       1|              0|\n",
      "|             5|     7.0|9b98b8c7a33c4b65b...|        5|         bogo|             1|            1|             0|          1|                  0|                       0|              1|\n",
      "|             5|    10.0|0b1e1539f2cc45b7b...|       20|     discount|             0|            1|             0|          1|                  1|                       0|              0|\n",
      "|             3|     7.0|2298d6c36e964ae4a...|        7|     discount|             1|            1|             1|          1|                  1|                       0|              0|\n",
      "|             2|    10.0|fafdcd668e3743c1b...|       10|     discount|             1|            1|             1|          1|                  1|                       0|              0|\n",
      "|             0|     3.0|5a8bc65990b245e5a...|        0|informational|             1|            1|             1|          0|                  0|                       1|              0|\n",
      "|             5|     5.0|f19421c1d4aa40978...|        5|         bogo|             1|            1|             1|          1|                  0|                       0|              1|\n",
      "|             2|     7.0|2906b810c7d441179...|       10|     discount|             1|            1|             0|          1|                  1|                       0|              0|\n",
      "+--------------+--------+--------------------+---------+-------------+--------------+-------------+--------------+-----------+-------------------+------------------------+---------------+\n",
      "\n"
     ]
    }
   ],
   "source": [
    "offers = create_dummies_for_column(offers, \"offer_type\")\n",
    "\n",
    "offers.show()"
   ]
  },
  {
   "cell_type": "markdown",
   "id": "56b44bc8",
   "metadata": {},
   "source": [
    "## 2.2. Profile.json\n",
    "\n",
    "Contém atributos de cerca de 17k clientes:\n",
    "\n",
    "- age (int): idade do cliente na criação da conta \n",
    "- registeredon (int): data de criação da conta \n",
    "- gender (string): gênero do cliente \n",
    "- id (string): id do cliente \n",
    "- credit_card_limit (float): limite do cartão registrado"
   ]
  },
  {
   "cell_type": "markdown",
   "id": "37050375",
   "metadata": {},
   "source": [
    "### 2.2.1. Carregando json dos clientes"
   ]
  },
  {
   "cell_type": "code",
   "execution_count": 8,
   "id": "789de102",
   "metadata": {},
   "outputs": [
    {
     "name": "stdout",
     "output_type": "stream",
     "text": [
      "root\n",
      " |-- age: long (nullable = true)\n",
      " |-- credit_card_limit: double (nullable = true)\n",
      " |-- gender: string (nullable = true)\n",
      " |-- id: string (nullable = true)\n",
      " |-- registered_on: string (nullable = true)\n",
      "\n",
      "17000\n",
      "+---+-----------------+------+--------------------+-------------+\n",
      "|age|credit_card_limit|gender|                  id|registered_on|\n",
      "+---+-----------------+------+--------------------+-------------+\n",
      "|118|             NULL|  NULL|68be06ca386d4c319...|     20170212|\n",
      "| 55|         112000.0|     F|0610b486422d4921a...|     20170715|\n",
      "|118|             NULL|  NULL|38fe809add3b4fcf9...|     20180712|\n",
      "| 75|         100000.0|     F|78afa995795e4d85b...|     20170509|\n",
      "|118|             NULL|  NULL|a03223e636434f42a...|     20170804|\n",
      "| 68|          70000.0|     M|e2127556f4f64592b...|     20180426|\n",
      "|118|             NULL|  NULL|8ec6ce2a7e7949b1b...|     20170925|\n",
      "|118|             NULL|  NULL|68617ca6246f4fbc8...|     20171002|\n",
      "| 65|          53000.0|     M|389bc3fa690240e79...|     20180209|\n",
      "|118|             NULL|  NULL|8974fc5686fe429db...|     20161122|\n",
      "|118|             NULL|  NULL|c4863c7985cf408fa...|     20170824|\n",
      "|118|             NULL|  NULL|148adfcaa27d485b8...|     20150919|\n",
      "| 58|          51000.0|     M|2eeac8d8feae4a8ca...|     20171111|\n",
      "| 61|          57000.0|     F|aa4862eba776480b8...|     20170911|\n",
      "| 26|          46000.0|     M|e12aeaf2d47d42479...|     20140213|\n",
      "| 62|          71000.0|     F|31dda685af34476ca...|     20160211|\n",
      "| 49|          52000.0|     M|62cf5e10845442329...|     20141113|\n",
      "|118|             NULL|  NULL|744d603ef08c4f33a...|     20170801|\n",
      "| 57|          42000.0|     M|6445de3b47274c759...|     20171231|\n",
      "| 61|          40000.0|     F|a448667f336b42c9a...|     20180501|\n",
      "+---+-----------------+------+--------------------+-------------+\n",
      "only showing top 20 rows\n",
      "\n",
      "None\n"
     ]
    }
   ],
   "source": [
    "profile_ = spark.read.json(\"../data/raw/profile.json\")\n",
    "profile_.printSchema()\n",
    "print(profile_.count())\n",
    "print(profile_.show())"
   ]
  },
  {
   "cell_type": "code",
   "execution_count": 9,
   "id": "ddcfe9c3",
   "metadata": {},
   "outputs": [],
   "source": [
    "profile = profile_.alias(\"profile\")\n",
    "\n",
    "profile = profile.withColumnRenamed(\"id\", \"account_id\")"
   ]
  },
  {
   "cell_type": "markdown",
   "id": "e65cd14a",
   "metadata": {},
   "source": [
    "### 2.2.2. Investigando possível erro ou falta de dado\n"
   ]
  },
  {
   "cell_type": "code",
   "execution_count": 10,
   "id": "bce4e501",
   "metadata": {},
   "outputs": [
    {
     "name": "stdout",
     "output_type": "stream",
     "text": [
      "Aplicando filtro de 118 anos:\n",
      "+----------------------+--------------------------+-----------+---------------+\n",
      "|credit_card_limit_null|credit_card_limit_not_null|gender_null|gender_not_null|\n",
      "+----------------------+--------------------------+-----------+---------------+\n",
      "|                  2175|                         0|       2175|              0|\n",
      "+----------------------+--------------------------+-----------+---------------+\n",
      "\n",
      "None\n",
      "Removendo os perfis com 118 anos:\n",
      "+--------+------------+----------------------+--------------------------+-----------+---------------+\n",
      "|age_null|age_not_null|credit_card_limit_null|credit_card_limit_not_null|gender_null|gender_not_null|\n",
      "+--------+------------+----------------------+--------------------------+-----------+---------------+\n",
      "|       0|       14825|                     0|                     14825|          0|          14825|\n",
      "+--------+------------+----------------------+--------------------------+-----------+---------------+\n",
      "\n",
      "None\n"
     ]
    }
   ],
   "source": [
    "# Contagem de nulos entre as colunas de crédito e genero quando a idade é 118\n",
    "print(\"Aplicando filtro de 118 anos:\")\n",
    "print(profile.filter(F.col(\"age\") == 118).select(\n",
    "        F.sum(F.col(\"credit_card_limit\").isNull().cast(\"int\")).alias(\"credit_card_limit_null\"),\n",
    "        F.sum(F.col(\"credit_card_limit\").isNotNull().cast(\"int\")).alias(\"credit_card_limit_not_null\"),\n",
    "        F.sum(F.col(\"gender\").isNull().cast(\"int\")).alias(\"gender_null\"),\n",
    "        F.sum(F.col(\"gender\").isNotNull().cast(\"int\")).alias(\"gender_not_null\")\n",
    "    ).show()\n",
    ")\n",
    "\n",
    "# Contagem de nulos entre as colunas de crédito e genero quando a idade é 118\n",
    "print(\"Removendo os perfis com 118 anos:\")\n",
    "print(profile.filter(F.col('age') != 118).select(\n",
    "        F.sum(F.col(\"age\").isNull().cast(\"int\")).alias(\"age_null\"),\n",
    "        F.sum(F.col(\"age\").isNotNull().cast(\"int\")).alias(\"age_not_null\"),\n",
    "        F.sum(F.col(\"credit_card_limit\").isNull().cast(\"int\")).alias(\"credit_card_limit_null\"),\n",
    "        F.sum(F.col(\"credit_card_limit\").isNotNull().cast(\"int\")).alias(\"credit_card_limit_not_null\"),\n",
    "        F.sum(F.col(\"gender\").isNull().cast(\"int\")).alias(\"gender_null\"),\n",
    "        F.sum(F.col(\"gender\").isNotNull().cast(\"int\")).alias(\"gender_not_null\")\n",
    "    ).show()\n",
    ")"
   ]
  },
  {
   "cell_type": "markdown",
   "id": "5b7fadc5",
   "metadata": {},
   "source": [
    "Existe algum erro/falta de dado que ocorre e a idade é definida para 118 anos quando o perfil é gerado.\n",
    "\n",
    "Quando existe idade, os outros dados também existem.\n",
    "\n",
    "Portanto vamos trocar o valor 118 por NULL"
   ]
  },
  {
   "cell_type": "code",
   "execution_count": 11,
   "id": "5627c28b",
   "metadata": {},
   "outputs": [
    {
     "name": "stdout",
     "output_type": "stream",
     "text": [
      "+----+-----------------+------+--------------------+-------------+\n",
      "| age|credit_card_limit|gender|          account_id|registered_on|\n",
      "+----+-----------------+------+--------------------+-------------+\n",
      "|NULL|             NULL|  NULL|68be06ca386d4c319...|     20170212|\n",
      "|  55|         112000.0|     F|0610b486422d4921a...|     20170715|\n",
      "|NULL|             NULL|  NULL|38fe809add3b4fcf9...|     20180712|\n",
      "|  75|         100000.0|     F|78afa995795e4d85b...|     20170509|\n",
      "|NULL|             NULL|  NULL|a03223e636434f42a...|     20170804|\n",
      "|  68|          70000.0|     M|e2127556f4f64592b...|     20180426|\n",
      "|NULL|             NULL|  NULL|8ec6ce2a7e7949b1b...|     20170925|\n",
      "|NULL|             NULL|  NULL|68617ca6246f4fbc8...|     20171002|\n",
      "|  65|          53000.0|     M|389bc3fa690240e79...|     20180209|\n",
      "|NULL|             NULL|  NULL|8974fc5686fe429db...|     20161122|\n",
      "|NULL|             NULL|  NULL|c4863c7985cf408fa...|     20170824|\n",
      "|NULL|             NULL|  NULL|148adfcaa27d485b8...|     20150919|\n",
      "|  58|          51000.0|     M|2eeac8d8feae4a8ca...|     20171111|\n",
      "|  61|          57000.0|     F|aa4862eba776480b8...|     20170911|\n",
      "|  26|          46000.0|     M|e12aeaf2d47d42479...|     20140213|\n",
      "|  62|          71000.0|     F|31dda685af34476ca...|     20160211|\n",
      "|  49|          52000.0|     M|62cf5e10845442329...|     20141113|\n",
      "|NULL|             NULL|  NULL|744d603ef08c4f33a...|     20170801|\n",
      "|  57|          42000.0|     M|6445de3b47274c759...|     20171231|\n",
      "|  61|          40000.0|     F|a448667f336b42c9a...|     20180501|\n",
      "+----+-----------------+------+--------------------+-------------+\n",
      "only showing top 20 rows\n",
      "\n"
     ]
    }
   ],
   "source": [
    "# Substituindo idade 118 por nulo\n",
    "profile = profile.withColumn(\"age\",\n",
    "    F.when(F.col(\"age\") == 118, None)\n",
    "    .otherwise(F.col(\"age\"))\n",
    ")\n",
    "profile.show()"
   ]
  },
  {
   "cell_type": "markdown",
   "id": "760ac809",
   "metadata": {},
   "source": [
    "### 2.2.3. Convertendo string de data de criação para data"
   ]
  },
  {
   "cell_type": "code",
   "execution_count": 12,
   "id": "6017c8c2",
   "metadata": {},
   "outputs": [
    {
     "name": "stdout",
     "output_type": "stream",
     "text": [
      "+----+-----------------+------+--------------------+-------------+-----------------+\n",
      "| age|credit_card_limit|gender|          account_id|registered_on|year_month_joined|\n",
      "+----+-----------------+------+--------------------+-------------+-----------------+\n",
      "|NULL|             NULL|  NULL|68be06ca386d4c319...|   2017-02-12|          2017-02|\n",
      "|  55|         112000.0|     F|0610b486422d4921a...|   2017-07-15|          2017-07|\n",
      "|NULL|             NULL|  NULL|38fe809add3b4fcf9...|   2018-07-12|          2018-07|\n",
      "|  75|         100000.0|     F|78afa995795e4d85b...|   2017-05-09|          2017-05|\n",
      "|NULL|             NULL|  NULL|a03223e636434f42a...|   2017-08-04|          2017-08|\n",
      "+----+-----------------+------+--------------------+-------------+-----------------+\n",
      "only showing top 5 rows\n",
      "\n"
     ]
    }
   ],
   "source": [
    "profile = (profile\n",
    "    .withColumn(\"registered_on\", F.to_date(F.col(\"registered_on\").cast(\"string\"), \"yyyyMMdd\"))\n",
    "    .withColumn(\"year_month_joined\", F.format_string(\"%d-%02d\", F.year(\"registered_on\"), F.month(\"registered_on\")))\n",
    ")\n",
    "\n",
    "profile.show(5)"
   ]
  },
  {
   "cell_type": "markdown",
   "id": "d8acb51b",
   "metadata": {},
   "source": [
    "### 2.2.3. Analisando limites de cartão de crédito"
   ]
  },
  {
   "cell_type": "code",
   "execution_count": 13,
   "id": "3e95d492",
   "metadata": {},
   "outputs": [
    {
     "name": "stdout",
     "output_type": "stream",
     "text": [
      "Statistical summary of column 'credit_card_limit':\n",
      "Min: 30,000.0\n",
      "Max: 120,000.0\n",
      "Mean: 65,405\n",
      "Q1 (25%): 49,000.0\n",
      "Median (Q2 - 50%): 63,000.0\n",
      "Q3 (75%): 79,000.0\n",
      "Not null values count: 14,825\n",
      "Null values count: 2,175\n"
     ]
    },
    {
     "data": {
      "image/png": "[encoded data removed]",
      "text/plain": [
       "<Figure size 1000x600 with 1 Axes>"
      ]
     },
     "metadata": {},
     "output_type": "display_data"
    }
   ],
   "source": [
    "get_numeric_col_summary(profile, \"credit_card_limit\")\n",
    "\n",
    "show_histogram_plot(profile, \"credit_card_limit\", 10)"
   ]
  },
  {
   "cell_type": "code",
   "execution_count": null,
   "id": "b2ef0823",
   "metadata": {},
   "outputs": [
    {
     "data": {
      "image/png": "[encoded data removed]",
      "text/plain": [
       "<Figure size 800x600 with 1 Axes>"
      ]
     },
     "metadata": {},
     "output_type": "display_data"
    },
    {
     "data": {
      "image/png": "[encoded data removed]",
      "text/plain": [
       "<Figure size 640x480 with 1 Axes>"
      ]
     },
     "metadata": {},
     "output_type": "display_data"
    }
   ],
   "source": [
    "# Converter para pandas, filtrando nulos\n",
    "credit_data = profile.select(\"credit_card_limit\", \"gender\").dropna().toPandas()\n",
    "\n",
    "# Plotar boxplot\n",
    "plt.figure(figsize=(8, 6))\n",
    "sns.boxplot(data=credit_data, x=\"credit_card_limit\")\n",
    "plt.title(\"Boxplot de credit_card_limit\")\n",
    "plt.ylabel(\"Limite de cartão de crédito\")\n",
    "plt.show()\n",
    "\n",
    "del(credit_data)"
   ]
  },
  {
   "cell_type": "markdown",
   "id": "b686724a",
   "metadata": {},
   "source": [
    "Gerando faixas de limite de cartão de crédito"
   ]
  },
  {
   "cell_type": "code",
   "execution_count": 15,
   "id": "dd79b6f8",
   "metadata": {},
   "outputs": [
    {
     "name": "stdout",
     "output_type": "stream",
     "text": [
      "+----+--------------------+------+--------------------+-------------+-----------------+----------------------------------------+----------------------------------------+-----------------------------------+------------------------------------+------------------------------+\n",
      "| age|   credit_card_limit|gender|          account_id|registered_on|year_month_joined|credit_card_limit_03_Entre_63000_e_79000|credit_card_limit_02_Entre_49000_e_63000|credit_card_limit_04_Acima_de_79000|credit_card_limit_01_Abaixo_de_49000|credit_card_limit_00_Sem_dados|\n",
      "+----+--------------------+------+--------------------+-------------+-----------------+----------------------------------------+----------------------------------------+-----------------------------------+------------------------------------+------------------------------+\n",
      "|NULL|        00_Sem_dados|  NULL|68be06ca386d4c319...|   2017-02-12|          2017-02|                                       0|                                       0|                                  0|                                   0|                             1|\n",
      "|  55|   04_Acima_de_79000|     F|0610b486422d4921a...|   2017-07-15|          2017-07|                                       0|                                       0|                                  1|                                   0|                             0|\n",
      "|NULL|        00_Sem_dados|  NULL|38fe809add3b4fcf9...|   2018-07-12|          2018-07|                                       0|                                       0|                                  0|                                   0|                             1|\n",
      "|  75|   04_Acima_de_79000|     F|78afa995795e4d85b...|   2017-05-09|          2017-05|                                       0|                                       0|                                  1|                                   0|                             0|\n",
      "|NULL|        00_Sem_dados|  NULL|a03223e636434f42a...|   2017-08-04|          2017-08|                                       0|                                       0|                                  0|                                   0|                             1|\n",
      "|  68|03_Entre_63000_e_...|     M|e2127556f4f64592b...|   2018-04-26|          2018-04|                                       1|                                       0|                                  0|                                   0|                             0|\n",
      "|NULL|        00_Sem_dados|  NULL|8ec6ce2a7e7949b1b...|   2017-09-25|          2017-09|                                       0|                                       0|                                  0|                                   0|                             1|\n",
      "|NULL|        00_Sem_dados|  NULL|68617ca6246f4fbc8...|   2017-10-02|          2017-10|                                       0|                                       0|                                  0|                                   0|                             1|\n",
      "|  65|02_Entre_49000_e_...|     M|389bc3fa690240e79...|   2018-02-09|          2018-02|                                       0|                                       1|                                  0|                                   0|                             0|\n",
      "|NULL|        00_Sem_dados|  NULL|8974fc5686fe429db...|   2016-11-22|          2016-11|                                       0|                                       0|                                  0|                                   0|                             1|\n",
      "|NULL|        00_Sem_dados|  NULL|c4863c7985cf408fa...|   2017-08-24|          2017-08|                                       0|                                       0|                                  0|                                   0|                             1|\n",
      "|NULL|        00_Sem_dados|  NULL|148adfcaa27d485b8...|   2015-09-19|          2015-09|                                       0|                                       0|                                  0|                                   0|                             1|\n",
      "|  58|02_Entre_49000_e_...|     M|2eeac8d8feae4a8ca...|   2017-11-11|          2017-11|                                       0|                                       1|                                  0|                                   0|                             0|\n",
      "|  61|02_Entre_49000_e_...|     F|aa4862eba776480b8...|   2017-09-11|          2017-09|                                       0|                                       1|                                  0|                                   0|                             0|\n",
      "|  26|  01_Abaixo_de_49000|     M|e12aeaf2d47d42479...|   2014-02-13|          2014-02|                                       0|                                       0|                                  0|                                   1|                             0|\n",
      "|  62|03_Entre_63000_e_...|     F|31dda685af34476ca...|   2016-02-11|          2016-02|                                       1|                                       0|                                  0|                                   0|                             0|\n",
      "|  49|02_Entre_49000_e_...|     M|62cf5e10845442329...|   2014-11-13|          2014-11|                                       0|                                       1|                                  0|                                   0|                             0|\n",
      "|NULL|        00_Sem_dados|  NULL|744d603ef08c4f33a...|   2017-08-01|          2017-08|                                       0|                                       0|                                  0|                                   0|                             1|\n",
      "|  57|  01_Abaixo_de_49000|     M|6445de3b47274c759...|   2017-12-31|          2017-12|                                       0|                                       0|                                  0|                                   1|                             0|\n",
      "|  61|  01_Abaixo_de_49000|     F|a448667f336b42c9a...|   2018-05-01|          2018-05|                                       0|                                       0|                                  0|                                   1|                             0|\n",
      "+----+--------------------+------+--------------------+-------------+-----------------+----------------------------------------+----------------------------------------+-----------------------------------+------------------------------------+------------------------------+\n",
      "only showing top 20 rows\n",
      "\n"
     ]
    }
   ],
   "source": [
    "profile = column_default_categorizer(profile, \"credit_card_limit\")\n",
    "profile = create_dummies_for_column(profile, \"credit_card_limit\")\n",
    "\n",
    "profile.show()"
   ]
  },
  {
   "cell_type": "markdown",
   "id": "7b30657e",
   "metadata": {},
   "source": [
    "### 2.2.4. Criando faixas etárias"
   ]
  },
  {
   "cell_type": "code",
   "execution_count": 16,
   "id": "ec6788be",
   "metadata": {},
   "outputs": [
    {
     "name": "stdout",
     "output_type": "stream",
     "text": [
      "+----------------+-----+----------+\n",
      "|             age|count|percentage|\n",
      "+----------------+-----+----------+\n",
      "| 06_Acima_de_60+| 5875|      34.6|\n",
      "|05_Entre_50_e_59| 3541|      20.8|\n",
      "|04_Entre_40_e_49| 2309|      13.6|\n",
      "|    00_Sem_dados| 2175|      12.8|\n",
      "|02_Entre_18_e_29| 1574|       9.3|\n",
      "|03_Entre_30_e_39| 1526|       9.0|\n",
      "+----------------+-----+----------+\n",
      "\n",
      "None\n"
     ]
    },
    {
     "data": {
      "text/plain": [
       "DataFrame[age: string, count: bigint, percentage: double]"
      ]
     },
     "execution_count": 16,
     "metadata": {},
     "output_type": "execute_result"
    }
   ],
   "source": [
    "profile = (profile\n",
    "    .withColumn(\"age\",\n",
    "        F.when(F.col(\"age\") < 18, \"01_Abaixo_de_18\")\n",
    "        .when((F.col(\"age\") >= 18) & (F.col(\"age\") <= 29), \"02_Entre_18_e_29\")\n",
    "        .when((F.col(\"age\") >= 30) & (F.col(\"age\") <= 39), \"03_Entre_30_e_39\")\n",
    "        .when((F.col(\"age\") >= 40) & (F.col(\"age\") <= 49), \"04_Entre_40_e_49\")\n",
    "        .when((F.col(\"age\") >= 50) & (F.col(\"age\") <= 59), \"05_Entre_50_e_59\")\n",
    "        .when(F.col(\"age\") >= 60, \"06_Acima_de_60+\")\n",
    "        .otherwise(\"00_Sem_dados\"))\n",
    ")\n",
    "\n",
    "profile = create_dummies_for_column(profile, \"age\")\n",
    "\n",
    "get_values_count(profile, \"age\")"
   ]
  },
  {
   "cell_type": "markdown",
   "id": "cdcf0eff",
   "metadata": {},
   "source": [
    "### 2.2.5. Explorações extras\n"
   ]
  },
  {
   "cell_type": "code",
   "execution_count": 17,
   "id": "fb74ce2b",
   "metadata": {},
   "outputs": [
    {
     "name": "stdout",
     "output_type": "stream",
     "text": [
      "+------+-----+----------+\n",
      "|gender|count|percentage|\n",
      "+------+-----+----------+\n",
      "|     M| 8484|      49.9|\n",
      "|     F| 6129|      36.1|\n",
      "|  NULL| 2175|      12.8|\n",
      "|     O|  212|       1.2|\n",
      "+------+-----+----------+\n",
      "\n",
      "None\n",
      "+-----------------+-----+----------+\n",
      "|year_month_joined|count|percentage|\n",
      "+-----------------+-----+----------+\n",
      "|          2017-10|  900|       5.3|\n",
      "|          2017-12|  900|       5.3|\n",
      "|          2017-08|  886|       5.2|\n",
      "|          2017-09|  836|       4.9|\n",
      "|          2017-11|  816|       4.8|\n",
      "|          2018-01|  809|       4.8|\n",
      "|          2018-03|  618|       3.6|\n",
      "|          2018-05|  601|       3.5|\n",
      "|          2018-04|  585|       3.4|\n",
      "|          2018-06|  562|       3.3|\n",
      "|          2018-02|  517|       3.0|\n",
      "|          2018-07|  506|       3.0|\n",
      "|          2017-07|  404|       2.4|\n",
      "|          2016-07|  319|       1.9|\n",
      "|          2017-04|  298|       1.8|\n",
      "|          2016-03|  308|       1.8|\n",
      "|          2017-06|  298|       1.8|\n",
      "|          2016-05|  298|       1.8|\n",
      "|          2016-04|  310|       1.8|\n",
      "|          2016-08|  305|       1.8|\n",
      "+-----------------+-----+----------+\n",
      "only showing top 20 rows\n",
      "\n",
      "None\n"
     ]
    },
    {
     "data": {
      "text/plain": [
       "DataFrame[year_month_joined: string, count: bigint, percentage: double]"
      ]
     },
     "execution_count": 17,
     "metadata": {},
     "output_type": "execute_result"
    }
   ],
   "source": [
    "get_values_count(profile, \"gender\")\n",
    "\n",
    "get_values_count(profile, \"year_month_joined\")"
   ]
  },
  {
   "cell_type": "markdown",
   "id": "48d611da",
   "metadata": {},
   "source": [
    "## 2.3. Transactions.json\n",
    "\n",
    "Contém cerca de 300k eventos:\n",
    "\n",
    "- event (str): descrição do evento (transação, oferta recebida, etc.) \n",
    "- account_id (str): id do cliente \n",
    "- time_since_test_start  (int):  tempo  desde  o  começo  do  teste  em  dias  \n",
    "(t=0) \n",
    "- value (json): registra offer_id, desconto (reward) ou valor da transação"
   ]
  },
  {
   "cell_type": "markdown",
   "id": "11ee91ca",
   "metadata": {},
   "source": [
    "### 2.3.1. Carregando json das transações"
   ]
  },
  {
   "cell_type": "code",
   "execution_count": 18,
   "id": "349f8445",
   "metadata": {},
   "outputs": [
    {
     "name": "stdout",
     "output_type": "stream",
     "text": [
      "root\n",
      " |-- account_id: string (nullable = true)\n",
      " |-- event: string (nullable = true)\n",
      " |-- time_since_test_start: double (nullable = true)\n",
      " |-- value: struct (nullable = true)\n",
      " |    |-- amount: double (nullable = true)\n",
      " |    |-- offer id: string (nullable = true)\n",
      " |    |-- offer_id: string (nullable = true)\n",
      " |    |-- reward: double (nullable = true)\n",
      "\n",
      "306534\n",
      "+--------------------+--------------+---------------------+--------------------+\n",
      "|          account_id|         event|time_since_test_start|               value|\n",
      "+--------------------+--------------+---------------------+--------------------+\n",
      "|78afa995795e4d85b...|offer received|                  0.0|{NULL, 9b98b8c7a3...|\n",
      "|a03223e636434f42a...|offer received|                  0.0|{NULL, 0b1e1539f2...|\n",
      "|e2127556f4f64592b...|offer received|                  0.0|{NULL, 2906b810c7...|\n",
      "|8ec6ce2a7e7949b1b...|offer received|                  0.0|{NULL, fafdcd668e...|\n",
      "|68617ca6246f4fbc8...|offer received|                  0.0|{NULL, 4d5c57ea9a...|\n",
      "|389bc3fa690240e79...|offer received|                  0.0|{NULL, f19421c1d4...|\n",
      "|c4863c7985cf408fa...|offer received|                  0.0|{NULL, 2298d6c36e...|\n",
      "|2eeac8d8feae4a8ca...|offer received|                  0.0|{NULL, 3f207df678...|\n",
      "|aa4862eba776480b8...|offer received|                  0.0|{NULL, 0b1e1539f2...|\n",
      "|31dda685af34476ca...|offer received|                  0.0|{NULL, 0b1e1539f2...|\n",
      "|744d603ef08c4f33a...|offer received|                  0.0|{NULL, 0b1e1539f2...|\n",
      "|3d02345581554e81b...|offer received|                  0.0|{NULL, 0b1e1539f2...|\n",
      "|4b0da7e80e5945209...|offer received|                  0.0|{NULL, ae264e3637...|\n",
      "|c27e0d6ab72c455a8...|offer received|                  0.0|{NULL, 3f207df678...|\n",
      "|d53717f5400c4e84a...|offer received|                  0.0|{NULL, 0b1e1539f2...|\n",
      "|f806632c011441378...|offer received|                  0.0|{NULL, fafdcd668e...|\n",
      "|d058f73bf8674a26a...|offer received|                  0.0|{NULL, 0b1e1539f2...|\n",
      "|65aba5c617294649a...|offer received|                  0.0|{NULL, 2906b810c7...|\n",
      "|ebe7ef46ea6f4963a...|offer received|                  0.0|{NULL, 9b98b8c7a3...|\n",
      "|1e9420836d554513a...|offer received|                  0.0|{NULL, ae264e3637...|\n",
      "+--------------------+--------------+---------------------+--------------------+\n",
      "only showing top 20 rows\n",
      "\n",
      "None\n"
     ]
    }
   ],
   "source": [
    "transactions_ = spark.read.json(\"../data/raw/transactions.json\")\n",
    "transactions_.printSchema()\n",
    "print(transactions_.count())\n",
    "print(transactions_.show())"
   ]
  },
  {
   "cell_type": "code",
   "execution_count": 19,
   "id": "d1500cd2",
   "metadata": {},
   "outputs": [],
   "source": [
    "transactions = transactions_.alias(\"transactions\")"
   ]
  },
  {
   "cell_type": "markdown",
   "id": "f906e596",
   "metadata": {},
   "source": [
    "### 2.3.2. Transformando dados"
   ]
  },
  {
   "cell_type": "markdown",
   "id": "f9af53f4",
   "metadata": {},
   "source": [
    "Separando os dados do dicionário em colunas separadas"
   ]
  },
  {
   "cell_type": "code",
   "execution_count": 20,
   "id": "2d6acc52",
   "metadata": {},
   "outputs": [
    {
     "name": "stdout",
     "output_type": "stream",
     "text": [
      "+--------------------+--------------+---------------------+------+--------------------+--------+------+\n",
      "|          account_id|         event|time_since_test_start|amount|            offer id|offer_id|reward|\n",
      "+--------------------+--------------+---------------------+------+--------------------+--------+------+\n",
      "|78afa995795e4d85b...|offer received|                  0.0|  NULL|9b98b8c7a33c4b65b...|    NULL|  NULL|\n",
      "|a03223e636434f42a...|offer received|                  0.0|  NULL|0b1e1539f2cc45b7b...|    NULL|  NULL|\n",
      "|e2127556f4f64592b...|offer received|                  0.0|  NULL|2906b810c7d441179...|    NULL|  NULL|\n",
      "+--------------------+--------------+---------------------+------+--------------------+--------+------+\n",
      "only showing top 3 rows\n",
      "\n"
     ]
    }
   ],
   "source": [
    "transactions = (transactions\n",
    "    .withColumn(\"amount\", F.col(\"value.amount\"))     # Transaction value\n",
    "    .withColumn(\"offer id\", F.col(\"value.offer id\")) # Offer ID\n",
    "    .withColumn(\"offer_id\", F.col(\"value.offer_id\")) # Offer ID\n",
    "    .withColumn(\"reward\", F.col(\"value.reward\"))     # Discounted value\n",
    "    .drop(\"value\")\n",
    ")\n",
    "\n",
    "transactions.show(3)"
   ]
  },
  {
   "cell_type": "markdown",
   "id": "9c5ede9b",
   "metadata": {},
   "source": [
    "Verificando se offer id e offer_id podem ser combinados\n",
    "\n",
    "Não serão combinados caso haja perda de informação\n",
    "\n",
    "Se não houver perda de informação, as coluna serão combinadas para simplificar a estrutura da tabela"
   ]
  },
  {
   "cell_type": "code",
   "execution_count": 21,
   "id": "237f9b93",
   "metadata": {},
   "outputs": [
    {
     "name": "stdout",
     "output_type": "stream",
     "text": [
      "+---------------+-------------+-----------------+-------------+-----------------+\n",
      "|          event|offer id_null|offer id_not_null|offer_id_null|offer_id_not_null|\n",
      "+---------------+-------------+-----------------+-------------+-----------------+\n",
      "|    transaction|       138953|                0|       138953|                0|\n",
      "| offer received|            0|            76277|        76277|                0|\n",
      "|offer completed|        33579|                0|            0|            33579|\n",
      "|   offer viewed|            0|            57725|        57725|                0|\n",
      "+---------------+-------------+-----------------+-------------+-----------------+\n",
      "\n"
     ]
    }
   ],
   "source": [
    "(transactions\n",
    "    .groupBy(F.col(\"event\"))\n",
    "    .agg(\n",
    "        F.sum(F.col(\"offer id\").isNull().cast(\"int\")).alias(\"offer id_null\"),\n",
    "        F.sum(F.col(\"offer id\").isNotNull().cast(\"int\")).alias(\"offer id_not_null\"),\n",
    "        F.sum(F.col(\"offer_id\").isNull().cast(\"int\")).alias(\"offer_id_null\"),\n",
    "        F.sum(F.col(\"offer_id\").isNotNull().cast(\"int\")).alias(\"offer_id_not_null\")\n",
    ")).show()"
   ]
  },
  {
   "cell_type": "markdown",
   "id": "1d67ae7a",
   "metadata": {},
   "source": [
    "Com esse resultado, vemos que as colunas \"offer id\" e \"offer_id\" não existem ao mesmo tempo, portanto podemos combiná-las"
   ]
  },
  {
   "cell_type": "code",
   "execution_count": 22,
   "id": "6f362c02",
   "metadata": {},
   "outputs": [
    {
     "name": "stdout",
     "output_type": "stream",
     "text": [
      "+--------------------+--------------+---------------------+------+--------------------+------+\n",
      "|          account_id|         event|time_since_test_start|amount|            offer_id|reward|\n",
      "+--------------------+--------------+---------------------+------+--------------------+------+\n",
      "|78afa995795e4d85b...|offer received|                  0.0|  NULL|9b98b8c7a33c4b65b...|  NULL|\n",
      "|a03223e636434f42a...|offer received|                  0.0|  NULL|0b1e1539f2cc45b7b...|  NULL|\n",
      "|e2127556f4f64592b...|offer received|                  0.0|  NULL|2906b810c7d441179...|  NULL|\n",
      "+--------------------+--------------+---------------------+------+--------------------+------+\n",
      "only showing top 3 rows\n",
      "\n"
     ]
    }
   ],
   "source": [
    "transactions = (transactions\n",
    "    .withColumn(\"offer_id\", F.coalesce(F.col(\"offer_id\"), F.col(\"offer id\")))\n",
    "    .drop(\"offer id\")\n",
    ")\n",
    "transactions.show(3)"
   ]
  },
  {
   "cell_type": "markdown",
   "id": "ff61db98",
   "metadata": {},
   "source": [
    "Verificando distribuicao do custo das transações"
   ]
  },
  {
   "cell_type": "code",
   "execution_count": 23,
   "id": "f35b9494",
   "metadata": {},
   "outputs": [
    {
     "data": {
      "image/png": "[encoded data removed]",
      "text/plain": [
       "<Figure size 800x600 with 1 Axes>"
      ]
     },
     "metadata": {},
     "output_type": "display_data"
    }
   ],
   "source": [
    "# Converter para pandas, filtrando nulos\n",
    "temp = transactions.filter(F.col(\"event\") == \"transaction\").select(\"amount\").dropna().toPandas()\n",
    "\n",
    "# Plotar violin + boxplot juntos\n",
    "plt.figure(figsize=(8, 6))\n",
    "# sns.violinplot(data=transactions, x=\"credit_card_limit\", inner=\"box\", linewidth=1.2)\n",
    "sns.boxplot(data=temp, x=\"amount\")\n",
    "plt.title(\"Boxplot de preço\")\n",
    "plt.ylabel(\"Preço do pedido\")\n",
    "plt.xlabel(\"\")\n",
    "plt.tight_layout()\n",
    "plt.show()\n",
    "\n",
    "del(temp)"
   ]
  },
  {
   "cell_type": "markdown",
   "id": "cb9b403f",
   "metadata": {},
   "source": [
    "Vemos que os valores de transação podem ser outliers extremos, mas a maioria custa menos do que R$100."
   ]
  },
  {
   "cell_type": "markdown",
   "id": "0dca3219",
   "metadata": {},
   "source": [
    "# 3. Combinando dados"
   ]
  },
  {
   "cell_type": "markdown",
   "id": "4593fc59",
   "metadata": {},
   "source": [
    "Juntando dados de cliente + transações + ofertas"
   ]
  },
  {
   "cell_type": "code",
   "execution_count": 24,
   "id": "1ec1bc2c",
   "metadata": {},
   "outputs": [
    {
     "name": "stdout",
     "output_type": "stream",
     "text": [
      "306534\n",
      "+--------------------+--------------------+--------------+---------------------+------+------+--------------+--------+---------+----------+--------------+-------------+--------------+-----------+-------------------+------------------------+---------------+---------------+--------------------+------+-------------+-----------------+----------------------------------------+----------------------------------------+-----------------------------------+------------------------------------+------------------------------+--------------------+--------------------+--------------------+----------------+--------------------+-------------------+\n",
      "|          account_id|            offer_id|         event|time_since_test_start|amount|reward|discount_value|duration|min_value|offer_type|channel_mobile|channel_email|channel_social|channel_web|offer_type_discount|offer_type_informational|offer_type_bogo|            age|   credit_card_limit|gender|registered_on|year_month_joined|credit_card_limit_03_Entre_63000_e_79000|credit_card_limit_02_Entre_49000_e_63000|credit_card_limit_04_Acima_de_79000|credit_card_limit_01_Abaixo_de_49000|credit_card_limit_00_Sem_dados|age_04_Entre_40_e_49|age_02_Entre_18_e_29|age_03_Entre_30_e_39|age_00_Sem_dados|age_05_Entre_50_e_59|age_06_Acima_de_60+|\n",
      "+--------------------+--------------------+--------------+---------------------+------+------+--------------+--------+---------+----------+--------------+-------------+--------------+-----------+-------------------+------------------------+---------------+---------------+--------------------+------+-------------+-----------------+----------------------------------------+----------------------------------------+-----------------------------------+------------------------------------+------------------------------+--------------------+--------------------+--------------------+----------------+--------------------+-------------------+\n",
      "|78afa995795e4d85b...|9b98b8c7a33c4b65b...|offer received|                  0.0|  NULL|  NULL|             5|     7.0|        5|      bogo|             1|            1|             0|          1|                  0|                       0|              1|06_Acima_de_60+|   04_Acima_de_79000|     F|   2017-05-09|          2017-05|                                       0|                                       0|                                  1|                                   0|                             0|                   0|                   0|                   0|               0|                   0|                  1|\n",
      "|a03223e636434f42a...|0b1e1539f2cc45b7b...|offer received|                  0.0|  NULL|  NULL|             5|    10.0|       20|  discount|             0|            1|             0|          1|                  1|                       0|              0|   00_Sem_dados|        00_Sem_dados|  NULL|   2017-08-04|          2017-08|                                       0|                                       0|                                  0|                                   0|                             1|                   0|                   0|                   0|               1|                   0|                  0|\n",
      "|e2127556f4f64592b...|2906b810c7d441179...|offer received|                  0.0|  NULL|  NULL|             2|     7.0|       10|  discount|             1|            1|             0|          1|                  1|                       0|              0|06_Acima_de_60+|03_Entre_63000_e_...|     M|   2018-04-26|          2018-04|                                       1|                                       0|                                  0|                                   0|                             0|                   0|                   0|                   0|               0|                   0|                  1|\n",
      "+--------------------+--------------------+--------------+---------------------+------+------+--------------+--------+---------+----------+--------------+-------------+--------------+-----------+-------------------+------------------------+---------------+---------------+--------------------+------+-------------+-----------------+----------------------------------------+----------------------------------------+-----------------------------------+------------------------------------+------------------------------+--------------------+--------------------+--------------------+----------------+--------------------+-------------------+\n",
      "only showing top 3 rows\n",
      "\n",
      "None\n"
     ]
    }
   ],
   "source": [
    "full = (transactions\n",
    "    # Join com a tabela de ofertas\n",
    "    .join(\n",
    "        offers,\n",
    "        on=\"offer_id\",\n",
    "        how=\"left\")\n",
    "    .drop(\"id\")\n",
    "    # Join com a tabela de clientes\n",
    "    .join(\n",
    "        profile,\n",
    "        on=\"account_id\",\n",
    "        how=\"left\")\n",
    "    .drop(\"id\")\n",
    ")\n",
    "\n",
    "print(full.count())\n",
    "print(full.show(3))\n",
    "\n",
    "offer_received = full.filter(F.col(\"event\") == \"offer received\")\n",
    "offer_complete = full.filter(F.col(\"event\") == \"offer completed\")\n",
    "offer_viewed = full.filter(F.col(\"event\") == \"offer viewed\")\n",
    "transaction = full.filter(F.col(\"event\") == \"transaction\")\n",
    "\n",
    "del(full)"
   ]
  },
  {
   "cell_type": "markdown",
   "id": "c8e910a6",
   "metadata": {},
   "source": [
    "Juntando dados de oferta, data de visualização e data de recebimento com os dados de transação"
   ]
  },
  {
   "cell_type": "code",
   "execution_count": 25,
   "id": "3f3650a7",
   "metadata": {},
   "outputs": [
    {
     "name": "stdout",
     "output_type": "stream",
     "text": [
      "+--------------------+--------------------+---------------------+------+------+--------------+--------+---------+----------+--------------+-------------+--------------+-----------+-------------------+------------------------+---------------+----------------+--------------------+------+-------------+-----------------+----------------------------------------+----------------------------------------+-----------------------------------+------------------------------------+------------------------------+--------------------+--------------------+--------------------+----------------+--------------------+-------------------+-------------------+-----------------+----------+\n",
      "|          account_id|            offer_id|time_since_test_start|amount|reward|discount_value|duration|min_value|offer_type|channel_mobile|channel_email|channel_social|channel_web|offer_type_discount|offer_type_informational|offer_type_bogo|             age|   credit_card_limit|gender|registered_on|year_month_joined|credit_card_limit_03_Entre_63000_e_79000|credit_card_limit_02_Entre_49000_e_63000|credit_card_limit_04_Acima_de_79000|credit_card_limit_01_Abaixo_de_49000|credit_card_limit_00_Sem_dados|age_04_Entre_40_e_49|age_02_Entre_18_e_29|age_03_Entre_30_e_39|age_00_Sem_dados|age_05_Entre_50_e_59|age_06_Acima_de_60+|offer_received_date|offer_viewed_date|used_offer|\n",
      "+--------------------+--------------------+---------------------+------+------+--------------+--------+---------+----------+--------------+-------------+--------------+-----------+-------------------+------------------------+---------------+----------------+--------------------+------+-------------+-----------------+----------------------------------------+----------------------------------------+-----------------------------------+------------------------------------+------------------------------+--------------------+--------------------+--------------------+----------------+--------------------+-------------------+-------------------+-----------------+----------+\n",
      "|0009655768c64bdeb...|                NULL|                28.75| 28.16|  NULL|          NULL|    NULL|     NULL|      NULL|          NULL|         NULL|          NULL|       NULL|               NULL|                    NULL|           NULL|03_Entre_30_e_39|03_Entre_63000_e_...|     M|   2017-04-21|          2017-04|                                       1|                                       0|                                  0|                                   0|                             0|                   0|                   0|                   1|               0|                   0|                  0|               NULL|             NULL|         0|\n",
      "|00116118485d4dfda...|                NULL|                 19.0|   0.2|  NULL|          NULL|    NULL|     NULL|      NULL|          NULL|         NULL|          NULL|       NULL|               NULL|                    NULL|           NULL|    00_Sem_dados|        00_Sem_dados|  NULL|   2018-04-25|          2018-04|                                       0|                                       0|                                  0|                                   0|                             1|                   0|                   0|                   0|               1|                   0|                  0|               NULL|             NULL|         0|\n",
      "|0011e0d4e6b944f99...|2298d6c36e964ae4a...|                 10.5| 11.93|   3.0|             3|     7.0|        7|  discount|             1|            1|             1|          1|                  1|                       0|              0|04_Entre_40_e_49|02_Entre_49000_e_...|     O|   2018-01-09|          2018-01|                                       0|                                       1|                                  0|                                   0|                             0|                   1|                   0|                   0|               0|                   0|                  0|                7.0|             7.75|         1|\n",
      "|0020c2b971eb4e918...|                NULL|                  6.0| 24.31|  NULL|          NULL|    NULL|     NULL|      NULL|          NULL|         NULL|          NULL|       NULL|               NULL|                    NULL|           NULL|05_Entre_50_e_59|   04_Acima_de_79000|     F|   2016-03-04|          2016-03|                                       0|                                       0|                                  1|                                   0|                             0|                   0|                   0|                   0|               0|                   1|                  0|               NULL|             NULL|         0|\n",
      "|0020c2b971eb4e918...|                NULL|                 29.0| 27.94|  NULL|          NULL|    NULL|     NULL|      NULL|          NULL|         NULL|          NULL|       NULL|               NULL|                    NULL|           NULL|05_Entre_50_e_59|   04_Acima_de_79000|     F|   2016-03-04|          2016-03|                                       0|                                       0|                                  1|                                   0|                             0|                   0|                   0|                   0|               0|                   1|                  0|               NULL|             NULL|         0|\n",
      "|0020ccbbb6d84e358...|                NULL|                 1.75| 16.27|  NULL|          NULL|    NULL|     NULL|      NULL|          NULL|         NULL|          NULL|       NULL|               NULL|                    NULL|           NULL|02_Entre_18_e_29|02_Entre_49000_e_...|     F|   2016-11-11|          2016-11|                                       0|                                       1|                                  0|                                   0|                             0|                   0|                   1|                   0|               0|                   0|                  0|               NULL|             NULL|         0|\n",
      "|0020ccbbb6d84e358...|                NULL|                18.75| 10.76|  NULL|          NULL|    NULL|     NULL|      NULL|          NULL|         NULL|          NULL|       NULL|               NULL|                    NULL|           NULL|02_Entre_18_e_29|02_Entre_49000_e_...|     F|   2016-11-11|          2016-11|                                       0|                                       1|                                  0|                                   0|                             0|                   0|                   1|                   0|               0|                   0|                  0|               NULL|             NULL|         0|\n",
      "|0020ccbbb6d84e358...|9b98b8c7a33c4b65b...|                 25.0| 10.32|   5.0|             5|     7.0|        5|      bogo|             1|            1|             0|          1|                  0|                       0|              1|02_Entre_18_e_29|02_Entre_49000_e_...|     F|   2016-11-11|          2016-11|                                       0|                                       1|                                  0|                                   0|                             0|                   0|                   1|                   0|               0|                   0|                  0|               21.0|            24.25|         1|\n",
      "|0020ccbbb6d84e358...|f19421c1d4aa40978...|                15.75| 14.53|   5.0|             5|     5.0|        5|      bogo|             1|            1|             1|          1|                  0|                       0|              1|02_Entre_18_e_29|02_Entre_49000_e_...|     F|   2016-11-11|          2016-11|                                       0|                                       1|                                  0|                                   0|                             0|                   0|                   1|                   0|               0|                   0|                  0|               14.0|             14.5|         1|\n",
      "|003d66b6608740288...|                NULL|                  3.0|  2.07|  NULL|          NULL|    NULL|     NULL|      NULL|          NULL|         NULL|          NULL|       NULL|               NULL|                    NULL|           NULL|02_Entre_18_e_29|03_Entre_63000_e_...|     F|   2017-06-21|          2017-06|                                       1|                                       0|                                  0|                                   0|                             0|                   0|                   1|                   0|               0|                   0|                  0|               NULL|             NULL|         0|\n",
      "+--------------------+--------------------+---------------------+------+------+--------------+--------+---------+----------+--------------+-------------+--------------+-----------+-------------------+------------------------+---------------+----------------+--------------------+------+-------------+-----------------+----------------------------------------+----------------------------------------+-----------------------------------+------------------------------------+------------------------------+--------------------+--------------------+--------------------+----------------+--------------------+-------------------+-------------------+-----------------+----------+\n",
      "only showing top 10 rows\n",
      "\n",
      "None\n",
      "+--------------------+--------------------+-------------------+--------------+-------------+--------------+-----------+----------+-----------------+----------+------------+\n",
      "|          account_id|            offer_id|offer_received_date|channel_mobile|channel_email|channel_social|channel_web|offer_type|offer_viewed_date|used_offer|viewed_offer|\n",
      "+--------------------+--------------------+-------------------+--------------+-------------+--------------+-----------+----------+-----------------+----------+------------+\n",
      "|8ec6ce2a7e7949b1b...|fafdcd668e3743c1b...|                0.0|             1|            1|             1|          1|  discount|              0.5|         0|           1|\n",
      "|8ec6ce2a7e7949b1b...|fafdcd668e3743c1b...|                0.0|             1|            1|             1|          1|  discount|            21.75|         0|           1|\n",
      "|e2127556f4f64592b...|2906b810c7d441179...|                0.0|             1|            1|             0|          1|  discount|             0.75|         0|           1|\n",
      "|389bc3fa690240e79...|f19421c1d4aa40978...|                0.0|             1|            1|             1|          1|      bogo|              0.0|         1|           1|\n",
      "|389bc3fa690240e79...|f19421c1d4aa40978...|                0.0|             1|            1|             1|          1|      bogo|              0.0|         1|           1|\n",
      "+--------------------+--------------------+-------------------+--------------+-------------+--------------+-----------+----------+-----------------+----------+------------+\n",
      "only showing top 5 rows\n",
      "\n",
      "None\n"
     ]
    }
   ],
   "source": [
    "# 1. Adicionar dados de oferta às transações #\n",
    "# Adicionando dados sobre a oferta utilizado (caso tenha sido utilizada naquele dia)\n",
    "df_joined = transaction.alias(\"d2\").join(\n",
    "    offer_complete.alias(\"d1\"),\n",
    "    on=[\"account_id\", \"time_since_test_start\"],\n",
    "    how=\"left\"\n",
    ")\n",
    "\n",
    "# Lista de colunas (como são iguais nas duas, tudo bem)\n",
    "cols = transaction.columns\n",
    "\n",
    "# Aplica coalesce para preencher os nulos de transaction com valores de offer_complete\n",
    "offer_transaction = df_joined.select(\n",
    "    *[F.coalesce(F.col(f\"d2.{c}\"), F.col(f\"d1.{c}\")).alias(c) for c in cols]\n",
    ")\n",
    "\n",
    "del(df_joined, cols, offer_complete)\n",
    "# 1. --------------------------------------- #\n",
    "\n",
    "# 2. Selecionando colunas da tabela de envios de ofertas e visualização de ofertas #\n",
    "offer_r = (offer_received\n",
    "    .select(\n",
    "        \"time_since_test_start\",\n",
    "        \"account_id\",\n",
    "        \"offer_id\",\n",
    "        # Veiculação da oferta\n",
    "        \"channel_mobile\",\n",
    "        \"channel_email\",\n",
    "        \"channel_social\",\n",
    "        \"channel_web\",\n",
    "        # Tipo da oferta\n",
    "        \"offer_type\")\n",
    "    .withColumnRenamed('time_since_test_start', 'offer_received_date')\n",
    ")\n",
    "offer_v = (offer_viewed\n",
    "    .select(\"time_since_test_start\",\"account_id\",\"offer_id\")\n",
    "    .withColumnRenamed('time_since_test_start', 'offer_viewed_date')\n",
    ")\n",
    "# 2. ----------------------------------------------------------------------------- #\n",
    "\n",
    "# 3. Adicionando data na qual a oferta foi recebida #\n",
    "# Join com dados de data recebida\n",
    "df_joined = (offer_transaction.alias(\"p\")\n",
    "    .join(\n",
    "        # Selecionando apenas as variáveis que interessam para este join\n",
    "        offer_r.select(\"offer_received_date\",\"account_id\",\"offer_id\").alias(\"r\"),\n",
    "        on=[\"account_id\", \"offer_id\"],\n",
    "        how=\"left\")\n",
    "    .filter(\n",
    "        (F.col(\"r.offer_received_date\") <= F.col(\"p.time_since_test_start\"))\n",
    "        | F.col(\"p.offer_id\").isNull())\n",
    ")\n",
    "\n",
    "# Criar janela particionada por evento, ordenada por data descendente\n",
    "window_spec = Window.partitionBy(\"p.account_id\", \"p.offer_id\", \"p.time_since_test_start\").orderBy(F.col(\"r.offer_received_date\").desc())\n",
    "\n",
    "# Atribuir rank para pegar a mais recente (maior offer_received_date enquanto <= time_since_test_start)\n",
    "df_ranked = df_joined.withColumn(\"rank\", F.row_number().over(window_spec))\n",
    "\n",
    "# Filtrar apenas o de rank 1\n",
    "with_received_date = df_ranked.filter(F.col(\"rank\") == 1).drop(\"rank\")\n",
    "\n",
    "del(df_joined, offer_transaction, df_ranked)\n",
    "# 3. ---------------------------------------------- #\n",
    "\n",
    "# 4. Adicionando data na qual a oferta foi visualizada #\n",
    "# Step 1: Join com offer_v\n",
    "df_joined = (with_received_date.alias(\"p\")\n",
    "    .join(\n",
    "        offer_v.alias(\"v\"),\n",
    "        on=[\"account_id\", \"offer_id\"],\n",
    "        how=\"left\"\n",
    "    )\n",
    "    .filter(\n",
    "        (F.col(\"v.offer_viewed_date\") <= F.col(\"p.time_since_test_start\"))\n",
    "        | F.col(\"p.offer_id\").isNull())\n",
    ")\n",
    "\n",
    "# Criar janela particionada por evento, ordenada por data descendente\n",
    "window_spec = Window.partitionBy(\"p.account_id\", \"p.offer_id\", \"p.time_since_test_start\").orderBy(F.col(\"v.offer_viewed_date\").desc())\n",
    "\n",
    "# Atribuir rank para pegar a mais recente (maior offer_viewed_date enquanto <= time_since_test_start)\n",
    "df_ranked = df_joined.withColumn(\"rank\", F.row_number().over(window_spec))\n",
    "\n",
    "# Filtrar apenas o de rank 1\n",
    "df_union = df_ranked.filter(F.col(\"rank\") == 1).drop(\"rank\")\n",
    "\n",
    "del(df_joined, with_received_date, df_ranked)\n",
    "# 4. ---------------------------------------------- #\n",
    "\n",
    "# 5. Criando identificador para uso de oferta #\n",
    "df_union = (df_union\n",
    "    .withColumn(\"used_offer\",\n",
    "        F.when(F.col(\"offer_id\").isNotNull(), 1)\n",
    "        .otherwise(0))\n",
    "    .drop(\"event\")\n",
    ")\n",
    "# 5. ---------------------------------------- #\n",
    "\n",
    "# 6. Criando tabela que junta todas as ofertas únicas de cada usuário #\n",
    "# Realizando um join nas duas tabelas de ofertas recebidas e visualizadas\n",
    "offer_summary = (offer_r\n",
    "    .join(offer_v,\n",
    "        on=[\"account_id\",\"offer_id\"],\n",
    "        how=\"left\")\n",
    "    .join(df_union.select(\"account_id\",\"offer_id\",\"used_offer\"),\n",
    "        on=[\"account_id\",\"offer_id\"],\n",
    "        how=\"left\")\n",
    "    .fillna({\"used_offer\": 0})\n",
    "    .withColumn('viewed_offer',\n",
    "        F.when(F.col(\"offer_viewed_date\").isNotNull(), 1)\n",
    "        .otherwise(0))\n",
    ")\n",
    "# Esta tabela offer_summary será utilizada para gerar indicadores de uso de cupons\n",
    "# E também efetividade de veículação\n",
    "\n",
    "del(offer_r, offer_v)\n",
    "# 6. ---------------------------------------------------------------- #\n",
    "\n",
    "print(df_union.show(10))\n",
    "\n",
    "print(offer_summary.show(5))"
   ]
  },
  {
   "cell_type": "markdown",
   "id": "1703f4d4",
   "metadata": {},
   "source": [
    "## 3.2. Série temporal das transações"
   ]
  },
  {
   "cell_type": "code",
   "execution_count": 26,
   "id": "72a6a95d",
   "metadata": {},
   "outputs": [
    {
     "data": {
      "application/vnd.plotly.v1+json": {
       "config": {
        "plotlyServerURL": "https://plot.ly"
       },
       "data": [
        {
         "hovertemplate": "used_offer=0<br>time_since_test_start=%{x}<br>count=%{y}<extra></extra>",
         "legendgroup": "0",
         "line": {
          "color": "#636efa",
          "dash": "solid"
         },
         "marker": {
          "symbol": "circle"
         },
         "mode": "lines+markers",
         "name": "0",
         "orientation": "v",
         "showlegend": true,
         "type": "scatter",
         "x": {
          "bdata": "AAECAwQFBgcICQoLDA0ODxAREhMUFRYXGBkaGxwd",
          "dtype": "i1"
         },
         "xaxis": "x",
         "y": {
          "bdata": "YQilCw4NNA0GDTYMjQstC1cNuQ9tDt0NEg1IDKILlA7yD0oOtRDMEJEQIQ7uD6QQKQ6OEOgQbBBOD64N",
          "dtype": "i2"
         },
         "yaxis": "y"
        },
        {
         "hovertemplate": "used_offer=1<br>time_since_test_start=%{x}<br>count=%{y}<extra></extra>",
         "legendgroup": "1",
         "line": {
          "color": "#EF553B",
          "dash": "solid"
         },
         "marker": {
          "symbol": "circle"
         },
         "mode": "lines+markers",
         "name": "1",
         "orientation": "v",
         "showlegend": true,
         "type": "scatter",
         "x": {
          "bdata": "AAECAwQFBgcICQoLDA0ODxAREhMUFRYXGBkaGxwd",
          "dtype": "i1"
         },
         "xaxis": "x",
         "y": {
          "bdata": "oAI0A70CJwKIASgB2wCvA/gD6AJDAqkBGQHhAAkEzgMWA8AFVAUVBJ0CoAUfBdwDLga3BQoE2wIEAlIB",
          "dtype": "i2"
         },
         "yaxis": "y"
        }
       ],
       "layout": {
        "legend": {
         "title": {
          "text": "used_offer"
         },
         "tracegroupgap": 0
        },
        "template": {
         "data": {
          "bar": [
           {
            "error_x": {
             "color": "#f2f5fa"
            },
            "error_y": {
             "color": "#f2f5fa"
            },
            "marker": {
             "line": {
              "color": "rgb(17,17,17)",
              "width": 0.5
             },
             "pattern": {
              "fillmode": "overlay",
              "size": 10,
              "solidity": 0.2
             }
            },
            "type": "bar"
           }
          ],
          "barpolar": [
           {
            "marker": {
             "line": {
              "color": "rgb(17,17,17)",
              "width": 0.5
             },
             "pattern": {
              "fillmode": "overlay",
              "size": 10,
              "solidity": 0.2
             }
            },
            "type": "barpolar"
           }
          ],
          "carpet": [
           {
            "aaxis": {
             "endlinecolor": "#A2B1C6",
             "gridcolor": "#506784",
             "linecolor": "#506784",
             "minorgridcolor": "#506784",
             "startlinecolor": "#A2B1C6"
            },
            "baxis": {
             "endlinecolor": "#A2B1C6",
             "gridcolor": "#506784",
             "linecolor": "#506784",
             "minorgridcolor": "#506784",
             "startlinecolor": "#A2B1C6"
            },
            "type": "carpet"
           }
          ],
          "choropleth": [
           {
            "colorbar": {
             "outlinewidth": 0,
             "ticks": ""
            },
            "type": "choropleth"
           }
          ],
          "contour": [
           {
            "colorbar": {
             "outlinewidth": 0,
             "ticks": ""
            },
            "colorscale": [
             [
              0,
              "#0d0887"
             ],
             [
              0.1111111111111111,
              "#46039f"
             ],
             [
              0.2222222222222222,
              "#7201a8"
             ],
             [
              0.3333333333333333,
              "#9c179e"
             ],
             [
              0.4444444444444444,
              "#bd3786"
             ],
             [
              0.5555555555555556,
              "#d8576b"
             ],
             [
              0.6666666666666666,
              "#ed7953"
             ],
             [
              0.7777777777777778,
              "#fb9f3a"
             ],
             [
              0.8888888888888888,
              "#fdca26"
             ],
             [
              1,
              "#f0f921"
             ]
            ],
            "type": "contour"
           }
          ],
          "contourcarpet": [
           {
            "colorbar": {
             "outlinewidth": 0,
             "ticks": ""
            },
            "type": "contourcarpet"
           }
          ],
          "heatmap": [
           {
            "colorbar": {
             "outlinewidth": 0,
             "ticks": ""
            },
            "colorscale": [
             [
              0,
              "#0d0887"
             ],
             [
              0.1111111111111111,
              "#46039f"
             ],
             [
              0.2222222222222222,
              "#7201a8"
             ],
             [
              0.3333333333333333,
              "#9c179e"
             ],
             [
              0.4444444444444444,
              "#bd3786"
             ],
             [
              0.5555555555555556,
              "#d8576b"
             ],
             [
              0.6666666666666666,
              "#ed7953"
             ],
             [
              0.7777777777777778,
              "#fb9f3a"
             ],
             [
              0.8888888888888888,
              "#fdca26"
             ],
             [
              1,
              "#f0f921"
             ]
            ],
            "type": "heatmap"
           }
          ],
          "histogram": [
           {
            "marker": {
             "pattern": {
              "fillmode": "overlay",
              "size": 10,
              "solidity": 0.2
             }
            },
            "type": "histogram"
           }
          ],
          "histogram2d": [
           {
            "colorbar": {
             "outlinewidth": 0,
             "ticks": ""
            },
            "colorscale": [
             [
              0,
              "#0d0887"
             ],
             [
              0.1111111111111111,
              "#46039f"
             ],
             [
              0.2222222222222222,
              "#7201a8"
             ],
             [
              0.3333333333333333,
              "#9c179e"
             ],
             [
              0.4444444444444444,
              "#bd3786"
             ],
             [
              0.5555555555555556,
              "#d8576b"
             ],
             [
              0.6666666666666666,
              "#ed7953"
             ],
             [
              0.7777777777777778,
              "#fb9f3a"
             ],
             [
              0.8888888888888888,
              "#fdca26"
             ],
             [
              1,
              "#f0f921"
             ]
            ],
            "type": "histogram2d"
           }
          ],
          "histogram2dcontour": [
           {
            "colorbar": {
             "outlinewidth": 0,
             "ticks": ""
            },
            "colorscale": [
             [
              0,
              "#0d0887"
             ],
             [
              0.1111111111111111,
              "#46039f"
             ],
             [
              0.2222222222222222,
              "#7201a8"
             ],
             [
              0.3333333333333333,
              "#9c179e"
             ],
             [
              0.4444444444444444,
              "#bd3786"
             ],
             [
              0.5555555555555556,
              "#d8576b"
             ],
             [
              0.6666666666666666,
              "#ed7953"
             ],
             [
              0.7777777777777778,
              "#fb9f3a"
             ],
             [
              0.8888888888888888,
              "#fdca26"
             ],
             [
              1,
              "#f0f921"
             ]
            ],
            "type": "histogram2dcontour"
           }
          ],
          "mesh3d": [
           {
            "colorbar": {
             "outlinewidth": 0,
             "ticks": ""
            },
            "type": "mesh3d"
           }
          ],
          "parcoords": [
           {
            "line": {
             "colorbar": {
              "outlinewidth": 0,
              "ticks": ""
             }
            },
            "type": "parcoords"
           }
          ],
          "pie": [
           {
            "automargin": true,
            "type": "pie"
           }
          ],
          "scatter": [
           {
            "marker": {
             "line": {
              "color": "#283442"
             }
            },
            "type": "scatter"
           }
          ],
          "scatter3d": [
           {
            "line": {
             "colorbar": {
              "outlinewidth": 0,
              "ticks": ""
             }
            },
            "marker": {
             "colorbar": {
              "outlinewidth": 0,
              "ticks": ""
             }
            },
            "type": "scatter3d"
           }
          ],
          "scattercarpet": [
           {
            "marker": {
             "colorbar": {
              "outlinewidth": 0,
              "ticks": ""
             }
            },
            "type": "scattercarpet"
           }
          ],
          "scattergeo": [
           {
            "marker": {
             "colorbar": {
              "outlinewidth": 0,
              "ticks": ""
             }
            },
            "type": "scattergeo"
           }
          ],
          "scattergl": [
           {
            "marker": {
             "line": {
              "color": "#283442"
             }
            },
            "type": "scattergl"
           }
          ],
          "scattermap": [
           {
            "marker": {
             "colorbar": {
              "outlinewidth": 0,
              "ticks": ""
             }
            },
            "type": "scattermap"
           }
          ],
          "scattermapbox": [
           {
            "marker": {
             "colorbar": {
              "outlinewidth": 0,
              "ticks": ""
             }
            },
            "type": "scattermapbox"
           }
          ],
          "scatterpolar": [
           {
            "marker": {
             "colorbar": {
              "outlinewidth": 0,
              "ticks": ""
             }
            },
            "type": "scatterpolar"
           }
          ],
          "scatterpolargl": [
           {
            "marker": {
             "colorbar": {
              "outlinewidth": 0,
              "ticks": ""
             }
            },
            "type": "scatterpolargl"
           }
          ],
          "scatterternary": [
           {
            "marker": {
             "colorbar": {
              "outlinewidth": 0,
              "ticks": ""
             }
            },
            "type": "scatterternary"
           }
          ],
          "surface": [
           {
            "colorbar": {
             "outlinewidth": 0,
             "ticks": ""
            },
            "colorscale": [
             [
              0,
              "#0d0887"
             ],
             [
              0.1111111111111111,
              "#46039f"
             ],
             [
              0.2222222222222222,
              "#7201a8"
             ],
             [
              0.3333333333333333,
              "#9c179e"
             ],
             [
              0.4444444444444444,
              "#bd3786"
             ],
             [
              0.5555555555555556,
              "#d8576b"
             ],
             [
              0.6666666666666666,
              "#ed7953"
             ],
             [
              0.7777777777777778,
              "#fb9f3a"
             ],
             [
              0.8888888888888888,
              "#fdca26"
             ],
             [
              1,
              "#f0f921"
             ]
            ],
            "type": "surface"
           }
          ],
          "table": [
           {
            "cells": {
             "fill": {
              "color": "#506784"
             },
             "line": {
              "color": "rgb(17,17,17)"
             }
            },
            "header": {
             "fill": {
              "color": "#2a3f5f"
             },
             "line": {
              "color": "rgb(17,17,17)"
             }
            },
            "type": "table"
           }
          ]
         },
         "layout": {
          "annotationdefaults": {
           "arrowcolor": "#f2f5fa",
           "arrowhead": 0,
           "arrowwidth": 1
          },
          "autotypenumbers": "strict",
          "coloraxis": {
           "colorbar": {
            "outlinewidth": 0,
            "ticks": ""
           }
          },
          "colorscale": {
           "diverging": [
            [
             0,
             "#8e0152"
            ],
            [
             0.1,
             "#c51b7d"
            ],
            [
             0.2,
             "#de77ae"
            ],
            [
             0.3,
             "#f1b6da"
            ],
            [
             0.4,
             "#fde0ef"
            ],
            [
             0.5,
             "#f7f7f7"
            ],
            [
             0.6,
             "#e6f5d0"
            ],
            [
             0.7,
             "#b8e186"
            ],
            [
             0.8,
             "#7fbc41"
            ],
            [
             0.9,
             "#4d9221"
            ],
            [
             1,
             "#276419"
            ]
           ],
           "sequential": [
            [
             0,
             "#0d0887"
            ],
            [
             0.1111111111111111,
             "#46039f"
            ],
            [
             0.2222222222222222,
             "#7201a8"
            ],
            [
             0.3333333333333333,
             "#9c179e"
            ],
            [
             0.4444444444444444,
             "#bd3786"
            ],
            [
             0.5555555555555556,
             "#d8576b"
            ],
            [
             0.6666666666666666,
             "#ed7953"
            ],
            [
             0.7777777777777778,
             "#fb9f3a"
            ],
            [
             0.8888888888888888,
             "#fdca26"
            ],
            [
             1,
             "#f0f921"
            ]
           ],
           "sequentialminus": [
            [
             0,
             "#0d0887"
            ],
            [
             0.1111111111111111,
             "#46039f"
            ],
            [
             0.2222222222222222,
             "#7201a8"
            ],
            [
             0.3333333333333333,
             "#9c179e"
            ],
            [
             0.4444444444444444,
             "#bd3786"
            ],
            [
             0.5555555555555556,
             "#d8576b"
            ],
            [
             0.6666666666666666,
             "#ed7953"
            ],
            [
             0.7777777777777778,
             "#fb9f3a"
            ],
            [
             0.8888888888888888,
             "#fdca26"
            ],
            [
             1,
             "#f0f921"
            ]
           ]
          },
          "colorway": [
           "#636efa",
           "#EF553B",
           "#00cc96",
           "#ab63fa",
           "#FFA15A",
           "#19d3f3",
           "#FF6692",
           "#B6E880",
           "#FF97FF",
           "#FECB52"
          ],
          "font": {
           "color": "#f2f5fa"
          },
          "geo": {
           "bgcolor": "rgb(17,17,17)",
           "lakecolor": "rgb(17,17,17)",
           "landcolor": "rgb(17,17,17)",
           "showlakes": true,
           "showland": true,
           "subunitcolor": "#506784"
          },
          "hoverlabel": {
           "align": "left"
          },
          "hovermode": "closest",
          "mapbox": {
           "style": "dark"
          },
          "paper_bgcolor": "rgb(17,17,17)",
          "plot_bgcolor": "rgb(17,17,17)",
          "polar": {
           "angularaxis": {
            "gridcolor": "#506784",
            "linecolor": "#506784",
            "ticks": ""
           },
           "bgcolor": "rgb(17,17,17)",
           "radialaxis": {
            "gridcolor": "#506784",
            "linecolor": "#506784",
            "ticks": ""
           }
          },
          "scene": {
           "xaxis": {
            "backgroundcolor": "rgb(17,17,17)",
            "gridcolor": "#506784",
            "gridwidth": 2,
            "linecolor": "#506784",
            "showbackground": true,
            "ticks": "",
            "zerolinecolor": "#C8D4E3"
           },
           "yaxis": {
            "backgroundcolor": "rgb(17,17,17)",
            "gridcolor": "#506784",
            "gridwidth": 2,
            "linecolor": "#506784",
            "showbackground": true,
            "ticks": "",
            "zerolinecolor": "#C8D4E3"
           },
           "zaxis": {
            "backgroundcolor": "rgb(17,17,17)",
            "gridcolor": "#506784",
            "gridwidth": 2,
            "linecolor": "#506784",
            "showbackground": true,
            "ticks": "",
            "zerolinecolor": "#C8D4E3"
           }
          },
          "shapedefaults": {
           "line": {
            "color": "#f2f5fa"
           }
          },
          "sliderdefaults": {
           "bgcolor": "#C8D4E3",
           "bordercolor": "rgb(17,17,17)",
           "borderwidth": 1,
           "tickwidth": 0
          },
          "ternary": {
           "aaxis": {
            "gridcolor": "#506784",
            "linecolor": "#506784",
            "ticks": ""
           },
           "baxis": {
            "gridcolor": "#506784",
            "linecolor": "#506784",
            "ticks": ""
           },
           "bgcolor": "rgb(17,17,17)",
           "caxis": {
            "gridcolor": "#506784",
            "linecolor": "#506784",
            "ticks": ""
           }
          },
          "title": {
           "x": 0.05
          },
          "updatemenudefaults": {
           "bgcolor": "#506784",
           "borderwidth": 0
          },
          "xaxis": {
           "automargin": true,
           "gridcolor": "#283442",
           "linecolor": "#506784",
           "ticks": "",
           "title": {
            "standoff": 15
           },
           "zerolinecolor": "#283442",
           "zerolinewidth": 2
          },
          "yaxis": {
           "automargin": true,
           "gridcolor": "#283442",
           "linecolor": "#506784",
           "ticks": "",
           "title": {
            "standoff": 15
           },
           "zerolinecolor": "#283442",
           "zerolinewidth": 2
          }
         }
        },
        "title": {
         "text": "Contagem de compras ao longo do periodo com e sem uso de cupom"
        },
        "xaxis": {
         "anchor": "y",
         "domain": [
          0,
          1
         ],
         "title": {
          "text": "Tempo desde o início do teste"
         }
        },
        "yaxis": {
         "anchor": "x",
         "domain": [
          0,
          1
         ],
         "title": {
          "text": "Contagem de eventos"
         }
        }
       }
      }
     },
     "metadata": {},
     "output_type": "display_data"
    }
   ],
   "source": [
    "date_grouped = (df_union\n",
    "    .withColumn(\"time_since_test_start\", F.floor(F.col(\"time_since_test_start\")))\n",
    "    .groupBy([\"time_since_test_start\", \"used_offer\"])\n",
    "    .agg(\n",
    "        F.count(F.col(\"time_since_test_start\")).alias(\"count\"),\n",
    "        F.sum(F.col(\"amount\")).alias(\"ttl_amount\")\n",
    "    )\n",
    "    .orderBy(F.col(\"time_since_test_start\").asc(), F.col(\"used_offer\").asc())\n",
    ")\n",
    "\n",
    "fig = px.line(\n",
    "    date_grouped.toPandas(),\n",
    "    x=\"time_since_test_start\",\n",
    "    y=\"count\",\n",
    "    color=\"used_offer\", # uso ou não se oferta\n",
    "    markers=True, # se quiser mostrar pontos nos valores\n",
    "    title=\"Contagem de compras ao longo do periodo com e sem uso de cupom\"\n",
    ")\n",
    "\n",
    "fig.update_layout(\n",
    "    xaxis_title=\"Tempo desde o início do teste\",\n",
    "    yaxis_title=\"Contagem de eventos\",\n",
    "    template=\"plotly_dark\"\n",
    ")\n",
    "\n",
    "fig.show()\n",
    "\n",
    "del(date_grouped)"
   ]
  },
  {
   "cell_type": "markdown",
   "id": "6a7a9c9c",
   "metadata": {},
   "source": [
    "Vemos um comportamento sazonal nas transações, a linha que corresponde a ofertas utilizadas (used_offer == 1) cresce quando há uma liberação de oferta, depois de um tempo diminui, pois os usuários gastam seus cupons, porém, muitos cupons anunciados não são utilizados."
   ]
  },
  {
   "cell_type": "markdown",
   "id": "398557e9",
   "metadata": {},
   "source": [
    "# 4. Gerando indicadores para a clusterização"
   ]
  },
  {
   "cell_type": "markdown",
   "id": "f50d137c",
   "metadata": {},
   "source": [
    "## 4.1. Quantidade e preço médio de transações por cliente"
   ]
  },
  {
   "cell_type": "code",
   "execution_count": 27,
   "id": "742a8975",
   "metadata": {},
   "outputs": [
    {
     "name": "stdout",
     "output_type": "stream",
     "text": [
      "+--------------------+----------------+--------------------+------+-------------+-----------------+----------------------------------------+----------------------------------------+-----------------------------------+------------------------------------+------------------------------+--------------------+--------------------+--------------------+----------------+--------------------+-------------------+------------------+----------------+----------------------------------+---------------------------------+-------------------------------+---------------------------------+---------------------------------+--------------------------+---------------------------+---------------------------+-----------------------+-------------------------+-------------------------+\n",
      "|          account_id|             age|   credit_card_limit|gender|registered_on|year_month_joined|credit_card_limit_03_Entre_63000_e_79000|credit_card_limit_02_Entre_49000_e_63000|credit_card_limit_04_Acima_de_79000|credit_card_limit_01_Abaixo_de_49000|credit_card_limit_00_Sem_dados|age_04_Entre_40_e_49|age_02_Entre_18_e_29|age_03_Entre_30_e_39|age_00_Sem_dados|age_05_Entre_50_e_59|age_06_Acima_de_60+|total_transactions|      avg_amount|total_transactions_03_Entre_7_e_11|total_transactions_02_Entre_4_e_7|total_transactions_00_Sem_dados|total_transactions_01_Abaixo_de_4|total_transactions_04_Acima_de_11|avg_amount_02_Entre_3_e_12|avg_amount_04_Entre_20_e_28|avg_amount_03_Entre_12_e_20|avg_amount_00_Sem_dados|avg_amount_01_Abaixo_de_3|avg_amount_05_Acima_de_28|\n",
      "+--------------------+----------------+--------------------+------+-------------+-----------------+----------------------------------------+----------------------------------------+-----------------------------------+------------------------------------+------------------------------+--------------------+--------------------+--------------------+----------------+--------------------+-------------------+------------------+----------------+----------------------------------+---------------------------------+-------------------------------+---------------------------------+---------------------------------+--------------------------+---------------------------+---------------------------+-----------------------+-------------------------+-------------------------+\n",
      "|c05652fa9d2c4fac9...| 06_Acima_de_60+|03_Entre_63000_e_...|     M|   2018-01-27|          2018-01|                                       1|                                       0|                                  0|                                   0|                             0|                   0|                   0|                   0|               0|                   0|                  1|    02_Entre_4_e_7| 02_Entre_3_e_12|                                 0|                                1|                              0|                                0|                                0|                         1|                          0|                          0|                      0|                        0|                        0|\n",
      "|6be0513109fe4d738...|04_Entre_40_e_49|02_Entre_49000_e_...|     M|   2018-06-13|          2018-06|                                       0|                                       1|                                  0|                                   0|                             0|                   1|                   0|                   0|               0|                   0|                  0|    01_Abaixo_de_4|03_Entre_12_e_20|                                 0|                                0|                              0|                                1|                                0|                         0|                          0|                          1|                      0|                        0|                        0|\n",
      "|9de54389816342449...|    00_Sem_dados|        00_Sem_dados|  NULL|   2018-04-22|          2018-04|                                       0|                                       0|                                  0|                                   0|                             1|                   0|                   0|                   0|               1|                   0|                  0|    01_Abaixo_de_4| 02_Entre_3_e_12|                                 0|                                0|                              0|                                1|                                0|                         1|                          0|                          0|                      0|                        0|                        0|\n",
      "|f5de20984950433d9...|04_Entre_40_e_49|03_Entre_63000_e_...|     M|   2015-09-10|          2015-09|                                       1|                                       0|                                  0|                                   0|                             0|                   1|                   0|                   0|               0|                   0|                  0|    04_Acima_de_11|04_Entre_20_e_28|                                 0|                                0|                              0|                                0|                                1|                         0|                          1|                          0|                      0|                        0|                        0|\n",
      "|9da3f2339b244229a...|04_Entre_40_e_49|  01_Abaixo_de_49000|     F|   2018-01-09|          2018-01|                                       0|                                       0|                                  0|                                   1|                             0|                   1|                   0|                   0|               0|                   0|                  0|    01_Abaixo_de_4| 02_Entre_3_e_12|                                 0|                                0|                              0|                                1|                                0|                         1|                          0|                          0|                      0|                        0|                        0|\n",
      "+--------------------+----------------+--------------------+------+-------------+-----------------+----------------------------------------+----------------------------------------+-----------------------------------+------------------------------------+------------------------------+--------------------+--------------------+--------------------+----------------+--------------------+-------------------+------------------+----------------+----------------------------------+---------------------------------+-------------------------------+---------------------------------+---------------------------------+--------------------------+---------------------------+---------------------------+-----------------------+-------------------------+-------------------------+\n",
      "only showing top 5 rows\n",
      "\n",
      "None\n"
     ]
    }
   ],
   "source": [
    "# Adiciona a coluna total_transactions\n",
    "ttl_transaction_count = (df_union\n",
    "    .groupBy(\"account_id\")\n",
    "    .agg(\n",
    "        F.count(\"*\").alias(\"total_transactions\"),\n",
    "        F.avg(\"amount\").alias(\"avg_amount\"))\n",
    ")\n",
    "\n",
    "profile = (profile\n",
    "    .join(ttl_transaction_count,\n",
    "        on=\"account_id\",\n",
    "        how=\"left\")\n",
    ")\n",
    "\n",
    "# Alterando os valores para faixas\n",
    "profile = column_default_categorizer(profile, \"total_transactions\")\n",
    "# Criando dummies da coluna categorizada\n",
    "profile = create_dummies_for_column(profile, \"total_transactions\")\n",
    "\n",
    "# Coletando os quartis\n",
    "q1, q2, q3, p95 = profile.approxQuantile(\"avg_amount\", [0.25, 0.5, 0.75, 0.95], 0.01)\n",
    "\n",
    "# Alterando os valores para faixas\n",
    "profile = (profile\n",
    "    .withColumn(\"avg_amount\",\n",
    "        F.when(F.col(\"avg_amount\") <= q1, f\"01_Abaixo_de_{round(q1)}\")\n",
    "        .when((F.col(\"avg_amount\") > q1) & (F.col(\"avg_amount\") <= q2), f\"02_Entre_{round(q1)}_e_{round(q2)}\")\n",
    "        .when((F.col(\"avg_amount\") > q2) & (F.col(\"avg_amount\") <= q3), f\"03_Entre_{round(q2)}_e_{round(q3)}\")\n",
    "        .when((F.col(\"avg_amount\") > q3) & (F.col(\"avg_amount\") <= p95), f\"04_Entre_{round(q3)}_e_{round(p95)}\")\n",
    "        .when(F.col(\"avg_amount\") > p95, f\"05_Acima_de_{round(p95)}\")\n",
    "        .otherwise(f\"00_Sem_dados\"))\n",
    ")\n",
    "\n",
    "del(q1, q2, q3, p95)\n",
    "\n",
    "profile = create_dummies_for_column(profile, \"avg_amount\")\n",
    "\n",
    "del(ttl_transaction_count)\n",
    "\n",
    "print(profile.show(5))"
   ]
  },
  {
   "cell_type": "markdown",
   "id": "f28feb7f",
   "metadata": {},
   "source": [
    "## 4.2. Tipos de ofertas mais utilizadas por cliente (offer_type)"
   ]
  },
  {
   "cell_type": "code",
   "execution_count": 28,
   "id": "4c92f1fe",
   "metadata": {},
   "outputs": [
    {
     "name": "stdout",
     "output_type": "stream",
     "text": [
      "+--------------------+----------------+--------------------+------+-------------+-----------------+----------------------------------------+----------------------------------------+-----------------------------------+------------------------------------+------------------------------+--------------------+--------------------+--------------------+----------------+--------------------+-------------------+------------------+----------------+----------------------------------+---------------------------------+-------------------------------+---------------------------------+---------------------------------+--------------------------+---------------------------+---------------------------+-----------------------+-------------------------+-------------------------+--------------------+-----------------------------+-------------------------+-------------------------+\n",
      "|          account_id|             age|   credit_card_limit|gender|registered_on|year_month_joined|credit_card_limit_03_Entre_63000_e_79000|credit_card_limit_02_Entre_49000_e_63000|credit_card_limit_04_Acima_de_79000|credit_card_limit_01_Abaixo_de_49000|credit_card_limit_00_Sem_dados|age_04_Entre_40_e_49|age_02_Entre_18_e_29|age_03_Entre_30_e_39|age_00_Sem_dados|age_05_Entre_50_e_59|age_06_Acima_de_60+|total_transactions|      avg_amount|total_transactions_03_Entre_7_e_11|total_transactions_02_Entre_4_e_7|total_transactions_00_Sem_dados|total_transactions_01_Abaixo_de_4|total_transactions_04_Acima_de_11|avg_amount_02_Entre_3_e_12|avg_amount_04_Entre_20_e_28|avg_amount_03_Entre_12_e_20|avg_amount_00_Sem_dados|avg_amount_01_Abaixo_de_3|avg_amount_05_Acima_de_28|most_used_offer_type|most_used_offer_type_discount|most_used_offer_type_bogo|most_used_offer_type_None|\n",
      "+--------------------+----------------+--------------------+------+-------------+-----------------+----------------------------------------+----------------------------------------+-----------------------------------+------------------------------------+------------------------------+--------------------+--------------------+--------------------+----------------+--------------------+-------------------+------------------+----------------+----------------------------------+---------------------------------+-------------------------------+---------------------------------+---------------------------------+--------------------------+---------------------------+---------------------------+-----------------------+-------------------------+-------------------------+--------------------+-----------------------------+-------------------------+-------------------------+\n",
      "|c05652fa9d2c4fac9...| 06_Acima_de_60+|03_Entre_63000_e_...|     M|   2018-01-27|          2018-01|                                       1|                                       0|                                  0|                                   0|                             0|                   0|                   0|                   0|               0|                   0|                  1|    02_Entre_4_e_7| 02_Entre_3_e_12|                                 0|                                1|                              0|                                0|                                0|                         1|                          0|                          0|                      0|                        0|                        0|                NULL|                            0|                        0|                        0|\n",
      "|6be0513109fe4d738...|04_Entre_40_e_49|02_Entre_49000_e_...|     M|   2018-06-13|          2018-06|                                       0|                                       1|                                  0|                                   0|                             0|                   1|                   0|                   0|               0|                   0|                  0|    01_Abaixo_de_4|03_Entre_12_e_20|                                 0|                                0|                              0|                                1|                                0|                         0|                          0|                          1|                      0|                        0|                        0|                NULL|                            0|                        0|                        0|\n",
      "|9de54389816342449...|    00_Sem_dados|        00_Sem_dados|  NULL|   2018-04-22|          2018-04|                                       0|                                       0|                                  0|                                   0|                             1|                   0|                   0|                   0|               1|                   0|                  0|    01_Abaixo_de_4| 02_Entre_3_e_12|                                 0|                                0|                              0|                                1|                                0|                         1|                          0|                          0|                      0|                        0|                        0|                NULL|                            0|                        0|                        0|\n",
      "|f5de20984950433d9...|04_Entre_40_e_49|03_Entre_63000_e_...|     M|   2015-09-10|          2015-09|                                       1|                                       0|                                  0|                                   0|                             0|                   1|                   0|                   0|               0|                   0|                  0|    04_Acima_de_11|04_Entre_20_e_28|                                 0|                                0|                              0|                                0|                                1|                         0|                          1|                          0|                      0|                        0|                        0|                bogo|                            0|                        1|                        0|\n",
      "|9da3f2339b244229a...|04_Entre_40_e_49|  01_Abaixo_de_49000|     F|   2018-01-09|          2018-01|                                       0|                                       0|                                  0|                                   1|                             0|                   1|                   0|                   0|               0|                   0|                  0|    01_Abaixo_de_4| 02_Entre_3_e_12|                                 0|                                0|                              0|                                1|                                0|                         1|                          0|                          0|                      0|                        0|                        0|                NULL|                            0|                        0|                        0|\n",
      "+--------------------+----------------+--------------------+------+-------------+-----------------+----------------------------------------+----------------------------------------+-----------------------------------+------------------------------------+------------------------------+--------------------+--------------------+--------------------+----------------+--------------------+-------------------+------------------+----------------+----------------------------------+---------------------------------+-------------------------------+---------------------------------+---------------------------------+--------------------------+---------------------------+---------------------------+-----------------------+-------------------------+-------------------------+--------------------+-----------------------------+-------------------------+-------------------------+\n",
      "only showing top 5 rows\n",
      "\n",
      "None\n"
     ]
    }
   ],
   "source": [
    "# Filtrar apenas as linhas com offer_type não nulo\n",
    "df_offers = df_union.filter(F.col(\"offer_type\").isNotNull())\n",
    "\n",
    "# Contar quantas vezes cada cliente usou cada tipo de oferta\n",
    "df_offer_counts = (df_offers\n",
    "    .groupBy(\"account_id\", \"offer_type\")\n",
    "    .agg(F.count(\"*\").alias(\"offer_type_count\"))\n",
    ")\n",
    "\n",
    "# Janela para rankear os tipos de oferta mais usados por cliente\n",
    "window_spec = Window.partitionBy(\"account_id\").orderBy(F.col(\"offer_type_count\").desc())\n",
    "\n",
    "# Adicionar ranking\n",
    "df_ranked = df_offer_counts.withColumn(\"rank\", F.row_number().over(window_spec))\n",
    "\n",
    "# Manter apenas a oferta mais usada por cliente (rank == 1)\n",
    "df_top_offer_type = (df_ranked\n",
    "    .filter(F.col(\"rank\") == 1)\n",
    "    .drop(\"rank\", \"offer_type_count\")\n",
    "    .withColumnRenamed(\"offer_type\", \"most_used_offer_type\")\n",
    ")\n",
    "\n",
    "# Join para adicionar dados de oferta mais utilizadas\n",
    "profile = (profile\n",
    "    .join(df_top_offer_type,\n",
    "        on=\"account_id\",\n",
    "        how=\"left\")\n",
    ")\n",
    "\n",
    "# Criando as dummies\n",
    "profile = create_dummies_for_column(profile, \"most_used_offer_type\")\n",
    "\n",
    "print(profile.show(5))\n",
    "\n",
    "del(df_offers, df_offer_counts, df_ranked, df_top_offer_type)"
   ]
  },
  {
   "cell_type": "markdown",
   "id": "89fa00ad",
   "metadata": {},
   "source": [
    "## 4.3. Taxa de pedidos com cupom"
   ]
  },
  {
   "cell_type": "code",
   "execution_count": 29,
   "id": "c5a100fa",
   "metadata": {},
   "outputs": [
    {
     "name": "stdout",
     "output_type": "stream",
     "text": [
      "+--------------------+----------------+--------------------+------+-------------+-----------------+----------------------------------------+----------------------------------------+-----------------------------------+------------------------------------+------------------------------+--------------------+--------------------+--------------------+----------------+--------------------+-------------------+------------------+----------------+----------------------------------+---------------------------------+-------------------------------+---------------------------------+---------------------------------+--------------------------+---------------------------+---------------------------+-----------------------+-------------------------+-------------------------+--------------------+-----------------------------+-------------------------+-------------------------+-----------------------+------------------------------------------+---------------------------------------+-----------------------------------------+------------------------------------+---------------------------------------+\n",
      "|          account_id|             age|   credit_card_limit|gender|registered_on|year_month_joined|credit_card_limit_03_Entre_63000_e_79000|credit_card_limit_02_Entre_49000_e_63000|credit_card_limit_04_Acima_de_79000|credit_card_limit_01_Abaixo_de_49000|credit_card_limit_00_Sem_dados|age_04_Entre_40_e_49|age_02_Entre_18_e_29|age_03_Entre_30_e_39|age_00_Sem_dados|age_05_Entre_50_e_59|age_06_Acima_de_60+|total_transactions|      avg_amount|total_transactions_03_Entre_7_e_11|total_transactions_02_Entre_4_e_7|total_transactions_00_Sem_dados|total_transactions_01_Abaixo_de_4|total_transactions_04_Acima_de_11|avg_amount_02_Entre_3_e_12|avg_amount_04_Entre_20_e_28|avg_amount_03_Entre_12_e_20|avg_amount_00_Sem_dados|avg_amount_01_Abaixo_de_3|avg_amount_05_Acima_de_28|most_used_offer_type|most_used_offer_type_discount|most_used_offer_type_bogo|most_used_offer_type_None|transactions_offer_rate|transactions_offer_rate_03_Entre_17%_e_33%|transactions_offer_rate_04_Acima_de_33%|transactions_offer_rate_02_Entre_0%_e_17%|transactions_offer_rate_00_Sem_dados|transactions_offer_rate_01_Abaixo_de_0%|\n",
      "+--------------------+----------------+--------------------+------+-------------+-----------------+----------------------------------------+----------------------------------------+-----------------------------------+------------------------------------+------------------------------+--------------------+--------------------+--------------------+----------------+--------------------+-------------------+------------------+----------------+----------------------------------+---------------------------------+-------------------------------+---------------------------------+---------------------------------+--------------------------+---------------------------+---------------------------+-----------------------+-------------------------+-------------------------+--------------------+-----------------------------+-------------------------+-------------------------+-----------------------+------------------------------------------+---------------------------------------+-----------------------------------------+------------------------------------+---------------------------------------+\n",
      "|c05652fa9d2c4fac9...| 06_Acima_de_60+|03_Entre_63000_e_...|     M|   2018-01-27|          2018-01|                                       1|                                       0|                                  0|                                   0|                             0|                   0|                   0|                   0|               0|                   0|                  1|    02_Entre_4_e_7| 02_Entre_3_e_12|                                 0|                                1|                              0|                                0|                                0|                         1|                          0|                          0|                      0|                        0|                        0|                NULL|                            0|                        0|                        0|        01_Abaixo_de_0%|                                         0|                                      0|                                        0|                                   0|                                      1|\n",
      "|6be0513109fe4d738...|04_Entre_40_e_49|02_Entre_49000_e_...|     M|   2018-06-13|          2018-06|                                       0|                                       1|                                  0|                                   0|                             0|                   1|                   0|                   0|               0|                   0|                  0|    01_Abaixo_de_4|03_Entre_12_e_20|                                 0|                                0|                              0|                                1|                                0|                         0|                          0|                          1|                      0|                        0|                        0|                NULL|                            0|                        0|                        0|        01_Abaixo_de_0%|                                         0|                                      0|                                        0|                                   0|                                      1|\n",
      "|9de54389816342449...|    00_Sem_dados|        00_Sem_dados|  NULL|   2018-04-22|          2018-04|                                       0|                                       0|                                  0|                                   0|                             1|                   0|                   0|                   0|               1|                   0|                  0|    01_Abaixo_de_4| 02_Entre_3_e_12|                                 0|                                0|                              0|                                1|                                0|                         1|                          0|                          0|                      0|                        0|                        0|                NULL|                            0|                        0|                        0|        01_Abaixo_de_0%|                                         0|                                      0|                                        0|                                   0|                                      1|\n",
      "|f5de20984950433d9...|04_Entre_40_e_49|03_Entre_63000_e_...|     M|   2015-09-10|          2015-09|                                       1|                                       0|                                  0|                                   0|                             0|                   1|                   0|                   0|               0|                   0|                  0|    04_Acima_de_11|04_Entre_20_e_28|                                 0|                                0|                              0|                                0|                                1|                         0|                          1|                          0|                      0|                        0|                        0|                bogo|                            0|                        1|                        0|     03_Entre_17%_e_33%|                                         1|                                      0|                                        0|                                   0|                                      0|\n",
      "|9da3f2339b244229a...|04_Entre_40_e_49|  01_Abaixo_de_49000|     F|   2018-01-09|          2018-01|                                       0|                                       0|                                  0|                                   1|                             0|                   1|                   0|                   0|               0|                   0|                  0|    01_Abaixo_de_4| 02_Entre_3_e_12|                                 0|                                0|                              0|                                1|                                0|                         1|                          0|                          0|                      0|                        0|                        0|                NULL|                            0|                        0|                        0|        01_Abaixo_de_0%|                                         0|                                      0|                                        0|                                   0|                                      1|\n",
      "+--------------------+----------------+--------------------+------+-------------+-----------------+----------------------------------------+----------------------------------------+-----------------------------------+------------------------------------+------------------------------+--------------------+--------------------+--------------------+----------------+--------------------+-------------------+------------------+----------------+----------------------------------+---------------------------------+-------------------------------+---------------------------------+---------------------------------+--------------------------+---------------------------+---------------------------+-----------------------+-------------------------+-------------------------+--------------------+-----------------------------+-------------------------+-------------------------+-----------------------+------------------------------------------+---------------------------------------+-----------------------------------------+------------------------------------+---------------------------------------+\n",
      "only showing top 5 rows\n",
      "\n",
      "None\n"
     ]
    }
   ],
   "source": [
    "# Calcular taxa de uso de cupom por cliente\n",
    "offer_rate = (df_union\n",
    "    .groupBy(\"account_id\").agg(\n",
    "        F.count(\"*\").alias(\"total_transactions\"),\n",
    "        F.sum(F.col(\"used_offer\")).alias(\"num_transactions_with_offer\"))\n",
    "    .withColumn(\n",
    "        \"transactions_offer_rate\",\n",
    "        F.col(\"num_transactions_with_offer\") / F.col(\"total_transactions\"))\n",
    "    .select(\"account_id\", \"transactions_offer_rate\")\n",
    ")\n",
    "\n",
    "# Juntar no profile\n",
    "profile = (profile\n",
    "    .join(offer_rate,\n",
    "        on=\"account_id\",\n",
    "        how=\"left\")\n",
    ")\n",
    "\n",
    "# Alterando os valores para faixas\n",
    "profile = column_default_categorizer(profile, \"transactions_offer_rate\", True)\n",
    "# Criando dummies da coluna categorizada\n",
    "profile = create_dummies_for_column(profile, \"transactions_offer_rate\")\n",
    "\n",
    "print(profile.show(5))\n",
    "\n",
    "del(offer_rate)"
   ]
  },
  {
   "cell_type": "markdown",
   "id": "b5b9a61b",
   "metadata": {},
   "source": [
    "## 4.4. Tempo médio que usuário demora para utilizar e ver o cupom"
   ]
  },
  {
   "cell_type": "code",
   "execution_count": 30,
   "id": "16dbb06d",
   "metadata": {},
   "outputs": [
    {
     "name": "stdout",
     "output_type": "stream",
     "text": [
      "+--------------------+----------------+--------------------+------+-------------+-----------------+----------------------------------------+----------------------------------------+-----------------------------------+------------------------------------+------------------------------+--------------------+--------------------+--------------------+----------------+--------------------+-------------------+------------------+----------------+----------------------------------+---------------------------------+-------------------------------+---------------------------------+---------------------------------+--------------------------+---------------------------+---------------------------+-----------------------+-------------------------+-------------------------+--------------------+-----------------------------+-------------------------+-------------------------+-----------------------+------------------------------------------+---------------------------------------+-----------------------------------------+------------------------------------+---------------------------------------+---------------------+----------------------+------------------------------------+------------------------------------+----------------------------------+------------------------------------+-----------------------------------+-------------------------------------+------------------------------------+-----------------------------------+-------------------------------------+-------------------------------------+\n",
      "|          account_id|             age|   credit_card_limit|gender|registered_on|year_month_joined|credit_card_limit_03_Entre_63000_e_79000|credit_card_limit_02_Entre_49000_e_63000|credit_card_limit_04_Acima_de_79000|credit_card_limit_01_Abaixo_de_49000|credit_card_limit_00_Sem_dados|age_04_Entre_40_e_49|age_02_Entre_18_e_29|age_03_Entre_30_e_39|age_00_Sem_dados|age_05_Entre_50_e_59|age_06_Acima_de_60+|total_transactions|      avg_amount|total_transactions_03_Entre_7_e_11|total_transactions_02_Entre_4_e_7|total_transactions_00_Sem_dados|total_transactions_01_Abaixo_de_4|total_transactions_04_Acima_de_11|avg_amount_02_Entre_3_e_12|avg_amount_04_Entre_20_e_28|avg_amount_03_Entre_12_e_20|avg_amount_00_Sem_dados|avg_amount_01_Abaixo_de_3|avg_amount_05_Acima_de_28|most_used_offer_type|most_used_offer_type_discount|most_used_offer_type_bogo|most_used_offer_type_None|transactions_offer_rate|transactions_offer_rate_03_Entre_17%_e_33%|transactions_offer_rate_04_Acima_de_33%|transactions_offer_rate_02_Entre_0%_e_17%|transactions_offer_rate_00_Sem_dados|transactions_offer_rate_01_Abaixo_de_0%|avg_time_to_use_offer|avg_time_to_view_offer|avg_time_to_use_offer_02_Entre_2_e_2|avg_time_to_use_offer_03_Entre_2_e_4|avg_time_to_use_offer_00_Sem_dados|avg_time_to_use_offer_01_Abaixo_de_2|avg_time_to_use_offer_04_Acima_de_4|avg_time_to_view_offer_01_Abaixo_de_1|avg_time_to_view_offer_04_Acima_de_3|avg_time_to_view_offer_00_Sem_dados|avg_time_to_view_offer_03_Entre_2_e_3|avg_time_to_view_offer_02_Entre_1_e_2|\n",
      "+--------------------+----------------+--------------------+------+-------------+-----------------+----------------------------------------+----------------------------------------+-----------------------------------+------------------------------------+------------------------------+--------------------+--------------------+--------------------+----------------+--------------------+-------------------+------------------+----------------+----------------------------------+---------------------------------+-------------------------------+---------------------------------+---------------------------------+--------------------------+---------------------------+---------------------------+-----------------------+-------------------------+-------------------------+--------------------+-----------------------------+-------------------------+-------------------------+-----------------------+------------------------------------------+---------------------------------------+-----------------------------------------+------------------------------------+---------------------------------------+---------------------+----------------------+------------------------------------+------------------------------------+----------------------------------+------------------------------------+-----------------------------------+-------------------------------------+------------------------------------+-----------------------------------+-------------------------------------+-------------------------------------+\n",
      "|c05652fa9d2c4fac9...| 06_Acima_de_60+|03_Entre_63000_e_...|     M|   2018-01-27|          2018-01|                                       1|                                       0|                                  0|                                   0|                             0|                   0|                   0|                   0|               0|                   0|                  1|    02_Entre_4_e_7| 02_Entre_3_e_12|                                 0|                                1|                              0|                                0|                                0|                         1|                          0|                          0|                      0|                        0|                        0|                NULL|                            0|                        0|                        0|        01_Abaixo_de_0%|                                         0|                                      0|                                        0|                                   0|                                      1|         00_Sem_dados|          00_Sem_dados|                                   0|                                   0|                                 1|                                   0|                                  0|                                    0|                                   0|                                  1|                                    0|                                    0|\n",
      "|6be0513109fe4d738...|04_Entre_40_e_49|02_Entre_49000_e_...|     M|   2018-06-13|          2018-06|                                       0|                                       1|                                  0|                                   0|                             0|                   1|                   0|                   0|               0|                   0|                  0|    01_Abaixo_de_4|03_Entre_12_e_20|                                 0|                                0|                              0|                                1|                                0|                         0|                          0|                          1|                      0|                        0|                        0|                NULL|                            0|                        0|                        0|        01_Abaixo_de_0%|                                         0|                                      0|                                        0|                                   0|                                      1|         00_Sem_dados|          00_Sem_dados|                                   0|                                   0|                                 1|                                   0|                                  0|                                    0|                                   0|                                  1|                                    0|                                    0|\n",
      "|9de54389816342449...|    00_Sem_dados|        00_Sem_dados|  NULL|   2018-04-22|          2018-04|                                       0|                                       0|                                  0|                                   0|                             1|                   0|                   0|                   0|               1|                   0|                  0|    01_Abaixo_de_4| 02_Entre_3_e_12|                                 0|                                0|                              0|                                1|                                0|                         1|                          0|                          0|                      0|                        0|                        0|                NULL|                            0|                        0|                        0|        01_Abaixo_de_0%|                                         0|                                      0|                                        0|                                   0|                                      1|         00_Sem_dados|          00_Sem_dados|                                   0|                                   0|                                 1|                                   0|                                  0|                                    0|                                   0|                                  1|                                    0|                                    0|\n",
      "|f5de20984950433d9...|04_Entre_40_e_49|03_Entre_63000_e_...|     M|   2015-09-10|          2015-09|                                       1|                                       0|                                  0|                                   0|                             0|                   1|                   0|                   0|               0|                   0|                  0|    04_Acima_de_11|04_Entre_20_e_28|                                 0|                                0|                              0|                                0|                                1|                         0|                          1|                          0|                      0|                        0|                        0|                bogo|                            0|                        1|                        0|     03_Entre_17%_e_33%|                                         1|                                      0|                                        0|                                   0|                                      0|       01_Abaixo_de_2|        03_Entre_2_e_3|                                   0|                                   0|                                 0|                                   1|                                  0|                                    0|                                   0|                                  0|                                    1|                                    0|\n",
      "|9da3f2339b244229a...|04_Entre_40_e_49|  01_Abaixo_de_49000|     F|   2018-01-09|          2018-01|                                       0|                                       0|                                  0|                                   1|                             0|                   1|                   0|                   0|               0|                   0|                  0|    01_Abaixo_de_4| 02_Entre_3_e_12|                                 0|                                0|                              0|                                1|                                0|                         1|                          0|                          0|                      0|                        0|                        0|                NULL|                            0|                        0|                        0|        01_Abaixo_de_0%|                                         0|                                      0|                                        0|                                   0|                                      1|         00_Sem_dados|          00_Sem_dados|                                   0|                                   0|                                 1|                                   0|                                  0|                                    0|                                   0|                                  1|                                    0|                                    0|\n",
      "+--------------------+----------------+--------------------+------+-------------+-----------------+----------------------------------------+----------------------------------------+-----------------------------------+------------------------------------+------------------------------+--------------------+--------------------+--------------------+----------------+--------------------+-------------------+------------------+----------------+----------------------------------+---------------------------------+-------------------------------+---------------------------------+---------------------------------+--------------------------+---------------------------+---------------------------+-----------------------+-------------------------+-------------------------+--------------------+-----------------------------+-------------------------+-------------------------+-----------------------+------------------------------------------+---------------------------------------+-----------------------------------------+------------------------------------+---------------------------------------+---------------------+----------------------+------------------------------------+------------------------------------+----------------------------------+------------------------------------+-----------------------------------+-------------------------------------+------------------------------------+-----------------------------------+-------------------------------------+-------------------------------------+\n",
      "only showing top 5 rows\n",
      "\n",
      "None\n"
     ]
    }
   ],
   "source": [
    "# Filtrar e calcular tempo de uso\n",
    "time_to_use_df = (df_union\n",
    "    .filter(F.col(\"used_offer\") == 1)\n",
    "    .withColumn(\n",
    "        \"time_to_use_offer\",\n",
    "        F.col(\"time_since_test_start\") - F.col(\"offer_received_date\"))\n",
    "    .withColumn(\n",
    "        \"time_to_view_offer\",\n",
    "        F.col(\"time_since_test_start\") - F.col(\"offer_viewed_date\"))\n",
    ")\n",
    "\n",
    "# Média de tempo par utilizar cupom por cliente\n",
    "avg_time_df = (time_to_use_df\n",
    "    .groupBy(\"account_id\")\n",
    "    .agg(\n",
    "        F.avg(\"time_to_use_offer\").alias(\"avg_time_to_use_offer\"),\n",
    "        F.avg(\"time_to_view_offer\").alias(\"avg_time_to_view_offer\"))\n",
    ")\n",
    "\n",
    "# Juntar com profile\n",
    "profile = (profile\n",
    "    .join(avg_time_df,\n",
    "        on=\"account_id\",\n",
    "        how=\"left\")\n",
    ")\n",
    "\n",
    "# Alterando os valores para faixas\n",
    "profile = column_default_categorizer(profile, \"avg_time_to_use_offer\")\n",
    "profile = column_default_categorizer(profile, \"avg_time_to_view_offer\")\n",
    "# Criando dummies da coluna categorizada\n",
    "profile = create_dummies_for_column(profile, \"avg_time_to_use_offer\")\n",
    "profile = create_dummies_for_column(profile, \"avg_time_to_view_offer\")\n",
    "\n",
    "del(time_to_use_df, avg_time_df)\n",
    "\n",
    "print(profile.show(5))"
   ]
  },
  {
   "cell_type": "markdown",
   "id": "83c14b88",
   "metadata": {},
   "source": [
    "## 4.5. Percentual de cupons utilizados por cliente"
   ]
  },
  {
   "cell_type": "markdown",
   "id": "a9c4d30c",
   "metadata": {},
   "source": [
    "### 4.5.1. Geral"
   ]
  },
  {
   "cell_type": "code",
   "execution_count": 31,
   "id": "9b70b06c",
   "metadata": {},
   "outputs": [
    {
     "name": "stdout",
     "output_type": "stream",
     "text": [
      "+--------------------+----------------+--------------------+------+-------------+-----------------+----------------------------------------+----------------------------------------+-----------------------------------+------------------------------------+------------------------------+--------------------+--------------------+--------------------+----------------+--------------------+-------------------+------------------+----------------+----------------------------------+---------------------------------+-------------------------------+---------------------------------+---------------------------------+--------------------------+---------------------------+---------------------------+-----------------------+-------------------------+-------------------------+--------------------+-----------------------------+-------------------------+-------------------------+-----------------------+------------------------------------------+---------------------------------------+-----------------------------------------+------------------------------------+---------------------------------------+---------------------+----------------------+------------------------------------+------------------------------------+----------------------------------+------------------------------------+-----------------------------------+-------------------------------------+------------------------------------+-----------------------------------+-------------------------------------+-------------------------------------+---------------------+-------------------------------------+---------------------------------------+----------------------------------------+----------------------------------+-------------------------------------+\n",
      "|          account_id|             age|   credit_card_limit|gender|registered_on|year_month_joined|credit_card_limit_03_Entre_63000_e_79000|credit_card_limit_02_Entre_49000_e_63000|credit_card_limit_04_Acima_de_79000|credit_card_limit_01_Abaixo_de_49000|credit_card_limit_00_Sem_dados|age_04_Entre_40_e_49|age_02_Entre_18_e_29|age_03_Entre_30_e_39|age_00_Sem_dados|age_05_Entre_50_e_59|age_06_Acima_de_60+|total_transactions|      avg_amount|total_transactions_03_Entre_7_e_11|total_transactions_02_Entre_4_e_7|total_transactions_00_Sem_dados|total_transactions_01_Abaixo_de_4|total_transactions_04_Acima_de_11|avg_amount_02_Entre_3_e_12|avg_amount_04_Entre_20_e_28|avg_amount_03_Entre_12_e_20|avg_amount_00_Sem_dados|avg_amount_01_Abaixo_de_3|avg_amount_05_Acima_de_28|most_used_offer_type|most_used_offer_type_discount|most_used_offer_type_bogo|most_used_offer_type_None|transactions_offer_rate|transactions_offer_rate_03_Entre_17%_e_33%|transactions_offer_rate_04_Acima_de_33%|transactions_offer_rate_02_Entre_0%_e_17%|transactions_offer_rate_00_Sem_dados|transactions_offer_rate_01_Abaixo_de_0%|avg_time_to_use_offer|avg_time_to_view_offer|avg_time_to_use_offer_02_Entre_2_e_2|avg_time_to_use_offer_03_Entre_2_e_4|avg_time_to_use_offer_00_Sem_dados|avg_time_to_use_offer_01_Abaixo_de_2|avg_time_to_use_offer_04_Acima_de_4|avg_time_to_view_offer_01_Abaixo_de_1|avg_time_to_view_offer_04_Acima_de_3|avg_time_to_view_offer_00_Sem_dados|avg_time_to_view_offer_03_Entre_2_e_3|avg_time_to_view_offer_02_Entre_1_e_2|all_coupon_usage_rate|all_coupon_usage_rate_04_Acima_de_71%|all_coupon_usage_rate_02_Entre_0%_e_33%|all_coupon_usage_rate_03_Entre_33%_e_71%|all_coupon_usage_rate_00_Sem_dados|all_coupon_usage_rate_01_Abaixo_de_0%|\n",
      "+--------------------+----------------+--------------------+------+-------------+-----------------+----------------------------------------+----------------------------------------+-----------------------------------+------------------------------------+------------------------------+--------------------+--------------------+--------------------+----------------+--------------------+-------------------+------------------+----------------+----------------------------------+---------------------------------+-------------------------------+---------------------------------+---------------------------------+--------------------------+---------------------------+---------------------------+-----------------------+-------------------------+-------------------------+--------------------+-----------------------------+-------------------------+-------------------------+-----------------------+------------------------------------------+---------------------------------------+-----------------------------------------+------------------------------------+---------------------------------------+---------------------+----------------------+------------------------------------+------------------------------------+----------------------------------+------------------------------------+-----------------------------------+-------------------------------------+------------------------------------+-----------------------------------+-------------------------------------+-------------------------------------+---------------------+-------------------------------------+---------------------------------------+----------------------------------------+----------------------------------+-------------------------------------+\n",
      "|c05652fa9d2c4fac9...| 06_Acima_de_60+|03_Entre_63000_e_...|     M|   2018-01-27|          2018-01|                                       1|                                       0|                                  0|                                   0|                             0|                   0|                   0|                   0|               0|                   0|                  1|    02_Entre_4_e_7| 02_Entre_3_e_12|                                 0|                                1|                              0|                                0|                                0|                         1|                          0|                          0|                      0|                        0|                        0|                NULL|                            0|                        0|                        0|        01_Abaixo_de_0%|                                         0|                                      0|                                        0|                                   0|                                      1|         00_Sem_dados|          00_Sem_dados|                                   0|                                   0|                                 1|                                   0|                                  0|                                    0|                                   0|                                  1|                                    0|                                    0|      01_Abaixo_de_0%|                                    0|                                      0|                                       0|                                 0|                                    1|\n",
      "|6be0513109fe4d738...|04_Entre_40_e_49|02_Entre_49000_e_...|     M|   2018-06-13|          2018-06|                                       0|                                       1|                                  0|                                   0|                             0|                   1|                   0|                   0|               0|                   0|                  0|    01_Abaixo_de_4|03_Entre_12_e_20|                                 0|                                0|                              0|                                1|                                0|                         0|                          0|                          1|                      0|                        0|                        0|                NULL|                            0|                        0|                        0|        01_Abaixo_de_0%|                                         0|                                      0|                                        0|                                   0|                                      1|         00_Sem_dados|          00_Sem_dados|                                   0|                                   0|                                 1|                                   0|                                  0|                                    0|                                   0|                                  1|                                    0|                                    0|      01_Abaixo_de_0%|                                    0|                                      0|                                       0|                                 0|                                    1|\n",
      "|9de54389816342449...|    00_Sem_dados|        00_Sem_dados|  NULL|   2018-04-22|          2018-04|                                       0|                                       0|                                  0|                                   0|                             1|                   0|                   0|                   0|               1|                   0|                  0|    01_Abaixo_de_4| 02_Entre_3_e_12|                                 0|                                0|                              0|                                1|                                0|                         1|                          0|                          0|                      0|                        0|                        0|                NULL|                            0|                        0|                        0|        01_Abaixo_de_0%|                                         0|                                      0|                                        0|                                   0|                                      1|         00_Sem_dados|          00_Sem_dados|                                   0|                                   0|                                 1|                                   0|                                  0|                                    0|                                   0|                                  1|                                    0|                                    0|      01_Abaixo_de_0%|                                    0|                                      0|                                       0|                                 0|                                    1|\n",
      "|f5de20984950433d9...|04_Entre_40_e_49|03_Entre_63000_e_...|     M|   2015-09-10|          2015-09|                                       1|                                       0|                                  0|                                   0|                             0|                   1|                   0|                   0|               0|                   0|                  0|    04_Acima_de_11|04_Entre_20_e_28|                                 0|                                0|                              0|                                0|                                1|                         0|                          1|                          0|                      0|                        0|                        0|                bogo|                            0|                        1|                        0|     03_Entre_17%_e_33%|                                         1|                                      0|                                        0|                                   0|                                      0|       01_Abaixo_de_2|        03_Entre_2_e_3|                                   0|                                   0|                                 0|                                   1|                                  0|                                    0|                                   0|                                  0|                                    1|                                    0|      04_Acima_de_71%|                                    1|                                      0|                                       0|                                 0|                                    0|\n",
      "|9da3f2339b244229a...|04_Entre_40_e_49|  01_Abaixo_de_49000|     F|   2018-01-09|          2018-01|                                       0|                                       0|                                  0|                                   1|                             0|                   1|                   0|                   0|               0|                   0|                  0|    01_Abaixo_de_4| 02_Entre_3_e_12|                                 0|                                0|                              0|                                1|                                0|                         1|                          0|                          0|                      0|                        0|                        0|                NULL|                            0|                        0|                        0|        01_Abaixo_de_0%|                                         0|                                      0|                                        0|                                   0|                                      1|         00_Sem_dados|          00_Sem_dados|                                   0|                                   0|                                 1|                                   0|                                  0|                                    0|                                   0|                                  1|                                    0|                                    0|      01_Abaixo_de_0%|                                    0|                                      0|                                       0|                                 0|                                    1|\n",
      "+--------------------+----------------+--------------------+------+-------------+-----------------+----------------------------------------+----------------------------------------+-----------------------------------+------------------------------------+------------------------------+--------------------+--------------------+--------------------+----------------+--------------------+-------------------+------------------+----------------+----------------------------------+---------------------------------+-------------------------------+---------------------------------+---------------------------------+--------------------------+---------------------------+---------------------------+-----------------------+-------------------------+-------------------------+--------------------+-----------------------------+-------------------------+-------------------------+-----------------------+------------------------------------------+---------------------------------------+-----------------------------------------+------------------------------------+---------------------------------------+---------------------+----------------------+------------------------------------+------------------------------------+----------------------------------+------------------------------------+-----------------------------------+-------------------------------------+------------------------------------+-----------------------------------+-------------------------------------+-------------------------------------+---------------------+-------------------------------------+---------------------------------------+----------------------------------------+----------------------------------+-------------------------------------+\n",
      "only showing top 5 rows\n",
      "\n",
      "None\n"
     ]
    }
   ],
   "source": [
    "# Total de ofertas recebidas por cliente\n",
    "usage_rate_df = (offer_summary\n",
    "    .groupBy(\"account_id\")\n",
    "    .agg(\n",
    "        F.count(\"*\").alias(\"total_offers_received\"),\n",
    "        F.sum(\"used_offer\").alias(\"total_offers_used\"))\n",
    "    # Coluna com porcentagem de uso de cupons\n",
    "    .withColumn(\n",
    "        \"all_coupon_usage_rate\",\n",
    "        F.col(\"total_offers_used\") / F.col(\"total_offers_received\"))\n",
    "    .select(\"account_id\", \"all_coupon_usage_rate\")\n",
    ")\n",
    "\n",
    "profile = (profile\n",
    "    .join(usage_rate_df,\n",
    "        on=\"account_id\",\n",
    "        how=\"left\")\n",
    ")\n",
    "\n",
    "# Alterando os valores para faixas\n",
    "profile = column_default_categorizer(profile, \"all_coupon_usage_rate\", True)\n",
    "# Criando dummies da coluna categorizada\n",
    "profile = create_dummies_for_column(profile, \"all_coupon_usage_rate\")\n",
    "\n",
    "del(usage_rate_df)\n",
    "\n",
    "print(profile.show(5))"
   ]
  },
  {
   "cell_type": "markdown",
   "id": "0e0a5f51",
   "metadata": {},
   "source": [
    "### 4.5.2. Por veículo"
   ]
  },
  {
   "cell_type": "code",
   "execution_count": 32,
   "id": "890452f3",
   "metadata": {},
   "outputs": [
    {
     "name": "stdout",
     "output_type": "stream",
     "text": [
      "+--------------------+----------------+--------------------+------+-------------+-----------------+----------------------------------------+----------------------------------------+-----------------------------------+------------------------------------+------------------------------+--------------------+--------------------+--------------------+----------------+--------------------+-------------------+------------------+----------------+----------------------------------+---------------------------------+-------------------------------+---------------------------------+---------------------------------+--------------------------+---------------------------+---------------------------+-----------------------+-------------------------+-------------------------+--------------------+-----------------------------+-------------------------+-------------------------+-----------------------+------------------------------------------+---------------------------------------+-----------------------------------------+------------------------------------+---------------------------------------+---------------------+----------------------+------------------------------------+------------------------------------+----------------------------------+------------------------------------+-----------------------------------+-------------------------------------+------------------------------------+-----------------------------------+-------------------------------------+-------------------------------------+---------------------+-------------------------------------+---------------------------------------+----------------------------------------+----------------------------------+-------------------------------------+-----------------------+----------------------+-----------------------+--------------------+---------------------------------------+-----------------------------------------+------------------------------------------+------------------------------------+---------------------------------------+--------------------------------------+----------------------------------------+-----------------------------------------+-----------------------------------+--------------------------------------+---------------------------------------+------------------------------------------+------------------------------------+---------------------------------------+-----------------------------------------+------------------------------------+--------------------------------------+---------------------------------+---------------------------------------+------------------------------------+\n",
      "|          account_id|             age|   credit_card_limit|gender|registered_on|year_month_joined|credit_card_limit_03_Entre_63000_e_79000|credit_card_limit_02_Entre_49000_e_63000|credit_card_limit_04_Acima_de_79000|credit_card_limit_01_Abaixo_de_49000|credit_card_limit_00_Sem_dados|age_04_Entre_40_e_49|age_02_Entre_18_e_29|age_03_Entre_30_e_39|age_00_Sem_dados|age_05_Entre_50_e_59|age_06_Acima_de_60+|total_transactions|      avg_amount|total_transactions_03_Entre_7_e_11|total_transactions_02_Entre_4_e_7|total_transactions_00_Sem_dados|total_transactions_01_Abaixo_de_4|total_transactions_04_Acima_de_11|avg_amount_02_Entre_3_e_12|avg_amount_04_Entre_20_e_28|avg_amount_03_Entre_12_e_20|avg_amount_00_Sem_dados|avg_amount_01_Abaixo_de_3|avg_amount_05_Acima_de_28|most_used_offer_type|most_used_offer_type_discount|most_used_offer_type_bogo|most_used_offer_type_None|transactions_offer_rate|transactions_offer_rate_03_Entre_17%_e_33%|transactions_offer_rate_04_Acima_de_33%|transactions_offer_rate_02_Entre_0%_e_17%|transactions_offer_rate_00_Sem_dados|transactions_offer_rate_01_Abaixo_de_0%|avg_time_to_use_offer|avg_time_to_view_offer|avg_time_to_use_offer_02_Entre_2_e_2|avg_time_to_use_offer_03_Entre_2_e_4|avg_time_to_use_offer_00_Sem_dados|avg_time_to_use_offer_01_Abaixo_de_2|avg_time_to_use_offer_04_Acima_de_4|avg_time_to_view_offer_01_Abaixo_de_1|avg_time_to_view_offer_04_Acima_de_3|avg_time_to_view_offer_00_Sem_dados|avg_time_to_view_offer_03_Entre_2_e_3|avg_time_to_view_offer_02_Entre_1_e_2|all_coupon_usage_rate|all_coupon_usage_rate_04_Acima_de_71%|all_coupon_usage_rate_02_Entre_0%_e_33%|all_coupon_usage_rate_03_Entre_33%_e_71%|all_coupon_usage_rate_00_Sem_dados|all_coupon_usage_rate_01_Abaixo_de_0%|pct_used_channel_mobile|pct_used_channel_email|pct_used_channel_social|pct_used_channel_web|pct_used_channel_mobile_04_Acima_de_71%|pct_used_channel_mobile_02_Entre_0%_e_33%|pct_used_channel_mobile_03_Entre_33%_e_71%|pct_used_channel_mobile_00_Sem_dados|pct_used_channel_mobile_01_Abaixo_de_0%|pct_used_channel_email_04_Acima_de_71%|pct_used_channel_email_02_Entre_0%_e_33%|pct_used_channel_email_03_Entre_33%_e_71%|pct_used_channel_email_00_Sem_dados|pct_used_channel_email_01_Abaixo_de_0%|pct_used_channel_social_04_Acima_de_89%|pct_used_channel_social_03_Entre_50%_e_89%|pct_used_channel_social_00_Sem_dados|pct_used_channel_social_01_Abaixo_de_0%|pct_used_channel_social_02_Entre_0%_e_50%|pct_used_channel_web_04_Acima_de_75%|pct_used_channel_web_02_Entre_0%_e_33%|pct_used_channel_web_00_Sem_dados|pct_used_channel_web_03_Entre_33%_e_75%|pct_used_channel_web_01_Abaixo_de_0%|\n",
      "+--------------------+----------------+--------------------+------+-------------+-----------------+----------------------------------------+----------------------------------------+-----------------------------------+------------------------------------+------------------------------+--------------------+--------------------+--------------------+----------------+--------------------+-------------------+------------------+----------------+----------------------------------+---------------------------------+-------------------------------+---------------------------------+---------------------------------+--------------------------+---------------------------+---------------------------+-----------------------+-------------------------+-------------------------+--------------------+-----------------------------+-------------------------+-------------------------+-----------------------+------------------------------------------+---------------------------------------+-----------------------------------------+------------------------------------+---------------------------------------+---------------------+----------------------+------------------------------------+------------------------------------+----------------------------------+------------------------------------+-----------------------------------+-------------------------------------+------------------------------------+-----------------------------------+-------------------------------------+-------------------------------------+---------------------+-------------------------------------+---------------------------------------+----------------------------------------+----------------------------------+-------------------------------------+-----------------------+----------------------+-----------------------+--------------------+---------------------------------------+-----------------------------------------+------------------------------------------+------------------------------------+---------------------------------------+--------------------------------------+----------------------------------------+-----------------------------------------+-----------------------------------+--------------------------------------+---------------------------------------+------------------------------------------+------------------------------------+---------------------------------------+-----------------------------------------+------------------------------------+--------------------------------------+---------------------------------+---------------------------------------+------------------------------------+\n",
      "|c05652fa9d2c4fac9...| 06_Acima_de_60+|03_Entre_63000_e_...|     M|   2018-01-27|          2018-01|                                       1|                                       0|                                  0|                                   0|                             0|                   0|                   0|                   0|               0|                   0|                  1|    02_Entre_4_e_7| 02_Entre_3_e_12|                                 0|                                1|                              0|                                0|                                0|                         1|                          0|                          0|                      0|                        0|                        0|                NULL|                            0|                        0|                        0|        01_Abaixo_de_0%|                                         0|                                      0|                                        0|                                   0|                                      1|         00_Sem_dados|          00_Sem_dados|                                   0|                                   0|                                 1|                                   0|                                  0|                                    0|                                   0|                                  1|                                    0|                                    0|      01_Abaixo_de_0%|                                    0|                                      0|                                       0|                                 0|                                    1|        01_Abaixo_de_0%|       01_Abaixo_de_0%|        01_Abaixo_de_0%|     01_Abaixo_de_0%|                                      0|                                        0|                                         0|                                   0|                                      1|                                     0|                                       0|                                        0|                                  0|                                     1|                                      0|                                         0|                                   0|                                      1|                                        0|                                   0|                                     0|                                0|                                      0|                                   1|\n",
      "|6be0513109fe4d738...|04_Entre_40_e_49|02_Entre_49000_e_...|     M|   2018-06-13|          2018-06|                                       0|                                       1|                                  0|                                   0|                             0|                   1|                   0|                   0|               0|                   0|                  0|    01_Abaixo_de_4|03_Entre_12_e_20|                                 0|                                0|                              0|                                1|                                0|                         0|                          0|                          1|                      0|                        0|                        0|                NULL|                            0|                        0|                        0|        01_Abaixo_de_0%|                                         0|                                      0|                                        0|                                   0|                                      1|         00_Sem_dados|          00_Sem_dados|                                   0|                                   0|                                 1|                                   0|                                  0|                                    0|                                   0|                                  1|                                    0|                                    0|      01_Abaixo_de_0%|                                    0|                                      0|                                       0|                                 0|                                    1|        01_Abaixo_de_0%|       01_Abaixo_de_0%|        01_Abaixo_de_0%|     01_Abaixo_de_0%|                                      0|                                        0|                                         0|                                   0|                                      1|                                     0|                                       0|                                        0|                                  0|                                     1|                                      0|                                         0|                                   0|                                      1|                                        0|                                   0|                                     0|                                0|                                      0|                                   1|\n",
      "|9de54389816342449...|    00_Sem_dados|        00_Sem_dados|  NULL|   2018-04-22|          2018-04|                                       0|                                       0|                                  0|                                   0|                             1|                   0|                   0|                   0|               1|                   0|                  0|    01_Abaixo_de_4| 02_Entre_3_e_12|                                 0|                                0|                              0|                                1|                                0|                         1|                          0|                          0|                      0|                        0|                        0|                NULL|                            0|                        0|                        0|        01_Abaixo_de_0%|                                         0|                                      0|                                        0|                                   0|                                      1|         00_Sem_dados|          00_Sem_dados|                                   0|                                   0|                                 1|                                   0|                                  0|                                    0|                                   0|                                  1|                                    0|                                    0|      01_Abaixo_de_0%|                                    0|                                      0|                                       0|                                 0|                                    1|        01_Abaixo_de_0%|       01_Abaixo_de_0%|        01_Abaixo_de_0%|        00_Sem_dados|                                      0|                                        0|                                         0|                                   0|                                      1|                                     0|                                       0|                                        0|                                  0|                                     1|                                      0|                                         0|                                   0|                                      1|                                        0|                                   0|                                     0|                                1|                                      0|                                   0|\n",
      "|f5de20984950433d9...|04_Entre_40_e_49|03_Entre_63000_e_...|     M|   2015-09-10|          2015-09|                                       1|                                       0|                                  0|                                   0|                             0|                   1|                   0|                   0|               0|                   0|                  0|    04_Acima_de_11|04_Entre_20_e_28|                                 0|                                0|                              0|                                0|                                1|                         0|                          1|                          0|                      0|                        0|                        0|                bogo|                            0|                        1|                        0|     03_Entre_17%_e_33%|                                         1|                                      0|                                        0|                                   0|                                      0|       01_Abaixo_de_2|        03_Entre_2_e_3|                                   0|                                   0|                                 0|                                   1|                                  0|                                    0|                                   0|                                  0|                                    1|                                    0|      04_Acima_de_71%|                                    1|                                      0|                                       0|                                 0|                                    0|        04_Acima_de_71%|       04_Acima_de_71%|        04_Acima_de_89%|     04_Acima_de_75%|                                      1|                                        0|                                         0|                                   0|                                      0|                                     1|                                       0|                                        0|                                  0|                                     0|                                      1|                                         0|                                   0|                                      0|                                        0|                                   1|                                     0|                                0|                                      0|                                   0|\n",
      "|9da3f2339b244229a...|04_Entre_40_e_49|  01_Abaixo_de_49000|     F|   2018-01-09|          2018-01|                                       0|                                       0|                                  0|                                   1|                             0|                   1|                   0|                   0|               0|                   0|                  0|    01_Abaixo_de_4| 02_Entre_3_e_12|                                 0|                                0|                              0|                                1|                                0|                         1|                          0|                          0|                      0|                        0|                        0|                NULL|                            0|                        0|                        0|        01_Abaixo_de_0%|                                         0|                                      0|                                        0|                                   0|                                      1|         00_Sem_dados|          00_Sem_dados|                                   0|                                   0|                                 1|                                   0|                                  0|                                    0|                                   0|                                  1|                                    0|                                    0|      01_Abaixo_de_0%|                                    0|                                      0|                                       0|                                 0|                                    1|        01_Abaixo_de_0%|       01_Abaixo_de_0%|        01_Abaixo_de_0%|     01_Abaixo_de_0%|                                      0|                                        0|                                         0|                                   0|                                      1|                                     0|                                       0|                                        0|                                  0|                                     1|                                      0|                                         0|                                   0|                                      1|                                        0|                                   0|                                     0|                                0|                                      0|                                   1|\n",
      "+--------------------+----------------+--------------------+------+-------------+-----------------+----------------------------------------+----------------------------------------+-----------------------------------+------------------------------------+------------------------------+--------------------+--------------------+--------------------+----------------+--------------------+-------------------+------------------+----------------+----------------------------------+---------------------------------+-------------------------------+---------------------------------+---------------------------------+--------------------------+---------------------------+---------------------------+-----------------------+-------------------------+-------------------------+--------------------+-----------------------------+-------------------------+-------------------------+-----------------------+------------------------------------------+---------------------------------------+-----------------------------------------+------------------------------------+---------------------------------------+---------------------+----------------------+------------------------------------+------------------------------------+----------------------------------+------------------------------------+-----------------------------------+-------------------------------------+------------------------------------+-----------------------------------+-------------------------------------+-------------------------------------+---------------------+-------------------------------------+---------------------------------------+----------------------------------------+----------------------------------+-------------------------------------+-----------------------+----------------------+-----------------------+--------------------+---------------------------------------+-----------------------------------------+------------------------------------------+------------------------------------+---------------------------------------+--------------------------------------+----------------------------------------+-----------------------------------------+-----------------------------------+--------------------------------------+---------------------------------------+------------------------------------------+------------------------------------+---------------------------------------+-----------------------------------------+------------------------------------+--------------------------------------+---------------------------------+---------------------------------------+------------------------------------+\n",
      "only showing top 5 rows\n",
      "\n",
      "None\n"
     ]
    }
   ],
   "source": [
    "# Adicionar a informação de uso ao offer_summary\n",
    "offer_summary_with_usage = (offer_summary.alias(\"offer_summary_with_usage\"))\n",
    "\n",
    "# Derivar uso por canal\n",
    "# Multiplicando \"used_offer\" por cada canal obtemos o resultado de uso da oferta\n",
    "# quando o canal também é utilizado\n",
    "for channel in [\"mobile\", \"email\", \"social\", \"web\"]:\n",
    "    offer_summary_with_usage = offer_summary_with_usage.withColumn(\n",
    "        f\"used_channel_{channel}\",\n",
    "        F.col(\"used_offer\") * F.col(f\"channel_{channel}\")\n",
    "    )\n",
    "\n",
    "# Agrupar por clientes\n",
    "offer_summary_with_usage = (offer_summary_with_usage\n",
    "    .groupBy(\"account_id\")\n",
    "    .agg(\n",
    "        F.sum(\"channel_mobile\").alias(\"total_mobile\"),\n",
    "        F.sum(\"channel_email\").alias(\"total_email\"),\n",
    "        F.sum(\"channel_social\").alias(\"total_social\"),\n",
    "        F.sum(\"channel_web\").alias(\"total_web\"),\n",
    "        F.sum(\"used_channel_mobile\").alias(\"used_mobile\"),\n",
    "        F.sum(\"used_channel_email\").alias(\"used_email\"),\n",
    "        F.sum(\"used_channel_social\").alias(\"used_social\"),\n",
    "        F.sum(\"used_channel_web\").alias(\"used_web\"))\n",
    "    # Calculo dos percentuais por canal\n",
    "    .withColumn(\n",
    "        \"pct_used_channel_mobile\",\n",
    "        F.when(F.col(\"total_mobile\") > 0, F.col(\"used_mobile\") / F.col(\"total_mobile\"))\n",
    "        .otherwise(None))\n",
    "    .withColumn(\n",
    "        \"pct_used_channel_email\",\n",
    "        F.when(F.col(\"total_email\") > 0, F.col(\"used_email\") / F.col(\"total_email\"))\n",
    "        .otherwise(None))\n",
    "    .withColumn(\n",
    "        \"pct_used_channel_social\",\n",
    "        F.when(F.col(\"total_social\") > 0, F.col(\"used_social\") / F.col(\"total_social\"))\n",
    "        .otherwise(None))\n",
    "    .withColumn(\n",
    "        \"pct_used_channel_web\",\n",
    "        F.when(F.col(\"total_web\") > 0, F.col(\"used_web\") / F.col(\"total_web\"))\n",
    "        .otherwise(None))\n",
    "    # Selecionar apenas colunas de interesse\n",
    "    .select(\n",
    "        \"account_id\",\n",
    "        \"pct_used_channel_mobile\",\n",
    "        \"pct_used_channel_email\",\n",
    "        \"pct_used_channel_social\",\n",
    "        \"pct_used_channel_web\")\n",
    ")\n",
    "\n",
    "# Juntar com profile\n",
    "profile = (profile\n",
    "    .join(offer_summary_with_usage,\n",
    "        on=\"account_id\",\n",
    "        how=\"left\")\n",
    ")\n",
    "\n",
    "# Alterando os valores para faixas\n",
    "profile = column_default_categorizer(profile, \"pct_used_channel_mobile\", True)\n",
    "profile = column_default_categorizer(profile, \"pct_used_channel_email\", True)\n",
    "profile = column_default_categorizer(profile, \"pct_used_channel_social\", True)\n",
    "profile = column_default_categorizer(profile, \"pct_used_channel_web\", True)\n",
    "# Criando dummies da coluna categorizada\n",
    "profile = create_dummies_for_column(profile, \"pct_used_channel_mobile\")\n",
    "profile = create_dummies_for_column(profile, \"pct_used_channel_email\")\n",
    "profile = create_dummies_for_column(profile, \"pct_used_channel_social\")\n",
    "profile = create_dummies_for_column(profile, \"pct_used_channel_web\")\n",
    "\n",
    "del(offer_summary_with_usage, channel)\n",
    "\n",
    "print(profile.show(5))"
   ]
  },
  {
   "cell_type": "markdown",
   "id": "1142fc35",
   "metadata": {},
   "source": [
    "### 4.5.3. Por tipo"
   ]
  },
  {
   "cell_type": "code",
   "execution_count": 33,
   "id": "164a15ae",
   "metadata": {},
   "outputs": [
    {
     "name": "stdout",
     "output_type": "stream",
     "text": [
      "+--------------------+----------------+--------------------+------+-------------+-----------------+----------------------------------------+----------------------------------------+-----------------------------------+------------------------------------+------------------------------+--------------------+--------------------+--------------------+----------------+--------------------+-------------------+------------------+----------------+----------------------------------+---------------------------------+-------------------------------+---------------------------------+---------------------------------+--------------------------+---------------------------+---------------------------+-----------------------+-------------------------+-------------------------+--------------------+-----------------------------+-------------------------+-------------------------+-----------------------+------------------------------------------+---------------------------------------+-----------------------------------------+------------------------------------+---------------------------------------+---------------------+----------------------+------------------------------------+------------------------------------+----------------------------------+------------------------------------+-----------------------------------+-------------------------------------+------------------------------------+-----------------------------------+-------------------------------------+-------------------------------------+---------------------+-------------------------------------+---------------------------------------+----------------------------------------+----------------------------------+-------------------------------------+-----------------------+----------------------+-----------------------+--------------------+---------------------------------------+-----------------------------------------+------------------------------------------+------------------------------------+---------------------------------------+--------------------------------------+----------------------------------------+-----------------------------------------+-----------------------------------+--------------------------------------+---------------------------------------+------------------------------------------+------------------------------------+---------------------------------------+-----------------------------------------+------------------------------------+--------------------------------------+---------------------------------+---------------------------------------+------------------------------------+-------------------+----------------------+---------------------------+------------------------------------+-------------------------------+--------------------------------------+----------------------------------+------------------------------------------+-----------------------------------+--------------------------------------+----------------------------------------+----------------------------------------+-------------------------------------------+\n",
      "|          account_id|             age|   credit_card_limit|gender|registered_on|year_month_joined|credit_card_limit_03_Entre_63000_e_79000|credit_card_limit_02_Entre_49000_e_63000|credit_card_limit_04_Acima_de_79000|credit_card_limit_01_Abaixo_de_49000|credit_card_limit_00_Sem_dados|age_04_Entre_40_e_49|age_02_Entre_18_e_29|age_03_Entre_30_e_39|age_00_Sem_dados|age_05_Entre_50_e_59|age_06_Acima_de_60+|total_transactions|      avg_amount|total_transactions_03_Entre_7_e_11|total_transactions_02_Entre_4_e_7|total_transactions_00_Sem_dados|total_transactions_01_Abaixo_de_4|total_transactions_04_Acima_de_11|avg_amount_02_Entre_3_e_12|avg_amount_04_Entre_20_e_28|avg_amount_03_Entre_12_e_20|avg_amount_00_Sem_dados|avg_amount_01_Abaixo_de_3|avg_amount_05_Acima_de_28|most_used_offer_type|most_used_offer_type_discount|most_used_offer_type_bogo|most_used_offer_type_None|transactions_offer_rate|transactions_offer_rate_03_Entre_17%_e_33%|transactions_offer_rate_04_Acima_de_33%|transactions_offer_rate_02_Entre_0%_e_17%|transactions_offer_rate_00_Sem_dados|transactions_offer_rate_01_Abaixo_de_0%|avg_time_to_use_offer|avg_time_to_view_offer|avg_time_to_use_offer_02_Entre_2_e_2|avg_time_to_use_offer_03_Entre_2_e_4|avg_time_to_use_offer_00_Sem_dados|avg_time_to_use_offer_01_Abaixo_de_2|avg_time_to_use_offer_04_Acima_de_4|avg_time_to_view_offer_01_Abaixo_de_1|avg_time_to_view_offer_04_Acima_de_3|avg_time_to_view_offer_00_Sem_dados|avg_time_to_view_offer_03_Entre_2_e_3|avg_time_to_view_offer_02_Entre_1_e_2|all_coupon_usage_rate|all_coupon_usage_rate_04_Acima_de_71%|all_coupon_usage_rate_02_Entre_0%_e_33%|all_coupon_usage_rate_03_Entre_33%_e_71%|all_coupon_usage_rate_00_Sem_dados|all_coupon_usage_rate_01_Abaixo_de_0%|pct_used_channel_mobile|pct_used_channel_email|pct_used_channel_social|pct_used_channel_web|pct_used_channel_mobile_04_Acima_de_71%|pct_used_channel_mobile_02_Entre_0%_e_33%|pct_used_channel_mobile_03_Entre_33%_e_71%|pct_used_channel_mobile_00_Sem_dados|pct_used_channel_mobile_01_Abaixo_de_0%|pct_used_channel_email_04_Acima_de_71%|pct_used_channel_email_02_Entre_0%_e_33%|pct_used_channel_email_03_Entre_33%_e_71%|pct_used_channel_email_00_Sem_dados|pct_used_channel_email_01_Abaixo_de_0%|pct_used_channel_social_04_Acima_de_89%|pct_used_channel_social_03_Entre_50%_e_89%|pct_used_channel_social_00_Sem_dados|pct_used_channel_social_01_Abaixo_de_0%|pct_used_channel_social_02_Entre_0%_e_50%|pct_used_channel_web_04_Acima_de_75%|pct_used_channel_web_02_Entre_0%_e_33%|pct_used_channel_web_00_Sem_dados|pct_used_channel_web_03_Entre_33%_e_75%|pct_used_channel_web_01_Abaixo_de_0%| pct_used_type_bogo|pct_used_type_discount|pct_used_type_informational|pct_used_type_bogo_02_Entre_0%_e_25%|pct_used_type_bogo_00_Sem_dados|pct_used_type_bogo_03_Entre_25%_e_100%|pct_used_type_bogo_01_Abaixo_de_0%|pct_used_type_discount_03_Entre_50%_e_100%|pct_used_type_discount_00_Sem_dados|pct_used_type_discount_01_Abaixo_de_0%|pct_used_type_discount_02_Entre_0%_e_50%|pct_used_type_informational_00_Sem_dados|pct_used_type_informational_01_Abaixo_de_0%|\n",
      "+--------------------+----------------+--------------------+------+-------------+-----------------+----------------------------------------+----------------------------------------+-----------------------------------+------------------------------------+------------------------------+--------------------+--------------------+--------------------+----------------+--------------------+-------------------+------------------+----------------+----------------------------------+---------------------------------+-------------------------------+---------------------------------+---------------------------------+--------------------------+---------------------------+---------------------------+-----------------------+-------------------------+-------------------------+--------------------+-----------------------------+-------------------------+-------------------------+-----------------------+------------------------------------------+---------------------------------------+-----------------------------------------+------------------------------------+---------------------------------------+---------------------+----------------------+------------------------------------+------------------------------------+----------------------------------+------------------------------------+-----------------------------------+-------------------------------------+------------------------------------+-----------------------------------+-------------------------------------+-------------------------------------+---------------------+-------------------------------------+---------------------------------------+----------------------------------------+----------------------------------+-------------------------------------+-----------------------+----------------------+-----------------------+--------------------+---------------------------------------+-----------------------------------------+------------------------------------------+------------------------------------+---------------------------------------+--------------------------------------+----------------------------------------+-----------------------------------------+-----------------------------------+--------------------------------------+---------------------------------------+------------------------------------------+------------------------------------+---------------------------------------+-----------------------------------------+------------------------------------+--------------------------------------+---------------------------------+---------------------------------------+------------------------------------+-------------------+----------------------+---------------------------+------------------------------------+-------------------------------+--------------------------------------+----------------------------------+------------------------------------------+-----------------------------------+--------------------------------------+----------------------------------------+----------------------------------------+-------------------------------------------+\n",
      "|c05652fa9d2c4fac9...| 06_Acima_de_60+|03_Entre_63000_e_...|     M|   2018-01-27|          2018-01|                                       1|                                       0|                                  0|                                   0|                             0|                   0|                   0|                   0|               0|                   0|                  1|    02_Entre_4_e_7| 02_Entre_3_e_12|                                 0|                                1|                              0|                                0|                                0|                         1|                          0|                          0|                      0|                        0|                        0|                NULL|                            0|                        0|                        0|        01_Abaixo_de_0%|                                         0|                                      0|                                        0|                                   0|                                      1|         00_Sem_dados|          00_Sem_dados|                                   0|                                   0|                                 1|                                   0|                                  0|                                    0|                                   0|                                  1|                                    0|                                    0|      01_Abaixo_de_0%|                                    0|                                      0|                                       0|                                 0|                                    1|        01_Abaixo_de_0%|       01_Abaixo_de_0%|        01_Abaixo_de_0%|     01_Abaixo_de_0%|                                      0|                                        0|                                         0|                                   0|                                      1|                                     0|                                       0|                                        0|                                  0|                                     1|                                      0|                                         0|                                   0|                                      1|                                        0|                                   0|                                     0|                                0|                                      0|                                   1|    01_Abaixo_de_0%|       01_Abaixo_de_0%|               00_Sem_dados|                                   0|                              0|                                     0|                                 1|                                         0|                                  0|                                     1|                                       0|                                       1|                                          0|\n",
      "|6be0513109fe4d738...|04_Entre_40_e_49|02_Entre_49000_e_...|     M|   2018-06-13|          2018-06|                                       0|                                       1|                                  0|                                   0|                             0|                   1|                   0|                   0|               0|                   0|                  0|    01_Abaixo_de_4|03_Entre_12_e_20|                                 0|                                0|                              0|                                1|                                0|                         0|                          0|                          1|                      0|                        0|                        0|                NULL|                            0|                        0|                        0|        01_Abaixo_de_0%|                                         0|                                      0|                                        0|                                   0|                                      1|         00_Sem_dados|          00_Sem_dados|                                   0|                                   0|                                 1|                                   0|                                  0|                                    0|                                   0|                                  1|                                    0|                                    0|      01_Abaixo_de_0%|                                    0|                                      0|                                       0|                                 0|                                    1|        01_Abaixo_de_0%|       01_Abaixo_de_0%|        01_Abaixo_de_0%|     01_Abaixo_de_0%|                                      0|                                        0|                                         0|                                   0|                                      1|                                     0|                                       0|                                        0|                                  0|                                     1|                                      0|                                         0|                                   0|                                      1|                                        0|                                   0|                                     0|                                0|                                      0|                                   1|    01_Abaixo_de_0%|       01_Abaixo_de_0%|            01_Abaixo_de_0%|                                   0|                              0|                                     0|                                 1|                                         0|                                  0|                                     1|                                       0|                                       0|                                          1|\n",
      "|9de54389816342449...|    00_Sem_dados|        00_Sem_dados|  NULL|   2018-04-22|          2018-04|                                       0|                                       0|                                  0|                                   0|                             1|                   0|                   0|                   0|               1|                   0|                  0|    01_Abaixo_de_4| 02_Entre_3_e_12|                                 0|                                0|                              0|                                1|                                0|                         1|                          0|                          0|                      0|                        0|                        0|                NULL|                            0|                        0|                        0|        01_Abaixo_de_0%|                                         0|                                      0|                                        0|                                   0|                                      1|         00_Sem_dados|          00_Sem_dados|                                   0|                                   0|                                 1|                                   0|                                  0|                                    0|                                   0|                                  1|                                    0|                                    0|      01_Abaixo_de_0%|                                    0|                                      0|                                       0|                                 0|                                    1|        01_Abaixo_de_0%|       01_Abaixo_de_0%|        01_Abaixo_de_0%|        00_Sem_dados|                                      0|                                        0|                                         0|                                   0|                                      1|                                     0|                                       0|                                        0|                                  0|                                     1|                                      0|                                         0|                                   0|                                      1|                                        0|                                   0|                                     0|                                1|                                      0|                                   0|    01_Abaixo_de_0%|          00_Sem_dados|            01_Abaixo_de_0%|                                   0|                              0|                                     0|                                 1|                                         0|                                  1|                                     0|                                       0|                                       0|                                          1|\n",
      "|f5de20984950433d9...|04_Entre_40_e_49|03_Entre_63000_e_...|     M|   2015-09-10|          2015-09|                                       1|                                       0|                                  0|                                   0|                             0|                   1|                   0|                   0|               0|                   0|                  0|    04_Acima_de_11|04_Entre_20_e_28|                                 0|                                0|                              0|                                0|                                1|                         0|                          1|                          0|                      0|                        0|                        0|                bogo|                            0|                        1|                        0|     03_Entre_17%_e_33%|                                         1|                                      0|                                        0|                                   0|                                      0|       01_Abaixo_de_2|        03_Entre_2_e_3|                                   0|                                   0|                                 0|                                   1|                                  0|                                    0|                                   0|                                  0|                                    1|                                    0|      04_Acima_de_71%|                                    1|                                      0|                                       0|                                 0|                                    0|        04_Acima_de_71%|       04_Acima_de_71%|        04_Acima_de_89%|     04_Acima_de_75%|                                      1|                                        0|                                         0|                                   0|                                      0|                                     1|                                       0|                                        0|                                  0|                                     0|                                      1|                                         0|                                   0|                                      0|                                        0|                                   1|                                     0|                                0|                                      0|                                   0|03_Entre_25%_e_100%|          00_Sem_dados|               00_Sem_dados|                                   0|                              0|                                     1|                                 0|                                         0|                                  1|                                     0|                                       0|                                       1|                                          0|\n",
      "|9da3f2339b244229a...|04_Entre_40_e_49|  01_Abaixo_de_49000|     F|   2018-01-09|          2018-01|                                       0|                                       0|                                  0|                                   1|                             0|                   1|                   0|                   0|               0|                   0|                  0|    01_Abaixo_de_4| 02_Entre_3_e_12|                                 0|                                0|                              0|                                1|                                0|                         1|                          0|                          0|                      0|                        0|                        0|                NULL|                            0|                        0|                        0|        01_Abaixo_de_0%|                                         0|                                      0|                                        0|                                   0|                                      1|         00_Sem_dados|          00_Sem_dados|                                   0|                                   0|                                 1|                                   0|                                  0|                                    0|                                   0|                                  1|                                    0|                                    0|      01_Abaixo_de_0%|                                    0|                                      0|                                       0|                                 0|                                    1|        01_Abaixo_de_0%|       01_Abaixo_de_0%|        01_Abaixo_de_0%|     01_Abaixo_de_0%|                                      0|                                        0|                                         0|                                   0|                                      1|                                     0|                                       0|                                        0|                                  0|                                     1|                                      0|                                         0|                                   0|                                      1|                                        0|                                   0|                                     0|                                0|                                      0|                                   1|    01_Abaixo_de_0%|       01_Abaixo_de_0%|               00_Sem_dados|                                   0|                              0|                                     0|                                 1|                                         0|                                  0|                                     1|                                       0|                                       1|                                          0|\n",
      "+--------------------+----------------+--------------------+------+-------------+-----------------+----------------------------------------+----------------------------------------+-----------------------------------+------------------------------------+------------------------------+--------------------+--------------------+--------------------+----------------+--------------------+-------------------+------------------+----------------+----------------------------------+---------------------------------+-------------------------------+---------------------------------+---------------------------------+--------------------------+---------------------------+---------------------------+-----------------------+-------------------------+-------------------------+--------------------+-----------------------------+-------------------------+-------------------------+-----------------------+------------------------------------------+---------------------------------------+-----------------------------------------+------------------------------------+---------------------------------------+---------------------+----------------------+------------------------------------+------------------------------------+----------------------------------+------------------------------------+-----------------------------------+-------------------------------------+------------------------------------+-----------------------------------+-------------------------------------+-------------------------------------+---------------------+-------------------------------------+---------------------------------------+----------------------------------------+----------------------------------+-------------------------------------+-----------------------+----------------------+-----------------------+--------------------+---------------------------------------+-----------------------------------------+------------------------------------------+------------------------------------+---------------------------------------+--------------------------------------+----------------------------------------+-----------------------------------------+-----------------------------------+--------------------------------------+---------------------------------------+------------------------------------------+------------------------------------+---------------------------------------+-----------------------------------------+------------------------------------+--------------------------------------+---------------------------------+---------------------------------------+------------------------------------+-------------------+----------------------+---------------------------+------------------------------------+-------------------------------+--------------------------------------+----------------------------------+------------------------------------------+-----------------------------------+--------------------------------------+----------------------------------------+----------------------------------------+-------------------------------------------+\n",
      "only showing top 5 rows\n",
      "\n",
      "None\n"
     ]
    }
   ],
   "source": [
    "# Adicionar a informação de uso ao offer_summary\n",
    "offer_summary_with_usage = (offer_summary.alias(\"offer_summary_with_usage\"))\n",
    "\n",
    "offer_summary_with_usage = (offer_summary\n",
    "    # Agrupar por cliente e tipo de oferta, contando qtd de ofertas usadas e totais\n",
    "    .groupBy([\"account_id\", \"offer_type\"])\n",
    "    .agg(\n",
    "        F.count(\"*\").alias(\"total_offers\"),\n",
    "        F.sum(\"used_offer\").alias(\"used_offers\"))\n",
    "    # Calcular percentual\n",
    "    .withColumn(\n",
    "        \"pct_used_type\",\n",
    "        F.when(F.col(\"total_offers\") > 0, F.col(\"used_offers\") / F.col(\"total_offers\"))\n",
    "        .otherwise(None))\n",
    "    .groupBy(\"account_id\")\n",
    "    # Pivot para deixar cada tipo como uma coluna\n",
    "    .pivot(\n",
    "        \"offer_type\",\n",
    "        [\"bogo\", \"discount\", \"informational\"])\n",
    "    .agg(F.first(\"pct_used_type\"))\n",
    "    # Renomear colunas\n",
    "    .withColumnRenamed(\"bogo\", \"pct_used_type_bogo\")\n",
    "    .withColumnRenamed(\"discount\", \"pct_used_type_discount\")\n",
    "    .withColumnRenamed(\"informational\", \"pct_used_type_informational\")\n",
    ")\n",
    "\n",
    "# Join com profile\n",
    "profile = (profile\n",
    "    .join(offer_summary_with_usage,\n",
    "        on=\"account_id\",\n",
    "        how=\"left\")\n",
    ")\n",
    "\n",
    "# Alterando os valores para faixas\n",
    "profile = column_default_categorizer(profile, \"pct_used_type_bogo\", True)\n",
    "profile = column_default_categorizer(profile, \"pct_used_type_discount\", True)\n",
    "profile = column_default_categorizer(profile, \"pct_used_type_informational\", True)\n",
    "# Criando dummies da coluna categorizada\n",
    "profile = create_dummies_for_column(profile, \"pct_used_type_bogo\")\n",
    "profile = create_dummies_for_column(profile, \"pct_used_type_discount\")\n",
    "profile = create_dummies_for_column(profile, \"pct_used_type_informational\")\n",
    "\n",
    "del(offer_summary_with_usage)\n",
    "\n",
    "print(profile.show(5))"
   ]
  },
  {
   "cell_type": "markdown",
   "id": "671778a5",
   "metadata": {},
   "source": [
    "## 4.6. Percentual de cupons visualizados por cliente"
   ]
  },
  {
   "cell_type": "markdown",
   "id": "ed8a1155",
   "metadata": {},
   "source": [
    "### 4.6.1. Geral"
   ]
  },
  {
   "cell_type": "code",
   "execution_count": 34,
   "id": "11ffd314",
   "metadata": {},
   "outputs": [
    {
     "name": "stdout",
     "output_type": "stream",
     "text": [
      "+--------------------+----------------+--------------------+------+-------------+-----------------+----------------------------------------+----------------------------------------+-----------------------------------+------------------------------------+------------------------------+--------------------+--------------------+--------------------+----------------+--------------------+-------------------+------------------+----------------+----------------------------------+---------------------------------+-------------------------------+---------------------------------+---------------------------------+--------------------------+---------------------------+---------------------------+-----------------------+-------------------------+-------------------------+--------------------+-----------------------------+-------------------------+-------------------------+-----------------------+------------------------------------------+---------------------------------------+-----------------------------------------+------------------------------------+---------------------------------------+---------------------+----------------------+------------------------------------+------------------------------------+----------------------------------+------------------------------------+-----------------------------------+-------------------------------------+------------------------------------+-----------------------------------+-------------------------------------+-------------------------------------+---------------------+-------------------------------------+---------------------------------------+----------------------------------------+----------------------------------+-------------------------------------+-----------------------+----------------------+-----------------------+--------------------+---------------------------------------+-----------------------------------------+------------------------------------------+------------------------------------+---------------------------------------+--------------------------------------+----------------------------------------+-----------------------------------------+-----------------------------------+--------------------------------------+---------------------------------------+------------------------------------------+------------------------------------+---------------------------------------+-----------------------------------------+------------------------------------+--------------------------------------+---------------------------------+---------------------------------------+------------------------------------+-------------------+----------------------+---------------------------+------------------------------------+-------------------------------+--------------------------------------+----------------------------------+------------------------------------------+-----------------------------------+--------------------------------------+----------------------------------------+----------------------------------------+-------------------------------------------+----------------------+-----------------------------------------+-----------------------------------+------------------------------------------+---------------------------------------+\n",
      "|          account_id|             age|   credit_card_limit|gender|registered_on|year_month_joined|credit_card_limit_03_Entre_63000_e_79000|credit_card_limit_02_Entre_49000_e_63000|credit_card_limit_04_Acima_de_79000|credit_card_limit_01_Abaixo_de_49000|credit_card_limit_00_Sem_dados|age_04_Entre_40_e_49|age_02_Entre_18_e_29|age_03_Entre_30_e_39|age_00_Sem_dados|age_05_Entre_50_e_59|age_06_Acima_de_60+|total_transactions|      avg_amount|total_transactions_03_Entre_7_e_11|total_transactions_02_Entre_4_e_7|total_transactions_00_Sem_dados|total_transactions_01_Abaixo_de_4|total_transactions_04_Acima_de_11|avg_amount_02_Entre_3_e_12|avg_amount_04_Entre_20_e_28|avg_amount_03_Entre_12_e_20|avg_amount_00_Sem_dados|avg_amount_01_Abaixo_de_3|avg_amount_05_Acima_de_28|most_used_offer_type|most_used_offer_type_discount|most_used_offer_type_bogo|most_used_offer_type_None|transactions_offer_rate|transactions_offer_rate_03_Entre_17%_e_33%|transactions_offer_rate_04_Acima_de_33%|transactions_offer_rate_02_Entre_0%_e_17%|transactions_offer_rate_00_Sem_dados|transactions_offer_rate_01_Abaixo_de_0%|avg_time_to_use_offer|avg_time_to_view_offer|avg_time_to_use_offer_02_Entre_2_e_2|avg_time_to_use_offer_03_Entre_2_e_4|avg_time_to_use_offer_00_Sem_dados|avg_time_to_use_offer_01_Abaixo_de_2|avg_time_to_use_offer_04_Acima_de_4|avg_time_to_view_offer_01_Abaixo_de_1|avg_time_to_view_offer_04_Acima_de_3|avg_time_to_view_offer_00_Sem_dados|avg_time_to_view_offer_03_Entre_2_e_3|avg_time_to_view_offer_02_Entre_1_e_2|all_coupon_usage_rate|all_coupon_usage_rate_04_Acima_de_71%|all_coupon_usage_rate_02_Entre_0%_e_33%|all_coupon_usage_rate_03_Entre_33%_e_71%|all_coupon_usage_rate_00_Sem_dados|all_coupon_usage_rate_01_Abaixo_de_0%|pct_used_channel_mobile|pct_used_channel_email|pct_used_channel_social|pct_used_channel_web|pct_used_channel_mobile_04_Acima_de_71%|pct_used_channel_mobile_02_Entre_0%_e_33%|pct_used_channel_mobile_03_Entre_33%_e_71%|pct_used_channel_mobile_00_Sem_dados|pct_used_channel_mobile_01_Abaixo_de_0%|pct_used_channel_email_04_Acima_de_71%|pct_used_channel_email_02_Entre_0%_e_33%|pct_used_channel_email_03_Entre_33%_e_71%|pct_used_channel_email_00_Sem_dados|pct_used_channel_email_01_Abaixo_de_0%|pct_used_channel_social_04_Acima_de_89%|pct_used_channel_social_03_Entre_50%_e_89%|pct_used_channel_social_00_Sem_dados|pct_used_channel_social_01_Abaixo_de_0%|pct_used_channel_social_02_Entre_0%_e_50%|pct_used_channel_web_04_Acima_de_75%|pct_used_channel_web_02_Entre_0%_e_33%|pct_used_channel_web_00_Sem_dados|pct_used_channel_web_03_Entre_33%_e_75%|pct_used_channel_web_01_Abaixo_de_0%| pct_used_type_bogo|pct_used_type_discount|pct_used_type_informational|pct_used_type_bogo_02_Entre_0%_e_25%|pct_used_type_bogo_00_Sem_dados|pct_used_type_bogo_03_Entre_25%_e_100%|pct_used_type_bogo_01_Abaixo_de_0%|pct_used_type_discount_03_Entre_50%_e_100%|pct_used_type_discount_00_Sem_dados|pct_used_type_discount_01_Abaixo_de_0%|pct_used_type_discount_02_Entre_0%_e_50%|pct_used_type_informational_00_Sem_dados|pct_used_type_informational_01_Abaixo_de_0%|all_coupon_viewed_rate|all_coupon_viewed_rate_02_Entre_67%_e_88%|all_coupon_viewed_rate_00_Sem_dados|all_coupon_viewed_rate_03_Entre_88%_e_100%|all_coupon_viewed_rate_01_Abaixo_de_67%|\n",
      "+--------------------+----------------+--------------------+------+-------------+-----------------+----------------------------------------+----------------------------------------+-----------------------------------+------------------------------------+------------------------------+--------------------+--------------------+--------------------+----------------+--------------------+-------------------+------------------+----------------+----------------------------------+---------------------------------+-------------------------------+---------------------------------+---------------------------------+--------------------------+---------------------------+---------------------------+-----------------------+-------------------------+-------------------------+--------------------+-----------------------------+-------------------------+-------------------------+-----------------------+------------------------------------------+---------------------------------------+-----------------------------------------+------------------------------------+---------------------------------------+---------------------+----------------------+------------------------------------+------------------------------------+----------------------------------+------------------------------------+-----------------------------------+-------------------------------------+------------------------------------+-----------------------------------+-------------------------------------+-------------------------------------+---------------------+-------------------------------------+---------------------------------------+----------------------------------------+----------------------------------+-------------------------------------+-----------------------+----------------------+-----------------------+--------------------+---------------------------------------+-----------------------------------------+------------------------------------------+------------------------------------+---------------------------------------+--------------------------------------+----------------------------------------+-----------------------------------------+-----------------------------------+--------------------------------------+---------------------------------------+------------------------------------------+------------------------------------+---------------------------------------+-----------------------------------------+------------------------------------+--------------------------------------+---------------------------------+---------------------------------------+------------------------------------+-------------------+----------------------+---------------------------+------------------------------------+-------------------------------+--------------------------------------+----------------------------------+------------------------------------------+-----------------------------------+--------------------------------------+----------------------------------------+----------------------------------------+-------------------------------------------+----------------------+-----------------------------------------+-----------------------------------+------------------------------------------+---------------------------------------+\n",
      "|c05652fa9d2c4fac9...| 06_Acima_de_60+|03_Entre_63000_e_...|     M|   2018-01-27|          2018-01|                                       1|                                       0|                                  0|                                   0|                             0|                   0|                   0|                   0|               0|                   0|                  1|    02_Entre_4_e_7| 02_Entre_3_e_12|                                 0|                                1|                              0|                                0|                                0|                         1|                          0|                          0|                      0|                        0|                        0|                NULL|                            0|                        0|                        0|        01_Abaixo_de_0%|                                         0|                                      0|                                        0|                                   0|                                      1|         00_Sem_dados|          00_Sem_dados|                                   0|                                   0|                                 1|                                   0|                                  0|                                    0|                                   0|                                  1|                                    0|                                    0|      01_Abaixo_de_0%|                                    0|                                      0|                                       0|                                 0|                                    1|        01_Abaixo_de_0%|       01_Abaixo_de_0%|        01_Abaixo_de_0%|     01_Abaixo_de_0%|                                      0|                                        0|                                         0|                                   0|                                      1|                                     0|                                       0|                                        0|                                  0|                                     1|                                      0|                                         0|                                   0|                                      1|                                        0|                                   0|                                     0|                                0|                                      0|                                   1|    01_Abaixo_de_0%|       01_Abaixo_de_0%|               00_Sem_dados|                                   0|                              0|                                     0|                                 1|                                         0|                                  0|                                     1|                                       0|                                       1|                                          0|    02_Entre_67%_e_88%|                                        1|                                  0|                                         0|                                      0|\n",
      "|6be0513109fe4d738...|04_Entre_40_e_49|02_Entre_49000_e_...|     M|   2018-06-13|          2018-06|                                       0|                                       1|                                  0|                                   0|                             0|                   1|                   0|                   0|               0|                   0|                  0|    01_Abaixo_de_4|03_Entre_12_e_20|                                 0|                                0|                              0|                                1|                                0|                         0|                          0|                          1|                      0|                        0|                        0|                NULL|                            0|                        0|                        0|        01_Abaixo_de_0%|                                         0|                                      0|                                        0|                                   0|                                      1|         00_Sem_dados|          00_Sem_dados|                                   0|                                   0|                                 1|                                   0|                                  0|                                    0|                                   0|                                  1|                                    0|                                    0|      01_Abaixo_de_0%|                                    0|                                      0|                                       0|                                 0|                                    1|        01_Abaixo_de_0%|       01_Abaixo_de_0%|        01_Abaixo_de_0%|     01_Abaixo_de_0%|                                      0|                                        0|                                         0|                                   0|                                      1|                                     0|                                       0|                                        0|                                  0|                                     1|                                      0|                                         0|                                   0|                                      1|                                        0|                                   0|                                     0|                                0|                                      0|                                   1|    01_Abaixo_de_0%|       01_Abaixo_de_0%|            01_Abaixo_de_0%|                                   0|                              0|                                     0|                                 1|                                         0|                                  0|                                     1|                                       0|                                       0|                                          1|    02_Entre_67%_e_88%|                                        1|                                  0|                                         0|                                      0|\n",
      "|9de54389816342449...|    00_Sem_dados|        00_Sem_dados|  NULL|   2018-04-22|          2018-04|                                       0|                                       0|                                  0|                                   0|                             1|                   0|                   0|                   0|               1|                   0|                  0|    01_Abaixo_de_4| 02_Entre_3_e_12|                                 0|                                0|                              0|                                1|                                0|                         1|                          0|                          0|                      0|                        0|                        0|                NULL|                            0|                        0|                        0|        01_Abaixo_de_0%|                                         0|                                      0|                                        0|                                   0|                                      1|         00_Sem_dados|          00_Sem_dados|                                   0|                                   0|                                 1|                                   0|                                  0|                                    0|                                   0|                                  1|                                    0|                                    0|      01_Abaixo_de_0%|                                    0|                                      0|                                       0|                                 0|                                    1|        01_Abaixo_de_0%|       01_Abaixo_de_0%|        01_Abaixo_de_0%|        00_Sem_dados|                                      0|                                        0|                                         0|                                   0|                                      1|                                     0|                                       0|                                        0|                                  0|                                     1|                                      0|                                         0|                                   0|                                      1|                                        0|                                   0|                                     0|                                1|                                      0|                                   0|    01_Abaixo_de_0%|          00_Sem_dados|            01_Abaixo_de_0%|                                   0|                              0|                                     0|                                 1|                                         0|                                  1|                                     0|                                       0|                                       0|                                          1|    02_Entre_67%_e_88%|                                        1|                                  0|                                         0|                                      0|\n",
      "|f5de20984950433d9...|04_Entre_40_e_49|03_Entre_63000_e_...|     M|   2015-09-10|          2015-09|                                       1|                                       0|                                  0|                                   0|                             0|                   1|                   0|                   0|               0|                   0|                  0|    04_Acima_de_11|04_Entre_20_e_28|                                 0|                                0|                              0|                                0|                                1|                         0|                          1|                          0|                      0|                        0|                        0|                bogo|                            0|                        1|                        0|     03_Entre_17%_e_33%|                                         1|                                      0|                                        0|                                   0|                                      0|       01_Abaixo_de_2|        03_Entre_2_e_3|                                   0|                                   0|                                 0|                                   1|                                  0|                                    0|                                   0|                                  0|                                    1|                                    0|      04_Acima_de_71%|                                    1|                                      0|                                       0|                                 0|                                    0|        04_Acima_de_71%|       04_Acima_de_71%|        04_Acima_de_89%|     04_Acima_de_75%|                                      1|                                        0|                                         0|                                   0|                                      0|                                     1|                                       0|                                        0|                                  0|                                     0|                                      1|                                         0|                                   0|                                      0|                                        0|                                   1|                                     0|                                0|                                      0|                                   0|03_Entre_25%_e_100%|          00_Sem_dados|               00_Sem_dados|                                   0|                              0|                                     1|                                 0|                                         0|                                  1|                                     0|                                       0|                                       1|                                          0|   03_Entre_88%_e_100%|                                        0|                                  0|                                         1|                                      0|\n",
      "|9da3f2339b244229a...|04_Entre_40_e_49|  01_Abaixo_de_49000|     F|   2018-01-09|          2018-01|                                       0|                                       0|                                  0|                                   1|                             0|                   1|                   0|                   0|               0|                   0|                  0|    01_Abaixo_de_4| 02_Entre_3_e_12|                                 0|                                0|                              0|                                1|                                0|                         1|                          0|                          0|                      0|                        0|                        0|                NULL|                            0|                        0|                        0|        01_Abaixo_de_0%|                                         0|                                      0|                                        0|                                   0|                                      1|         00_Sem_dados|          00_Sem_dados|                                   0|                                   0|                                 1|                                   0|                                  0|                                    0|                                   0|                                  1|                                    0|                                    0|      01_Abaixo_de_0%|                                    0|                                      0|                                       0|                                 0|                                    1|        01_Abaixo_de_0%|       01_Abaixo_de_0%|        01_Abaixo_de_0%|     01_Abaixo_de_0%|                                      0|                                        0|                                         0|                                   0|                                      1|                                     0|                                       0|                                        0|                                  0|                                     1|                                      0|                                         0|                                   0|                                      1|                                        0|                                   0|                                     0|                                0|                                      0|                                   1|    01_Abaixo_de_0%|       01_Abaixo_de_0%|               00_Sem_dados|                                   0|                              0|                                     0|                                 1|                                         0|                                  0|                                     1|                                       0|                                       1|                                          0|      01_Abaixo_de_67%|                                        0|                                  0|                                         0|                                      1|\n",
      "+--------------------+----------------+--------------------+------+-------------+-----------------+----------------------------------------+----------------------------------------+-----------------------------------+------------------------------------+------------------------------+--------------------+--------------------+--------------------+----------------+--------------------+-------------------+------------------+----------------+----------------------------------+---------------------------------+-------------------------------+---------------------------------+---------------------------------+--------------------------+---------------------------+---------------------------+-----------------------+-------------------------+-------------------------+--------------------+-----------------------------+-------------------------+-------------------------+-----------------------+------------------------------------------+---------------------------------------+-----------------------------------------+------------------------------------+---------------------------------------+---------------------+----------------------+------------------------------------+------------------------------------+----------------------------------+------------------------------------+-----------------------------------+-------------------------------------+------------------------------------+-----------------------------------+-------------------------------------+-------------------------------------+---------------------+-------------------------------------+---------------------------------------+----------------------------------------+----------------------------------+-------------------------------------+-----------------------+----------------------+-----------------------+--------------------+---------------------------------------+-----------------------------------------+------------------------------------------+------------------------------------+---------------------------------------+--------------------------------------+----------------------------------------+-----------------------------------------+-----------------------------------+--------------------------------------+---------------------------------------+------------------------------------------+------------------------------------+---------------------------------------+-----------------------------------------+------------------------------------+--------------------------------------+---------------------------------+---------------------------------------+------------------------------------+-------------------+----------------------+---------------------------+------------------------------------+-------------------------------+--------------------------------------+----------------------------------+------------------------------------------+-----------------------------------+--------------------------------------+----------------------------------------+----------------------------------------+-------------------------------------------+----------------------+-----------------------------------------+-----------------------------------+------------------------------------------+---------------------------------------+\n",
      "only showing top 5 rows\n",
      "\n",
      "None\n"
     ]
    }
   ],
   "source": [
    "# Total de ofertas recebidas por cliente\n",
    "viewed_rate_df = (offer_summary\n",
    "    .groupBy(\"account_id\")\n",
    "    .agg(\n",
    "        F.count(\"*\").alias(\"total_offers_received\"),\n",
    "        F.sum(\"viewed_offer\").alias(\"total_offers_viewed\"))\n",
    "    # Coluna com porcentagem de uso de cupons\n",
    "    .withColumn(\n",
    "        \"all_coupon_viewed_rate\",\n",
    "        F.col(\"total_offers_viewed\") / F.col(\"total_offers_received\"))\n",
    "    .select(\"account_id\", \"all_coupon_viewed_rate\")\n",
    ")\n",
    "\n",
    "profile = (profile\n",
    "    .join(viewed_rate_df,\n",
    "        on=\"account_id\",\n",
    "        how=\"left\")\n",
    ")\n",
    "\n",
    "# Alterando os valores para faixas\n",
    "profile = column_default_categorizer(profile, \"all_coupon_viewed_rate\", True)\n",
    "# Criando dummies da coluna categorizada\n",
    "profile = create_dummies_for_column(profile, \"all_coupon_viewed_rate\")\n",
    "\n",
    "del(viewed_rate_df)\n",
    "\n",
    "print(profile.show(5))"
   ]
  },
  {
   "cell_type": "markdown",
   "id": "d3da1535",
   "metadata": {},
   "source": [
    "### 4.6.2. Por veículo"
   ]
  },
  {
   "cell_type": "code",
   "execution_count": 35,
   "id": "541414bd",
   "metadata": {},
   "outputs": [
    {
     "name": "stdout",
     "output_type": "stream",
     "text": [
      "+--------------------+----------------+--------------------+------+-------------+-----------------+----------------------------------------+----------------------------------------+-----------------------------------+------------------------------------+------------------------------+--------------------+--------------------+--------------------+----------------+--------------------+-------------------+------------------+----------------+----------------------------------+---------------------------------+-------------------------------+---------------------------------+---------------------------------+--------------------------+---------------------------+---------------------------+-----------------------+-------------------------+-------------------------+--------------------+-----------------------------+-------------------------+-------------------------+-----------------------+------------------------------------------+---------------------------------------+-----------------------------------------+------------------------------------+---------------------------------------+---------------------+----------------------+------------------------------------+------------------------------------+----------------------------------+------------------------------------+-----------------------------------+-------------------------------------+------------------------------------+-----------------------------------+-------------------------------------+-------------------------------------+---------------------+-------------------------------------+---------------------------------------+----------------------------------------+----------------------------------+-------------------------------------+-----------------------+----------------------+-----------------------+--------------------+---------------------------------------+-----------------------------------------+------------------------------------------+------------------------------------+---------------------------------------+--------------------------------------+----------------------------------------+-----------------------------------------+-----------------------------------+--------------------------------------+---------------------------------------+------------------------------------------+------------------------------------+---------------------------------------+-----------------------------------------+------------------------------------+--------------------------------------+---------------------------------+---------------------------------------+------------------------------------+-------------------+----------------------+---------------------------+------------------------------------+-------------------------------+--------------------------------------+----------------------------------+------------------------------------------+-----------------------------------+--------------------------------------+----------------------------------------+----------------------------------------+-------------------------------------------+----------------------+-----------------------------------------+-----------------------------------+------------------------------------------+---------------------------------------+-------------------------+------------------------+-------------------------+----------------------+------------------------------------------+---------------------------------------------+--------------------------------------+-------------------------------------------+-------------------------------------+--------------------------------------------+-----------------------------------------+-------------------------------------------+--------------------------------------+---------------------------------------+------------------------------------------+-----------------------------------+-----------------------------------------+\n",
      "|          account_id|             age|   credit_card_limit|gender|registered_on|year_month_joined|credit_card_limit_03_Entre_63000_e_79000|credit_card_limit_02_Entre_49000_e_63000|credit_card_limit_04_Acima_de_79000|credit_card_limit_01_Abaixo_de_49000|credit_card_limit_00_Sem_dados|age_04_Entre_40_e_49|age_02_Entre_18_e_29|age_03_Entre_30_e_39|age_00_Sem_dados|age_05_Entre_50_e_59|age_06_Acima_de_60+|total_transactions|      avg_amount|total_transactions_03_Entre_7_e_11|total_transactions_02_Entre_4_e_7|total_transactions_00_Sem_dados|total_transactions_01_Abaixo_de_4|total_transactions_04_Acima_de_11|avg_amount_02_Entre_3_e_12|avg_amount_04_Entre_20_e_28|avg_amount_03_Entre_12_e_20|avg_amount_00_Sem_dados|avg_amount_01_Abaixo_de_3|avg_amount_05_Acima_de_28|most_used_offer_type|most_used_offer_type_discount|most_used_offer_type_bogo|most_used_offer_type_None|transactions_offer_rate|transactions_offer_rate_03_Entre_17%_e_33%|transactions_offer_rate_04_Acima_de_33%|transactions_offer_rate_02_Entre_0%_e_17%|transactions_offer_rate_00_Sem_dados|transactions_offer_rate_01_Abaixo_de_0%|avg_time_to_use_offer|avg_time_to_view_offer|avg_time_to_use_offer_02_Entre_2_e_2|avg_time_to_use_offer_03_Entre_2_e_4|avg_time_to_use_offer_00_Sem_dados|avg_time_to_use_offer_01_Abaixo_de_2|avg_time_to_use_offer_04_Acima_de_4|avg_time_to_view_offer_01_Abaixo_de_1|avg_time_to_view_offer_04_Acima_de_3|avg_time_to_view_offer_00_Sem_dados|avg_time_to_view_offer_03_Entre_2_e_3|avg_time_to_view_offer_02_Entre_1_e_2|all_coupon_usage_rate|all_coupon_usage_rate_04_Acima_de_71%|all_coupon_usage_rate_02_Entre_0%_e_33%|all_coupon_usage_rate_03_Entre_33%_e_71%|all_coupon_usage_rate_00_Sem_dados|all_coupon_usage_rate_01_Abaixo_de_0%|pct_used_channel_mobile|pct_used_channel_email|pct_used_channel_social|pct_used_channel_web|pct_used_channel_mobile_04_Acima_de_71%|pct_used_channel_mobile_02_Entre_0%_e_33%|pct_used_channel_mobile_03_Entre_33%_e_71%|pct_used_channel_mobile_00_Sem_dados|pct_used_channel_mobile_01_Abaixo_de_0%|pct_used_channel_email_04_Acima_de_71%|pct_used_channel_email_02_Entre_0%_e_33%|pct_used_channel_email_03_Entre_33%_e_71%|pct_used_channel_email_00_Sem_dados|pct_used_channel_email_01_Abaixo_de_0%|pct_used_channel_social_04_Acima_de_89%|pct_used_channel_social_03_Entre_50%_e_89%|pct_used_channel_social_00_Sem_dados|pct_used_channel_social_01_Abaixo_de_0%|pct_used_channel_social_02_Entre_0%_e_50%|pct_used_channel_web_04_Acima_de_75%|pct_used_channel_web_02_Entre_0%_e_33%|pct_used_channel_web_00_Sem_dados|pct_used_channel_web_03_Entre_33%_e_75%|pct_used_channel_web_01_Abaixo_de_0%| pct_used_type_bogo|pct_used_type_discount|pct_used_type_informational|pct_used_type_bogo_02_Entre_0%_e_25%|pct_used_type_bogo_00_Sem_dados|pct_used_type_bogo_03_Entre_25%_e_100%|pct_used_type_bogo_01_Abaixo_de_0%|pct_used_type_discount_03_Entre_50%_e_100%|pct_used_type_discount_00_Sem_dados|pct_used_type_discount_01_Abaixo_de_0%|pct_used_type_discount_02_Entre_0%_e_50%|pct_used_type_informational_00_Sem_dados|pct_used_type_informational_01_Abaixo_de_0%|all_coupon_viewed_rate|all_coupon_viewed_rate_02_Entre_67%_e_88%|all_coupon_viewed_rate_00_Sem_dados|all_coupon_viewed_rate_03_Entre_88%_e_100%|all_coupon_viewed_rate_01_Abaixo_de_67%|pct_viewed_channel_mobile|pct_viewed_channel_email|pct_viewed_channel_social|pct_viewed_channel_web|pct_viewed_channel_mobile_01_Abaixo_de_75%|pct_viewed_channel_mobile_02_Entre_75%_e_100%|pct_viewed_channel_mobile_00_Sem_dados|pct_viewed_channel_email_02_Entre_67%_e_88%|pct_viewed_channel_email_00_Sem_dados|pct_viewed_channel_email_03_Entre_88%_e_100%|pct_viewed_channel_email_01_Abaixo_de_67%|pct_viewed_channel_social_01_Abaixo_de_100%|pct_viewed_channel_social_00_Sem_dados|pct_viewed_channel_web_01_Abaixo_de_60%|pct_viewed_channel_web_03_Entre_90%_e_100%|pct_viewed_channel_web_00_Sem_dados|pct_viewed_channel_web_02_Entre_60%_e_90%|\n",
      "+--------------------+----------------+--------------------+------+-------------+-----------------+----------------------------------------+----------------------------------------+-----------------------------------+------------------------------------+------------------------------+--------------------+--------------------+--------------------+----------------+--------------------+-------------------+------------------+----------------+----------------------------------+---------------------------------+-------------------------------+---------------------------------+---------------------------------+--------------------------+---------------------------+---------------------------+-----------------------+-------------------------+-------------------------+--------------------+-----------------------------+-------------------------+-------------------------+-----------------------+------------------------------------------+---------------------------------------+-----------------------------------------+------------------------------------+---------------------------------------+---------------------+----------------------+------------------------------------+------------------------------------+----------------------------------+------------------------------------+-----------------------------------+-------------------------------------+------------------------------------+-----------------------------------+-------------------------------------+-------------------------------------+---------------------+-------------------------------------+---------------------------------------+----------------------------------------+----------------------------------+-------------------------------------+-----------------------+----------------------+-----------------------+--------------------+---------------------------------------+-----------------------------------------+------------------------------------------+------------------------------------+---------------------------------------+--------------------------------------+----------------------------------------+-----------------------------------------+-----------------------------------+--------------------------------------+---------------------------------------+------------------------------------------+------------------------------------+---------------------------------------+-----------------------------------------+------------------------------------+--------------------------------------+---------------------------------+---------------------------------------+------------------------------------+-------------------+----------------------+---------------------------+------------------------------------+-------------------------------+--------------------------------------+----------------------------------+------------------------------------------+-----------------------------------+--------------------------------------+----------------------------------------+----------------------------------------+-------------------------------------------+----------------------+-----------------------------------------+-----------------------------------+------------------------------------------+---------------------------------------+-------------------------+------------------------+-------------------------+----------------------+------------------------------------------+---------------------------------------------+--------------------------------------+-------------------------------------------+-------------------------------------+--------------------------------------------+-----------------------------------------+-------------------------------------------+--------------------------------------+---------------------------------------+------------------------------------------+-----------------------------------+-----------------------------------------+\n",
      "|c05652fa9d2c4fac9...| 06_Acima_de_60+|03_Entre_63000_e_...|     M|   2018-01-27|          2018-01|                                       1|                                       0|                                  0|                                   0|                             0|                   0|                   0|                   0|               0|                   0|                  1|    02_Entre_4_e_7| 02_Entre_3_e_12|                                 0|                                1|                              0|                                0|                                0|                         1|                          0|                          0|                      0|                        0|                        0|                NULL|                            0|                        0|                        0|        01_Abaixo_de_0%|                                         0|                                      0|                                        0|                                   0|                                      1|         00_Sem_dados|          00_Sem_dados|                                   0|                                   0|                                 1|                                   0|                                  0|                                    0|                                   0|                                  1|                                    0|                                    0|      01_Abaixo_de_0%|                                    0|                                      0|                                       0|                                 0|                                    1|        01_Abaixo_de_0%|       01_Abaixo_de_0%|        01_Abaixo_de_0%|     01_Abaixo_de_0%|                                      0|                                        0|                                         0|                                   0|                                      1|                                     0|                                       0|                                        0|                                  0|                                     1|                                      0|                                         0|                                   0|                                      1|                                        0|                                   0|                                     0|                                0|                                      0|                                   1|    01_Abaixo_de_0%|       01_Abaixo_de_0%|               00_Sem_dados|                                   0|                              0|                                     0|                                 1|                                         0|                                  0|                                     1|                                       0|                                       1|                                          0|    02_Entre_67%_e_88%|                                        1|                                  0|                                         0|                                      0|      02_Entre_75%_e_100%|      02_Entre_67%_e_88%|        01_Abaixo_de_100%|    02_Entre_60%_e_90%|                                         0|                                            1|                                     0|                                          1|                                    0|                                           0|                                        0|                                          1|                                     0|                                      0|                                         0|                                  0|                                        1|\n",
      "|6be0513109fe4d738...|04_Entre_40_e_49|02_Entre_49000_e_...|     M|   2018-06-13|          2018-06|                                       0|                                       1|                                  0|                                   0|                             0|                   1|                   0|                   0|               0|                   0|                  0|    01_Abaixo_de_4|03_Entre_12_e_20|                                 0|                                0|                              0|                                1|                                0|                         0|                          0|                          1|                      0|                        0|                        0|                NULL|                            0|                        0|                        0|        01_Abaixo_de_0%|                                         0|                                      0|                                        0|                                   0|                                      1|         00_Sem_dados|          00_Sem_dados|                                   0|                                   0|                                 1|                                   0|                                  0|                                    0|                                   0|                                  1|                                    0|                                    0|      01_Abaixo_de_0%|                                    0|                                      0|                                       0|                                 0|                                    1|        01_Abaixo_de_0%|       01_Abaixo_de_0%|        01_Abaixo_de_0%|     01_Abaixo_de_0%|                                      0|                                        0|                                         0|                                   0|                                      1|                                     0|                                       0|                                        0|                                  0|                                     1|                                      0|                                         0|                                   0|                                      1|                                        0|                                   0|                                     0|                                0|                                      0|                                   1|    01_Abaixo_de_0%|       01_Abaixo_de_0%|            01_Abaixo_de_0%|                                   0|                              0|                                     0|                                 1|                                         0|                                  0|                                     1|                                       0|                                       0|                                          1|    02_Entre_67%_e_88%|                                        1|                                  0|                                         0|                                      0|      02_Entre_75%_e_100%|      02_Entre_67%_e_88%|        01_Abaixo_de_100%|    02_Entre_60%_e_90%|                                         0|                                            1|                                     0|                                          1|                                    0|                                           0|                                        0|                                          1|                                     0|                                      0|                                         0|                                  0|                                        1|\n",
      "|9de54389816342449...|    00_Sem_dados|        00_Sem_dados|  NULL|   2018-04-22|          2018-04|                                       0|                                       0|                                  0|                                   0|                             1|                   0|                   0|                   0|               1|                   0|                  0|    01_Abaixo_de_4| 02_Entre_3_e_12|                                 0|                                0|                              0|                                1|                                0|                         1|                          0|                          0|                      0|                        0|                        0|                NULL|                            0|                        0|                        0|        01_Abaixo_de_0%|                                         0|                                      0|                                        0|                                   0|                                      1|         00_Sem_dados|          00_Sem_dados|                                   0|                                   0|                                 1|                                   0|                                  0|                                    0|                                   0|                                  1|                                    0|                                    0|      01_Abaixo_de_0%|                                    0|                                      0|                                       0|                                 0|                                    1|        01_Abaixo_de_0%|       01_Abaixo_de_0%|        01_Abaixo_de_0%|        00_Sem_dados|                                      0|                                        0|                                         0|                                   0|                                      1|                                     0|                                       0|                                        0|                                  0|                                     1|                                      0|                                         0|                                   0|                                      1|                                        0|                                   0|                                     0|                                1|                                      0|                                   0|    01_Abaixo_de_0%|          00_Sem_dados|            01_Abaixo_de_0%|                                   0|                              0|                                     0|                                 1|                                         0|                                  1|                                     0|                                       0|                                       0|                                          1|    02_Entre_67%_e_88%|                                        1|                                  0|                                         0|                                      0|      02_Entre_75%_e_100%|      02_Entre_67%_e_88%|        01_Abaixo_de_100%|          00_Sem_dados|                                         0|                                            1|                                     0|                                          1|                                    0|                                           0|                                        0|                                          1|                                     0|                                      0|                                         0|                                  1|                                        0|\n",
      "|f5de20984950433d9...|04_Entre_40_e_49|03_Entre_63000_e_...|     M|   2015-09-10|          2015-09|                                       1|                                       0|                                  0|                                   0|                             0|                   1|                   0|                   0|               0|                   0|                  0|    04_Acima_de_11|04_Entre_20_e_28|                                 0|                                0|                              0|                                0|                                1|                         0|                          1|                          0|                      0|                        0|                        0|                bogo|                            0|                        1|                        0|     03_Entre_17%_e_33%|                                         1|                                      0|                                        0|                                   0|                                      0|       01_Abaixo_de_2|        03_Entre_2_e_3|                                   0|                                   0|                                 0|                                   1|                                  0|                                    0|                                   0|                                  0|                                    1|                                    0|      04_Acima_de_71%|                                    1|                                      0|                                       0|                                 0|                                    0|        04_Acima_de_71%|       04_Acima_de_71%|        04_Acima_de_89%|     04_Acima_de_75%|                                      1|                                        0|                                         0|                                   0|                                      0|                                     1|                                       0|                                        0|                                  0|                                     0|                                      1|                                         0|                                   0|                                      0|                                        0|                                   1|                                     0|                                0|                                      0|                                   0|03_Entre_25%_e_100%|          00_Sem_dados|               00_Sem_dados|                                   0|                              0|                                     1|                                 0|                                         0|                                  1|                                     0|                                       0|                                       1|                                          0|   03_Entre_88%_e_100%|                                        0|                                  0|                                         1|                                      0|      02_Entre_75%_e_100%|     03_Entre_88%_e_100%|        01_Abaixo_de_100%|   03_Entre_90%_e_100%|                                         0|                                            1|                                     0|                                          0|                                    0|                                           1|                                        0|                                          1|                                     0|                                      0|                                         1|                                  0|                                        0|\n",
      "|9da3f2339b244229a...|04_Entre_40_e_49|  01_Abaixo_de_49000|     F|   2018-01-09|          2018-01|                                       0|                                       0|                                  0|                                   1|                             0|                   1|                   0|                   0|               0|                   0|                  0|    01_Abaixo_de_4| 02_Entre_3_e_12|                                 0|                                0|                              0|                                1|                                0|                         1|                          0|                          0|                      0|                        0|                        0|                NULL|                            0|                        0|                        0|        01_Abaixo_de_0%|                                         0|                                      0|                                        0|                                   0|                                      1|         00_Sem_dados|          00_Sem_dados|                                   0|                                   0|                                 1|                                   0|                                  0|                                    0|                                   0|                                  1|                                    0|                                    0|      01_Abaixo_de_0%|                                    0|                                      0|                                       0|                                 0|                                    1|        01_Abaixo_de_0%|       01_Abaixo_de_0%|        01_Abaixo_de_0%|     01_Abaixo_de_0%|                                      0|                                        0|                                         0|                                   0|                                      1|                                     0|                                       0|                                        0|                                  0|                                     1|                                      0|                                         0|                                   0|                                      1|                                        0|                                   0|                                     0|                                0|                                      0|                                   1|    01_Abaixo_de_0%|       01_Abaixo_de_0%|               00_Sem_dados|                                   0|                              0|                                     0|                                 1|                                         0|                                  0|                                     1|                                       0|                                       1|                                          0|      01_Abaixo_de_67%|                                        0|                                  0|                                         0|                                      1|         01_Abaixo_de_75%|        01_Abaixo_de_67%|        01_Abaixo_de_100%|      01_Abaixo_de_60%|                                         1|                                            0|                                     0|                                          0|                                    0|                                           0|                                        1|                                          1|                                     0|                                      1|                                         0|                                  0|                                        0|\n",
      "+--------------------+----------------+--------------------+------+-------------+-----------------+----------------------------------------+----------------------------------------+-----------------------------------+------------------------------------+------------------------------+--------------------+--------------------+--------------------+----------------+--------------------+-------------------+------------------+----------------+----------------------------------+---------------------------------+-------------------------------+---------------------------------+---------------------------------+--------------------------+---------------------------+---------------------------+-----------------------+-------------------------+-------------------------+--------------------+-----------------------------+-------------------------+-------------------------+-----------------------+------------------------------------------+---------------------------------------+-----------------------------------------+------------------------------------+---------------------------------------+---------------------+----------------------+------------------------------------+------------------------------------+----------------------------------+------------------------------------+-----------------------------------+-------------------------------------+------------------------------------+-----------------------------------+-------------------------------------+-------------------------------------+---------------------+-------------------------------------+---------------------------------------+----------------------------------------+----------------------------------+-------------------------------------+-----------------------+----------------------+-----------------------+--------------------+---------------------------------------+-----------------------------------------+------------------------------------------+------------------------------------+---------------------------------------+--------------------------------------+----------------------------------------+-----------------------------------------+-----------------------------------+--------------------------------------+---------------------------------------+------------------------------------------+------------------------------------+---------------------------------------+-----------------------------------------+------------------------------------+--------------------------------------+---------------------------------+---------------------------------------+------------------------------------+-------------------+----------------------+---------------------------+------------------------------------+-------------------------------+--------------------------------------+----------------------------------+------------------------------------------+-----------------------------------+--------------------------------------+----------------------------------------+----------------------------------------+-------------------------------------------+----------------------+-----------------------------------------+-----------------------------------+------------------------------------------+---------------------------------------+-------------------------+------------------------+-------------------------+----------------------+------------------------------------------+---------------------------------------------+--------------------------------------+-------------------------------------------+-------------------------------------+--------------------------------------------+-----------------------------------------+-------------------------------------------+--------------------------------------+---------------------------------------+------------------------------------------+-----------------------------------+-----------------------------------------+\n",
      "only showing top 5 rows\n",
      "\n",
      "None\n"
     ]
    }
   ],
   "source": [
    "# Adicionar a informação de uso ao offer_summary\n",
    "offer_summary_with_views = (offer_summary.alias(\"offer_summary_with_views\"))\n",
    "\n",
    "# Derivar uso por canal\n",
    "# Multiplicando \"viewed_offer\" por cada canal obtemos o resultado de uso da oferta\n",
    "# quando o canal também é utilizado\n",
    "for channel in [\"mobile\", \"email\", \"social\", \"web\"]:\n",
    "    offer_summary_with_views = offer_summary_with_views.withColumn(\n",
    "        f\"viewed_channel_{channel}\",\n",
    "        F.col(\"viewed_offer\") * F.col(f\"channel_{channel}\")\n",
    "    )\n",
    "\n",
    "# Agrupar por clientes\n",
    "offer_summary_with_views = (offer_summary_with_views\n",
    "    .groupBy(\"account_id\")\n",
    "    .agg(\n",
    "        F.sum(\"channel_mobile\").alias(\"total_mobile\"),\n",
    "        F.sum(\"channel_email\").alias(\"total_email\"),\n",
    "        F.sum(\"channel_social\").alias(\"total_social\"),\n",
    "        F.sum(\"channel_web\").alias(\"total_web\"),\n",
    "        F.sum(\"viewed_channel_mobile\").alias(\"viewed_mobile\"),\n",
    "        F.sum(\"viewed_channel_email\").alias(\"viewed_email\"),\n",
    "        F.sum(\"viewed_channel_social\").alias(\"viewed_social\"),\n",
    "        F.sum(\"viewed_channel_web\").alias(\"viewed_web\"))\n",
    "    # Calculo dos percentuais por canal\n",
    "    .withColumn(\n",
    "        \"pct_viewed_channel_mobile\",\n",
    "        F.when(F.col(\"total_mobile\") > 0, F.col(\"viewed_mobile\") / F.col(\"total_mobile\"))\n",
    "        .otherwise(None))\n",
    "    .withColumn(\n",
    "        \"pct_viewed_channel_email\",\n",
    "        F.when(F.col(\"total_email\") > 0, F.col(\"viewed_email\") / F.col(\"total_email\"))\n",
    "        .otherwise(None))\n",
    "    .withColumn(\n",
    "        \"pct_viewed_channel_social\",\n",
    "        F.when(F.col(\"total_social\") > 0, F.col(\"viewed_social\") / F.col(\"total_social\"))\n",
    "        .otherwise(None))\n",
    "    .withColumn(\n",
    "        \"pct_viewed_channel_web\",\n",
    "        F.when(F.col(\"total_web\") > 0, F.col(\"viewed_web\") / F.col(\"total_web\"))\n",
    "        .otherwise(None))\n",
    "    # Selecionar apenas colunas de interesse\n",
    "    .select(\n",
    "        \"account_id\",\n",
    "        \"pct_viewed_channel_mobile\",\n",
    "        \"pct_viewed_channel_email\",\n",
    "        \"pct_viewed_channel_social\",\n",
    "        \"pct_viewed_channel_web\")\n",
    ")\n",
    "\n",
    "# Juntar com profile\n",
    "profile = (profile\n",
    "    .join(offer_summary_with_views,\n",
    "        on=\"account_id\",\n",
    "        how=\"left\")\n",
    ")\n",
    "\n",
    "# Alterando os valores para faixas\n",
    "profile = column_default_categorizer(profile, \"pct_viewed_channel_mobile\", True)\n",
    "profile = column_default_categorizer(profile, \"pct_viewed_channel_email\", True)\n",
    "profile = column_default_categorizer(profile, \"pct_viewed_channel_social\", True)\n",
    "profile = column_default_categorizer(profile, \"pct_viewed_channel_web\", True)\n",
    "# Criando dummies da coluna categorizada\n",
    "profile = create_dummies_for_column(profile, \"pct_viewed_channel_mobile\")\n",
    "profile = create_dummies_for_column(profile, \"pct_viewed_channel_email\")\n",
    "profile = create_dummies_for_column(profile, \"pct_viewed_channel_social\")\n",
    "profile = create_dummies_for_column(profile, \"pct_viewed_channel_web\")\n",
    "\n",
    "del(offer_summary_with_views, channel)\n",
    "\n",
    "print(profile.show(5))"
   ]
  },
  {
   "cell_type": "markdown",
   "id": "ed82ba53",
   "metadata": {},
   "source": [
    "### 4.6.3. Por tipo"
   ]
  },
  {
   "cell_type": "code",
   "execution_count": 36,
   "id": "215723fb",
   "metadata": {},
   "outputs": [
    {
     "name": "stdout",
     "output_type": "stream",
     "text": [
      "+--------------------+----------------+--------------------+------+-------------+-----------------+----------------------------------------+----------------------------------------+-----------------------------------+------------------------------------+------------------------------+--------------------+--------------------+--------------------+----------------+--------------------+-------------------+------------------+----------------+----------------------------------+---------------------------------+-------------------------------+---------------------------------+---------------------------------+--------------------------+---------------------------+---------------------------+-----------------------+-------------------------+-------------------------+--------------------+-----------------------------+-------------------------+-------------------------+-----------------------+------------------------------------------+---------------------------------------+-----------------------------------------+------------------------------------+---------------------------------------+---------------------+----------------------+------------------------------------+------------------------------------+----------------------------------+------------------------------------+-----------------------------------+-------------------------------------+------------------------------------+-----------------------------------+-------------------------------------+-------------------------------------+---------------------+-------------------------------------+---------------------------------------+----------------------------------------+----------------------------------+-------------------------------------+-----------------------+----------------------+-----------------------+--------------------+---------------------------------------+-----------------------------------------+------------------------------------------+------------------------------------+---------------------------------------+--------------------------------------+----------------------------------------+-----------------------------------------+-----------------------------------+--------------------------------------+---------------------------------------+------------------------------------------+------------------------------------+---------------------------------------+-----------------------------------------+------------------------------------+--------------------------------------+---------------------------------+---------------------------------------+------------------------------------+-------------------+----------------------+---------------------------+------------------------------------+-------------------------------+--------------------------------------+----------------------------------+------------------------------------------+-----------------------------------+--------------------------------------+----------------------------------------+----------------------------------------+-------------------------------------------+----------------------+-----------------------------------------+-----------------------------------+------------------------------------------+---------------------------------------+-------------------------+------------------------+-------------------------+----------------------+------------------------------------------+---------------------------------------------+--------------------------------------+-------------------------------------------+-------------------------------------+--------------------------------------------+-----------------------------------------+-------------------------------------------+--------------------------------------+---------------------------------------+------------------------------------------+-----------------------------------+-----------------------------------------+--------------------+------------------------+-----------------------------+--------------------------------------+---------------------------------+-----------------------------------------+-------------------------------------+--------------------------------------------+----------------------------------------------+------------------------------------------+-------------------------------------------------+\n",
      "|          account_id|             age|   credit_card_limit|gender|registered_on|year_month_joined|credit_card_limit_03_Entre_63000_e_79000|credit_card_limit_02_Entre_49000_e_63000|credit_card_limit_04_Acima_de_79000|credit_card_limit_01_Abaixo_de_49000|credit_card_limit_00_Sem_dados|age_04_Entre_40_e_49|age_02_Entre_18_e_29|age_03_Entre_30_e_39|age_00_Sem_dados|age_05_Entre_50_e_59|age_06_Acima_de_60+|total_transactions|      avg_amount|total_transactions_03_Entre_7_e_11|total_transactions_02_Entre_4_e_7|total_transactions_00_Sem_dados|total_transactions_01_Abaixo_de_4|total_transactions_04_Acima_de_11|avg_amount_02_Entre_3_e_12|avg_amount_04_Entre_20_e_28|avg_amount_03_Entre_12_e_20|avg_amount_00_Sem_dados|avg_amount_01_Abaixo_de_3|avg_amount_05_Acima_de_28|most_used_offer_type|most_used_offer_type_discount|most_used_offer_type_bogo|most_used_offer_type_None|transactions_offer_rate|transactions_offer_rate_03_Entre_17%_e_33%|transactions_offer_rate_04_Acima_de_33%|transactions_offer_rate_02_Entre_0%_e_17%|transactions_offer_rate_00_Sem_dados|transactions_offer_rate_01_Abaixo_de_0%|avg_time_to_use_offer|avg_time_to_view_offer|avg_time_to_use_offer_02_Entre_2_e_2|avg_time_to_use_offer_03_Entre_2_e_4|avg_time_to_use_offer_00_Sem_dados|avg_time_to_use_offer_01_Abaixo_de_2|avg_time_to_use_offer_04_Acima_de_4|avg_time_to_view_offer_01_Abaixo_de_1|avg_time_to_view_offer_04_Acima_de_3|avg_time_to_view_offer_00_Sem_dados|avg_time_to_view_offer_03_Entre_2_e_3|avg_time_to_view_offer_02_Entre_1_e_2|all_coupon_usage_rate|all_coupon_usage_rate_04_Acima_de_71%|all_coupon_usage_rate_02_Entre_0%_e_33%|all_coupon_usage_rate_03_Entre_33%_e_71%|all_coupon_usage_rate_00_Sem_dados|all_coupon_usage_rate_01_Abaixo_de_0%|pct_used_channel_mobile|pct_used_channel_email|pct_used_channel_social|pct_used_channel_web|pct_used_channel_mobile_04_Acima_de_71%|pct_used_channel_mobile_02_Entre_0%_e_33%|pct_used_channel_mobile_03_Entre_33%_e_71%|pct_used_channel_mobile_00_Sem_dados|pct_used_channel_mobile_01_Abaixo_de_0%|pct_used_channel_email_04_Acima_de_71%|pct_used_channel_email_02_Entre_0%_e_33%|pct_used_channel_email_03_Entre_33%_e_71%|pct_used_channel_email_00_Sem_dados|pct_used_channel_email_01_Abaixo_de_0%|pct_used_channel_social_04_Acima_de_89%|pct_used_channel_social_03_Entre_50%_e_89%|pct_used_channel_social_00_Sem_dados|pct_used_channel_social_01_Abaixo_de_0%|pct_used_channel_social_02_Entre_0%_e_50%|pct_used_channel_web_04_Acima_de_75%|pct_used_channel_web_02_Entre_0%_e_33%|pct_used_channel_web_00_Sem_dados|pct_used_channel_web_03_Entre_33%_e_75%|pct_used_channel_web_01_Abaixo_de_0%| pct_used_type_bogo|pct_used_type_discount|pct_used_type_informational|pct_used_type_bogo_02_Entre_0%_e_25%|pct_used_type_bogo_00_Sem_dados|pct_used_type_bogo_03_Entre_25%_e_100%|pct_used_type_bogo_01_Abaixo_de_0%|pct_used_type_discount_03_Entre_50%_e_100%|pct_used_type_discount_00_Sem_dados|pct_used_type_discount_01_Abaixo_de_0%|pct_used_type_discount_02_Entre_0%_e_50%|pct_used_type_informational_00_Sem_dados|pct_used_type_informational_01_Abaixo_de_0%|all_coupon_viewed_rate|all_coupon_viewed_rate_02_Entre_67%_e_88%|all_coupon_viewed_rate_00_Sem_dados|all_coupon_viewed_rate_03_Entre_88%_e_100%|all_coupon_viewed_rate_01_Abaixo_de_67%|pct_viewed_channel_mobile|pct_viewed_channel_email|pct_viewed_channel_social|pct_viewed_channel_web|pct_viewed_channel_mobile_01_Abaixo_de_75%|pct_viewed_channel_mobile_02_Entre_75%_e_100%|pct_viewed_channel_mobile_00_Sem_dados|pct_viewed_channel_email_02_Entre_67%_e_88%|pct_viewed_channel_email_00_Sem_dados|pct_viewed_channel_email_03_Entre_88%_e_100%|pct_viewed_channel_email_01_Abaixo_de_67%|pct_viewed_channel_social_01_Abaixo_de_100%|pct_viewed_channel_social_00_Sem_dados|pct_viewed_channel_web_01_Abaixo_de_60%|pct_viewed_channel_web_03_Entre_90%_e_100%|pct_viewed_channel_web_00_Sem_dados|pct_viewed_channel_web_02_Entre_60%_e_90%|pct_viewed_type_bogo|pct_viewed_type_discount|pct_viewed_type_informational|pct_viewed_type_bogo_01_Abaixo_de_100%|pct_viewed_type_bogo_00_Sem_dados|pct_viewed_type_discount_01_Abaixo_de_50%|pct_viewed_type_discount_00_Sem_dados|pct_viewed_type_discount_02_Entre_50%_e_100%|pct_viewed_type_informational_01_Abaixo_de_50%|pct_viewed_type_informational_00_Sem_dados|pct_viewed_type_informational_02_Entre_50%_e_100%|\n",
      "+--------------------+----------------+--------------------+------+-------------+-----------------+----------------------------------------+----------------------------------------+-----------------------------------+------------------------------------+------------------------------+--------------------+--------------------+--------------------+----------------+--------------------+-------------------+------------------+----------------+----------------------------------+---------------------------------+-------------------------------+---------------------------------+---------------------------------+--------------------------+---------------------------+---------------------------+-----------------------+-------------------------+-------------------------+--------------------+-----------------------------+-------------------------+-------------------------+-----------------------+------------------------------------------+---------------------------------------+-----------------------------------------+------------------------------------+---------------------------------------+---------------------+----------------------+------------------------------------+------------------------------------+----------------------------------+------------------------------------+-----------------------------------+-------------------------------------+------------------------------------+-----------------------------------+-------------------------------------+-------------------------------------+---------------------+-------------------------------------+---------------------------------------+----------------------------------------+----------------------------------+-------------------------------------+-----------------------+----------------------+-----------------------+--------------------+---------------------------------------+-----------------------------------------+------------------------------------------+------------------------------------+---------------------------------------+--------------------------------------+----------------------------------------+-----------------------------------------+-----------------------------------+--------------------------------------+---------------------------------------+------------------------------------------+------------------------------------+---------------------------------------+-----------------------------------------+------------------------------------+--------------------------------------+---------------------------------+---------------------------------------+------------------------------------+-------------------+----------------------+---------------------------+------------------------------------+-------------------------------+--------------------------------------+----------------------------------+------------------------------------------+-----------------------------------+--------------------------------------+----------------------------------------+----------------------------------------+-------------------------------------------+----------------------+-----------------------------------------+-----------------------------------+------------------------------------------+---------------------------------------+-------------------------+------------------------+-------------------------+----------------------+------------------------------------------+---------------------------------------------+--------------------------------------+-------------------------------------------+-------------------------------------+--------------------------------------------+-----------------------------------------+-------------------------------------------+--------------------------------------+---------------------------------------+------------------------------------------+-----------------------------------+-----------------------------------------+--------------------+------------------------+-----------------------------+--------------------------------------+---------------------------------+-----------------------------------------+-------------------------------------+--------------------------------------------+----------------------------------------------+------------------------------------------+-------------------------------------------------+\n",
      "|c05652fa9d2c4fac9...| 06_Acima_de_60+|03_Entre_63000_e_...|     M|   2018-01-27|          2018-01|                                       1|                                       0|                                  0|                                   0|                             0|                   0|                   0|                   0|               0|                   0|                  1|    02_Entre_4_e_7| 02_Entre_3_e_12|                                 0|                                1|                              0|                                0|                                0|                         1|                          0|                          0|                      0|                        0|                        0|                NULL|                            0|                        0|                        0|        01_Abaixo_de_0%|                                         0|                                      0|                                        0|                                   0|                                      1|         00_Sem_dados|          00_Sem_dados|                                   0|                                   0|                                 1|                                   0|                                  0|                                    0|                                   0|                                  1|                                    0|                                    0|      01_Abaixo_de_0%|                                    0|                                      0|                                       0|                                 0|                                    1|        01_Abaixo_de_0%|       01_Abaixo_de_0%|        01_Abaixo_de_0%|     01_Abaixo_de_0%|                                      0|                                        0|                                         0|                                   0|                                      1|                                     0|                                       0|                                        0|                                  0|                                     1|                                      0|                                         0|                                   0|                                      1|                                        0|                                   0|                                     0|                                0|                                      0|                                   1|    01_Abaixo_de_0%|       01_Abaixo_de_0%|               00_Sem_dados|                                   0|                              0|                                     0|                                 1|                                         0|                                  0|                                     1|                                       0|                                       1|                                          0|    02_Entre_67%_e_88%|                                        1|                                  0|                                         0|                                      0|      02_Entre_75%_e_100%|      02_Entre_67%_e_88%|        01_Abaixo_de_100%|    02_Entre_60%_e_90%|                                         0|                                            1|                                     0|                                          1|                                    0|                                           0|                                        0|                                          1|                                     0|                                      0|                                         0|                                  0|                                        1|   01_Abaixo_de_100%|        01_Abaixo_de_50%|                 00_Sem_dados|                                     1|                                0|                                        1|                                    0|                                           0|                                             0|                                         1|                                                0|\n",
      "|6be0513109fe4d738...|04_Entre_40_e_49|02_Entre_49000_e_...|     M|   2018-06-13|          2018-06|                                       0|                                       1|                                  0|                                   0|                             0|                   1|                   0|                   0|               0|                   0|                  0|    01_Abaixo_de_4|03_Entre_12_e_20|                                 0|                                0|                              0|                                1|                                0|                         0|                          0|                          1|                      0|                        0|                        0|                NULL|                            0|                        0|                        0|        01_Abaixo_de_0%|                                         0|                                      0|                                        0|                                   0|                                      1|         00_Sem_dados|          00_Sem_dados|                                   0|                                   0|                                 1|                                   0|                                  0|                                    0|                                   0|                                  1|                                    0|                                    0|      01_Abaixo_de_0%|                                    0|                                      0|                                       0|                                 0|                                    1|        01_Abaixo_de_0%|       01_Abaixo_de_0%|        01_Abaixo_de_0%|     01_Abaixo_de_0%|                                      0|                                        0|                                         0|                                   0|                                      1|                                     0|                                       0|                                        0|                                  0|                                     1|                                      0|                                         0|                                   0|                                      1|                                        0|                                   0|                                     0|                                0|                                      0|                                   1|    01_Abaixo_de_0%|       01_Abaixo_de_0%|            01_Abaixo_de_0%|                                   0|                              0|                                     0|                                 1|                                         0|                                  0|                                     1|                                       0|                                       0|                                          1|    02_Entre_67%_e_88%|                                        1|                                  0|                                         0|                                      0|      02_Entre_75%_e_100%|      02_Entre_67%_e_88%|        01_Abaixo_de_100%|    02_Entre_60%_e_90%|                                         0|                                            1|                                     0|                                          1|                                    0|                                           0|                                        0|                                          1|                                     0|                                      0|                                         0|                                  0|                                        1|   01_Abaixo_de_100%|        01_Abaixo_de_50%|          02_Entre_50%_e_100%|                                     1|                                0|                                        1|                                    0|                                           0|                                             0|                                         0|                                                1|\n",
      "|9de54389816342449...|    00_Sem_dados|        00_Sem_dados|  NULL|   2018-04-22|          2018-04|                                       0|                                       0|                                  0|                                   0|                             1|                   0|                   0|                   0|               1|                   0|                  0|    01_Abaixo_de_4| 02_Entre_3_e_12|                                 0|                                0|                              0|                                1|                                0|                         1|                          0|                          0|                      0|                        0|                        0|                NULL|                            0|                        0|                        0|        01_Abaixo_de_0%|                                         0|                                      0|                                        0|                                   0|                                      1|         00_Sem_dados|          00_Sem_dados|                                   0|                                   0|                                 1|                                   0|                                  0|                                    0|                                   0|                                  1|                                    0|                                    0|      01_Abaixo_de_0%|                                    0|                                      0|                                       0|                                 0|                                    1|        01_Abaixo_de_0%|       01_Abaixo_de_0%|        01_Abaixo_de_0%|        00_Sem_dados|                                      0|                                        0|                                         0|                                   0|                                      1|                                     0|                                       0|                                        0|                                  0|                                     1|                                      0|                                         0|                                   0|                                      1|                                        0|                                   0|                                     0|                                1|                                      0|                                   0|    01_Abaixo_de_0%|          00_Sem_dados|            01_Abaixo_de_0%|                                   0|                              0|                                     0|                                 1|                                         0|                                  1|                                     0|                                       0|                                       0|                                          1|    02_Entre_67%_e_88%|                                        1|                                  0|                                         0|                                      0|      02_Entre_75%_e_100%|      02_Entre_67%_e_88%|        01_Abaixo_de_100%|          00_Sem_dados|                                         0|                                            1|                                     0|                                          1|                                    0|                                           0|                                        0|                                          1|                                     0|                                      0|                                         0|                                  1|                                        0|   01_Abaixo_de_100%|            00_Sem_dados|          02_Entre_50%_e_100%|                                     1|                                0|                                        0|                                    1|                                           0|                                             0|                                         0|                                                1|\n",
      "|f5de20984950433d9...|04_Entre_40_e_49|03_Entre_63000_e_...|     M|   2015-09-10|          2015-09|                                       1|                                       0|                                  0|                                   0|                             0|                   1|                   0|                   0|               0|                   0|                  0|    04_Acima_de_11|04_Entre_20_e_28|                                 0|                                0|                              0|                                0|                                1|                         0|                          1|                          0|                      0|                        0|                        0|                bogo|                            0|                        1|                        0|     03_Entre_17%_e_33%|                                         1|                                      0|                                        0|                                   0|                                      0|       01_Abaixo_de_2|        03_Entre_2_e_3|                                   0|                                   0|                                 0|                                   1|                                  0|                                    0|                                   0|                                  0|                                    1|                                    0|      04_Acima_de_71%|                                    1|                                      0|                                       0|                                 0|                                    0|        04_Acima_de_71%|       04_Acima_de_71%|        04_Acima_de_89%|     04_Acima_de_75%|                                      1|                                        0|                                         0|                                   0|                                      0|                                     1|                                       0|                                        0|                                  0|                                     0|                                      1|                                         0|                                   0|                                      0|                                        0|                                   1|                                     0|                                0|                                      0|                                   0|03_Entre_25%_e_100%|          00_Sem_dados|               00_Sem_dados|                                   0|                              0|                                     1|                                 0|                                         0|                                  1|                                     0|                                       0|                                       1|                                          0|   03_Entre_88%_e_100%|                                        0|                                  0|                                         1|                                      0|      02_Entre_75%_e_100%|     03_Entre_88%_e_100%|        01_Abaixo_de_100%|   03_Entre_90%_e_100%|                                         0|                                            1|                                     0|                                          0|                                    0|                                           1|                                        0|                                          1|                                     0|                                      0|                                         1|                                  0|                                        0|   01_Abaixo_de_100%|            00_Sem_dados|                 00_Sem_dados|                                     1|                                0|                                        0|                                    1|                                           0|                                             0|                                         1|                                                0|\n",
      "|9da3f2339b244229a...|04_Entre_40_e_49|  01_Abaixo_de_49000|     F|   2018-01-09|          2018-01|                                       0|                                       0|                                  0|                                   1|                             0|                   1|                   0|                   0|               0|                   0|                  0|    01_Abaixo_de_4| 02_Entre_3_e_12|                                 0|                                0|                              0|                                1|                                0|                         1|                          0|                          0|                      0|                        0|                        0|                NULL|                            0|                        0|                        0|        01_Abaixo_de_0%|                                         0|                                      0|                                        0|                                   0|                                      1|         00_Sem_dados|          00_Sem_dados|                                   0|                                   0|                                 1|                                   0|                                  0|                                    0|                                   0|                                  1|                                    0|                                    0|      01_Abaixo_de_0%|                                    0|                                      0|                                       0|                                 0|                                    1|        01_Abaixo_de_0%|       01_Abaixo_de_0%|        01_Abaixo_de_0%|     01_Abaixo_de_0%|                                      0|                                        0|                                         0|                                   0|                                      1|                                     0|                                       0|                                        0|                                  0|                                     1|                                      0|                                         0|                                   0|                                      1|                                        0|                                   0|                                     0|                                0|                                      0|                                   1|    01_Abaixo_de_0%|       01_Abaixo_de_0%|               00_Sem_dados|                                   0|                              0|                                     0|                                 1|                                         0|                                  0|                                     1|                                       0|                                       1|                                          0|      01_Abaixo_de_67%|                                        0|                                  0|                                         0|                                      1|         01_Abaixo_de_75%|        01_Abaixo_de_67%|        01_Abaixo_de_100%|      01_Abaixo_de_60%|                                         1|                                            0|                                     0|                                          0|                                    0|                                           0|                                        1|                                          1|                                     0|                                      1|                                         0|                                  0|                                        0|   01_Abaixo_de_100%|        01_Abaixo_de_50%|                 00_Sem_dados|                                     1|                                0|                                        1|                                    0|                                           0|                                             0|                                         1|                                                0|\n",
      "+--------------------+----------------+--------------------+------+-------------+-----------------+----------------------------------------+----------------------------------------+-----------------------------------+------------------------------------+------------------------------+--------------------+--------------------+--------------------+----------------+--------------------+-------------------+------------------+----------------+----------------------------------+---------------------------------+-------------------------------+---------------------------------+---------------------------------+--------------------------+---------------------------+---------------------------+-----------------------+-------------------------+-------------------------+--------------------+-----------------------------+-------------------------+-------------------------+-----------------------+------------------------------------------+---------------------------------------+-----------------------------------------+------------------------------------+---------------------------------------+---------------------+----------------------+------------------------------------+------------------------------------+----------------------------------+------------------------------------+-----------------------------------+-------------------------------------+------------------------------------+-----------------------------------+-------------------------------------+-------------------------------------+---------------------+-------------------------------------+---------------------------------------+----------------------------------------+----------------------------------+-------------------------------------+-----------------------+----------------------+-----------------------+--------------------+---------------------------------------+-----------------------------------------+------------------------------------------+------------------------------------+---------------------------------------+--------------------------------------+----------------------------------------+-----------------------------------------+-----------------------------------+--------------------------------------+---------------------------------------+------------------------------------------+------------------------------------+---------------------------------------+-----------------------------------------+------------------------------------+--------------------------------------+---------------------------------+---------------------------------------+------------------------------------+-------------------+----------------------+---------------------------+------------------------------------+-------------------------------+--------------------------------------+----------------------------------+------------------------------------------+-----------------------------------+--------------------------------------+----------------------------------------+----------------------------------------+-------------------------------------------+----------------------+-----------------------------------------+-----------------------------------+------------------------------------------+---------------------------------------+-------------------------+------------------------+-------------------------+----------------------+------------------------------------------+---------------------------------------------+--------------------------------------+-------------------------------------------+-------------------------------------+--------------------------------------------+-----------------------------------------+-------------------------------------------+--------------------------------------+---------------------------------------+------------------------------------------+-----------------------------------+-----------------------------------------+--------------------+------------------------+-----------------------------+--------------------------------------+---------------------------------+-----------------------------------------+-------------------------------------+--------------------------------------------+----------------------------------------------+------------------------------------------+-------------------------------------------------+\n",
      "only showing top 5 rows\n",
      "\n",
      "None\n"
     ]
    }
   ],
   "source": [
    "# Adicionar a informação de uso ao offer_summary\n",
    "offer_summary_with_views = (offer_summary.alias(\"offer_summary_with_views\"))\n",
    "\n",
    "offer_summary_with_views = (offer_summary\n",
    "    # Agrupar por cliente e tipo de oferta, contando qtd de ofertas usadas e totais\n",
    "    .groupBy([\"account_id\", \"offer_type\"])\n",
    "    .agg(\n",
    "        F.count(\"*\").alias(\"total_offers\"),\n",
    "        F.sum(\"viewed_offer\").alias(\"viewed_offers\"))\n",
    "    # Calcular percentual\n",
    "    .withColumn(\n",
    "        \"pct_viewed_type\",\n",
    "        F.when(F.col(\"total_offers\") > 0, F.col(\"viewed_offers\") / F.col(\"total_offers\"))\n",
    "        .otherwise(None))\n",
    "    .groupBy(\"account_id\")\n",
    "    # Pivot para deixar cada tipo como uma coluna\n",
    "    .pivot(\n",
    "        \"offer_type\",\n",
    "        [\"bogo\", \"discount\", \"informational\"])\n",
    "    .agg(F.first(\"pct_viewed_type\"))\n",
    "    # Renomear colunas\n",
    "    .withColumnRenamed(\"bogo\", \"pct_viewed_type_bogo\")\n",
    "    .withColumnRenamed(\"discount\", \"pct_viewed_type_discount\")\n",
    "    .withColumnRenamed(\"informational\", \"pct_viewed_type_informational\")\n",
    ")\n",
    "\n",
    "# Join com profile\n",
    "profile = (profile\n",
    "    .join(offer_summary_with_views,\n",
    "        on=\"account_id\",\n",
    "        how=\"left\")\n",
    ")\n",
    "\n",
    "# Alterando os valores para faixas\n",
    "profile = column_default_categorizer(profile, \"pct_viewed_type_bogo\", True)\n",
    "profile = column_default_categorizer(profile, \"pct_viewed_type_discount\", True)\n",
    "profile = column_default_categorizer(profile, \"pct_viewed_type_informational\", True)\n",
    "# Criando dummies da coluna categorizada\n",
    "profile = create_dummies_for_column(profile, \"pct_viewed_type_bogo\")\n",
    "profile = create_dummies_for_column(profile, \"pct_viewed_type_discount\")\n",
    "profile = create_dummies_for_column(profile, \"pct_viewed_type_informational\")\n",
    "\n",
    "del(offer_summary_with_views)\n",
    "\n",
    "print(profile.show(5))"
   ]
  },
  {
   "cell_type": "markdown",
   "id": "e5dff893",
   "metadata": {},
   "source": [
    "## 4.7. Quantidade de cupons recebidos"
   ]
  },
  {
   "cell_type": "markdown",
   "id": "91a2220f",
   "metadata": {},
   "source": [
    "### 4.7.1. Geral"
   ]
  },
  {
   "cell_type": "code",
   "execution_count": 37,
   "id": "9c1a8e62",
   "metadata": {},
   "outputs": [
    {
     "name": "stdout",
     "output_type": "stream",
     "text": [
      "+--------------------+----------------+--------------------+------+-------------+-----------------+----------------------------------------+----------------------------------------+-----------------------------------+------------------------------------+------------------------------+--------------------+--------------------+--------------------+----------------+--------------------+-------------------+------------------+----------------+----------------------------------+---------------------------------+-------------------------------+---------------------------------+---------------------------------+--------------------------+---------------------------+---------------------------+-----------------------+-------------------------+-------------------------+--------------------+-----------------------------+-------------------------+-------------------------+-----------------------+------------------------------------------+---------------------------------------+-----------------------------------------+------------------------------------+---------------------------------------+---------------------+----------------------+------------------------------------+------------------------------------+----------------------------------+------------------------------------+-----------------------------------+-------------------------------------+------------------------------------+-----------------------------------+-------------------------------------+-------------------------------------+---------------------+-------------------------------------+---------------------------------------+----------------------------------------+----------------------------------+-------------------------------------+-----------------------+----------------------+-----------------------+--------------------+---------------------------------------+-----------------------------------------+------------------------------------------+------------------------------------+---------------------------------------+--------------------------------------+----------------------------------------+-----------------------------------------+-----------------------------------+--------------------------------------+---------------------------------------+------------------------------------------+------------------------------------+---------------------------------------+-----------------------------------------+------------------------------------+--------------------------------------+---------------------------------+---------------------------------------+------------------------------------+-------------------+----------------------+---------------------------+------------------------------------+-------------------------------+--------------------------------------+----------------------------------+------------------------------------------+-----------------------------------+--------------------------------------+----------------------------------------+----------------------------------------+-------------------------------------------+----------------------+-----------------------------------------+-----------------------------------+------------------------------------------+---------------------------------------+-------------------------+------------------------+-------------------------+----------------------+------------------------------------------+---------------------------------------------+--------------------------------------+-------------------------------------------+-------------------------------------+--------------------------------------------+-----------------------------------------+-------------------------------------------+--------------------------------------+---------------------------------------+------------------------------------------+-----------------------------------+-----------------------------------------+--------------------+------------------------+-----------------------------+--------------------------------------+---------------------------------+-----------------------------------------+-------------------------------------+--------------------------------------------+----------------------------------------------+------------------------------------------+-------------------------------------------------+---------------------+-----------------------------------+------------------------------------+------------------------------------+----------------------------------+------------------------------------+\n",
      "|          account_id|             age|   credit_card_limit|gender|registered_on|year_month_joined|credit_card_limit_03_Entre_63000_e_79000|credit_card_limit_02_Entre_49000_e_63000|credit_card_limit_04_Acima_de_79000|credit_card_limit_01_Abaixo_de_49000|credit_card_limit_00_Sem_dados|age_04_Entre_40_e_49|age_02_Entre_18_e_29|age_03_Entre_30_e_39|age_00_Sem_dados|age_05_Entre_50_e_59|age_06_Acima_de_60+|total_transactions|      avg_amount|total_transactions_03_Entre_7_e_11|total_transactions_02_Entre_4_e_7|total_transactions_00_Sem_dados|total_transactions_01_Abaixo_de_4|total_transactions_04_Acima_de_11|avg_amount_02_Entre_3_e_12|avg_amount_04_Entre_20_e_28|avg_amount_03_Entre_12_e_20|avg_amount_00_Sem_dados|avg_amount_01_Abaixo_de_3|avg_amount_05_Acima_de_28|most_used_offer_type|most_used_offer_type_discount|most_used_offer_type_bogo|most_used_offer_type_None|transactions_offer_rate|transactions_offer_rate_03_Entre_17%_e_33%|transactions_offer_rate_04_Acima_de_33%|transactions_offer_rate_02_Entre_0%_e_17%|transactions_offer_rate_00_Sem_dados|transactions_offer_rate_01_Abaixo_de_0%|avg_time_to_use_offer|avg_time_to_view_offer|avg_time_to_use_offer_02_Entre_2_e_2|avg_time_to_use_offer_03_Entre_2_e_4|avg_time_to_use_offer_00_Sem_dados|avg_time_to_use_offer_01_Abaixo_de_2|avg_time_to_use_offer_04_Acima_de_4|avg_time_to_view_offer_01_Abaixo_de_1|avg_time_to_view_offer_04_Acima_de_3|avg_time_to_view_offer_00_Sem_dados|avg_time_to_view_offer_03_Entre_2_e_3|avg_time_to_view_offer_02_Entre_1_e_2|all_coupon_usage_rate|all_coupon_usage_rate_04_Acima_de_71%|all_coupon_usage_rate_02_Entre_0%_e_33%|all_coupon_usage_rate_03_Entre_33%_e_71%|all_coupon_usage_rate_00_Sem_dados|all_coupon_usage_rate_01_Abaixo_de_0%|pct_used_channel_mobile|pct_used_channel_email|pct_used_channel_social|pct_used_channel_web|pct_used_channel_mobile_04_Acima_de_71%|pct_used_channel_mobile_02_Entre_0%_e_33%|pct_used_channel_mobile_03_Entre_33%_e_71%|pct_used_channel_mobile_00_Sem_dados|pct_used_channel_mobile_01_Abaixo_de_0%|pct_used_channel_email_04_Acima_de_71%|pct_used_channel_email_02_Entre_0%_e_33%|pct_used_channel_email_03_Entre_33%_e_71%|pct_used_channel_email_00_Sem_dados|pct_used_channel_email_01_Abaixo_de_0%|pct_used_channel_social_04_Acima_de_89%|pct_used_channel_social_03_Entre_50%_e_89%|pct_used_channel_social_00_Sem_dados|pct_used_channel_social_01_Abaixo_de_0%|pct_used_channel_social_02_Entre_0%_e_50%|pct_used_channel_web_04_Acima_de_75%|pct_used_channel_web_02_Entre_0%_e_33%|pct_used_channel_web_00_Sem_dados|pct_used_channel_web_03_Entre_33%_e_75%|pct_used_channel_web_01_Abaixo_de_0%| pct_used_type_bogo|pct_used_type_discount|pct_used_type_informational|pct_used_type_bogo_02_Entre_0%_e_25%|pct_used_type_bogo_00_Sem_dados|pct_used_type_bogo_03_Entre_25%_e_100%|pct_used_type_bogo_01_Abaixo_de_0%|pct_used_type_discount_03_Entre_50%_e_100%|pct_used_type_discount_00_Sem_dados|pct_used_type_discount_01_Abaixo_de_0%|pct_used_type_discount_02_Entre_0%_e_50%|pct_used_type_informational_00_Sem_dados|pct_used_type_informational_01_Abaixo_de_0%|all_coupon_viewed_rate|all_coupon_viewed_rate_02_Entre_67%_e_88%|all_coupon_viewed_rate_00_Sem_dados|all_coupon_viewed_rate_03_Entre_88%_e_100%|all_coupon_viewed_rate_01_Abaixo_de_67%|pct_viewed_channel_mobile|pct_viewed_channel_email|pct_viewed_channel_social|pct_viewed_channel_web|pct_viewed_channel_mobile_01_Abaixo_de_75%|pct_viewed_channel_mobile_02_Entre_75%_e_100%|pct_viewed_channel_mobile_00_Sem_dados|pct_viewed_channel_email_02_Entre_67%_e_88%|pct_viewed_channel_email_00_Sem_dados|pct_viewed_channel_email_03_Entre_88%_e_100%|pct_viewed_channel_email_01_Abaixo_de_67%|pct_viewed_channel_social_01_Abaixo_de_100%|pct_viewed_channel_social_00_Sem_dados|pct_viewed_channel_web_01_Abaixo_de_60%|pct_viewed_channel_web_03_Entre_90%_e_100%|pct_viewed_channel_web_00_Sem_dados|pct_viewed_channel_web_02_Entre_60%_e_90%|pct_viewed_type_bogo|pct_viewed_type_discount|pct_viewed_type_informational|pct_viewed_type_bogo_01_Abaixo_de_100%|pct_viewed_type_bogo_00_Sem_dados|pct_viewed_type_discount_01_Abaixo_de_50%|pct_viewed_type_discount_00_Sem_dados|pct_viewed_type_discount_02_Entre_50%_e_100%|pct_viewed_type_informational_01_Abaixo_de_50%|pct_viewed_type_informational_00_Sem_dados|pct_viewed_type_informational_02_Entre_50%_e_100%|total_offers_received|total_offers_received_04_Acima_de_7|total_offers_received_02_Entre_4_e_5|total_offers_received_03_Entre_5_e_7|total_offers_received_00_Sem_dados|total_offers_received_01_Abaixo_de_4|\n",
      "+--------------------+----------------+--------------------+------+-------------+-----------------+----------------------------------------+----------------------------------------+-----------------------------------+------------------------------------+------------------------------+--------------------+--------------------+--------------------+----------------+--------------------+-------------------+------------------+----------------+----------------------------------+---------------------------------+-------------------------------+---------------------------------+---------------------------------+--------------------------+---------------------------+---------------------------+-----------------------+-------------------------+-------------------------+--------------------+-----------------------------+-------------------------+-------------------------+-----------------------+------------------------------------------+---------------------------------------+-----------------------------------------+------------------------------------+---------------------------------------+---------------------+----------------------+------------------------------------+------------------------------------+----------------------------------+------------------------------------+-----------------------------------+-------------------------------------+------------------------------------+-----------------------------------+-------------------------------------+-------------------------------------+---------------------+-------------------------------------+---------------------------------------+----------------------------------------+----------------------------------+-------------------------------------+-----------------------+----------------------+-----------------------+--------------------+---------------------------------------+-----------------------------------------+------------------------------------------+------------------------------------+---------------------------------------+--------------------------------------+----------------------------------------+-----------------------------------------+-----------------------------------+--------------------------------------+---------------------------------------+------------------------------------------+------------------------------------+---------------------------------------+-----------------------------------------+------------------------------------+--------------------------------------+---------------------------------+---------------------------------------+------------------------------------+-------------------+----------------------+---------------------------+------------------------------------+-------------------------------+--------------------------------------+----------------------------------+------------------------------------------+-----------------------------------+--------------------------------------+----------------------------------------+----------------------------------------+-------------------------------------------+----------------------+-----------------------------------------+-----------------------------------+------------------------------------------+---------------------------------------+-------------------------+------------------------+-------------------------+----------------------+------------------------------------------+---------------------------------------------+--------------------------------------+-------------------------------------------+-------------------------------------+--------------------------------------------+-----------------------------------------+-------------------------------------------+--------------------------------------+---------------------------------------+------------------------------------------+-----------------------------------+-----------------------------------------+--------------------+------------------------+-----------------------------+--------------------------------------+---------------------------------+-----------------------------------------+-------------------------------------+--------------------------------------------+----------------------------------------------+------------------------------------------+-------------------------------------------------+---------------------+-----------------------------------+------------------------------------+------------------------------------+----------------------------------+------------------------------------+\n",
      "|c05652fa9d2c4fac9...| 06_Acima_de_60+|03_Entre_63000_e_...|     M|   2018-01-27|          2018-01|                                       1|                                       0|                                  0|                                   0|                             0|                   0|                   0|                   0|               0|                   0|                  1|    02_Entre_4_e_7| 02_Entre_3_e_12|                                 0|                                1|                              0|                                0|                                0|                         1|                          0|                          0|                      0|                        0|                        0|                NULL|                            0|                        0|                        0|        01_Abaixo_de_0%|                                         0|                                      0|                                        0|                                   0|                                      1|         00_Sem_dados|          00_Sem_dados|                                   0|                                   0|                                 1|                                   0|                                  0|                                    0|                                   0|                                  1|                                    0|                                    0|      01_Abaixo_de_0%|                                    0|                                      0|                                       0|                                 0|                                    1|        01_Abaixo_de_0%|       01_Abaixo_de_0%|        01_Abaixo_de_0%|     01_Abaixo_de_0%|                                      0|                                        0|                                         0|                                   0|                                      1|                                     0|                                       0|                                        0|                                  0|                                     1|                                      0|                                         0|                                   0|                                      1|                                        0|                                   0|                                     0|                                0|                                      0|                                   1|    01_Abaixo_de_0%|       01_Abaixo_de_0%|               00_Sem_dados|                                   0|                              0|                                     0|                                 1|                                         0|                                  0|                                     1|                                       0|                                       1|                                          0|    02_Entre_67%_e_88%|                                        1|                                  0|                                         0|                                      0|      02_Entre_75%_e_100%|      02_Entre_67%_e_88%|        01_Abaixo_de_100%|    02_Entre_60%_e_90%|                                         0|                                            1|                                     0|                                          1|                                    0|                                           0|                                        0|                                          1|                                     0|                                      0|                                         0|                                  0|                                        1|   01_Abaixo_de_100%|        01_Abaixo_de_50%|                 00_Sem_dados|                                     1|                                0|                                        1|                                    0|                                           0|                                             0|                                         1|                                                0|        04_Acima_de_7|                                  1|                                   0|                                   0|                                 0|                                   0|\n",
      "|6be0513109fe4d738...|04_Entre_40_e_49|02_Entre_49000_e_...|     M|   2018-06-13|          2018-06|                                       0|                                       1|                                  0|                                   0|                             0|                   1|                   0|                   0|               0|                   0|                  0|    01_Abaixo_de_4|03_Entre_12_e_20|                                 0|                                0|                              0|                                1|                                0|                         0|                          0|                          1|                      0|                        0|                        0|                NULL|                            0|                        0|                        0|        01_Abaixo_de_0%|                                         0|                                      0|                                        0|                                   0|                                      1|         00_Sem_dados|          00_Sem_dados|                                   0|                                   0|                                 1|                                   0|                                  0|                                    0|                                   0|                                  1|                                    0|                                    0|      01_Abaixo_de_0%|                                    0|                                      0|                                       0|                                 0|                                    1|        01_Abaixo_de_0%|       01_Abaixo_de_0%|        01_Abaixo_de_0%|     01_Abaixo_de_0%|                                      0|                                        0|                                         0|                                   0|                                      1|                                     0|                                       0|                                        0|                                  0|                                     1|                                      0|                                         0|                                   0|                                      1|                                        0|                                   0|                                     0|                                0|                                      0|                                   1|    01_Abaixo_de_0%|       01_Abaixo_de_0%|            01_Abaixo_de_0%|                                   0|                              0|                                     0|                                 1|                                         0|                                  0|                                     1|                                       0|                                       0|                                          1|    02_Entre_67%_e_88%|                                        1|                                  0|                                         0|                                      0|      02_Entre_75%_e_100%|      02_Entre_67%_e_88%|        01_Abaixo_de_100%|    02_Entre_60%_e_90%|                                         0|                                            1|                                     0|                                          1|                                    0|                                           0|                                        0|                                          1|                                     0|                                      0|                                         0|                                  0|                                        1|   01_Abaixo_de_100%|        01_Abaixo_de_50%|          02_Entre_50%_e_100%|                                     1|                                0|                                        1|                                    0|                                           0|                                             0|                                         0|                                                1|       03_Entre_5_e_7|                                  0|                                   0|                                   1|                                 0|                                   0|\n",
      "|9de54389816342449...|    00_Sem_dados|        00_Sem_dados|  NULL|   2018-04-22|          2018-04|                                       0|                                       0|                                  0|                                   0|                             1|                   0|                   0|                   0|               1|                   0|                  0|    01_Abaixo_de_4| 02_Entre_3_e_12|                                 0|                                0|                              0|                                1|                                0|                         1|                          0|                          0|                      0|                        0|                        0|                NULL|                            0|                        0|                        0|        01_Abaixo_de_0%|                                         0|                                      0|                                        0|                                   0|                                      1|         00_Sem_dados|          00_Sem_dados|                                   0|                                   0|                                 1|                                   0|                                  0|                                    0|                                   0|                                  1|                                    0|                                    0|      01_Abaixo_de_0%|                                    0|                                      0|                                       0|                                 0|                                    1|        01_Abaixo_de_0%|       01_Abaixo_de_0%|        01_Abaixo_de_0%|        00_Sem_dados|                                      0|                                        0|                                         0|                                   0|                                      1|                                     0|                                       0|                                        0|                                  0|                                     1|                                      0|                                         0|                                   0|                                      1|                                        0|                                   0|                                     0|                                1|                                      0|                                   0|    01_Abaixo_de_0%|          00_Sem_dados|            01_Abaixo_de_0%|                                   0|                              0|                                     0|                                 1|                                         0|                                  1|                                     0|                                       0|                                       0|                                          1|    02_Entre_67%_e_88%|                                        1|                                  0|                                         0|                                      0|      02_Entre_75%_e_100%|      02_Entre_67%_e_88%|        01_Abaixo_de_100%|          00_Sem_dados|                                         0|                                            1|                                     0|                                          1|                                    0|                                           0|                                        0|                                          1|                                     0|                                      0|                                         0|                                  1|                                        0|   01_Abaixo_de_100%|            00_Sem_dados|          02_Entre_50%_e_100%|                                     1|                                0|                                        0|                                    1|                                           0|                                             0|                                         0|                                                1|       02_Entre_4_e_5|                                  0|                                   1|                                   0|                                 0|                                   0|\n",
      "|f5de20984950433d9...|04_Entre_40_e_49|03_Entre_63000_e_...|     M|   2015-09-10|          2015-09|                                       1|                                       0|                                  0|                                   0|                             0|                   1|                   0|                   0|               0|                   0|                  0|    04_Acima_de_11|04_Entre_20_e_28|                                 0|                                0|                              0|                                0|                                1|                         0|                          1|                          0|                      0|                        0|                        0|                bogo|                            0|                        1|                        0|     03_Entre_17%_e_33%|                                         1|                                      0|                                        0|                                   0|                                      0|       01_Abaixo_de_2|        03_Entre_2_e_3|                                   0|                                   0|                                 0|                                   1|                                  0|                                    0|                                   0|                                  0|                                    1|                                    0|      04_Acima_de_71%|                                    1|                                      0|                                       0|                                 0|                                    0|        04_Acima_de_71%|       04_Acima_de_71%|        04_Acima_de_89%|     04_Acima_de_75%|                                      1|                                        0|                                         0|                                   0|                                      0|                                     1|                                       0|                                        0|                                  0|                                     0|                                      1|                                         0|                                   0|                                      0|                                        0|                                   1|                                     0|                                0|                                      0|                                   0|03_Entre_25%_e_100%|          00_Sem_dados|               00_Sem_dados|                                   0|                              0|                                     1|                                 0|                                         0|                                  1|                                     0|                                       0|                                       1|                                          0|   03_Entre_88%_e_100%|                                        0|                                  0|                                         1|                                      0|      02_Entre_75%_e_100%|     03_Entre_88%_e_100%|        01_Abaixo_de_100%|   03_Entre_90%_e_100%|                                         0|                                            1|                                     0|                                          0|                                    0|                                           1|                                        0|                                          1|                                     0|                                      0|                                         1|                                  0|                                        0|   01_Abaixo_de_100%|            00_Sem_dados|                 00_Sem_dados|                                     1|                                0|                                        0|                                    1|                                           0|                                             0|                                         1|                                                0|        04_Acima_de_7|                                  1|                                   0|                                   0|                                 0|                                   0|\n",
      "|9da3f2339b244229a...|04_Entre_40_e_49|  01_Abaixo_de_49000|     F|   2018-01-09|          2018-01|                                       0|                                       0|                                  0|                                   1|                             0|                   1|                   0|                   0|               0|                   0|                  0|    01_Abaixo_de_4| 02_Entre_3_e_12|                                 0|                                0|                              0|                                1|                                0|                         1|                          0|                          0|                      0|                        0|                        0|                NULL|                            0|                        0|                        0|        01_Abaixo_de_0%|                                         0|                                      0|                                        0|                                   0|                                      1|         00_Sem_dados|          00_Sem_dados|                                   0|                                   0|                                 1|                                   0|                                  0|                                    0|                                   0|                                  1|                                    0|                                    0|      01_Abaixo_de_0%|                                    0|                                      0|                                       0|                                 0|                                    1|        01_Abaixo_de_0%|       01_Abaixo_de_0%|        01_Abaixo_de_0%|     01_Abaixo_de_0%|                                      0|                                        0|                                         0|                                   0|                                      1|                                     0|                                       0|                                        0|                                  0|                                     1|                                      0|                                         0|                                   0|                                      1|                                        0|                                   0|                                     0|                                0|                                      0|                                   1|    01_Abaixo_de_0%|       01_Abaixo_de_0%|               00_Sem_dados|                                   0|                              0|                                     0|                                 1|                                         0|                                  0|                                     1|                                       0|                                       1|                                          0|      01_Abaixo_de_67%|                                        0|                                  0|                                         0|                                      1|         01_Abaixo_de_75%|        01_Abaixo_de_67%|        01_Abaixo_de_100%|      01_Abaixo_de_60%|                                         1|                                            0|                                     0|                                          0|                                    0|                                           0|                                        1|                                          1|                                     0|                                      1|                                         0|                                  0|                                        0|   01_Abaixo_de_100%|        01_Abaixo_de_50%|                 00_Sem_dados|                                     1|                                0|                                        1|                                    0|                                           0|                                             0|                                         1|                                                0|       02_Entre_4_e_5|                                  0|                                   1|                                   0|                                 0|                                   0|\n",
      "+--------------------+----------------+--------------------+------+-------------+-----------------+----------------------------------------+----------------------------------------+-----------------------------------+------------------------------------+------------------------------+--------------------+--------------------+--------------------+----------------+--------------------+-------------------+------------------+----------------+----------------------------------+---------------------------------+-------------------------------+---------------------------------+---------------------------------+--------------------------+---------------------------+---------------------------+-----------------------+-------------------------+-------------------------+--------------------+-----------------------------+-------------------------+-------------------------+-----------------------+------------------------------------------+---------------------------------------+-----------------------------------------+------------------------------------+---------------------------------------+---------------------+----------------------+------------------------------------+------------------------------------+----------------------------------+------------------------------------+-----------------------------------+-------------------------------------+------------------------------------+-----------------------------------+-------------------------------------+-------------------------------------+---------------------+-------------------------------------+---------------------------------------+----------------------------------------+----------------------------------+-------------------------------------+-----------------------+----------------------+-----------------------+--------------------+---------------------------------------+-----------------------------------------+------------------------------------------+------------------------------------+---------------------------------------+--------------------------------------+----------------------------------------+-----------------------------------------+-----------------------------------+--------------------------------------+---------------------------------------+------------------------------------------+------------------------------------+---------------------------------------+-----------------------------------------+------------------------------------+--------------------------------------+---------------------------------+---------------------------------------+------------------------------------+-------------------+----------------------+---------------------------+------------------------------------+-------------------------------+--------------------------------------+----------------------------------+------------------------------------------+-----------------------------------+--------------------------------------+----------------------------------------+----------------------------------------+-------------------------------------------+----------------------+-----------------------------------------+-----------------------------------+------------------------------------------+---------------------------------------+-------------------------+------------------------+-------------------------+----------------------+------------------------------------------+---------------------------------------------+--------------------------------------+-------------------------------------------+-------------------------------------+--------------------------------------------+-----------------------------------------+-------------------------------------------+--------------------------------------+---------------------------------------+------------------------------------------+-----------------------------------+-----------------------------------------+--------------------+------------------------+-----------------------------+--------------------------------------+---------------------------------+-----------------------------------------+-------------------------------------+--------------------------------------------+----------------------------------------------+------------------------------------------+-------------------------------------------------+---------------------+-----------------------------------+------------------------------------+------------------------------------+----------------------------------+------------------------------------+\n",
      "only showing top 5 rows\n",
      "\n",
      "None\n"
     ]
    }
   ],
   "source": [
    "# Total de ofertas recebidas por cliente\n",
    "viewed_rate_df = (offer_summary\n",
    "    .groupBy(\"account_id\")\n",
    "    .agg(\n",
    "        F.count(\"*\").alias(\"total_offers_received\"))\n",
    "    .select(\"account_id\",\n",
    "            \"total_offers_received\")\n",
    ")\n",
    "\n",
    "profile = (profile\n",
    "    .join(viewed_rate_df,\n",
    "        on=\"account_id\",\n",
    "        how=\"left\")\n",
    ")\n",
    "\n",
    "# Alterando os valores para faixas\n",
    "profile = column_default_categorizer(profile, \"total_offers_received\")\n",
    "# Criando dummies da coluna categorizada\n",
    "profile = create_dummies_for_column(profile, \"total_offers_received\")\n",
    "\n",
    "del(viewed_rate_df)\n",
    "\n",
    "print(profile.show(5))"
   ]
  },
  {
   "cell_type": "markdown",
   "id": "44543d87",
   "metadata": {},
   "source": [
    "### 4.7.2. Por veículo"
   ]
  },
  {
   "cell_type": "code",
   "execution_count": 38,
   "id": "0abcc911",
   "metadata": {},
   "outputs": [
    {
     "name": "stdout",
     "output_type": "stream",
     "text": [
      "+--------------------+----------------+--------------------+------+-------------+-----------------+----------------------------------------+----------------------------------------+-----------------------------------+------------------------------------+------------------------------+--------------------+--------------------+--------------------+----------------+--------------------+-------------------+------------------+----------------+----------------------------------+---------------------------------+-------------------------------+---------------------------------+---------------------------------+--------------------------+---------------------------+---------------------------+-----------------------+-------------------------+-------------------------+--------------------+-----------------------------+-------------------------+-------------------------+-----------------------+------------------------------------------+---------------------------------------+-----------------------------------------+------------------------------------+---------------------------------------+---------------------+----------------------+------------------------------------+------------------------------------+----------------------------------+------------------------------------+-----------------------------------+-------------------------------------+------------------------------------+-----------------------------------+-------------------------------------+-------------------------------------+---------------------+-------------------------------------+---------------------------------------+----------------------------------------+----------------------------------+-------------------------------------+-----------------------+----------------------+-----------------------+--------------------+---------------------------------------+-----------------------------------------+------------------------------------------+------------------------------------+---------------------------------------+--------------------------------------+----------------------------------------+-----------------------------------------+-----------------------------------+--------------------------------------+---------------------------------------+------------------------------------------+------------------------------------+---------------------------------------+-----------------------------------------+------------------------------------+--------------------------------------+---------------------------------+---------------------------------------+------------------------------------+-------------------+----------------------+---------------------------+------------------------------------+-------------------------------+--------------------------------------+----------------------------------+------------------------------------------+-----------------------------------+--------------------------------------+----------------------------------------+----------------------------------------+-------------------------------------------+----------------------+-----------------------------------------+-----------------------------------+------------------------------------------+---------------------------------------+-------------------------+------------------------+-------------------------+----------------------+------------------------------------------+---------------------------------------------+--------------------------------------+-------------------------------------------+-------------------------------------+--------------------------------------------+-----------------------------------------+-------------------------------------------+--------------------------------------+---------------------------------------+------------------------------------------+-----------------------------------+-----------------------------------------+--------------------+------------------------+-----------------------------+--------------------------------------+---------------------------------+-----------------------------------------+-------------------------------------+--------------------------------------------+----------------------------------------------+------------------------------------------+-------------------------------------------------+---------------------+-----------------------------------+------------------------------------+------------------------------------+----------------------------------+------------------------------------+------------------+-----------------+------------------+---------------+--------------------------------+---------------------------------+-------------------------------+---------------------------------+---------------------------------+-------------------------------+--------------------------------+--------------------------------+------------------------------+--------------------------------+--------------------------------+---------------------------------+-------------------------------+---------------------------------+---------------------------------+------------------------------+-----------------------------+------------------------------+----------------------------+------------------------------+\n",
      "|          account_id|             age|   credit_card_limit|gender|registered_on|year_month_joined|credit_card_limit_03_Entre_63000_e_79000|credit_card_limit_02_Entre_49000_e_63000|credit_card_limit_04_Acima_de_79000|credit_card_limit_01_Abaixo_de_49000|credit_card_limit_00_Sem_dados|age_04_Entre_40_e_49|age_02_Entre_18_e_29|age_03_Entre_30_e_39|age_00_Sem_dados|age_05_Entre_50_e_59|age_06_Acima_de_60+|total_transactions|      avg_amount|total_transactions_03_Entre_7_e_11|total_transactions_02_Entre_4_e_7|total_transactions_00_Sem_dados|total_transactions_01_Abaixo_de_4|total_transactions_04_Acima_de_11|avg_amount_02_Entre_3_e_12|avg_amount_04_Entre_20_e_28|avg_amount_03_Entre_12_e_20|avg_amount_00_Sem_dados|avg_amount_01_Abaixo_de_3|avg_amount_05_Acima_de_28|most_used_offer_type|most_used_offer_type_discount|most_used_offer_type_bogo|most_used_offer_type_None|transactions_offer_rate|transactions_offer_rate_03_Entre_17%_e_33%|transactions_offer_rate_04_Acima_de_33%|transactions_offer_rate_02_Entre_0%_e_17%|transactions_offer_rate_00_Sem_dados|transactions_offer_rate_01_Abaixo_de_0%|avg_time_to_use_offer|avg_time_to_view_offer|avg_time_to_use_offer_02_Entre_2_e_2|avg_time_to_use_offer_03_Entre_2_e_4|avg_time_to_use_offer_00_Sem_dados|avg_time_to_use_offer_01_Abaixo_de_2|avg_time_to_use_offer_04_Acima_de_4|avg_time_to_view_offer_01_Abaixo_de_1|avg_time_to_view_offer_04_Acima_de_3|avg_time_to_view_offer_00_Sem_dados|avg_time_to_view_offer_03_Entre_2_e_3|avg_time_to_view_offer_02_Entre_1_e_2|all_coupon_usage_rate|all_coupon_usage_rate_04_Acima_de_71%|all_coupon_usage_rate_02_Entre_0%_e_33%|all_coupon_usage_rate_03_Entre_33%_e_71%|all_coupon_usage_rate_00_Sem_dados|all_coupon_usage_rate_01_Abaixo_de_0%|pct_used_channel_mobile|pct_used_channel_email|pct_used_channel_social|pct_used_channel_web|pct_used_channel_mobile_04_Acima_de_71%|pct_used_channel_mobile_02_Entre_0%_e_33%|pct_used_channel_mobile_03_Entre_33%_e_71%|pct_used_channel_mobile_00_Sem_dados|pct_used_channel_mobile_01_Abaixo_de_0%|pct_used_channel_email_04_Acima_de_71%|pct_used_channel_email_02_Entre_0%_e_33%|pct_used_channel_email_03_Entre_33%_e_71%|pct_used_channel_email_00_Sem_dados|pct_used_channel_email_01_Abaixo_de_0%|pct_used_channel_social_04_Acima_de_89%|pct_used_channel_social_03_Entre_50%_e_89%|pct_used_channel_social_00_Sem_dados|pct_used_channel_social_01_Abaixo_de_0%|pct_used_channel_social_02_Entre_0%_e_50%|pct_used_channel_web_04_Acima_de_75%|pct_used_channel_web_02_Entre_0%_e_33%|pct_used_channel_web_00_Sem_dados|pct_used_channel_web_03_Entre_33%_e_75%|pct_used_channel_web_01_Abaixo_de_0%| pct_used_type_bogo|pct_used_type_discount|pct_used_type_informational|pct_used_type_bogo_02_Entre_0%_e_25%|pct_used_type_bogo_00_Sem_dados|pct_used_type_bogo_03_Entre_25%_e_100%|pct_used_type_bogo_01_Abaixo_de_0%|pct_used_type_discount_03_Entre_50%_e_100%|pct_used_type_discount_00_Sem_dados|pct_used_type_discount_01_Abaixo_de_0%|pct_used_type_discount_02_Entre_0%_e_50%|pct_used_type_informational_00_Sem_dados|pct_used_type_informational_01_Abaixo_de_0%|all_coupon_viewed_rate|all_coupon_viewed_rate_02_Entre_67%_e_88%|all_coupon_viewed_rate_00_Sem_dados|all_coupon_viewed_rate_03_Entre_88%_e_100%|all_coupon_viewed_rate_01_Abaixo_de_67%|pct_viewed_channel_mobile|pct_viewed_channel_email|pct_viewed_channel_social|pct_viewed_channel_web|pct_viewed_channel_mobile_01_Abaixo_de_75%|pct_viewed_channel_mobile_02_Entre_75%_e_100%|pct_viewed_channel_mobile_00_Sem_dados|pct_viewed_channel_email_02_Entre_67%_e_88%|pct_viewed_channel_email_00_Sem_dados|pct_viewed_channel_email_03_Entre_88%_e_100%|pct_viewed_channel_email_01_Abaixo_de_67%|pct_viewed_channel_social_01_Abaixo_de_100%|pct_viewed_channel_social_00_Sem_dados|pct_viewed_channel_web_01_Abaixo_de_60%|pct_viewed_channel_web_03_Entre_90%_e_100%|pct_viewed_channel_web_00_Sem_dados|pct_viewed_channel_web_02_Entre_60%_e_90%|pct_viewed_type_bogo|pct_viewed_type_discount|pct_viewed_type_informational|pct_viewed_type_bogo_01_Abaixo_de_100%|pct_viewed_type_bogo_00_Sem_dados|pct_viewed_type_discount_01_Abaixo_de_50%|pct_viewed_type_discount_00_Sem_dados|pct_viewed_type_discount_02_Entre_50%_e_100%|pct_viewed_type_informational_01_Abaixo_de_50%|pct_viewed_type_informational_00_Sem_dados|pct_viewed_type_informational_02_Entre_50%_e_100%|total_offers_received|total_offers_received_04_Acima_de_7|total_offers_received_02_Entre_4_e_5|total_offers_received_03_Entre_5_e_7|total_offers_received_00_Sem_dados|total_offers_received_01_Abaixo_de_4|total_mobile_offer|total_email_offer|total_social_offer|total_web_offer|total_mobile_offer_04_Acima_de_7|total_mobile_offer_03_Entre_5_e_7|total_mobile_offer_00_Sem_dados|total_mobile_offer_02_Entre_3_e_5|total_mobile_offer_01_Abaixo_de_3|total_email_offer_04_Acima_de_7|total_email_offer_02_Entre_4_e_5|total_email_offer_03_Entre_5_e_7|total_email_offer_00_Sem_dados|total_email_offer_01_Abaixo_de_4|total_social_offer_04_Acima_de_5|total_social_offer_03_Entre_3_e_5|total_social_offer_00_Sem_dados|total_social_offer_01_Abaixo_de_2|total_social_offer_02_Entre_2_e_3|total_web_offer_02_Entre_3_e_4|total_web_offer_04_Acima_de_6|total_web_offer_03_Entre_4_e_6|total_web_offer_00_Sem_dados|total_web_offer_01_Abaixo_de_3|\n",
      "+--------------------+----------------+--------------------+------+-------------+-----------------+----------------------------------------+----------------------------------------+-----------------------------------+------------------------------------+------------------------------+--------------------+--------------------+--------------------+----------------+--------------------+-------------------+------------------+----------------+----------------------------------+---------------------------------+-------------------------------+---------------------------------+---------------------------------+--------------------------+---------------------------+---------------------------+-----------------------+-------------------------+-------------------------+--------------------+-----------------------------+-------------------------+-------------------------+-----------------------+------------------------------------------+---------------------------------------+-----------------------------------------+------------------------------------+---------------------------------------+---------------------+----------------------+------------------------------------+------------------------------------+----------------------------------+------------------------------------+-----------------------------------+-------------------------------------+------------------------------------+-----------------------------------+-------------------------------------+-------------------------------------+---------------------+-------------------------------------+---------------------------------------+----------------------------------------+----------------------------------+-------------------------------------+-----------------------+----------------------+-----------------------+--------------------+---------------------------------------+-----------------------------------------+------------------------------------------+------------------------------------+---------------------------------------+--------------------------------------+----------------------------------------+-----------------------------------------+-----------------------------------+--------------------------------------+---------------------------------------+------------------------------------------+------------------------------------+---------------------------------------+-----------------------------------------+------------------------------------+--------------------------------------+---------------------------------+---------------------------------------+------------------------------------+-------------------+----------------------+---------------------------+------------------------------------+-------------------------------+--------------------------------------+----------------------------------+------------------------------------------+-----------------------------------+--------------------------------------+----------------------------------------+----------------------------------------+-------------------------------------------+----------------------+-----------------------------------------+-----------------------------------+------------------------------------------+---------------------------------------+-------------------------+------------------------+-------------------------+----------------------+------------------------------------------+---------------------------------------------+--------------------------------------+-------------------------------------------+-------------------------------------+--------------------------------------------+-----------------------------------------+-------------------------------------------+--------------------------------------+---------------------------------------+------------------------------------------+-----------------------------------+-----------------------------------------+--------------------+------------------------+-----------------------------+--------------------------------------+---------------------------------+-----------------------------------------+-------------------------------------+--------------------------------------------+----------------------------------------------+------------------------------------------+-------------------------------------------------+---------------------+-----------------------------------+------------------------------------+------------------------------------+----------------------------------+------------------------------------+------------------+-----------------+------------------+---------------+--------------------------------+---------------------------------+-------------------------------+---------------------------------+---------------------------------+-------------------------------+--------------------------------+--------------------------------+------------------------------+--------------------------------+--------------------------------+---------------------------------+-------------------------------+---------------------------------+---------------------------------+------------------------------+-----------------------------+------------------------------+----------------------------+------------------------------+\n",
      "|c05652fa9d2c4fac9...| 06_Acima_de_60+|03_Entre_63000_e_...|     M|   2018-01-27|          2018-01|                                       1|                                       0|                                  0|                                   0|                             0|                   0|                   0|                   0|               0|                   0|                  1|    02_Entre_4_e_7| 02_Entre_3_e_12|                                 0|                                1|                              0|                                0|                                0|                         1|                          0|                          0|                      0|                        0|                        0|                NULL|                            0|                        0|                        0|        01_Abaixo_de_0%|                                         0|                                      0|                                        0|                                   0|                                      1|         00_Sem_dados|          00_Sem_dados|                                   0|                                   0|                                 1|                                   0|                                  0|                                    0|                                   0|                                  1|                                    0|                                    0|      01_Abaixo_de_0%|                                    0|                                      0|                                       0|                                 0|                                    1|        01_Abaixo_de_0%|       01_Abaixo_de_0%|        01_Abaixo_de_0%|     01_Abaixo_de_0%|                                      0|                                        0|                                         0|                                   0|                                      1|                                     0|                                       0|                                        0|                                  0|                                     1|                                      0|                                         0|                                   0|                                      1|                                        0|                                   0|                                     0|                                0|                                      0|                                   1|    01_Abaixo_de_0%|       01_Abaixo_de_0%|               00_Sem_dados|                                   0|                              0|                                     0|                                 1|                                         0|                                  0|                                     1|                                       0|                                       1|                                          0|    02_Entre_67%_e_88%|                                        1|                                  0|                                         0|                                      0|      02_Entre_75%_e_100%|      02_Entre_67%_e_88%|        01_Abaixo_de_100%|    02_Entre_60%_e_90%|                                         0|                                            1|                                     0|                                          1|                                    0|                                           0|                                        0|                                          1|                                     0|                                      0|                                         0|                                  0|                                        1|   01_Abaixo_de_100%|        01_Abaixo_de_50%|                 00_Sem_dados|                                     1|                                0|                                        1|                                    0|                                           0|                                             0|                                         1|                                                0|        04_Acima_de_7|                                  1|                                   0|                                   0|                                 0|                                   0|    03_Entre_5_e_7|    04_Acima_de_7|    03_Entre_3_e_5|  04_Acima_de_6|                               0|                                1|                              0|                                0|                                0|                              1|                               0|                               0|                             0|                               0|                               0|                                1|                              0|                                0|                                0|                             0|                            1|                             0|                           0|                             0|\n",
      "|6be0513109fe4d738...|04_Entre_40_e_49|02_Entre_49000_e_...|     M|   2018-06-13|          2018-06|                                       0|                                       1|                                  0|                                   0|                             0|                   1|                   0|                   0|               0|                   0|                  0|    01_Abaixo_de_4|03_Entre_12_e_20|                                 0|                                0|                              0|                                1|                                0|                         0|                          0|                          1|                      0|                        0|                        0|                NULL|                            0|                        0|                        0|        01_Abaixo_de_0%|                                         0|                                      0|                                        0|                                   0|                                      1|         00_Sem_dados|          00_Sem_dados|                                   0|                                   0|                                 1|                                   0|                                  0|                                    0|                                   0|                                  1|                                    0|                                    0|      01_Abaixo_de_0%|                                    0|                                      0|                                       0|                                 0|                                    1|        01_Abaixo_de_0%|       01_Abaixo_de_0%|        01_Abaixo_de_0%|     01_Abaixo_de_0%|                                      0|                                        0|                                         0|                                   0|                                      1|                                     0|                                       0|                                        0|                                  0|                                     1|                                      0|                                         0|                                   0|                                      1|                                        0|                                   0|                                     0|                                0|                                      0|                                   1|    01_Abaixo_de_0%|       01_Abaixo_de_0%|            01_Abaixo_de_0%|                                   0|                              0|                                     0|                                 1|                                         0|                                  0|                                     1|                                       0|                                       0|                                          1|    02_Entre_67%_e_88%|                                        1|                                  0|                                         0|                                      0|      02_Entre_75%_e_100%|      02_Entre_67%_e_88%|        01_Abaixo_de_100%|    02_Entre_60%_e_90%|                                         0|                                            1|                                     0|                                          1|                                    0|                                           0|                                        0|                                          1|                                     0|                                      0|                                         0|                                  0|                                        1|   01_Abaixo_de_100%|        01_Abaixo_de_50%|          02_Entre_50%_e_100%|                                     1|                                0|                                        1|                                    0|                                           0|                                             0|                                         0|                                                1|       03_Entre_5_e_7|                                  0|                                   0|                                   1|                                 0|                                   0|    03_Entre_5_e_7|   03_Entre_5_e_7|    03_Entre_3_e_5| 03_Entre_4_e_6|                               0|                                1|                              0|                                0|                                0|                              0|                               0|                               1|                             0|                               0|                               0|                                1|                              0|                                0|                                0|                             0|                            0|                             1|                           0|                             0|\n",
      "|9de54389816342449...|    00_Sem_dados|        00_Sem_dados|  NULL|   2018-04-22|          2018-04|                                       0|                                       0|                                  0|                                   0|                             1|                   0|                   0|                   0|               1|                   0|                  0|    01_Abaixo_de_4| 02_Entre_3_e_12|                                 0|                                0|                              0|                                1|                                0|                         1|                          0|                          0|                      0|                        0|                        0|                NULL|                            0|                        0|                        0|        01_Abaixo_de_0%|                                         0|                                      0|                                        0|                                   0|                                      1|         00_Sem_dados|          00_Sem_dados|                                   0|                                   0|                                 1|                                   0|                                  0|                                    0|                                   0|                                  1|                                    0|                                    0|      01_Abaixo_de_0%|                                    0|                                      0|                                       0|                                 0|                                    1|        01_Abaixo_de_0%|       01_Abaixo_de_0%|        01_Abaixo_de_0%|        00_Sem_dados|                                      0|                                        0|                                         0|                                   0|                                      1|                                     0|                                       0|                                        0|                                  0|                                     1|                                      0|                                         0|                                   0|                                      1|                                        0|                                   0|                                     0|                                1|                                      0|                                   0|    01_Abaixo_de_0%|          00_Sem_dados|            01_Abaixo_de_0%|                                   0|                              0|                                     0|                                 1|                                         0|                                  1|                                     0|                                       0|                                       0|                                          1|    02_Entre_67%_e_88%|                                        1|                                  0|                                         0|                                      0|      02_Entre_75%_e_100%|      02_Entre_67%_e_88%|        01_Abaixo_de_100%|          00_Sem_dados|                                         0|                                            1|                                     0|                                          1|                                    0|                                           0|                                        0|                                          1|                                     0|                                      0|                                         0|                                  1|                                        0|   01_Abaixo_de_100%|            00_Sem_dados|          02_Entre_50%_e_100%|                                     1|                                0|                                        0|                                    1|                                           0|                                             0|                                         0|                                                1|       02_Entre_4_e_5|                                  0|                                   1|                                   0|                                 0|                                   0|    02_Entre_3_e_5|   02_Entre_4_e_5|    03_Entre_3_e_5| 01_Abaixo_de_3|                               0|                                0|                              0|                                1|                                0|                              0|                               1|                               0|                             0|                               0|                               0|                                1|                              0|                                0|                                0|                             0|                            0|                             0|                           0|                             1|\n",
      "|f5de20984950433d9...|04_Entre_40_e_49|03_Entre_63000_e_...|     M|   2015-09-10|          2015-09|                                       1|                                       0|                                  0|                                   0|                             0|                   1|                   0|                   0|               0|                   0|                  0|    04_Acima_de_11|04_Entre_20_e_28|                                 0|                                0|                              0|                                0|                                1|                         0|                          1|                          0|                      0|                        0|                        0|                bogo|                            0|                        1|                        0|     03_Entre_17%_e_33%|                                         1|                                      0|                                        0|                                   0|                                      0|       01_Abaixo_de_2|        03_Entre_2_e_3|                                   0|                                   0|                                 0|                                   1|                                  0|                                    0|                                   0|                                  0|                                    1|                                    0|      04_Acima_de_71%|                                    1|                                      0|                                       0|                                 0|                                    0|        04_Acima_de_71%|       04_Acima_de_71%|        04_Acima_de_89%|     04_Acima_de_75%|                                      1|                                        0|                                         0|                                   0|                                      0|                                     1|                                       0|                                        0|                                  0|                                     0|                                      1|                                         0|                                   0|                                      0|                                        0|                                   1|                                     0|                                0|                                      0|                                   0|03_Entre_25%_e_100%|          00_Sem_dados|               00_Sem_dados|                                   0|                              0|                                     1|                                 0|                                         0|                                  1|                                     0|                                       0|                                       1|                                          0|   03_Entre_88%_e_100%|                                        0|                                  0|                                         1|                                      0|      02_Entre_75%_e_100%|     03_Entre_88%_e_100%|        01_Abaixo_de_100%|   03_Entre_90%_e_100%|                                         0|                                            1|                                     0|                                          0|                                    0|                                           1|                                        0|                                          1|                                     0|                                      0|                                         1|                                  0|                                        0|   01_Abaixo_de_100%|            00_Sem_dados|                 00_Sem_dados|                                     1|                                0|                                        0|                                    1|                                           0|                                             0|                                         1|                                                0|        04_Acima_de_7|                                  1|                                   0|                                   0|                                 0|                                   0|     04_Acima_de_7|    04_Acima_de_7|     04_Acima_de_5|  04_Acima_de_6|                               1|                                0|                              0|                                0|                                0|                              1|                               0|                               0|                             0|                               0|                               1|                                0|                              0|                                0|                                0|                             0|                            1|                             0|                           0|                             0|\n",
      "|9da3f2339b244229a...|04_Entre_40_e_49|  01_Abaixo_de_49000|     F|   2018-01-09|          2018-01|                                       0|                                       0|                                  0|                                   1|                             0|                   1|                   0|                   0|               0|                   0|                  0|    01_Abaixo_de_4| 02_Entre_3_e_12|                                 0|                                0|                              0|                                1|                                0|                         1|                          0|                          0|                      0|                        0|                        0|                NULL|                            0|                        0|                        0|        01_Abaixo_de_0%|                                         0|                                      0|                                        0|                                   0|                                      1|         00_Sem_dados|          00_Sem_dados|                                   0|                                   0|                                 1|                                   0|                                  0|                                    0|                                   0|                                  1|                                    0|                                    0|      01_Abaixo_de_0%|                                    0|                                      0|                                       0|                                 0|                                    1|        01_Abaixo_de_0%|       01_Abaixo_de_0%|        01_Abaixo_de_0%|     01_Abaixo_de_0%|                                      0|                                        0|                                         0|                                   0|                                      1|                                     0|                                       0|                                        0|                                  0|                                     1|                                      0|                                         0|                                   0|                                      1|                                        0|                                   0|                                     0|                                0|                                      0|                                   1|    01_Abaixo_de_0%|       01_Abaixo_de_0%|               00_Sem_dados|                                   0|                              0|                                     0|                                 1|                                         0|                                  0|                                     1|                                       0|                                       1|                                          0|      01_Abaixo_de_67%|                                        0|                                  0|                                         0|                                      1|         01_Abaixo_de_75%|        01_Abaixo_de_67%|        01_Abaixo_de_100%|      01_Abaixo_de_60%|                                         1|                                            0|                                     0|                                          0|                                    0|                                           0|                                        1|                                          1|                                     0|                                      1|                                         0|                                  0|                                        0|   01_Abaixo_de_100%|        01_Abaixo_de_50%|                 00_Sem_dados|                                     1|                                0|                                        1|                                    0|                                           0|                                             0|                                         1|                                                0|       02_Entre_4_e_5|                                  0|                                   1|                                   0|                                 0|                                   0|    02_Entre_3_e_5|   02_Entre_4_e_5|    01_Abaixo_de_2| 02_Entre_3_e_4|                               0|                                0|                              0|                                1|                                0|                              0|                               1|                               0|                             0|                               0|                               0|                                0|                              0|                                1|                                0|                             1|                            0|                             0|                           0|                             0|\n",
      "+--------------------+----------------+--------------------+------+-------------+-----------------+----------------------------------------+----------------------------------------+-----------------------------------+------------------------------------+------------------------------+--------------------+--------------------+--------------------+----------------+--------------------+-------------------+------------------+----------------+----------------------------------+---------------------------------+-------------------------------+---------------------------------+---------------------------------+--------------------------+---------------------------+---------------------------+-----------------------+-------------------------+-------------------------+--------------------+-----------------------------+-------------------------+-------------------------+-----------------------+------------------------------------------+---------------------------------------+-----------------------------------------+------------------------------------+---------------------------------------+---------------------+----------------------+------------------------------------+------------------------------------+----------------------------------+------------------------------------+-----------------------------------+-------------------------------------+------------------------------------+-----------------------------------+-------------------------------------+-------------------------------------+---------------------+-------------------------------------+---------------------------------------+----------------------------------------+----------------------------------+-------------------------------------+-----------------------+----------------------+-----------------------+--------------------+---------------------------------------+-----------------------------------------+------------------------------------------+------------------------------------+---------------------------------------+--------------------------------------+----------------------------------------+-----------------------------------------+-----------------------------------+--------------------------------------+---------------------------------------+------------------------------------------+------------------------------------+---------------------------------------+-----------------------------------------+------------------------------------+--------------------------------------+---------------------------------+---------------------------------------+------------------------------------+-------------------+----------------------+---------------------------+------------------------------------+-------------------------------+--------------------------------------+----------------------------------+------------------------------------------+-----------------------------------+--------------------------------------+----------------------------------------+----------------------------------------+-------------------------------------------+----------------------+-----------------------------------------+-----------------------------------+------------------------------------------+---------------------------------------+-------------------------+------------------------+-------------------------+----------------------+------------------------------------------+---------------------------------------------+--------------------------------------+-------------------------------------------+-------------------------------------+--------------------------------------------+-----------------------------------------+-------------------------------------------+--------------------------------------+---------------------------------------+------------------------------------------+-----------------------------------+-----------------------------------------+--------------------+------------------------+-----------------------------+--------------------------------------+---------------------------------+-----------------------------------------+-------------------------------------+--------------------------------------------+----------------------------------------------+------------------------------------------+-------------------------------------------------+---------------------+-----------------------------------+------------------------------------+------------------------------------+----------------------------------+------------------------------------+------------------+-----------------+------------------+---------------+--------------------------------+---------------------------------+-------------------------------+---------------------------------+---------------------------------+-------------------------------+--------------------------------+--------------------------------+------------------------------+--------------------------------+--------------------------------+---------------------------------+-------------------------------+---------------------------------+---------------------------------+------------------------------+-----------------------------+------------------------------+----------------------------+------------------------------+\n",
      "only showing top 5 rows\n",
      "\n",
      "None\n"
     ]
    }
   ],
   "source": [
    "# Adicionar a informação de uso ao offer_summary\n",
    "offer_summary_with_views = (offer_summary.alias(\"offer_summary_with_views\"))\n",
    "\n",
    "# Derivar uso por canal\n",
    "# Multiplicando \"viewed_offer\" por cada canal obtemos o resultado de uso da oferta\n",
    "# quando o canal também é utilizado\n",
    "for channel in [\"mobile\", \"email\", \"social\", \"web\"]:\n",
    "    offer_summary_with_views = offer_summary_with_views.withColumn(\n",
    "        f\"viewed_channel_{channel}\",\n",
    "        F.col(\"viewed_offer\") * F.col(f\"channel_{channel}\")\n",
    "    )\n",
    "\n",
    "# Agrupar por clientes\n",
    "offer_summary_with_views = (offer_summary_with_views\n",
    "    .groupBy(\"account_id\")\n",
    "    .agg(\n",
    "        F.sum(\"channel_mobile\").alias(\"total_mobile_offer\"),\n",
    "        F.sum(\"channel_email\").alias(\"total_email_offer\"),\n",
    "        F.sum(\"channel_social\").alias(\"total_social_offer\"),\n",
    "        F.sum(\"channel_web\").alias(\"total_web_offer\"))\n",
    "    # Selecionar apenas colunas de interesse\n",
    "    .select(\n",
    "        \"account_id\",\n",
    "        \"total_mobile_offer\",\n",
    "        \"total_email_offer\",\n",
    "        \"total_social_offer\",\n",
    "        \"total_web_offer\")\n",
    ")\n",
    "\n",
    "# Juntar com profile\n",
    "profile = (profile\n",
    "    .join(offer_summary_with_views,\n",
    "        on=\"account_id\",\n",
    "        how=\"left\")\n",
    ")\n",
    "\n",
    "# Alterando os valores para faixas\n",
    "profile = column_default_categorizer(profile, \"total_mobile_offer\")\n",
    "profile = column_default_categorizer(profile, \"total_email_offer\")\n",
    "profile = column_default_categorizer(profile, \"total_social_offer\")\n",
    "profile = column_default_categorizer(profile, \"total_web_offer\")\n",
    "# Criando dummies da coluna categorizada\n",
    "profile = create_dummies_for_column(profile, \"total_mobile_offer\")\n",
    "profile = create_dummies_for_column(profile, \"total_email_offer\")\n",
    "profile = create_dummies_for_column(profile, \"total_social_offer\")\n",
    "profile = create_dummies_for_column(profile, \"total_web_offer\")\n",
    "\n",
    "del(offer_summary_with_views, channel)\n",
    "\n",
    "print(profile.show(5))"
   ]
  },
  {
   "cell_type": "markdown",
   "id": "b2d6c390",
   "metadata": {},
   "source": [
    "### 4.7.3. Por tipo"
   ]
  },
  {
   "cell_type": "code",
   "execution_count": 39,
   "id": "0127e5a7",
   "metadata": {},
   "outputs": [
    {
     "name": "stdout",
     "output_type": "stream",
     "text": [
      "+--------------------+----------------+--------------------+------+-------------+-----------------+----------------------------------------+----------------------------------------+-----------------------------------+------------------------------------+------------------------------+--------------------+--------------------+--------------------+----------------+--------------------+-------------------+------------------+----------------+----------------------------------+---------------------------------+-------------------------------+---------------------------------+---------------------------------+--------------------------+---------------------------+---------------------------+-----------------------+-------------------------+-------------------------+--------------------+-----------------------------+-------------------------+-------------------------+-----------------------+------------------------------------------+---------------------------------------+-----------------------------------------+------------------------------------+---------------------------------------+---------------------+----------------------+------------------------------------+------------------------------------+----------------------------------+------------------------------------+-----------------------------------+-------------------------------------+------------------------------------+-----------------------------------+-------------------------------------+-------------------------------------+---------------------+-------------------------------------+---------------------------------------+----------------------------------------+----------------------------------+-------------------------------------+-----------------------+----------------------+-----------------------+--------------------+---------------------------------------+-----------------------------------------+------------------------------------------+------------------------------------+---------------------------------------+--------------------------------------+----------------------------------------+-----------------------------------------+-----------------------------------+--------------------------------------+---------------------------------------+------------------------------------------+------------------------------------+---------------------------------------+-----------------------------------------+------------------------------------+--------------------------------------+---------------------------------+---------------------------------------+------------------------------------+-------------------+----------------------+---------------------------+------------------------------------+-------------------------------+--------------------------------------+----------------------------------+------------------------------------------+-----------------------------------+--------------------------------------+----------------------------------------+----------------------------------------+-------------------------------------------+----------------------+-----------------------------------------+-----------------------------------+------------------------------------------+---------------------------------------+-------------------------+------------------------+-------------------------+----------------------+------------------------------------------+---------------------------------------------+--------------------------------------+-------------------------------------------+-------------------------------------+--------------------------------------------+-----------------------------------------+-------------------------------------------+--------------------------------------+---------------------------------------+------------------------------------------+-----------------------------------+-----------------------------------------+--------------------+------------------------+-----------------------------+--------------------------------------+---------------------------------+-----------------------------------------+-------------------------------------+--------------------------------------------+----------------------------------------------+------------------------------------------+-------------------------------------------------+---------------------+-----------------------------------+------------------------------------+------------------------------------+----------------------------------+------------------------------------+------------------+-----------------+------------------+---------------+--------------------------------+---------------------------------+-------------------------------+---------------------------------+---------------------------------+-------------------------------+--------------------------------+--------------------------------+------------------------------+--------------------------------+--------------------------------+---------------------------------+-------------------------------+---------------------------------+---------------------------------+------------------------------+-----------------------------+------------------------------+----------------------------+------------------------------+-----------------+---------------------+--------------------------+--------------------------------+-------------------------------+------------------------------+--------------------------------+--------------------------------+------------------------------------+-----------------------------------+----------------------------------+------------------------------------+------------------------------------+-----------------------------------------+-----------------------------------------+---------------------------------------+----------------------------------------+\n",
      "|          account_id|             age|   credit_card_limit|gender|registered_on|year_month_joined|credit_card_limit_03_Entre_63000_e_79000|credit_card_limit_02_Entre_49000_e_63000|credit_card_limit_04_Acima_de_79000|credit_card_limit_01_Abaixo_de_49000|credit_card_limit_00_Sem_dados|age_04_Entre_40_e_49|age_02_Entre_18_e_29|age_03_Entre_30_e_39|age_00_Sem_dados|age_05_Entre_50_e_59|age_06_Acima_de_60+|total_transactions|      avg_amount|total_transactions_03_Entre_7_e_11|total_transactions_02_Entre_4_e_7|total_transactions_00_Sem_dados|total_transactions_01_Abaixo_de_4|total_transactions_04_Acima_de_11|avg_amount_02_Entre_3_e_12|avg_amount_04_Entre_20_e_28|avg_amount_03_Entre_12_e_20|avg_amount_00_Sem_dados|avg_amount_01_Abaixo_de_3|avg_amount_05_Acima_de_28|most_used_offer_type|most_used_offer_type_discount|most_used_offer_type_bogo|most_used_offer_type_None|transactions_offer_rate|transactions_offer_rate_03_Entre_17%_e_33%|transactions_offer_rate_04_Acima_de_33%|transactions_offer_rate_02_Entre_0%_e_17%|transactions_offer_rate_00_Sem_dados|transactions_offer_rate_01_Abaixo_de_0%|avg_time_to_use_offer|avg_time_to_view_offer|avg_time_to_use_offer_02_Entre_2_e_2|avg_time_to_use_offer_03_Entre_2_e_4|avg_time_to_use_offer_00_Sem_dados|avg_time_to_use_offer_01_Abaixo_de_2|avg_time_to_use_offer_04_Acima_de_4|avg_time_to_view_offer_01_Abaixo_de_1|avg_time_to_view_offer_04_Acima_de_3|avg_time_to_view_offer_00_Sem_dados|avg_time_to_view_offer_03_Entre_2_e_3|avg_time_to_view_offer_02_Entre_1_e_2|all_coupon_usage_rate|all_coupon_usage_rate_04_Acima_de_71%|all_coupon_usage_rate_02_Entre_0%_e_33%|all_coupon_usage_rate_03_Entre_33%_e_71%|all_coupon_usage_rate_00_Sem_dados|all_coupon_usage_rate_01_Abaixo_de_0%|pct_used_channel_mobile|pct_used_channel_email|pct_used_channel_social|pct_used_channel_web|pct_used_channel_mobile_04_Acima_de_71%|pct_used_channel_mobile_02_Entre_0%_e_33%|pct_used_channel_mobile_03_Entre_33%_e_71%|pct_used_channel_mobile_00_Sem_dados|pct_used_channel_mobile_01_Abaixo_de_0%|pct_used_channel_email_04_Acima_de_71%|pct_used_channel_email_02_Entre_0%_e_33%|pct_used_channel_email_03_Entre_33%_e_71%|pct_used_channel_email_00_Sem_dados|pct_used_channel_email_01_Abaixo_de_0%|pct_used_channel_social_04_Acima_de_89%|pct_used_channel_social_03_Entre_50%_e_89%|pct_used_channel_social_00_Sem_dados|pct_used_channel_social_01_Abaixo_de_0%|pct_used_channel_social_02_Entre_0%_e_50%|pct_used_channel_web_04_Acima_de_75%|pct_used_channel_web_02_Entre_0%_e_33%|pct_used_channel_web_00_Sem_dados|pct_used_channel_web_03_Entre_33%_e_75%|pct_used_channel_web_01_Abaixo_de_0%| pct_used_type_bogo|pct_used_type_discount|pct_used_type_informational|pct_used_type_bogo_02_Entre_0%_e_25%|pct_used_type_bogo_00_Sem_dados|pct_used_type_bogo_03_Entre_25%_e_100%|pct_used_type_bogo_01_Abaixo_de_0%|pct_used_type_discount_03_Entre_50%_e_100%|pct_used_type_discount_00_Sem_dados|pct_used_type_discount_01_Abaixo_de_0%|pct_used_type_discount_02_Entre_0%_e_50%|pct_used_type_informational_00_Sem_dados|pct_used_type_informational_01_Abaixo_de_0%|all_coupon_viewed_rate|all_coupon_viewed_rate_02_Entre_67%_e_88%|all_coupon_viewed_rate_00_Sem_dados|all_coupon_viewed_rate_03_Entre_88%_e_100%|all_coupon_viewed_rate_01_Abaixo_de_67%|pct_viewed_channel_mobile|pct_viewed_channel_email|pct_viewed_channel_social|pct_viewed_channel_web|pct_viewed_channel_mobile_01_Abaixo_de_75%|pct_viewed_channel_mobile_02_Entre_75%_e_100%|pct_viewed_channel_mobile_00_Sem_dados|pct_viewed_channel_email_02_Entre_67%_e_88%|pct_viewed_channel_email_00_Sem_dados|pct_viewed_channel_email_03_Entre_88%_e_100%|pct_viewed_channel_email_01_Abaixo_de_67%|pct_viewed_channel_social_01_Abaixo_de_100%|pct_viewed_channel_social_00_Sem_dados|pct_viewed_channel_web_01_Abaixo_de_60%|pct_viewed_channel_web_03_Entre_90%_e_100%|pct_viewed_channel_web_00_Sem_dados|pct_viewed_channel_web_02_Entre_60%_e_90%|pct_viewed_type_bogo|pct_viewed_type_discount|pct_viewed_type_informational|pct_viewed_type_bogo_01_Abaixo_de_100%|pct_viewed_type_bogo_00_Sem_dados|pct_viewed_type_discount_01_Abaixo_de_50%|pct_viewed_type_discount_00_Sem_dados|pct_viewed_type_discount_02_Entre_50%_e_100%|pct_viewed_type_informational_01_Abaixo_de_50%|pct_viewed_type_informational_00_Sem_dados|pct_viewed_type_informational_02_Entre_50%_e_100%|total_offers_received|total_offers_received_04_Acima_de_7|total_offers_received_02_Entre_4_e_5|total_offers_received_03_Entre_5_e_7|total_offers_received_00_Sem_dados|total_offers_received_01_Abaixo_de_4|total_mobile_offer|total_email_offer|total_social_offer|total_web_offer|total_mobile_offer_04_Acima_de_7|total_mobile_offer_03_Entre_5_e_7|total_mobile_offer_00_Sem_dados|total_mobile_offer_02_Entre_3_e_5|total_mobile_offer_01_Abaixo_de_3|total_email_offer_04_Acima_de_7|total_email_offer_02_Entre_4_e_5|total_email_offer_03_Entre_5_e_7|total_email_offer_00_Sem_dados|total_email_offer_01_Abaixo_de_4|total_social_offer_04_Acima_de_5|total_social_offer_03_Entre_3_e_5|total_social_offer_00_Sem_dados|total_social_offer_01_Abaixo_de_2|total_social_offer_02_Entre_2_e_3|total_web_offer_02_Entre_3_e_4|total_web_offer_04_Acima_de_6|total_web_offer_03_Entre_4_e_6|total_web_offer_00_Sem_dados|total_web_offer_01_Abaixo_de_3|total_offers_bogo|total_offers_discount|total_offers_informational|total_offers_bogo_01_Abaixo_de_1|total_offers_bogo_04_Acima_de_3|total_offers_bogo_00_Sem_dados|total_offers_bogo_03_Entre_2_e_3|total_offers_bogo_02_Entre_1_e_2|total_offers_discount_01_Abaixo_de_1|total_offers_discount_04_Acima_de_3|total_offers_discount_00_Sem_dados|total_offers_discount_03_Entre_2_e_3|total_offers_discount_02_Entre_1_e_2|total_offers_informational_03_Entre_1_e_2|total_offers_informational_01_Abaixo_de_1|total_offers_informational_00_Sem_dados|total_offers_informational_04_Acima_de_2|\n",
      "+--------------------+----------------+--------------------+------+-------------+-----------------+----------------------------------------+----------------------------------------+-----------------------------------+------------------------------------+------------------------------+--------------------+--------------------+--------------------+----------------+--------------------+-------------------+------------------+----------------+----------------------------------+---------------------------------+-------------------------------+---------------------------------+---------------------------------+--------------------------+---------------------------+---------------------------+-----------------------+-------------------------+-------------------------+--------------------+-----------------------------+-------------------------+-------------------------+-----------------------+------------------------------------------+---------------------------------------+-----------------------------------------+------------------------------------+---------------------------------------+---------------------+----------------------+------------------------------------+------------------------------------+----------------------------------+------------------------------------+-----------------------------------+-------------------------------------+------------------------------------+-----------------------------------+-------------------------------------+-------------------------------------+---------------------+-------------------------------------+---------------------------------------+----------------------------------------+----------------------------------+-------------------------------------+-----------------------+----------------------+-----------------------+--------------------+---------------------------------------+-----------------------------------------+------------------------------------------+------------------------------------+---------------------------------------+--------------------------------------+----------------------------------------+-----------------------------------------+-----------------------------------+--------------------------------------+---------------------------------------+------------------------------------------+------------------------------------+---------------------------------------+-----------------------------------------+------------------------------------+--------------------------------------+---------------------------------+---------------------------------------+------------------------------------+-------------------+----------------------+---------------------------+------------------------------------+-------------------------------+--------------------------------------+----------------------------------+------------------------------------------+-----------------------------------+--------------------------------------+----------------------------------------+----------------------------------------+-------------------------------------------+----------------------+-----------------------------------------+-----------------------------------+------------------------------------------+---------------------------------------+-------------------------+------------------------+-------------------------+----------------------+------------------------------------------+---------------------------------------------+--------------------------------------+-------------------------------------------+-------------------------------------+--------------------------------------------+-----------------------------------------+-------------------------------------------+--------------------------------------+---------------------------------------+------------------------------------------+-----------------------------------+-----------------------------------------+--------------------+------------------------+-----------------------------+--------------------------------------+---------------------------------+-----------------------------------------+-------------------------------------+--------------------------------------------+----------------------------------------------+------------------------------------------+-------------------------------------------------+---------------------+-----------------------------------+------------------------------------+------------------------------------+----------------------------------+------------------------------------+------------------+-----------------+------------------+---------------+--------------------------------+---------------------------------+-------------------------------+---------------------------------+---------------------------------+-------------------------------+--------------------------------+--------------------------------+------------------------------+--------------------------------+--------------------------------+---------------------------------+-------------------------------+---------------------------------+---------------------------------+------------------------------+-----------------------------+------------------------------+----------------------------+------------------------------+-----------------+---------------------+--------------------------+--------------------------------+-------------------------------+------------------------------+--------------------------------+--------------------------------+------------------------------------+-----------------------------------+----------------------------------+------------------------------------+------------------------------------+-----------------------------------------+-----------------------------------------+---------------------------------------+----------------------------------------+\n",
      "|c05652fa9d2c4fac9...| 06_Acima_de_60+|03_Entre_63000_e_...|     M|   2018-01-27|          2018-01|                                       1|                                       0|                                  0|                                   0|                             0|                   0|                   0|                   0|               0|                   0|                  1|    02_Entre_4_e_7| 02_Entre_3_e_12|                                 0|                                1|                              0|                                0|                                0|                         1|                          0|                          0|                      0|                        0|                        0|                NULL|                            0|                        0|                        0|        01_Abaixo_de_0%|                                         0|                                      0|                                        0|                                   0|                                      1|         00_Sem_dados|          00_Sem_dados|                                   0|                                   0|                                 1|                                   0|                                  0|                                    0|                                   0|                                  1|                                    0|                                    0|      01_Abaixo_de_0%|                                    0|                                      0|                                       0|                                 0|                                    1|        01_Abaixo_de_0%|       01_Abaixo_de_0%|        01_Abaixo_de_0%|     01_Abaixo_de_0%|                                      0|                                        0|                                         0|                                   0|                                      1|                                     0|                                       0|                                        0|                                  0|                                     1|                                      0|                                         0|                                   0|                                      1|                                        0|                                   0|                                     0|                                0|                                      0|                                   1|    01_Abaixo_de_0%|       01_Abaixo_de_0%|               00_Sem_dados|                                   0|                              0|                                     0|                                 1|                                         0|                                  0|                                     1|                                       0|                                       1|                                          0|    02_Entre_67%_e_88%|                                        1|                                  0|                                         0|                                      0|      02_Entre_75%_e_100%|      02_Entre_67%_e_88%|        01_Abaixo_de_100%|    02_Entre_60%_e_90%|                                         0|                                            1|                                     0|                                          1|                                    0|                                           0|                                        0|                                          1|                                     0|                                      0|                                         0|                                  0|                                        1|   01_Abaixo_de_100%|        01_Abaixo_de_50%|                 00_Sem_dados|                                     1|                                0|                                        1|                                    0|                                           0|                                             0|                                         1|                                                0|        04_Acima_de_7|                                  1|                                   0|                                   0|                                 0|                                   0|    03_Entre_5_e_7|    04_Acima_de_7|    03_Entre_3_e_5|  04_Acima_de_6|                               0|                                1|                              0|                                0|                                0|                              1|                               0|                               0|                             0|                               0|                               0|                                1|                              0|                                0|                                0|                             0|                            1|                             0|                           0|                             0|    04_Acima_de_3|       02_Entre_1_e_2|              00_Sem_dados|                               0|                              1|                             0|                               0|                               0|                                   0|                                  0|                                 0|                                   0|                                   1|                                        0|                                        0|                                      1|                                       0|\n",
      "|6be0513109fe4d738...|04_Entre_40_e_49|02_Entre_49000_e_...|     M|   2018-06-13|          2018-06|                                       0|                                       1|                                  0|                                   0|                             0|                   1|                   0|                   0|               0|                   0|                  0|    01_Abaixo_de_4|03_Entre_12_e_20|                                 0|                                0|                              0|                                1|                                0|                         0|                          0|                          1|                      0|                        0|                        0|                NULL|                            0|                        0|                        0|        01_Abaixo_de_0%|                                         0|                                      0|                                        0|                                   0|                                      1|         00_Sem_dados|          00_Sem_dados|                                   0|                                   0|                                 1|                                   0|                                  0|                                    0|                                   0|                                  1|                                    0|                                    0|      01_Abaixo_de_0%|                                    0|                                      0|                                       0|                                 0|                                    1|        01_Abaixo_de_0%|       01_Abaixo_de_0%|        01_Abaixo_de_0%|     01_Abaixo_de_0%|                                      0|                                        0|                                         0|                                   0|                                      1|                                     0|                                       0|                                        0|                                  0|                                     1|                                      0|                                         0|                                   0|                                      1|                                        0|                                   0|                                     0|                                0|                                      0|                                   1|    01_Abaixo_de_0%|       01_Abaixo_de_0%|            01_Abaixo_de_0%|                                   0|                              0|                                     0|                                 1|                                         0|                                  0|                                     1|                                       0|                                       0|                                          1|    02_Entre_67%_e_88%|                                        1|                                  0|                                         0|                                      0|      02_Entre_75%_e_100%|      02_Entre_67%_e_88%|        01_Abaixo_de_100%|    02_Entre_60%_e_90%|                                         0|                                            1|                                     0|                                          1|                                    0|                                           0|                                        0|                                          1|                                     0|                                      0|                                         0|                                  0|                                        1|   01_Abaixo_de_100%|        01_Abaixo_de_50%|          02_Entre_50%_e_100%|                                     1|                                0|                                        1|                                    0|                                           0|                                             0|                                         0|                                                1|       03_Entre_5_e_7|                                  0|                                   0|                                   1|                                 0|                                   0|    03_Entre_5_e_7|   03_Entre_5_e_7|    03_Entre_3_e_5| 03_Entre_4_e_6|                               0|                                1|                              0|                                0|                                0|                              0|                               0|                               1|                             0|                               0|                               0|                                1|                              0|                                0|                                0|                             0|                            0|                             1|                           0|                             0|    04_Acima_de_3|       01_Abaixo_de_1|            01_Abaixo_de_1|                               0|                              1|                             0|                               0|                               0|                                   1|                                  0|                                 0|                                   0|                                   0|                                        0|                                        1|                                      0|                                       0|\n",
      "|9de54389816342449...|    00_Sem_dados|        00_Sem_dados|  NULL|   2018-04-22|          2018-04|                                       0|                                       0|                                  0|                                   0|                             1|                   0|                   0|                   0|               1|                   0|                  0|    01_Abaixo_de_4| 02_Entre_3_e_12|                                 0|                                0|                              0|                                1|                                0|                         1|                          0|                          0|                      0|                        0|                        0|                NULL|                            0|                        0|                        0|        01_Abaixo_de_0%|                                         0|                                      0|                                        0|                                   0|                                      1|         00_Sem_dados|          00_Sem_dados|                                   0|                                   0|                                 1|                                   0|                                  0|                                    0|                                   0|                                  1|                                    0|                                    0|      01_Abaixo_de_0%|                                    0|                                      0|                                       0|                                 0|                                    1|        01_Abaixo_de_0%|       01_Abaixo_de_0%|        01_Abaixo_de_0%|        00_Sem_dados|                                      0|                                        0|                                         0|                                   0|                                      1|                                     0|                                       0|                                        0|                                  0|                                     1|                                      0|                                         0|                                   0|                                      1|                                        0|                                   0|                                     0|                                1|                                      0|                                   0|    01_Abaixo_de_0%|          00_Sem_dados|            01_Abaixo_de_0%|                                   0|                              0|                                     0|                                 1|                                         0|                                  1|                                     0|                                       0|                                       0|                                          1|    02_Entre_67%_e_88%|                                        1|                                  0|                                         0|                                      0|      02_Entre_75%_e_100%|      02_Entre_67%_e_88%|        01_Abaixo_de_100%|          00_Sem_dados|                                         0|                                            1|                                     0|                                          1|                                    0|                                           0|                                        0|                                          1|                                     0|                                      0|                                         0|                                  1|                                        0|   01_Abaixo_de_100%|            00_Sem_dados|          02_Entre_50%_e_100%|                                     1|                                0|                                        0|                                    1|                                           0|                                             0|                                         0|                                                1|       02_Entre_4_e_5|                                  0|                                   1|                                   0|                                 0|                                   0|    02_Entre_3_e_5|   02_Entre_4_e_5|    03_Entre_3_e_5| 01_Abaixo_de_3|                               0|                                0|                              0|                                1|                                0|                              0|                               1|                               0|                             0|                               0|                               0|                                1|                              0|                                0|                                0|                             0|                            0|                             0|                           0|                             1|   01_Abaixo_de_1|         00_Sem_dados|             04_Acima_de_2|                               1|                              0|                             0|                               0|                               0|                                   0|                                  0|                                 1|                                   0|                                   0|                                        0|                                        0|                                      0|                                       1|\n",
      "|f5de20984950433d9...|04_Entre_40_e_49|03_Entre_63000_e_...|     M|   2015-09-10|          2015-09|                                       1|                                       0|                                  0|                                   0|                             0|                   1|                   0|                   0|               0|                   0|                  0|    04_Acima_de_11|04_Entre_20_e_28|                                 0|                                0|                              0|                                0|                                1|                         0|                          1|                          0|                      0|                        0|                        0|                bogo|                            0|                        1|                        0|     03_Entre_17%_e_33%|                                         1|                                      0|                                        0|                                   0|                                      0|       01_Abaixo_de_2|        03_Entre_2_e_3|                                   0|                                   0|                                 0|                                   1|                                  0|                                    0|                                   0|                                  0|                                    1|                                    0|      04_Acima_de_71%|                                    1|                                      0|                                       0|                                 0|                                    0|        04_Acima_de_71%|       04_Acima_de_71%|        04_Acima_de_89%|     04_Acima_de_75%|                                      1|                                        0|                                         0|                                   0|                                      0|                                     1|                                       0|                                        0|                                  0|                                     0|                                      1|                                         0|                                   0|                                      0|                                        0|                                   1|                                     0|                                0|                                      0|                                   0|03_Entre_25%_e_100%|          00_Sem_dados|               00_Sem_dados|                                   0|                              0|                                     1|                                 0|                                         0|                                  1|                                     0|                                       0|                                       1|                                          0|   03_Entre_88%_e_100%|                                        0|                                  0|                                         1|                                      0|      02_Entre_75%_e_100%|     03_Entre_88%_e_100%|        01_Abaixo_de_100%|   03_Entre_90%_e_100%|                                         0|                                            1|                                     0|                                          0|                                    0|                                           1|                                        0|                                          1|                                     0|                                      0|                                         1|                                  0|                                        0|   01_Abaixo_de_100%|            00_Sem_dados|                 00_Sem_dados|                                     1|                                0|                                        0|                                    1|                                           0|                                             0|                                         1|                                                0|        04_Acima_de_7|                                  1|                                   0|                                   0|                                 0|                                   0|     04_Acima_de_7|    04_Acima_de_7|     04_Acima_de_5|  04_Acima_de_6|                               1|                                0|                              0|                                0|                                0|                              1|                               0|                               0|                             0|                               0|                               1|                                0|                              0|                                0|                                0|                             0|                            1|                             0|                           0|                             0|    04_Acima_de_3|         00_Sem_dados|              00_Sem_dados|                               0|                              1|                             0|                               0|                               0|                                   0|                                  0|                                 1|                                   0|                                   0|                                        0|                                        0|                                      1|                                       0|\n",
      "|9da3f2339b244229a...|04_Entre_40_e_49|  01_Abaixo_de_49000|     F|   2018-01-09|          2018-01|                                       0|                                       0|                                  0|                                   1|                             0|                   1|                   0|                   0|               0|                   0|                  0|    01_Abaixo_de_4| 02_Entre_3_e_12|                                 0|                                0|                              0|                                1|                                0|                         1|                          0|                          0|                      0|                        0|                        0|                NULL|                            0|                        0|                        0|        01_Abaixo_de_0%|                                         0|                                      0|                                        0|                                   0|                                      1|         00_Sem_dados|          00_Sem_dados|                                   0|                                   0|                                 1|                                   0|                                  0|                                    0|                                   0|                                  1|                                    0|                                    0|      01_Abaixo_de_0%|                                    0|                                      0|                                       0|                                 0|                                    1|        01_Abaixo_de_0%|       01_Abaixo_de_0%|        01_Abaixo_de_0%|     01_Abaixo_de_0%|                                      0|                                        0|                                         0|                                   0|                                      1|                                     0|                                       0|                                        0|                                  0|                                     1|                                      0|                                         0|                                   0|                                      1|                                        0|                                   0|                                     0|                                0|                                      0|                                   1|    01_Abaixo_de_0%|       01_Abaixo_de_0%|               00_Sem_dados|                                   0|                              0|                                     0|                                 1|                                         0|                                  0|                                     1|                                       0|                                       1|                                          0|      01_Abaixo_de_67%|                                        0|                                  0|                                         0|                                      1|         01_Abaixo_de_75%|        01_Abaixo_de_67%|        01_Abaixo_de_100%|      01_Abaixo_de_60%|                                         1|                                            0|                                     0|                                          0|                                    0|                                           0|                                        1|                                          1|                                     0|                                      1|                                         0|                                  0|                                        0|   01_Abaixo_de_100%|        01_Abaixo_de_50%|                 00_Sem_dados|                                     1|                                0|                                        1|                                    0|                                           0|                                             0|                                         1|                                                0|       02_Entre_4_e_5|                                  0|                                   1|                                   0|                                 0|                                   0|    02_Entre_3_e_5|   02_Entre_4_e_5|    01_Abaixo_de_2| 02_Entre_3_e_4|                               0|                                0|                              0|                                1|                                0|                              0|                               1|                               0|                             0|                               0|                               0|                                0|                              0|                                1|                                0|                             1|                            0|                             0|                           0|                             0|   02_Entre_1_e_2|       03_Entre_2_e_3|              00_Sem_dados|                               0|                              0|                             0|                               0|                               1|                                   0|                                  0|                                 0|                                   1|                                   0|                                        0|                                        0|                                      1|                                       0|\n",
      "+--------------------+----------------+--------------------+------+-------------+-----------------+----------------------------------------+----------------------------------------+-----------------------------------+------------------------------------+------------------------------+--------------------+--------------------+--------------------+----------------+--------------------+-------------------+------------------+----------------+----------------------------------+---------------------------------+-------------------------------+---------------------------------+---------------------------------+--------------------------+---------------------------+---------------------------+-----------------------+-------------------------+-------------------------+--------------------+-----------------------------+-------------------------+-------------------------+-----------------------+------------------------------------------+---------------------------------------+-----------------------------------------+------------------------------------+---------------------------------------+---------------------+----------------------+------------------------------------+------------------------------------+----------------------------------+------------------------------------+-----------------------------------+-------------------------------------+------------------------------------+-----------------------------------+-------------------------------------+-------------------------------------+---------------------+-------------------------------------+---------------------------------------+----------------------------------------+----------------------------------+-------------------------------------+-----------------------+----------------------+-----------------------+--------------------+---------------------------------------+-----------------------------------------+------------------------------------------+------------------------------------+---------------------------------------+--------------------------------------+----------------------------------------+-----------------------------------------+-----------------------------------+--------------------------------------+---------------------------------------+------------------------------------------+------------------------------------+---------------------------------------+-----------------------------------------+------------------------------------+--------------------------------------+---------------------------------+---------------------------------------+------------------------------------+-------------------+----------------------+---------------------------+------------------------------------+-------------------------------+--------------------------------------+----------------------------------+------------------------------------------+-----------------------------------+--------------------------------------+----------------------------------------+----------------------------------------+-------------------------------------------+----------------------+-----------------------------------------+-----------------------------------+------------------------------------------+---------------------------------------+-------------------------+------------------------+-------------------------+----------------------+------------------------------------------+---------------------------------------------+--------------------------------------+-------------------------------------------+-------------------------------------+--------------------------------------------+-----------------------------------------+-------------------------------------------+--------------------------------------+---------------------------------------+------------------------------------------+-----------------------------------+-----------------------------------------+--------------------+------------------------+-----------------------------+--------------------------------------+---------------------------------+-----------------------------------------+-------------------------------------+--------------------------------------------+----------------------------------------------+------------------------------------------+-------------------------------------------------+---------------------+-----------------------------------+------------------------------------+------------------------------------+----------------------------------+------------------------------------+------------------+-----------------+------------------+---------------+--------------------------------+---------------------------------+-------------------------------+---------------------------------+---------------------------------+-------------------------------+--------------------------------+--------------------------------+------------------------------+--------------------------------+--------------------------------+---------------------------------+-------------------------------+---------------------------------+---------------------------------+------------------------------+-----------------------------+------------------------------+----------------------------+------------------------------+-----------------+---------------------+--------------------------+--------------------------------+-------------------------------+------------------------------+--------------------------------+--------------------------------+------------------------------------+-----------------------------------+----------------------------------+------------------------------------+------------------------------------+-----------------------------------------+-----------------------------------------+---------------------------------------+----------------------------------------+\n",
      "only showing top 5 rows\n",
      "\n",
      "None\n"
     ]
    }
   ],
   "source": [
    "# Adicionar a informação de uso ao offer_summary\n",
    "offer_summary_with_views = (offer_summary.alias(\"offer_summary_with_views\"))\n",
    "\n",
    "offer_summary_with_views = (offer_summary\n",
    "    # Agrupar por cliente e tipo de oferta, contando qtd de ofertas usadas e totais\n",
    "    .groupBy([\"account_id\", \"offer_type\"])\n",
    "    .agg(\n",
    "        F.count(\"*\").alias(\"total_offers\"),)\n",
    "    .groupBy(\"account_id\")\n",
    "    # Pivot para deixar cada tipo como uma coluna\n",
    "    .pivot(\n",
    "        \"offer_type\",\n",
    "        [\"bogo\", \"discount\", \"informational\"])\n",
    "    .agg(F.first(\"total_offers\"))\n",
    "    # Renomear colunas\n",
    "    .withColumnRenamed(\"bogo\", \"total_offers_bogo\")\n",
    "    .withColumnRenamed(\"discount\", \"total_offers_discount\")\n",
    "    .withColumnRenamed(\"informational\", \"total_offers_informational\")\n",
    ")\n",
    "\n",
    "# Join com profile\n",
    "profile = (profile\n",
    "    .join(offer_summary_with_views,\n",
    "        on=\"account_id\",\n",
    "        how=\"left\")\n",
    ")\n",
    "\n",
    "# Alterando os valores para faixas\n",
    "profile = column_default_categorizer(profile, \"total_offers_bogo\")\n",
    "profile = column_default_categorizer(profile, \"total_offers_discount\")\n",
    "profile = column_default_categorizer(profile, \"total_offers_informational\")\n",
    "# Criando dummies da coluna categorizada\n",
    "profile = create_dummies_for_column(profile, \"total_offers_bogo\")\n",
    "profile = create_dummies_for_column(profile, \"total_offers_discount\")\n",
    "profile = create_dummies_for_column(profile, \"total_offers_informational\")\n",
    "\n",
    "del(offer_summary_with_views)\n",
    "\n",
    "print(profile.show(5))"
   ]
  },
  {
   "cell_type": "markdown",
   "id": "330904c1",
   "metadata": {},
   "source": [
    "## 4.8. Salvando dados de clientes para serem utilizados na clusterização"
   ]
  },
  {
   "cell_type": "code",
   "execution_count": 40,
   "id": "6f706ab2",
   "metadata": {},
   "outputs": [],
   "source": [
    "profile.toPandas().to_csv('../data/processed/profile_for_clustering.csv', index=False)"
   ]
  },
  {
   "cell_type": "markdown",
   "id": "3c71b427",
   "metadata": {},
   "source": [
    "# 5. Geração de dados para treino do modelo de probabilidade de uso de ofertas"
   ]
  },
  {
   "cell_type": "markdown",
   "id": "041fff40",
   "metadata": {},
   "source": [
    "O modelo de propenção a compra de pedido com oferta terá como features, indicadores similares aos utilizados para clusterização."
   ]
  },
  {
   "cell_type": "code",
   "execution_count": 41,
   "id": "417fbaa0",
   "metadata": {},
   "outputs": [],
   "source": [
    "offer_summary_4_modeling = (offer_summary\n",
    "    # Mantendo apenas as ofertas não informacionais\n",
    "    # por serem as ofertas utilizáveis\n",
    "    .filter(F.col(\"offer_type\") != \"informational\")\n",
    ")"
   ]
  },
  {
   "cell_type": "markdown",
   "id": "e9d1359b",
   "metadata": {},
   "source": [
    "## 5.1. Oferta visualizada em quantos dias após ser recebida\n",
    "\n",
    "Essa informação não será utilizada no modelo por enquanto, mas a criação da variável já está pronta caso seja necessário no futuro"
   ]
  },
  {
   "cell_type": "code",
   "execution_count": 42,
   "id": "688c68e4",
   "metadata": {},
   "outputs": [],
   "source": [
    "offer_summary_4_modeling = (offer_summary_4_modeling\n",
    "    .withColumn(\"time_to_see_offer\",\n",
    "        F.col(\"offer_viewed_date\") - F.col(\"offer_received_date\")\n",
    "    )\n",
    ")"
   ]
  },
  {
   "cell_type": "markdown",
   "id": "4c573f9d",
   "metadata": {},
   "source": [
    "## 5.2. Oferta informacional visualizada nos últimos N dias"
   ]
  },
  {
   "cell_type": "code",
   "execution_count": 43,
   "id": "6f7ca0c3",
   "metadata": {},
   "outputs": [
    {
     "name": "stdout",
     "output_type": "stream",
     "text": [
      "+--------------------+--------------------+-------------------+--------------+-------------+--------------+-----------+----------+-----------------+----------+------------+-----------------+----------+--------------------------+\n",
      "|          account_id|            offer_id|offer_received_date|channel_mobile|channel_email|channel_social|channel_web|offer_type|offer_viewed_date|used_offer|viewed_offer|time_to_see_offer|account_id|recently_viewed_info_offer|\n",
      "+--------------------+--------------------+-------------------+--------------+-------------+--------------+-----------+----------+-----------------+----------+------------+-----------------+----------+--------------------------+\n",
      "|78afa995795e4d85b...|9b98b8c7a33c4b65b...|                0.0|             1|            1|             0|          1|      bogo|             0.25|         1|           1|             0.25|      NULL|                         0|\n",
      "|8ec6ce2a7e7949b1b...|fafdcd668e3743c1b...|                0.0|             1|            1|             1|          1|  discount|              0.5|         0|           1|              0.5|      NULL|                         0|\n",
      "|8ec6ce2a7e7949b1b...|fafdcd668e3743c1b...|                0.0|             1|            1|             1|          1|  discount|            21.75|         0|           1|            21.75|      NULL|                         0|\n",
      "+--------------------+--------------------+-------------------+--------------+-------------+--------------+-----------+----------+-----------------+----------+------------+-----------------+----------+--------------------------+\n",
      "only showing top 3 rows\n",
      "\n",
      "None\n"
     ]
    }
   ],
   "source": [
    "# Ofertas apenas informacionais\n",
    "info_offers = (offer_summary\n",
    "    # Filtrando apenas ofertas informacionais\n",
    "    .filter(F.col(\"offer_type\") == \"informational\")\n",
    "    # Selecionando apenas coluna de id do cliente e data na qual a oferta foi visualizada\n",
    "    .select(\"account_id\", \"offer_viewed_date\") \n",
    "    .withColumnRenamed(\"offer_viewed_date\", \"info_offer_viewed_date\")\n",
    ")\n",
    "\n",
    "# Join com condição de ter sido vista a pelo menos 3 dias\n",
    "offer_summary_4_modeling = (offer_summary_4_modeling.alias(\"os4m\")\n",
    "    .join(info_offers.alias(\"io\"),\n",
    "        (F.col(\"os4m.account_id\") == F.col(\"io.account_id\")) &\n",
    "        # Aplicando filtro para considerar apenas linhas dentro das condições:\n",
    "        # 1. Informacional a pelo menos 3 dias\n",
    "        (F.col(\"io.info_offer_viewed_date\") >= (F.col(\"os4m.offer_received_date\") - 3)) &\n",
    "        # 2. Informacional antes da oferta\n",
    "        (F.col(\"io.info_offer_viewed_date\") < F.col(\"os4m.offer_received_date\")),\n",
    "        how=\"left\"\n",
    "    )\n",
    "    .withColumn(\"recently_viewed_info_offer\",\n",
    "        F.when(F.col(\"io.info_offer_viewed_date\").isNotNull(), F.lit(1))\n",
    "        .otherwise(F.lit(0)))\n",
    "    .drop(\"info_offer_viewed_date\")\n",
    ")\n",
    "\n",
    "del(info_offers)\n",
    "\n",
    "print(offer_summary_4_modeling.show(3))"
   ]
  },
  {
   "cell_type": "markdown",
   "id": "b33ad34e",
   "metadata": {},
   "source": [
    "## 5.3. Os demais indicadores estão nos dados de perfil\n",
    "\n",
    "Vamos realizar um join"
   ]
  },
  {
   "cell_type": "code",
   "execution_count": 44,
   "id": "6ec11063",
   "metadata": {},
   "outputs": [
    {
     "name": "stdout",
     "output_type": "stream",
     "text": [
      "+--------------------+--------------------+-------------------+--------------+-------------+--------------+-----------+----------+-----------------+----------+------------+-----------------+----------+--------------------------+---------------+--------------------+------------------+----------------+--------------------+-----------------------+---------------------+----------------------+---------------------+-----------------------+----------------------+-----------------------+--------------------+-------------------+----------------------+---------------------------+----------------------+-------------------------+------------------------+-------------------------+----------------------+--------------------+------------------------+-----------------------------+---------------------+------------------+-----------------+------------------+---------------+-----------------+---------------------+--------------------------+\n",
      "|          account_id|            offer_id|offer_received_date|channel_mobile|channel_email|channel_social|channel_web|offer_type|offer_viewed_date|used_offer|viewed_offer|time_to_see_offer|account_id|recently_viewed_info_offer|            age|   credit_card_limit|total_transactions|      avg_amount|most_used_offer_type|transactions_offer_rate|avg_time_to_use_offer|avg_time_to_view_offer|all_coupon_usage_rate|pct_used_channel_mobile|pct_used_channel_email|pct_used_channel_social|pct_used_channel_web| pct_used_type_bogo|pct_used_type_discount|pct_used_type_informational|all_coupon_viewed_rate|pct_viewed_channel_mobile|pct_viewed_channel_email|pct_viewed_channel_social|pct_viewed_channel_web|pct_viewed_type_bogo|pct_viewed_type_discount|pct_viewed_type_informational|total_offers_received|total_mobile_offer|total_email_offer|total_social_offer|total_web_offer|total_offers_bogo|total_offers_discount|total_offers_informational|\n",
      "+--------------------+--------------------+-------------------+--------------+-------------+--------------+-----------+----------+-----------------+----------+------------+-----------------+----------+--------------------------+---------------+--------------------+------------------+----------------+--------------------+-----------------------+---------------------+----------------------+---------------------+-----------------------+----------------------+-----------------------+--------------------+-------------------+----------------------+---------------------------+----------------------+-------------------------+------------------------+-------------------------+----------------------+--------------------+------------------------+-----------------------------+---------------------+------------------+-----------------+------------------+---------------+-----------------+---------------------+--------------------------+\n",
      "|31dda685af34476ca...|0b1e1539f2cc45b7b...|                0.0|             0|            1|             0|          1|  discount|             6.25|         0|           1|             6.25|      NULL|                         0|06_Acima_de_60+|03_Entre_63000_e_...|   03_Entre_7_e_11|04_Entre_20_e_28|            discount|        04_Acima_de_33%|       02_Entre_2_e_2|        03_Entre_2_e_3|      04_Acima_de_71%|        04_Acima_de_71%|       04_Acima_de_71%|        04_Acima_de_89%|     04_Acima_de_75%|       00_Sem_dados|   03_Entre_50%_e_100%|               00_Sem_dados|   03_Entre_88%_e_100%|      02_Entre_75%_e_100%|     03_Entre_88%_e_100%|        01_Abaixo_de_100%|   03_Entre_90%_e_100%|        00_Sem_dados|     02_Entre_50%_e_100%|                 00_Sem_dados|        04_Acima_de_7|     04_Acima_de_7|    04_Acima_de_7|     04_Acima_de_5|  04_Acima_de_6|     00_Sem_dados|        04_Acima_de_3|              00_Sem_dados|\n",
      "|389bc3fa690240e79...|f19421c1d4aa40978...|                0.0|             1|            1|             1|          1|      bogo|              0.0|         1|           1|              0.0|      NULL|                         0|06_Acima_de_60+|02_Entre_49000_e_...|    02_Entre_4_e_7|03_Entre_12_e_20|                bogo|        04_Acima_de_33%|       03_Entre_2_e_4|        03_Entre_2_e_3|      04_Acima_de_71%|        04_Acima_de_71%|       04_Acima_de_71%|        04_Acima_de_89%|     04_Acima_de_75%|03_Entre_25%_e_100%|   03_Entre_50%_e_100%|               00_Sem_dados|   03_Entre_88%_e_100%|      02_Entre_75%_e_100%|     03_Entre_88%_e_100%|        01_Abaixo_de_100%|   03_Entre_90%_e_100%|   01_Abaixo_de_100%|     02_Entre_50%_e_100%|                 00_Sem_dados|        04_Acima_de_7|     04_Acima_de_7|    04_Acima_de_7|     04_Acima_de_5|  04_Acima_de_6|    04_Acima_de_3|       02_Entre_1_e_2|              00_Sem_dados|\n",
      "|389bc3fa690240e79...|f19421c1d4aa40978...|                0.0|             1|            1|             1|          1|      bogo|              0.0|         1|           1|              0.0|      NULL|                         0|06_Acima_de_60+|02_Entre_49000_e_...|    02_Entre_4_e_7|03_Entre_12_e_20|                bogo|        04_Acima_de_33%|       03_Entre_2_e_4|        03_Entre_2_e_3|      04_Acima_de_71%|        04_Acima_de_71%|       04_Acima_de_71%|        04_Acima_de_89%|     04_Acima_de_75%|03_Entre_25%_e_100%|   03_Entre_50%_e_100%|               00_Sem_dados|   03_Entre_88%_e_100%|      02_Entre_75%_e_100%|     03_Entre_88%_e_100%|        01_Abaixo_de_100%|   03_Entre_90%_e_100%|   01_Abaixo_de_100%|     02_Entre_50%_e_100%|                 00_Sem_dados|        04_Acima_de_7|     04_Acima_de_7|    04_Acima_de_7|     04_Acima_de_5|  04_Acima_de_6|    04_Acima_de_3|       02_Entre_1_e_2|              00_Sem_dados|\n",
      "|389bc3fa690240e79...|f19421c1d4aa40978...|                0.0|             1|            1|             1|          1|      bogo|             21.0|         1|           1|             21.0|      NULL|                         0|06_Acima_de_60+|02_Entre_49000_e_...|    02_Entre_4_e_7|03_Entre_12_e_20|                bogo|        04_Acima_de_33%|       03_Entre_2_e_4|        03_Entre_2_e_3|      04_Acima_de_71%|        04_Acima_de_71%|       04_Acima_de_71%|        04_Acima_de_89%|     04_Acima_de_75%|03_Entre_25%_e_100%|   03_Entre_50%_e_100%|               00_Sem_dados|   03_Entre_88%_e_100%|      02_Entre_75%_e_100%|     03_Entre_88%_e_100%|        01_Abaixo_de_100%|   03_Entre_90%_e_100%|   01_Abaixo_de_100%|     02_Entre_50%_e_100%|                 00_Sem_dados|        04_Acima_de_7|     04_Acima_de_7|    04_Acima_de_7|     04_Acima_de_5|  04_Acima_de_6|    04_Acima_de_3|       02_Entre_1_e_2|              00_Sem_dados|\n",
      "|389bc3fa690240e79...|f19421c1d4aa40978...|                0.0|             1|            1|             1|          1|      bogo|             21.0|         1|           1|             21.0|      NULL|                         0|06_Acima_de_60+|02_Entre_49000_e_...|    02_Entre_4_e_7|03_Entre_12_e_20|                bogo|        04_Acima_de_33%|       03_Entre_2_e_4|        03_Entre_2_e_3|      04_Acima_de_71%|        04_Acima_de_71%|       04_Acima_de_71%|        04_Acima_de_89%|     04_Acima_de_75%|03_Entre_25%_e_100%|   03_Entre_50%_e_100%|               00_Sem_dados|   03_Entre_88%_e_100%|      02_Entre_75%_e_100%|     03_Entre_88%_e_100%|        01_Abaixo_de_100%|   03_Entre_90%_e_100%|   01_Abaixo_de_100%|     02_Entre_50%_e_100%|                 00_Sem_dados|        04_Acima_de_7|     04_Acima_de_7|    04_Acima_de_7|     04_Acima_de_5|  04_Acima_de_6|    04_Acima_de_3|       02_Entre_1_e_2|              00_Sem_dados|\n",
      "|3d02345581554e81b...|0b1e1539f2cc45b7b...|                0.0|             0|            1|             0|          1|  discount|              1.0|         0|           1|              1.0|      NULL|                         0|   00_Sem_dados|        00_Sem_dados|    04_Acima_de_11|  01_Abaixo_de_3|                NULL|        01_Abaixo_de_0%|         00_Sem_dados|          00_Sem_dados|      01_Abaixo_de_0%|        01_Abaixo_de_0%|       01_Abaixo_de_0%|        01_Abaixo_de_0%|     01_Abaixo_de_0%|    01_Abaixo_de_0%|       01_Abaixo_de_0%|               00_Sem_dados|   03_Entre_88%_e_100%|      02_Entre_75%_e_100%|     03_Entre_88%_e_100%|        01_Abaixo_de_100%|   03_Entre_90%_e_100%|   01_Abaixo_de_100%|     02_Entre_50%_e_100%|                 00_Sem_dados|       01_Abaixo_de_4|    01_Abaixo_de_3|   01_Abaixo_de_4|    01_Abaixo_de_2| 01_Abaixo_de_3|   01_Abaixo_de_1|       02_Entre_1_e_2|              00_Sem_dados|\n",
      "|68617ca6246f4fbc8...|4d5c57ea9a6940dd8...|                0.0|             1|            1|             1|          1|      bogo|              3.5|         0|           1|              3.5|      NULL|                         0|   00_Sem_dados|        00_Sem_dados|    01_Abaixo_de_4|  01_Abaixo_de_3|                NULL|        01_Abaixo_de_0%|         00_Sem_dados|          00_Sem_dados|      01_Abaixo_de_0%|        01_Abaixo_de_0%|       01_Abaixo_de_0%|        01_Abaixo_de_0%|     01_Abaixo_de_0%|    01_Abaixo_de_0%|       01_Abaixo_de_0%|               00_Sem_dados|    02_Entre_67%_e_88%|      02_Entre_75%_e_100%|      02_Entre_67%_e_88%|        01_Abaixo_de_100%|   03_Entre_90%_e_100%|   01_Abaixo_de_100%|     02_Entre_50%_e_100%|                 00_Sem_dados|       02_Entre_4_e_5|    02_Entre_3_e_5|   02_Entre_4_e_5|    02_Entre_2_e_3| 02_Entre_3_e_4|   03_Entre_2_e_3|       02_Entre_1_e_2|              00_Sem_dados|\n",
      "|744d603ef08c4f33a...|0b1e1539f2cc45b7b...|                0.0|             0|            1|             0|          1|  discount|              2.0|         0|           1|              2.0|      NULL|                         0|   00_Sem_dados|        00_Sem_dados|    02_Entre_4_e_7|  01_Abaixo_de_3|                NULL|        01_Abaixo_de_0%|         00_Sem_dados|          00_Sem_dados|      01_Abaixo_de_0%|        01_Abaixo_de_0%|       01_Abaixo_de_0%|        01_Abaixo_de_0%|     01_Abaixo_de_0%|    01_Abaixo_de_0%|       01_Abaixo_de_0%|            01_Abaixo_de_0%|   03_Entre_88%_e_100%|      02_Entre_75%_e_100%|     03_Entre_88%_e_100%|        01_Abaixo_de_100%|   03_Entre_90%_e_100%|   01_Abaixo_de_100%|     02_Entre_50%_e_100%|          02_Entre_50%_e_100%|       02_Entre_4_e_5|    02_Entre_3_e_5|   02_Entre_4_e_5|    03_Entre_3_e_5| 01_Abaixo_de_3|   02_Entre_1_e_2|       02_Entre_1_e_2|            01_Abaixo_de_1|\n",
      "|78afa995795e4d85b...|9b98b8c7a33c4b65b...|                0.0|             1|            1|             0|          1|      bogo|             0.25|         1|           1|             0.25|      NULL|                         0|06_Acima_de_60+|   04_Acima_de_79000|    02_Entre_4_e_7|04_Entre_20_e_28|                bogo|     03_Entre_17%_e_33%|        04_Acima_de_4|         04_Acima_de_3|   03_Entre_33%_e_71%|     03_Entre_33%_e_71%|    03_Entre_33%_e_71%|      02_Entre_0%_e_50%|  03_Entre_33%_e_75%|03_Entre_25%_e_100%|          00_Sem_dados|            01_Abaixo_de_0%|   03_Entre_88%_e_100%|      02_Entre_75%_e_100%|     03_Entre_88%_e_100%|        01_Abaixo_de_100%|   03_Entre_90%_e_100%|   01_Abaixo_de_100%|            00_Sem_dados|          02_Entre_50%_e_100%|       01_Abaixo_de_4|    02_Entre_3_e_5|   01_Abaixo_de_4|    02_Entre_2_e_3| 01_Abaixo_de_3|   03_Entre_2_e_3|         00_Sem_dados|            01_Abaixo_de_1|\n",
      "|8ec6ce2a7e7949b1b...|fafdcd668e3743c1b...|                0.0|             1|            1|             1|          1|  discount|              0.5|         0|           1|              0.5|      NULL|                         0|   00_Sem_dados|        00_Sem_dados|      00_Sem_dados|    00_Sem_dados|                NULL|           00_Sem_dados|         00_Sem_dados|          00_Sem_dados|      01_Abaixo_de_0%|        01_Abaixo_de_0%|       01_Abaixo_de_0%|        01_Abaixo_de_0%|     01_Abaixo_de_0%|    01_Abaixo_de_0%|       01_Abaixo_de_0%|            01_Abaixo_de_0%|   03_Entre_88%_e_100%|      02_Entre_75%_e_100%|     03_Entre_88%_e_100%|        01_Abaixo_de_100%|   03_Entre_90%_e_100%|   01_Abaixo_de_100%|     02_Entre_50%_e_100%|          02_Entre_50%_e_100%|       03_Entre_5_e_7|    03_Entre_5_e_7|   03_Entre_5_e_7|    03_Entre_3_e_5|  04_Acima_de_6|   01_Abaixo_de_1|        04_Acima_de_3|            01_Abaixo_de_1|\n",
      "+--------------------+--------------------+-------------------+--------------+-------------+--------------+-----------+----------+-----------------+----------+------------+-----------------+----------+--------------------------+---------------+--------------------+------------------+----------------+--------------------+-----------------------+---------------------+----------------------+---------------------+-----------------------+----------------------+-----------------------+--------------------+-------------------+----------------------+---------------------------+----------------------+-------------------------+------------------------+-------------------------+----------------------+--------------------+------------------------+-----------------------------+---------------------+------------------+-----------------+------------------+---------------+-----------------+---------------------+--------------------------+\n",
      "only showing top 10 rows\n",
      "\n",
      "None\n"
     ]
    }
   ],
   "source": [
    "offer_summary_4_modeling = (offer_summary_4_modeling\n",
    "    .join(profile.select(\n",
    "        \"account_id\",\"age\",\"credit_card_limit\",\n",
    "        \"total_transactions\",\"avg_amount\",\"most_used_offer_type\",\n",
    "        \"transactions_offer_rate\",\"avg_time_to_use_offer\",\"avg_time_to_view_offer\",\n",
    "        \"all_coupon_usage_rate\",\"pct_used_channel_mobile\",\"pct_used_channel_email\",\n",
    "        \"pct_used_channel_social\",\"pct_used_channel_web\",\"pct_used_type_bogo\",\n",
    "        \"pct_used_type_discount\",\"pct_used_type_informational\",\"all_coupon_viewed_rate\",\n",
    "        \"pct_viewed_channel_mobile\",\"pct_viewed_channel_email\",\"pct_viewed_channel_social\",\n",
    "        \"pct_viewed_channel_web\",\"pct_viewed_type_bogo\",\"pct_viewed_type_discount\",\n",
    "        \"pct_viewed_type_informational\",\"total_offers_received\",\"total_mobile_offer\",\n",
    "        \"total_email_offer\",\"total_social_offer\",\"total_web_offer\",\n",
    "        \"total_offers_bogo\",\"total_offers_discount\",\"total_offers_informational\",),\n",
    "        on=\"account_id\",\n",
    "        how=\"left\"\n",
    "    )\n",
    ")\n",
    "\n",
    "print(offer_summary_4_modeling.show(10))"
   ]
  },
  {
   "cell_type": "markdown",
   "id": "cd4ec3f7",
   "metadata": {},
   "source": [
    "## 5.4. Adicionando informações faltantes sobre a oferta\n",
    "\n",
    "Dados disponiveis na tabela offers"
   ]
  },
  {
   "cell_type": "code",
   "execution_count": 46,
   "id": "9d2575aa",
   "metadata": {},
   "outputs": [
    {
     "name": "stdout",
     "output_type": "stream",
     "text": [
      "+--------------------+--------------------+-------------------+--------------+-------------+--------------+-----------+----------+-----------------+----------+------------+-----------------+----------+--------------------------+---------------+--------------------+------------------+----------------+--------------------+-----------------------+---------------------+----------------------+---------------------+-----------------------+----------------------+-----------------------+--------------------+-------------------+----------------------+---------------------------+----------------------+-------------------------+------------------------+-------------------------+----------------------+--------------------+------------------------+-----------------------------+---------------------+------------------+-----------------+------------------+---------------+-----------------+---------------------+--------------------------+--------------+--------------+---------------+\n",
      "|            offer_id|          account_id|offer_received_date|channel_mobile|channel_email|channel_social|channel_web|offer_type|offer_viewed_date|used_offer|viewed_offer|time_to_see_offer|account_id|recently_viewed_info_offer|            age|   credit_card_limit|total_transactions|      avg_amount|most_used_offer_type|transactions_offer_rate|avg_time_to_use_offer|avg_time_to_view_offer|all_coupon_usage_rate|pct_used_channel_mobile|pct_used_channel_email|pct_used_channel_social|pct_used_channel_web| pct_used_type_bogo|pct_used_type_discount|pct_used_type_informational|all_coupon_viewed_rate|pct_viewed_channel_mobile|pct_viewed_channel_email|pct_viewed_channel_social|pct_viewed_channel_web|pct_viewed_type_bogo|pct_viewed_type_discount|pct_viewed_type_informational|total_offers_received|total_mobile_offer|total_email_offer|total_social_offer|total_web_offer|total_offers_bogo|total_offers_discount|total_offers_informational|discount_value|offer_duration|offer_min_value|\n",
      "+--------------------+--------------------+-------------------+--------------+-------------+--------------+-----------+----------+-----------------+----------+------------+-----------------+----------+--------------------------+---------------+--------------------+------------------+----------------+--------------------+-----------------------+---------------------+----------------------+---------------------+-----------------------+----------------------+-----------------------+--------------------+-------------------+----------------------+---------------------------+----------------------+-------------------------+------------------------+-------------------------+----------------------+--------------------+------------------------+-----------------------------+---------------------+------------------+-----------------+------------------+---------------+-----------------+---------------------+--------------------------+--------------+--------------+---------------+\n",
      "|0b1e1539f2cc45b7b...|31dda685af34476ca...|                0.0|             0|            1|             0|          1|  discount|             6.25|         0|           1|             6.25|      NULL|                         0|06_Acima_de_60+|03_Entre_63000_e_...|   03_Entre_7_e_11|04_Entre_20_e_28|            discount|        04_Acima_de_33%|       02_Entre_2_e_2|        03_Entre_2_e_3|      04_Acima_de_71%|        04_Acima_de_71%|       04_Acima_de_71%|        04_Acima_de_89%|     04_Acima_de_75%|       00_Sem_dados|   03_Entre_50%_e_100%|               00_Sem_dados|   03_Entre_88%_e_100%|      02_Entre_75%_e_100%|     03_Entre_88%_e_100%|        01_Abaixo_de_100%|   03_Entre_90%_e_100%|        00_Sem_dados|     02_Entre_50%_e_100%|                 00_Sem_dados|        04_Acima_de_7|     04_Acima_de_7|    04_Acima_de_7|     04_Acima_de_5|  04_Acima_de_6|     00_Sem_dados|        04_Acima_de_3|              00_Sem_dados|             5|          10.0|             20|\n",
      "|f19421c1d4aa40978...|389bc3fa690240e79...|                0.0|             1|            1|             1|          1|      bogo|              0.0|         1|           1|              0.0|      NULL|                         0|06_Acima_de_60+|02_Entre_49000_e_...|    02_Entre_4_e_7|03_Entre_12_e_20|                bogo|        04_Acima_de_33%|       03_Entre_2_e_4|        03_Entre_2_e_3|      04_Acima_de_71%|        04_Acima_de_71%|       04_Acima_de_71%|        04_Acima_de_89%|     04_Acima_de_75%|03_Entre_25%_e_100%|   03_Entre_50%_e_100%|               00_Sem_dados|   03_Entre_88%_e_100%|      02_Entre_75%_e_100%|     03_Entre_88%_e_100%|        01_Abaixo_de_100%|   03_Entre_90%_e_100%|   01_Abaixo_de_100%|     02_Entre_50%_e_100%|                 00_Sem_dados|        04_Acima_de_7|     04_Acima_de_7|    04_Acima_de_7|     04_Acima_de_5|  04_Acima_de_6|    04_Acima_de_3|       02_Entre_1_e_2|              00_Sem_dados|             5|           5.0|              5|\n",
      "|f19421c1d4aa40978...|389bc3fa690240e79...|                0.0|             1|            1|             1|          1|      bogo|              0.0|         1|           1|              0.0|      NULL|                         0|06_Acima_de_60+|02_Entre_49000_e_...|    02_Entre_4_e_7|03_Entre_12_e_20|                bogo|        04_Acima_de_33%|       03_Entre_2_e_4|        03_Entre_2_e_3|      04_Acima_de_71%|        04_Acima_de_71%|       04_Acima_de_71%|        04_Acima_de_89%|     04_Acima_de_75%|03_Entre_25%_e_100%|   03_Entre_50%_e_100%|               00_Sem_dados|   03_Entre_88%_e_100%|      02_Entre_75%_e_100%|     03_Entre_88%_e_100%|        01_Abaixo_de_100%|   03_Entre_90%_e_100%|   01_Abaixo_de_100%|     02_Entre_50%_e_100%|                 00_Sem_dados|        04_Acima_de_7|     04_Acima_de_7|    04_Acima_de_7|     04_Acima_de_5|  04_Acima_de_6|    04_Acima_de_3|       02_Entre_1_e_2|              00_Sem_dados|             5|           5.0|              5|\n",
      "|f19421c1d4aa40978...|389bc3fa690240e79...|                0.0|             1|            1|             1|          1|      bogo|             21.0|         1|           1|             21.0|      NULL|                         0|06_Acima_de_60+|02_Entre_49000_e_...|    02_Entre_4_e_7|03_Entre_12_e_20|                bogo|        04_Acima_de_33%|       03_Entre_2_e_4|        03_Entre_2_e_3|      04_Acima_de_71%|        04_Acima_de_71%|       04_Acima_de_71%|        04_Acima_de_89%|     04_Acima_de_75%|03_Entre_25%_e_100%|   03_Entre_50%_e_100%|               00_Sem_dados|   03_Entre_88%_e_100%|      02_Entre_75%_e_100%|     03_Entre_88%_e_100%|        01_Abaixo_de_100%|   03_Entre_90%_e_100%|   01_Abaixo_de_100%|     02_Entre_50%_e_100%|                 00_Sem_dados|        04_Acima_de_7|     04_Acima_de_7|    04_Acima_de_7|     04_Acima_de_5|  04_Acima_de_6|    04_Acima_de_3|       02_Entre_1_e_2|              00_Sem_dados|             5|           5.0|              5|\n",
      "|f19421c1d4aa40978...|389bc3fa690240e79...|                0.0|             1|            1|             1|          1|      bogo|             21.0|         1|           1|             21.0|      NULL|                         0|06_Acima_de_60+|02_Entre_49000_e_...|    02_Entre_4_e_7|03_Entre_12_e_20|                bogo|        04_Acima_de_33%|       03_Entre_2_e_4|        03_Entre_2_e_3|      04_Acima_de_71%|        04_Acima_de_71%|       04_Acima_de_71%|        04_Acima_de_89%|     04_Acima_de_75%|03_Entre_25%_e_100%|   03_Entre_50%_e_100%|               00_Sem_dados|   03_Entre_88%_e_100%|      02_Entre_75%_e_100%|     03_Entre_88%_e_100%|        01_Abaixo_de_100%|   03_Entre_90%_e_100%|   01_Abaixo_de_100%|     02_Entre_50%_e_100%|                 00_Sem_dados|        04_Acima_de_7|     04_Acima_de_7|    04_Acima_de_7|     04_Acima_de_5|  04_Acima_de_6|    04_Acima_de_3|       02_Entre_1_e_2|              00_Sem_dados|             5|           5.0|              5|\n",
      "|0b1e1539f2cc45b7b...|3d02345581554e81b...|                0.0|             0|            1|             0|          1|  discount|              1.0|         0|           1|              1.0|      NULL|                         0|   00_Sem_dados|        00_Sem_dados|    04_Acima_de_11|  01_Abaixo_de_3|                NULL|        01_Abaixo_de_0%|         00_Sem_dados|          00_Sem_dados|      01_Abaixo_de_0%|        01_Abaixo_de_0%|       01_Abaixo_de_0%|        01_Abaixo_de_0%|     01_Abaixo_de_0%|    01_Abaixo_de_0%|       01_Abaixo_de_0%|               00_Sem_dados|   03_Entre_88%_e_100%|      02_Entre_75%_e_100%|     03_Entre_88%_e_100%|        01_Abaixo_de_100%|   03_Entre_90%_e_100%|   01_Abaixo_de_100%|     02_Entre_50%_e_100%|                 00_Sem_dados|       01_Abaixo_de_4|    01_Abaixo_de_3|   01_Abaixo_de_4|    01_Abaixo_de_2| 01_Abaixo_de_3|   01_Abaixo_de_1|       02_Entre_1_e_2|              00_Sem_dados|             5|          10.0|             20|\n",
      "|4d5c57ea9a6940dd8...|68617ca6246f4fbc8...|                0.0|             1|            1|             1|          1|      bogo|              3.5|         0|           1|              3.5|      NULL|                         0|   00_Sem_dados|        00_Sem_dados|    01_Abaixo_de_4|  01_Abaixo_de_3|                NULL|        01_Abaixo_de_0%|         00_Sem_dados|          00_Sem_dados|      01_Abaixo_de_0%|        01_Abaixo_de_0%|       01_Abaixo_de_0%|        01_Abaixo_de_0%|     01_Abaixo_de_0%|    01_Abaixo_de_0%|       01_Abaixo_de_0%|               00_Sem_dados|    02_Entre_67%_e_88%|      02_Entre_75%_e_100%|      02_Entre_67%_e_88%|        01_Abaixo_de_100%|   03_Entre_90%_e_100%|   01_Abaixo_de_100%|     02_Entre_50%_e_100%|                 00_Sem_dados|       02_Entre_4_e_5|    02_Entre_3_e_5|   02_Entre_4_e_5|    02_Entre_2_e_3| 02_Entre_3_e_4|   03_Entre_2_e_3|       02_Entre_1_e_2|              00_Sem_dados|            10|           5.0|             10|\n",
      "|0b1e1539f2cc45b7b...|744d603ef08c4f33a...|                0.0|             0|            1|             0|          1|  discount|              2.0|         0|           1|              2.0|      NULL|                         0|   00_Sem_dados|        00_Sem_dados|    02_Entre_4_e_7|  01_Abaixo_de_3|                NULL|        01_Abaixo_de_0%|         00_Sem_dados|          00_Sem_dados|      01_Abaixo_de_0%|        01_Abaixo_de_0%|       01_Abaixo_de_0%|        01_Abaixo_de_0%|     01_Abaixo_de_0%|    01_Abaixo_de_0%|       01_Abaixo_de_0%|            01_Abaixo_de_0%|   03_Entre_88%_e_100%|      02_Entre_75%_e_100%|     03_Entre_88%_e_100%|        01_Abaixo_de_100%|   03_Entre_90%_e_100%|   01_Abaixo_de_100%|     02_Entre_50%_e_100%|          02_Entre_50%_e_100%|       02_Entre_4_e_5|    02_Entre_3_e_5|   02_Entre_4_e_5|    03_Entre_3_e_5| 01_Abaixo_de_3|   02_Entre_1_e_2|       02_Entre_1_e_2|            01_Abaixo_de_1|             5|          10.0|             20|\n",
      "|9b98b8c7a33c4b65b...|78afa995795e4d85b...|                0.0|             1|            1|             0|          1|      bogo|             0.25|         1|           1|             0.25|      NULL|                         0|06_Acima_de_60+|   04_Acima_de_79000|    02_Entre_4_e_7|04_Entre_20_e_28|                bogo|     03_Entre_17%_e_33%|        04_Acima_de_4|         04_Acima_de_3|   03_Entre_33%_e_71%|     03_Entre_33%_e_71%|    03_Entre_33%_e_71%|      02_Entre_0%_e_50%|  03_Entre_33%_e_75%|03_Entre_25%_e_100%|          00_Sem_dados|            01_Abaixo_de_0%|   03_Entre_88%_e_100%|      02_Entre_75%_e_100%|     03_Entre_88%_e_100%|        01_Abaixo_de_100%|   03_Entre_90%_e_100%|   01_Abaixo_de_100%|            00_Sem_dados|          02_Entre_50%_e_100%|       01_Abaixo_de_4|    02_Entre_3_e_5|   01_Abaixo_de_4|    02_Entre_2_e_3| 01_Abaixo_de_3|   03_Entre_2_e_3|         00_Sem_dados|            01_Abaixo_de_1|             5|           7.0|              5|\n",
      "|fafdcd668e3743c1b...|8ec6ce2a7e7949b1b...|                0.0|             1|            1|             1|          1|  discount|              0.5|         0|           1|              0.5|      NULL|                         0|   00_Sem_dados|        00_Sem_dados|      00_Sem_dados|    00_Sem_dados|                NULL|           00_Sem_dados|         00_Sem_dados|          00_Sem_dados|      01_Abaixo_de_0%|        01_Abaixo_de_0%|       01_Abaixo_de_0%|        01_Abaixo_de_0%|     01_Abaixo_de_0%|    01_Abaixo_de_0%|       01_Abaixo_de_0%|            01_Abaixo_de_0%|   03_Entre_88%_e_100%|      02_Entre_75%_e_100%|     03_Entre_88%_e_100%|        01_Abaixo_de_100%|   03_Entre_90%_e_100%|   01_Abaixo_de_100%|     02_Entre_50%_e_100%|          02_Entre_50%_e_100%|       03_Entre_5_e_7|    03_Entre_5_e_7|   03_Entre_5_e_7|    03_Entre_3_e_5|  04_Acima_de_6|   01_Abaixo_de_1|        04_Acima_de_3|            01_Abaixo_de_1|             2|          10.0|             10|\n",
      "+--------------------+--------------------+-------------------+--------------+-------------+--------------+-----------+----------+-----------------+----------+------------+-----------------+----------+--------------------------+---------------+--------------------+------------------+----------------+--------------------+-----------------------+---------------------+----------------------+---------------------+-----------------------+----------------------+-----------------------+--------------------+-------------------+----------------------+---------------------------+----------------------+-------------------------+------------------------+-------------------------+----------------------+--------------------+------------------------+-----------------------------+---------------------+------------------+-----------------+------------------+---------------+-----------------+---------------------+--------------------------+--------------+--------------+---------------+\n",
      "only showing top 10 rows\n",
      "\n",
      "None\n"
     ]
    }
   ],
   "source": [
    "offer_summary_4_modeling = (offer_summary_4_modeling\n",
    "    .join(offers.select(\"offer_id\",\"discount_value\",\"duration\",\"min_value\"),\n",
    "        on=\"offer_id\",\n",
    "        how=\"left\")\n",
    "    .withColumnRenamed(\"duration\",\"offer_duration\")\n",
    "    .withColumnRenamed(\"min_value\",\"offer_min_value\")\n",
    ")\n",
    "\n",
    "print(offer_summary_4_modeling.show(10))"
   ]
  },
  {
   "cell_type": "markdown",
   "id": "12d14424",
   "metadata": {},
   "source": [
    "## 5.5. Salvando tabela de resumo de ofertas\n",
    "\n",
    "Removemos informações de visualização de oferta para simplificar as simulações, pois não podemos simular em quantos dias o usuário verá a oferta, apenas se quisermos extrapolar a visualização no momento da simulação"
   ]
  },
  {
   "cell_type": "code",
   "execution_count": 48,
   "id": "9de3e4ef",
   "metadata": {},
   "outputs": [],
   "source": [
    "(offer_summary_4_modeling\n",
    "    .drop(\"offer_viewed_date\",\"viewed_offer\",\"time_to_see_offer\")\n",
    "    .withColumnRenamed(\"used_offer\", \"TARGET_USED_OFFER\")\n",
    "    .toPandas()\n",
    "    .to_csv('../data/processed/offers_for_modeling.csv', index=False)\n",
    ")"
   ]
  },
  {
   "cell_type": "markdown",
   "id": "162ed0c3",
   "metadata": {},
   "source": [
    "# 6. Fechar sessão spark"
   ]
  },
  {
   "cell_type": "code",
   "execution_count": 49,
   "id": "79c33c3c",
   "metadata": {},
   "outputs": [],
   "source": [
    "spark.stop()"
   ]
  }
 ],
 "metadata": {
  "kernelspec": {
   "display_name": "ifoodcase_311",
   "language": "python",
   "name": "python3"
  },
  "language_info": {
   "codemirror_mode": {
    "name": "ipython",
    "version": 3
   },
   "file_extension": ".py",
   "mimetype": "text/x-python",
   "name": "python",
   "nbconvert_exporter": "python",
   "pygments_lexer": "ipython3",
   "version": "3.11.11"
  }
 },
 "nbformat": 4,
 "nbformat_minor": 5
}
