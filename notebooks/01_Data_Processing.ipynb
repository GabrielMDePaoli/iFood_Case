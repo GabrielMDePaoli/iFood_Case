{
 "cells": [
  {
   "cell_type": "markdown",
   "id": "d5ceaf53",
   "metadata": {},
   "source": [
    "# 0. Commands to start spark-shell\n",
    "\n",
    "Mudar local para o readme.md"
   ]
  },
  {
   "cell_type": "raw",
   "id": "e393ad2e",
   "metadata": {
    "vscode": {
     "languageId": "raw"
    }
   },
   "source": [
    "cd C:\\Spark\\spark-3.5.5-bin-hadoop3\\bin\n",
    "spark-shell"
   ]
  },
  {
   "cell_type": "markdown",
   "id": "f3bc8199",
   "metadata": {},
   "source": [
    "# 1. Importing python and creating spark session"
   ]
  },
  {
   "cell_type": "code",
   "execution_count": 1,
   "id": "9a0a7e22",
   "metadata": {},
   "outputs": [],
   "source": [
    "%load_ext autoreload\n",
    "%autoreload 2\n",
    "\n",
    "# import pyspark module\n",
    "from pyspark.sql import SparkSession\n",
    "import pyspark\n",
    "import pyspark.sql.functions as F\n",
    "from pyspark.sql.window import Window\n",
    "\n",
    "import matplotlib.pyplot as plt\n",
    "import seaborn as sns\n",
    "import plotly.express as px\n",
    "import numpy as np\n",
    "\n",
    "import sys\n",
    "\n",
    "sys.path.append('../src/')\n",
    "\n",
    "from data_processing_functions import *"
   ]
  },
  {
   "cell_type": "code",
   "execution_count": 2,
   "id": "c19b2c73",
   "metadata": {},
   "outputs": [],
   "source": [
    "spark = (SparkSession\n",
    "    .builder\n",
    "    .appName(\"DataUnifier\")\n",
    "    .config(\"spark.driver.host\", \"localhost\")\n",
    "    .config(\"spark.executor.heartbeatInterval\",\"3600s\")\n",
    "    .config(\"spark.network.timeout\",\"3601s\")\n",
    "    .config(\"spark.driver.memory\", \"8g\")\n",
    "    .config(\"spark.executor.memory\", \"8g\")\n",
    "    .config(\"spark.sql.shuffle.partitions\", \"200\")\n",
    "    .getOrCreate()\n",
    ")\n"
   ]
  },
  {
   "cell_type": "markdown",
   "id": "c77c8cd4",
   "metadata": {},
   "source": [
    "# 2. Exploring the data"
   ]
  },
  {
   "cell_type": "markdown",
   "id": "d7362415",
   "metadata": {},
   "source": [
    "## 2.1. Offers.json\n",
    "\n",
    "Contém os ids das ofertas e metadados de cada uma delas:\n",
    "\n",
    "- id (string): id da oferta \n",
    "- offer_type (string): o tipo da oferta (BOGO, discount, informational)\n",
    "    - BOGO: Oferta de \"compre um, leve outro\". Por exemplo, compre um lanche e ganhe outro grátis\n",
    "    - discount: Oferta com desconto direto em um produto ou serviço. Exemplo: 20% de desconto em uma compra\n",
    "    - informational: Não é uma oferta de fato — é só uma mensagem informativa, como anúncios ou lembretes de promoções futuras, sem incentivo direto\n",
    "- min_value (int): valor mínimo para ativação da oferta \n",
    "- duration (int): duração da oferta \n",
    "- discount_value (int): valor do desconto \n",
    "- channels (list of strings): canais de veiculação "
   ]
  },
  {
   "cell_type": "markdown",
   "id": "a6dbe888",
   "metadata": {},
   "source": [
    "### 2.1.1. Loading the json as DataFrame"
   ]
  },
  {
   "cell_type": "code",
   "execution_count": 3,
   "id": "85f2094b",
   "metadata": {},
   "outputs": [
    {
     "name": "stdout",
     "output_type": "stream",
     "text": [
      "root\n",
      " |-- channels: array (nullable = true)\n",
      " |    |-- element: string (containsNull = true)\n",
      " |-- discount_value: long (nullable = true)\n",
      " |-- duration: double (nullable = true)\n",
      " |-- id: string (nullable = true)\n",
      " |-- min_value: long (nullable = true)\n",
      " |-- offer_type: string (nullable = true)\n",
      "\n",
      "+--------------------+--------------+--------+--------------------+---------+-------------+\n",
      "|            channels|discount_value|duration|                  id|min_value|   offer_type|\n",
      "+--------------------+--------------+--------+--------------------+---------+-------------+\n",
      "|[email, mobile, s...|            10|     7.0|ae264e3637204a6fb...|       10|         bogo|\n",
      "|[web, email, mobi...|            10|     5.0|4d5c57ea9a6940dd8...|       10|         bogo|\n",
      "|[web, email, mobile]|             0|     4.0|3f207df678b143eea...|        0|informational|\n",
      "|[web, email, mobile]|             5|     7.0|9b98b8c7a33c4b65b...|        5|         bogo|\n",
      "|        [web, email]|             5|    10.0|0b1e1539f2cc45b7b...|       20|     discount|\n",
      "|[web, email, mobi...|             3|     7.0|2298d6c36e964ae4a...|        7|     discount|\n",
      "|[web, email, mobi...|             2|    10.0|fafdcd668e3743c1b...|       10|     discount|\n",
      "|[email, mobile, s...|             0|     3.0|5a8bc65990b245e5a...|        0|informational|\n",
      "|[web, email, mobi...|             5|     5.0|f19421c1d4aa40978...|        5|         bogo|\n",
      "|[web, email, mobile]|             2|     7.0|2906b810c7d441179...|       10|     discount|\n",
      "+--------------------+--------------+--------+--------------------+---------+-------------+\n",
      "\n"
     ]
    }
   ],
   "source": [
    "offers_ = spark.read.json(\"../data/raw/offers.json\")\n",
    "offers_.printSchema()\n",
    "offers_.show()"
   ]
  },
  {
   "cell_type": "code",
   "execution_count": 4,
   "id": "515cdd23",
   "metadata": {},
   "outputs": [],
   "source": [
    "# Deepcopy of the original table\n",
    "offers = offers_.alias('offers')"
   ]
  },
  {
   "cell_type": "markdown",
   "id": "c622f4d4",
   "metadata": {},
   "source": [
    "### 2.1.2. Value count of channels and offer type"
   ]
  },
  {
   "cell_type": "code",
   "execution_count": 5,
   "id": "cf38f9e8",
   "metadata": {},
   "outputs": [
    {
     "name": "stdout",
     "output_type": "stream",
     "text": [
      "+--------------------+-----+----------+\n",
      "|            channels|count|percentage|\n",
      "+--------------------+-----+----------+\n",
      "|[web, email, mobi...|    4|      40.0|\n",
      "|[web, email, mobile]|    3|      30.0|\n",
      "|[email, mobile, s...|    2|      20.0|\n",
      "|        [web, email]|    1|      10.0|\n",
      "+--------------------+-----+----------+\n",
      "\n",
      "None\n",
      "+-------------+-----+----------+\n",
      "|   offer_type|count|percentage|\n",
      "+-------------+-----+----------+\n",
      "|     discount|    4|      40.0|\n",
      "|         bogo|    4|      40.0|\n",
      "|informational|    2|      20.0|\n",
      "+-------------+-----+----------+\n",
      "\n",
      "None\n"
     ]
    },
    {
     "data": {
      "text/plain": [
       "DataFrame[offer_type: string, count: bigint, percentage: double]"
      ]
     },
     "execution_count": 5,
     "metadata": {},
     "output_type": "execute_result"
    }
   ],
   "source": [
    "get_values_count(offers, \"channels\")\n",
    "\n",
    "get_values_count(offers, \"offer_type\")"
   ]
  },
  {
   "cell_type": "markdown",
   "id": "97efef2f",
   "metadata": {},
   "source": [
    "### 2.1.3. Creating dummies for each channel of channels column"
   ]
  },
  {
   "cell_type": "code",
   "execution_count": 6,
   "id": "27b50b59",
   "metadata": {},
   "outputs": [
    {
     "name": "stdout",
     "output_type": "stream",
     "text": [
      "['mobile', 'email', 'social', 'web']\n",
      "+--------------+--------+--------------------+---------+-------------+--------------+-------------+--------------+-----------+\n",
      "|discount_value|duration|                  id|min_value|   offer_type|channel_mobile|channel_email|channel_social|channel_web|\n",
      "+--------------+--------+--------------------+---------+-------------+--------------+-------------+--------------+-----------+\n",
      "|            10|     7.0|ae264e3637204a6fb...|       10|         bogo|             1|            1|             1|          0|\n",
      "|            10|     5.0|4d5c57ea9a6940dd8...|       10|         bogo|             1|            1|             1|          1|\n",
      "|             0|     4.0|3f207df678b143eea...|        0|informational|             1|            1|             0|          1|\n",
      "|             5|     7.0|9b98b8c7a33c4b65b...|        5|         bogo|             1|            1|             0|          1|\n",
      "|             5|    10.0|0b1e1539f2cc45b7b...|       20|     discount|             0|            1|             0|          1|\n",
      "|             3|     7.0|2298d6c36e964ae4a...|        7|     discount|             1|            1|             1|          1|\n",
      "|             2|    10.0|fafdcd668e3743c1b...|       10|     discount|             1|            1|             1|          1|\n",
      "|             0|     3.0|5a8bc65990b245e5a...|        0|informational|             1|            1|             1|          0|\n",
      "|             5|     5.0|f19421c1d4aa40978...|        5|         bogo|             1|            1|             1|          1|\n",
      "|             2|     7.0|2906b810c7d441179...|       10|     discount|             1|            1|             0|          1|\n",
      "+--------------+--------+--------------------+---------+-------------+--------------+-------------+--------------+-----------+\n",
      "\n"
     ]
    }
   ],
   "source": [
    "# Coletando todos os canais de veiculação unicos\n",
    "unique_channels = (offers\n",
    "    # \"Explodindo\" os canais para se obter uma coluna com cada um dos canais\n",
    "    .withColumn(\"channel\", F.explode(\"channels\"))\n",
    "    .select(\"channel\")\n",
    "    # Coletando os valores unicos dos canais \n",
    "    .distinct()\n",
    "    .rdd.flatMap(lambda x: x)\n",
    "    .collect()\n",
    ")\n",
    "# Mostrando a lista de canais unicos\n",
    "print(unique_channels)\n",
    "\n",
    "# Gerando uma coluna dummie para cada \n",
    "for ch in unique_channels:\n",
    "    offers = offers.withColumn(\n",
    "        f\"channel_{ch}\",\n",
    "        F.when(F.array_contains(\"channels\", ch), 1).otherwise(0)\n",
    "    )\n",
    "\n",
    "offers = offers.drop(\"channels\")\n",
    "\n",
    "# Exibindo a tabela modificada\n",
    "offers.show()\n",
    "\n",
    "del(unique_channels, ch)"
   ]
  },
  {
   "cell_type": "markdown",
   "id": "36963a3d",
   "metadata": {},
   "source": [
    "### 2.1.4. Creating dummies for each offer type of offer_type column"
   ]
  },
  {
   "cell_type": "code",
   "execution_count": 7,
   "id": "63b1a3fc",
   "metadata": {},
   "outputs": [
    {
     "name": "stdout",
     "output_type": "stream",
     "text": [
      "['discount', 'informational', 'bogo']\n",
      "+--------------+--------+--------------------+---------+-------------+--------------+-------------+--------------+-----------+-------------------+------------------------+---------------+\n",
      "|discount_value|duration|                  id|min_value|   offer_type|channel_mobile|channel_email|channel_social|channel_web|offer_type_discount|offer_type_informational|offer_type_bogo|\n",
      "+--------------+--------+--------------------+---------+-------------+--------------+-------------+--------------+-----------+-------------------+------------------------+---------------+\n",
      "|            10|     7.0|ae264e3637204a6fb...|       10|         bogo|             1|            1|             1|          0|                  0|                       0|              1|\n",
      "|            10|     5.0|4d5c57ea9a6940dd8...|       10|         bogo|             1|            1|             1|          1|                  0|                       0|              1|\n",
      "|             0|     4.0|3f207df678b143eea...|        0|informational|             1|            1|             0|          1|                  0|                       1|              0|\n",
      "|             5|     7.0|9b98b8c7a33c4b65b...|        5|         bogo|             1|            1|             0|          1|                  0|                       0|              1|\n",
      "|             5|    10.0|0b1e1539f2cc45b7b...|       20|     discount|             0|            1|             0|          1|                  1|                       0|              0|\n",
      "|             3|     7.0|2298d6c36e964ae4a...|        7|     discount|             1|            1|             1|          1|                  1|                       0|              0|\n",
      "|             2|    10.0|fafdcd668e3743c1b...|       10|     discount|             1|            1|             1|          1|                  1|                       0|              0|\n",
      "|             0|     3.0|5a8bc65990b245e5a...|        0|informational|             1|            1|             1|          0|                  0|                       1|              0|\n",
      "|             5|     5.0|f19421c1d4aa40978...|        5|         bogo|             1|            1|             1|          1|                  0|                       0|              1|\n",
      "|             2|     7.0|2906b810c7d441179...|       10|     discount|             1|            1|             0|          1|                  1|                       0|              0|\n",
      "+--------------+--------+--------------------+---------+-------------+--------------+-------------+--------------+-----------+-------------------+------------------------+---------------+\n",
      "\n"
     ]
    }
   ],
   "source": [
    "# Coletando todos os tipos de oferta unicos\n",
    "unique_offer_types = (offers\n",
    "    .select(\"offer_type\")\n",
    "    # Coletando os valores unicos dos tipos de oferta \n",
    "    .distinct()\n",
    "    .rdd.flatMap(lambda x: x)\n",
    "    .collect()\n",
    ")\n",
    "# Mostrando a lista de tipos de oferta unicos\n",
    "print(unique_offer_types)\n",
    "\n",
    "# Gerando uma coluna dummie para cada \n",
    "for ot in unique_offer_types:\n",
    "    offers = offers.withColumn(\n",
    "        f\"offer_type_{ot}\",\n",
    "        F.when(F.col(\"offer_type\") == ot, 1).otherwise(0)\n",
    "    )\n",
    "\n",
    "# Exibindo a tabela modificada\n",
    "offers.show()\n",
    "\n",
    "del(unique_offer_types, ot)"
   ]
  },
  {
   "cell_type": "markdown",
   "id": "56b44bc8",
   "metadata": {},
   "source": [
    "## 2.2. Profile.json\n",
    "\n",
    "Contém atributos de cerca de 17k clientes:\n",
    "\n",
    "- age (int): idade do cliente na criação da conta \n",
    "- registeredon (int): data de criação da conta \n",
    "- gender (string): gênero do cliente \n",
    "- id (string): id do cliente \n",
    "- credit_card_limit (float): limite do cartão registrado"
   ]
  },
  {
   "cell_type": "markdown",
   "id": "37050375",
   "metadata": {},
   "source": [
    "### 2.2.1. Loading the json as DataFrame"
   ]
  },
  {
   "cell_type": "code",
   "execution_count": 8,
   "id": "789de102",
   "metadata": {},
   "outputs": [
    {
     "name": "stdout",
     "output_type": "stream",
     "text": [
      "root\n",
      " |-- age: long (nullable = true)\n",
      " |-- credit_card_limit: double (nullable = true)\n",
      " |-- gender: string (nullable = true)\n",
      " |-- id: string (nullable = true)\n",
      " |-- registered_on: string (nullable = true)\n",
      "\n",
      "17000\n",
      "+---+-----------------+------+--------------------+-------------+\n",
      "|age|credit_card_limit|gender|                  id|registered_on|\n",
      "+---+-----------------+------+--------------------+-------------+\n",
      "|118|             NULL|  NULL|68be06ca386d4c319...|     20170212|\n",
      "| 55|         112000.0|     F|0610b486422d4921a...|     20170715|\n",
      "|118|             NULL|  NULL|38fe809add3b4fcf9...|     20180712|\n",
      "| 75|         100000.0|     F|78afa995795e4d85b...|     20170509|\n",
      "|118|             NULL|  NULL|a03223e636434f42a...|     20170804|\n",
      "| 68|          70000.0|     M|e2127556f4f64592b...|     20180426|\n",
      "|118|             NULL|  NULL|8ec6ce2a7e7949b1b...|     20170925|\n",
      "|118|             NULL|  NULL|68617ca6246f4fbc8...|     20171002|\n",
      "| 65|          53000.0|     M|389bc3fa690240e79...|     20180209|\n",
      "|118|             NULL|  NULL|8974fc5686fe429db...|     20161122|\n",
      "|118|             NULL|  NULL|c4863c7985cf408fa...|     20170824|\n",
      "|118|             NULL|  NULL|148adfcaa27d485b8...|     20150919|\n",
      "| 58|          51000.0|     M|2eeac8d8feae4a8ca...|     20171111|\n",
      "| 61|          57000.0|     F|aa4862eba776480b8...|     20170911|\n",
      "| 26|          46000.0|     M|e12aeaf2d47d42479...|     20140213|\n",
      "| 62|          71000.0|     F|31dda685af34476ca...|     20160211|\n",
      "| 49|          52000.0|     M|62cf5e10845442329...|     20141113|\n",
      "|118|             NULL|  NULL|744d603ef08c4f33a...|     20170801|\n",
      "| 57|          42000.0|     M|6445de3b47274c759...|     20171231|\n",
      "| 61|          40000.0|     F|a448667f336b42c9a...|     20180501|\n",
      "+---+-----------------+------+--------------------+-------------+\n",
      "only showing top 20 rows\n",
      "\n",
      "None\n"
     ]
    }
   ],
   "source": [
    "profile_ = spark.read.json(\"../data/raw/profile.json\")\n",
    "profile_.printSchema()\n",
    "print(profile_.count())\n",
    "print(profile_.show())"
   ]
  },
  {
   "cell_type": "code",
   "execution_count": 9,
   "id": "ddcfe9c3",
   "metadata": {},
   "outputs": [],
   "source": [
    "profile = profile_.alias(\"profile\")"
   ]
  },
  {
   "cell_type": "markdown",
   "id": "e65cd14a",
   "metadata": {},
   "source": [
    "### 2.2.2. Investigando possível erro ou falta de dado\n",
    "\n",
    "Existe algum erro/falta de dado que ocorre e a idade é definida para 118 anos quando o perfil é gerado.\n",
    "\n",
    "Quando existe idade, os outros dados também existem.\n",
    "\n",
    "Portanto vamos trocar o valor 118 por NULL"
   ]
  },
  {
   "cell_type": "code",
   "execution_count": 10,
   "id": "bce4e501",
   "metadata": {},
   "outputs": [
    {
     "name": "stdout",
     "output_type": "stream",
     "text": [
      "Aplicando filtro de 118 anos:\n",
      "+----------------------+--------------------------+-----------+---------------+\n",
      "|credit_card_limit_null|credit_card_limit_not_null|gender_null|gender_not_null|\n",
      "+----------------------+--------------------------+-----------+---------------+\n",
      "|                  2175|                         0|       2175|              0|\n",
      "+----------------------+--------------------------+-----------+---------------+\n",
      "\n",
      "None\n",
      "Removendo os perfis com 118 anos:\n",
      "+--------+------------+----------------------+--------------------------+-----------+---------------+\n",
      "|age_null|age_not_null|credit_card_limit_null|credit_card_limit_not_null|gender_null|gender_not_null|\n",
      "+--------+------------+----------------------+--------------------------+-----------+---------------+\n",
      "|       0|       14825|                     0|                     14825|          0|          14825|\n",
      "+--------+------------+----------------------+--------------------------+-----------+---------------+\n",
      "\n",
      "None\n",
      "+----+-----------------+------+--------------------+-------------+\n",
      "| age|credit_card_limit|gender|                  id|registered_on|\n",
      "+----+-----------------+------+--------------------+-------------+\n",
      "|NULL|             NULL|  NULL|68be06ca386d4c319...|     20170212|\n",
      "|  55|         112000.0|     F|0610b486422d4921a...|     20170715|\n",
      "|NULL|             NULL|  NULL|38fe809add3b4fcf9...|     20180712|\n",
      "|  75|         100000.0|     F|78afa995795e4d85b...|     20170509|\n",
      "|NULL|             NULL|  NULL|a03223e636434f42a...|     20170804|\n",
      "|  68|          70000.0|     M|e2127556f4f64592b...|     20180426|\n",
      "|NULL|             NULL|  NULL|8ec6ce2a7e7949b1b...|     20170925|\n",
      "|NULL|             NULL|  NULL|68617ca6246f4fbc8...|     20171002|\n",
      "|  65|          53000.0|     M|389bc3fa690240e79...|     20180209|\n",
      "|NULL|             NULL|  NULL|8974fc5686fe429db...|     20161122|\n",
      "|NULL|             NULL|  NULL|c4863c7985cf408fa...|     20170824|\n",
      "|NULL|             NULL|  NULL|148adfcaa27d485b8...|     20150919|\n",
      "|  58|          51000.0|     M|2eeac8d8feae4a8ca...|     20171111|\n",
      "|  61|          57000.0|     F|aa4862eba776480b8...|     20170911|\n",
      "|  26|          46000.0|     M|e12aeaf2d47d42479...|     20140213|\n",
      "|  62|          71000.0|     F|31dda685af34476ca...|     20160211|\n",
      "|  49|          52000.0|     M|62cf5e10845442329...|     20141113|\n",
      "|NULL|             NULL|  NULL|744d603ef08c4f33a...|     20170801|\n",
      "|  57|          42000.0|     M|6445de3b47274c759...|     20171231|\n",
      "|  61|          40000.0|     F|a448667f336b42c9a...|     20180501|\n",
      "+----+-----------------+------+--------------------+-------------+\n",
      "only showing top 20 rows\n",
      "\n"
     ]
    }
   ],
   "source": [
    "# Contagem de nulos entre as colunas de crédito e genero quando a idade é 118\n",
    "print(\"Aplicando filtro de 118 anos:\")\n",
    "print(profile.filter(F.col(\"age\") == 118).select(\n",
    "        F.sum(F.col(\"credit_card_limit\").isNull().cast(\"int\")).alias(\"credit_card_limit_null\"),\n",
    "        F.sum(F.col(\"credit_card_limit\").isNotNull().cast(\"int\")).alias(\"credit_card_limit_not_null\"),\n",
    "        F.sum(F.col(\"gender\").isNull().cast(\"int\")).alias(\"gender_null\"),\n",
    "        F.sum(F.col(\"gender\").isNotNull().cast(\"int\")).alias(\"gender_not_null\")\n",
    "    ).show()\n",
    ")\n",
    "\n",
    "# Contagem de nulos entre as colunas de crédito e genero quando a idade é 118\n",
    "print(\"Removendo os perfis com 118 anos:\")\n",
    "print(profile.filter(F.col('age') != 118).select(\n",
    "        F.sum(F.col(\"age\").isNull().cast(\"int\")).alias(\"age_null\"),\n",
    "        F.sum(F.col(\"age\").isNotNull().cast(\"int\")).alias(\"age_not_null\"),\n",
    "        F.sum(F.col(\"credit_card_limit\").isNull().cast(\"int\")).alias(\"credit_card_limit_null\"),\n",
    "        F.sum(F.col(\"credit_card_limit\").isNotNull().cast(\"int\")).alias(\"credit_card_limit_not_null\"),\n",
    "        F.sum(F.col(\"gender\").isNull().cast(\"int\")).alias(\"gender_null\"),\n",
    "        F.sum(F.col(\"gender\").isNotNull().cast(\"int\")).alias(\"gender_not_null\")\n",
    "    ).show()\n",
    ")\n",
    "\n",
    "# Substituindo idade 118 por nulo\n",
    "profile = profile.withColumn(\"age\",\n",
    "    F.when(F.col(\"age\") == 118, None)\n",
    "    .otherwise(F.col(\"age\"))\n",
    ")\n",
    "profile.show()"
   ]
  },
  {
   "cell_type": "markdown",
   "id": "760ac809",
   "metadata": {},
   "source": [
    "### 2.2.3. Convertendo string de data de criação para data"
   ]
  },
  {
   "cell_type": "code",
   "execution_count": 11,
   "id": "6017c8c2",
   "metadata": {},
   "outputs": [
    {
     "name": "stdout",
     "output_type": "stream",
     "text": [
      "+----+-----------------+------+--------------------+-------------+-----------------+\n",
      "| age|credit_card_limit|gender|                  id|registered_on|year_month_joined|\n",
      "+----+-----------------+------+--------------------+-------------+-----------------+\n",
      "|NULL|             NULL|  NULL|68be06ca386d4c319...|   2017-02-12|          2017-02|\n",
      "|  55|         112000.0|     F|0610b486422d4921a...|   2017-07-15|          2017-07|\n",
      "|NULL|             NULL|  NULL|38fe809add3b4fcf9...|   2018-07-12|          2018-07|\n",
      "|  75|         100000.0|     F|78afa995795e4d85b...|   2017-05-09|          2017-05|\n",
      "|NULL|             NULL|  NULL|a03223e636434f42a...|   2017-08-04|          2017-08|\n",
      "+----+-----------------+------+--------------------+-------------+-----------------+\n",
      "only showing top 5 rows\n",
      "\n"
     ]
    }
   ],
   "source": [
    "profile = (profile\n",
    "    .withColumn(\"registered_on\", F.to_date(F.col(\"registered_on\").cast(\"string\"), \"yyyyMMdd\"))\n",
    "    .withColumn(\"year_month_joined\", F.format_string(\"%d-%02d\", F.year(\"registered_on\"), F.month(\"registered_on\")))\n",
    ")\n",
    "\n",
    "profile.show(5)"
   ]
  },
  {
   "cell_type": "markdown",
   "id": "cdcf0eff",
   "metadata": {},
   "source": [
    "### 2.2.3. Exploring costumer data\n"
   ]
  },
  {
   "cell_type": "code",
   "execution_count": 12,
   "id": "3e95d492",
   "metadata": {},
   "outputs": [
    {
     "name": "stdout",
     "output_type": "stream",
     "text": [
      "Statistical summary of column 'credit_card_limit':\n",
      "Min: 30,000.0\n",
      "Max: 120,000.0\n",
      "Mean: 65,405\n",
      "Q1 (25%): 49,000.0\n",
      "Median (Q2 - 50%): 63,000.0\n",
      "Q3 (75%): 79,000.0\n",
      "Not null values count: 14,825\n",
      "Null values count: 2,175\n"
     ]
    },
    {
     "data": {
      "image/png": "[encoded data removed]",
      "text/plain": [
       "<Figure size 1000x600 with 1 Axes>"
      ]
     },
     "metadata": {},
     "output_type": "display_data"
    }
   ],
   "source": [
    "get_numeric_col_summary(profile, \"credit_card_limit\")\n",
    "\n",
    "show_histogram_plot(profile, \"credit_card_limit\", 10)"
   ]
  },
  {
   "cell_type": "code",
   "execution_count": 13,
   "id": "b2ef0823",
   "metadata": {},
   "outputs": [
    {
     "data": {
      "image/png": "[encoded data removed]",
      "text/plain": [
       "<Figure size 800x600 with 1 Axes>"
      ]
     },
     "metadata": {},
     "output_type": "display_data"
    }
   ],
   "source": [
    "# Converter para pandas, filtrando nulos\n",
    "credit_data = profile.select(\"credit_card_limit\", \"gender\").dropna().toPandas()\n",
    "\n",
    "# Plotar violin + boxplot juntos\n",
    "plt.figure(figsize=(8, 6))\n",
    "# sns.violinplot(data=credit_data, x=\"credit_card_limit\", inner=\"box\", linewidth=1.2)\n",
    "sns.boxplot(data=credit_data, x=\"credit_card_limit\") # y=\"gender\"\n",
    "plt.title(\"Boxplot de credit_card_limit\")\n",
    "plt.ylabel(\"Limite de cartão de crédito\")\n",
    "plt.xlabel(\"\")\n",
    "plt.tight_layout()\n",
    "plt.show()\n",
    "\n",
    "del(credit_data)"
   ]
  },
  {
   "cell_type": "code",
   "execution_count": 14,
   "id": "fb74ce2b",
   "metadata": {},
   "outputs": [
    {
     "name": "stdout",
     "output_type": "stream",
     "text": [
      "+------+-----+----------+\n",
      "|gender|count|percentage|\n",
      "+------+-----+----------+\n",
      "|     M| 8484|      49.9|\n",
      "|     F| 6129|      36.1|\n",
      "|  NULL| 2175|      12.8|\n",
      "|     O|  212|       1.2|\n",
      "+------+-----+----------+\n",
      "\n",
      "None\n",
      "+-----------------+-----+----------+\n",
      "|year_month_joined|count|percentage|\n",
      "+-----------------+-----+----------+\n",
      "|          2017-10|  900|       5.3|\n",
      "|          2017-12|  900|       5.3|\n",
      "|          2017-08|  886|       5.2|\n",
      "|          2017-09|  836|       4.9|\n",
      "|          2017-11|  816|       4.8|\n",
      "|          2018-01|  809|       4.8|\n",
      "|          2018-03|  618|       3.6|\n",
      "|          2018-05|  601|       3.5|\n",
      "|          2018-04|  585|       3.4|\n",
      "|          2018-06|  562|       3.3|\n",
      "|          2018-02|  517|       3.0|\n",
      "|          2018-07|  506|       3.0|\n",
      "|          2017-07|  404|       2.4|\n",
      "|          2016-07|  319|       1.9|\n",
      "|          2017-04|  298|       1.8|\n",
      "|          2016-03|  308|       1.8|\n",
      "|          2017-06|  298|       1.8|\n",
      "|          2016-05|  298|       1.8|\n",
      "|          2016-04|  310|       1.8|\n",
      "|          2016-08|  305|       1.8|\n",
      "+-----------------+-----+----------+\n",
      "only showing top 20 rows\n",
      "\n",
      "None\n"
     ]
    },
    {
     "data": {
      "text/plain": [
       "DataFrame[year_month_joined: string, count: bigint, percentage: double]"
      ]
     },
     "execution_count": 14,
     "metadata": {},
     "output_type": "execute_result"
    }
   ],
   "source": [
    "get_values_count(profile, \"gender\")\n",
    "\n",
    "get_values_count(profile, \"year_month_joined\")"
   ]
  },
  {
   "cell_type": "markdown",
   "id": "7b30657e",
   "metadata": {},
   "source": [
    "### 2.2.4. Criando faixas etárias"
   ]
  },
  {
   "cell_type": "code",
   "execution_count": 15,
   "id": "ec6788be",
   "metadata": {},
   "outputs": [
    {
     "name": "stdout",
     "output_type": "stream",
     "text": [
      "+-------+-----+----------+\n",
      "|age_bin|count|percentage|\n",
      "+-------+-----+----------+\n",
      "|    60+| 5875|      34.6|\n",
      "|  50-59| 3541|      20.8|\n",
      "|  40-49| 2309|      13.6|\n",
      "|   NULL| 2175|      12.8|\n",
      "|  18-29| 1574|       9.3|\n",
      "|  30-39| 1526|       9.0|\n",
      "+-------+-----+----------+\n",
      "\n",
      "None\n"
     ]
    },
    {
     "data": {
      "text/plain": [
       "DataFrame[age_bin: string, count: bigint, percentage: double]"
      ]
     },
     "execution_count": 15,
     "metadata": {},
     "output_type": "execute_result"
    }
   ],
   "source": [
    "profile = (profile\n",
    "    .withColumn('age_bin_18-', F.when(F.col(\"age\") < 18, 1).otherwise(0))\n",
    "    .withColumn('age_bin_18-29', F.when((F.col(\"age\") >= 18) & (F.col(\"age\") <= 29), 1).otherwise(0))\n",
    "    .withColumn('age_bin_30-39', F.when((F.col(\"age\") >= 30) & (F.col(\"age\") <= 39), 1).otherwise(0))\n",
    "    .withColumn('age_bin_40-49', F.when((F.col(\"age\") >= 40) & (F.col(\"age\") <= 49), 1).otherwise(0))\n",
    "    .withColumn('age_bin_50-59', F.when((F.col(\"age\") >= 50) & (F.col(\"age\") <= 59), 1).otherwise(0))\n",
    "    .withColumn('age_bin_60+', F.when(F.col(\"age\") >= 60, 1).otherwise(0))\n",
    "    .withColumn(\"age_bin\",\n",
    "        F.when(F.col(\"age\") < 18, \"18-\")\n",
    "        .when((F.col(\"age\") >= 18) & (F.col(\"age\") <= 29), \"18-29\")\n",
    "        .when((F.col(\"age\") >= 30) & (F.col(\"age\") <= 39), \"30-39\")\n",
    "        .when((F.col(\"age\") >= 40) & (F.col(\"age\") <= 49), \"40-49\")\n",
    "        .when((F.col(\"age\") >= 50) & (F.col(\"age\") <= 59), \"50-59\")\n",
    "        .when(F.col(\"age\") >= 60, \"60+\")\n",
    "        .otherwise(None))\n",
    "    .drop(\"age\")\n",
    ")\n",
    "\n",
    "get_values_count(profile, \"age_bin\")"
   ]
  },
  {
   "cell_type": "markdown",
   "id": "48d611da",
   "metadata": {},
   "source": [
    "## 2.3. Transactions.json\n",
    "\n",
    "Contém cerca de 300k eventos:\n",
    "\n",
    "- event (str): descrição do evento (transação, oferta recebida, etc.) \n",
    "- account_id (str): id do cliente \n",
    "- time_since_test_start  (int):  tempo  desde  o  começo  do  teste  em  dias  \n",
    "(t=0) \n",
    "- value (json): registra offer_id, desconto (reward) ou valor da transação"
   ]
  },
  {
   "cell_type": "markdown",
   "id": "11ee91ca",
   "metadata": {},
   "source": [
    "### 2.3.1. Loading the json as DataFrame"
   ]
  },
  {
   "cell_type": "code",
   "execution_count": 16,
   "id": "349f8445",
   "metadata": {},
   "outputs": [
    {
     "name": "stdout",
     "output_type": "stream",
     "text": [
      "root\n",
      " |-- account_id: string (nullable = true)\n",
      " |-- event: string (nullable = true)\n",
      " |-- time_since_test_start: double (nullable = true)\n",
      " |-- value: struct (nullable = true)\n",
      " |    |-- amount: double (nullable = true)\n",
      " |    |-- offer id: string (nullable = true)\n",
      " |    |-- offer_id: string (nullable = true)\n",
      " |    |-- reward: double (nullable = true)\n",
      "\n",
      "306534\n",
      "+--------------------+--------------+---------------------+--------------------+\n",
      "|          account_id|         event|time_since_test_start|               value|\n",
      "+--------------------+--------------+---------------------+--------------------+\n",
      "|78afa995795e4d85b...|offer received|                  0.0|{NULL, 9b98b8c7a3...|\n",
      "|a03223e636434f42a...|offer received|                  0.0|{NULL, 0b1e1539f2...|\n",
      "|e2127556f4f64592b...|offer received|                  0.0|{NULL, 2906b810c7...|\n",
      "|8ec6ce2a7e7949b1b...|offer received|                  0.0|{NULL, fafdcd668e...|\n",
      "|68617ca6246f4fbc8...|offer received|                  0.0|{NULL, 4d5c57ea9a...|\n",
      "|389bc3fa690240e79...|offer received|                  0.0|{NULL, f19421c1d4...|\n",
      "|c4863c7985cf408fa...|offer received|                  0.0|{NULL, 2298d6c36e...|\n",
      "|2eeac8d8feae4a8ca...|offer received|                  0.0|{NULL, 3f207df678...|\n",
      "|aa4862eba776480b8...|offer received|                  0.0|{NULL, 0b1e1539f2...|\n",
      "|31dda685af34476ca...|offer received|                  0.0|{NULL, 0b1e1539f2...|\n",
      "|744d603ef08c4f33a...|offer received|                  0.0|{NULL, 0b1e1539f2...|\n",
      "|3d02345581554e81b...|offer received|                  0.0|{NULL, 0b1e1539f2...|\n",
      "|4b0da7e80e5945209...|offer received|                  0.0|{NULL, ae264e3637...|\n",
      "|c27e0d6ab72c455a8...|offer received|                  0.0|{NULL, 3f207df678...|\n",
      "|d53717f5400c4e84a...|offer received|                  0.0|{NULL, 0b1e1539f2...|\n",
      "|f806632c011441378...|offer received|                  0.0|{NULL, fafdcd668e...|\n",
      "|d058f73bf8674a26a...|offer received|                  0.0|{NULL, 0b1e1539f2...|\n",
      "|65aba5c617294649a...|offer received|                  0.0|{NULL, 2906b810c7...|\n",
      "|ebe7ef46ea6f4963a...|offer received|                  0.0|{NULL, 9b98b8c7a3...|\n",
      "|1e9420836d554513a...|offer received|                  0.0|{NULL, ae264e3637...|\n",
      "+--------------------+--------------+---------------------+--------------------+\n",
      "only showing top 20 rows\n",
      "\n",
      "None\n"
     ]
    }
   ],
   "source": [
    "transactions_ = spark.read.json(\"../data/raw/transactions.json\")\n",
    "transactions_.printSchema()\n",
    "print(transactions_.count())\n",
    "print(transactions_.show())"
   ]
  },
  {
   "cell_type": "code",
   "execution_count": 17,
   "id": "d1500cd2",
   "metadata": {},
   "outputs": [],
   "source": [
    "transactions = transactions_.alias(\"transactions\")"
   ]
  },
  {
   "cell_type": "markdown",
   "id": "f906e596",
   "metadata": {},
   "source": [
    "### 2.3.2. Transforming some data"
   ]
  },
  {
   "cell_type": "markdown",
   "id": "f9af53f4",
   "metadata": {},
   "source": [
    "Separando os dados do dicionário em colunas separadas"
   ]
  },
  {
   "cell_type": "code",
   "execution_count": 18,
   "id": "2d6acc52",
   "metadata": {},
   "outputs": [
    {
     "name": "stdout",
     "output_type": "stream",
     "text": [
      "+--------------------+--------------+---------------------+------+--------------------+--------+------+\n",
      "|          account_id|         event|time_since_test_start|amount|            offer id|offer_id|reward|\n",
      "+--------------------+--------------+---------------------+------+--------------------+--------+------+\n",
      "|78afa995795e4d85b...|offer received|                  0.0|  NULL|9b98b8c7a33c4b65b...|    NULL|  NULL|\n",
      "|a03223e636434f42a...|offer received|                  0.0|  NULL|0b1e1539f2cc45b7b...|    NULL|  NULL|\n",
      "|e2127556f4f64592b...|offer received|                  0.0|  NULL|2906b810c7d441179...|    NULL|  NULL|\n",
      "+--------------------+--------------+---------------------+------+--------------------+--------+------+\n",
      "only showing top 3 rows\n",
      "\n"
     ]
    }
   ],
   "source": [
    "transactions = (transactions\n",
    "    .withColumn(\"amount\", F.col(\"value.amount\"))     # Transaction value\n",
    "    .withColumn(\"offer id\", F.col(\"value.offer id\")) # Offer ID\n",
    "    .withColumn(\"offer_id\", F.col(\"value.offer_id\")) # Offer ID\n",
    "    .withColumn(\"reward\", F.col(\"value.reward\"))     # Discounted value\n",
    "    .drop(\"value\")\n",
    ")\n",
    "\n",
    "transactions.show(3)"
   ]
  },
  {
   "cell_type": "markdown",
   "id": "9c5ede9b",
   "metadata": {},
   "source": [
    "Verificando se offer id e offer_id podem ser combinados\n",
    "\n",
    "Não serão combinados caso haja perda de informação\n",
    "\n",
    "Se não houver perda de informação, as coluna serão combinadas para simplificar a estrutura da tabela"
   ]
  },
  {
   "cell_type": "code",
   "execution_count": 19,
   "id": "237f9b93",
   "metadata": {},
   "outputs": [
    {
     "name": "stdout",
     "output_type": "stream",
     "text": [
      "+---------------+-------------+-----------------+-------------+-----------------+\n",
      "|          event|offer id_null|offer id_not_null|offer_id_null|offer_id_not_null|\n",
      "+---------------+-------------+-----------------+-------------+-----------------+\n",
      "|    transaction|       138953|                0|       138953|                0|\n",
      "| offer received|            0|            76277|        76277|                0|\n",
      "|offer completed|        33579|                0|            0|            33579|\n",
      "|   offer viewed|            0|            57725|        57725|                0|\n",
      "+---------------+-------------+-----------------+-------------+-----------------+\n",
      "\n"
     ]
    }
   ],
   "source": [
    "(transactions\n",
    "    .groupBy(F.col(\"event\"))\n",
    "    .agg(\n",
    "        F.sum(F.col(\"offer id\").isNull().cast(\"int\")).alias(\"offer id_null\"),\n",
    "        F.sum(F.col(\"offer id\").isNotNull().cast(\"int\")).alias(\"offer id_not_null\"),\n",
    "        F.sum(F.col(\"offer_id\").isNull().cast(\"int\")).alias(\"offer_id_null\"),\n",
    "        F.sum(F.col(\"offer_id\").isNotNull().cast(\"int\")).alias(\"offer_id_not_null\")\n",
    ")).show()"
   ]
  },
  {
   "cell_type": "markdown",
   "id": "1d67ae7a",
   "metadata": {},
   "source": [
    "Com esse resultado, vemos que as colunas \"offer id\" e \"offer_id\" não existem ao mesmo tempo, portanto podemos combiná-las"
   ]
  },
  {
   "cell_type": "code",
   "execution_count": 20,
   "id": "6f362c02",
   "metadata": {},
   "outputs": [
    {
     "name": "stdout",
     "output_type": "stream",
     "text": [
      "+--------------------+--------------+---------------------+------+--------------------+------+\n",
      "|          account_id|         event|time_since_test_start|amount|            offer_id|reward|\n",
      "+--------------------+--------------+---------------------+------+--------------------+------+\n",
      "|78afa995795e4d85b...|offer received|                  0.0|  NULL|9b98b8c7a33c4b65b...|  NULL|\n",
      "|a03223e636434f42a...|offer received|                  0.0|  NULL|0b1e1539f2cc45b7b...|  NULL|\n",
      "|e2127556f4f64592b...|offer received|                  0.0|  NULL|2906b810c7d441179...|  NULL|\n",
      "+--------------------+--------------+---------------------+------+--------------------+------+\n",
      "only showing top 3 rows\n",
      "\n"
     ]
    }
   ],
   "source": [
    "transactions = (transactions\n",
    "    .withColumn(\"offer_id\", F.coalesce(F.col(\"offer_id\"), F.col(\"offer id\")))\n",
    "    .drop(\"offer id\")\n",
    ")\n",
    "transactions.show(3)"
   ]
  },
  {
   "cell_type": "markdown",
   "id": "ff61db98",
   "metadata": {},
   "source": [
    "Verificando distribuicao do custo das transações"
   ]
  },
  {
   "cell_type": "code",
   "execution_count": 21,
   "id": "f35b9494",
   "metadata": {},
   "outputs": [
    {
     "data": {
      "image/png": "[encoded data removed]",
      "text/plain": [
       "<Figure size 800x600 with 1 Axes>"
      ]
     },
     "metadata": {},
     "output_type": "display_data"
    }
   ],
   "source": [
    "# Converter para pandas, filtrando nulos\n",
    "temp = transactions.filter(F.col(\"event\") == \"transaction\").select(\"amount\").dropna().toPandas()\n",
    "\n",
    "# Plotar violin + boxplot juntos\n",
    "plt.figure(figsize=(8, 6))\n",
    "# sns.violinplot(data=transactions, x=\"credit_card_limit\", inner=\"box\", linewidth=1.2)\n",
    "sns.boxplot(data=temp, x=\"amount\") # y=\"gender\"\n",
    "plt.title(\"Boxplot de preço\")\n",
    "plt.ylabel(\"Preço do pedido\")\n",
    "plt.xlabel(\"\")\n",
    "plt.tight_layout()\n",
    "plt.show()\n",
    "\n",
    "del(temp)"
   ]
  },
  {
   "cell_type": "code",
   "execution_count": 22,
   "id": "e37e5737",
   "metadata": {},
   "outputs": [
    {
     "data": {
      "image/png": "[encoded data removed]",
      "text/plain": [
       "<Figure size 1000x600 with 1 Axes>"
      ]
     },
     "metadata": {},
     "output_type": "display_data"
    }
   ],
   "source": [
    "show_histogram_plot(transactions.filter(F.col(\"event\") == \"transaction\"), \"amount\", 10)"
   ]
  },
  {
   "cell_type": "code",
   "execution_count": 23,
   "id": "c0beab77",
   "metadata": {},
   "outputs": [
    {
     "data": {
      "text/plain": [
       "Row(amount=1062.28)"
      ]
     },
     "execution_count": 23,
     "metadata": {},
     "output_type": "execute_result"
    }
   ],
   "source": [
    "max(list(transactions.filter(F.col(\"event\") == \"transaction\").select(\"amount\").collect()))"
   ]
  },
  {
   "cell_type": "markdown",
   "id": "0dca3219",
   "metadata": {},
   "source": [
    "# 3. Combinando dados"
   ]
  },
  {
   "cell_type": "markdown",
   "id": "4593fc59",
   "metadata": {},
   "source": [
    "Juntando dados de cliente + transações + ofertas"
   ]
  },
  {
   "cell_type": "code",
   "execution_count": 24,
   "id": "1ec1bc2c",
   "metadata": {},
   "outputs": [
    {
     "name": "stdout",
     "output_type": "stream",
     "text": [
      "306534\n",
      "+--------------------+--------------+---------------------+------+--------------------+------+--------------+--------+---------+----------+--------------+-------------+--------------+-----------+-------------------+------------------------+---------------+-----------------+------+-------------+-----------------+-----------+-------------+-------------+-------------+-------------+-----------+-------+\n",
      "|          account_id|         event|time_since_test_start|amount|            offer_id|reward|discount_value|duration|min_value|offer_type|channel_mobile|channel_email|channel_social|channel_web|offer_type_discount|offer_type_informational|offer_type_bogo|credit_card_limit|gender|registered_on|year_month_joined|age_bin_18-|age_bin_18-29|age_bin_30-39|age_bin_40-49|age_bin_50-59|age_bin_60+|age_bin|\n",
      "+--------------------+--------------+---------------------+------+--------------------+------+--------------+--------+---------+----------+--------------+-------------+--------------+-----------+-------------------+------------------------+---------------+-----------------+------+-------------+-----------------+-----------+-------------+-------------+-------------+-------------+-----------+-------+\n",
      "|78afa995795e4d85b...|offer received|                  0.0|  NULL|9b98b8c7a33c4b65b...|  NULL|             5|     7.0|        5|      bogo|             1|            1|             0|          1|                  0|                       0|              1|         100000.0|     F|   2017-05-09|          2017-05|          0|            0|            0|            0|            0|          1|    60+|\n",
      "|a03223e636434f42a...|offer received|                  0.0|  NULL|0b1e1539f2cc45b7b...|  NULL|             5|    10.0|       20|  discount|             0|            1|             0|          1|                  1|                       0|              0|             NULL|  NULL|   2017-08-04|          2017-08|          0|            0|            0|            0|            0|          0|   NULL|\n",
      "|e2127556f4f64592b...|offer received|                  0.0|  NULL|2906b810c7d441179...|  NULL|             2|     7.0|       10|  discount|             1|            1|             0|          1|                  1|                       0|              0|          70000.0|     M|   2018-04-26|          2018-04|          0|            0|            0|            0|            0|          1|    60+|\n",
      "+--------------------+--------------+---------------------+------+--------------------+------+--------------+--------+---------+----------+--------------+-------------+--------------+-----------+-------------------+------------------------+---------------+-----------------+------+-------------+-----------------+-----------+-------------+-------------+-------------+-------------+-----------+-------+\n",
      "only showing top 3 rows\n",
      "\n",
      "None\n"
     ]
    }
   ],
   "source": [
    "full = (transactions\n",
    "    # Join com a tabela de ofertas\n",
    "    .join(\n",
    "        offers,\n",
    "        transactions[\"offer_id\"] == offers[\"id\"],\n",
    "        how=\"left\")\n",
    "    .drop(\"id\")\n",
    "    # Join com a tabela de clientes\n",
    "    .join(\n",
    "        profile,\n",
    "        transactions[\"account_id\"] == profile[\"id\"],\n",
    "        how=\"left\")\n",
    "    .drop(\"id\")\n",
    ")\n",
    "\n",
    "print(full.count())\n",
    "print(full.show(3))\n",
    "\n",
    "offer_received = full.filter(F.col(\"event\") == \"offer received\")\n",
    "offer_complete = full.filter(F.col(\"event\") == \"offer completed\")\n",
    "offer_viewed = full.filter(F.col(\"event\") == \"offer viewed\")\n",
    "transaction = full.filter(F.col(\"event\") == \"transaction\")\n",
    "\n",
    "del(full)"
   ]
  },
  {
   "cell_type": "markdown",
   "id": "c8e910a6",
   "metadata": {},
   "source": [
    "Juntando dados de oferta, data de visualização e data de recebimento com os dados de transação"
   ]
  },
  {
   "cell_type": "code",
   "execution_count": null,
   "id": "3f3650a7",
   "metadata": {},
   "outputs": [
    {
     "name": "stdout",
     "output_type": "stream",
     "text": [
      "+--------------------+--------------------+---------------------+------+------+--------------+--------+---------+----------+--------------+-------------+--------------+-----------+-------------------+------------------------+---------------+-----------------+------+-------------+-----------------+-----------+-------------+-------------+-------------+-------------+-----------+-------+-------------------+-----------------+----------+\n",
      "|          account_id|            offer_id|time_since_test_start|amount|reward|discount_value|duration|min_value|offer_type|channel_mobile|channel_email|channel_social|channel_web|offer_type_discount|offer_type_informational|offer_type_bogo|credit_card_limit|gender|registered_on|year_month_joined|age_bin_18-|age_bin_18-29|age_bin_30-39|age_bin_40-49|age_bin_50-59|age_bin_60+|age_bin|offer_received_date|offer_viewed_date|used_offer|\n",
      "+--------------------+--------------------+---------------------+------+------+--------------+--------+---------+----------+--------------+-------------+--------------+-----------+-------------------+------------------------+---------------+-----------------+------+-------------+-----------------+-----------+-------------+-------------+-------------+-------------+-----------+-------+-------------------+-----------------+----------+\n",
      "|0009655768c64bdeb...|                NULL|                28.75| 28.16|  NULL|          NULL|    NULL|     NULL|      NULL|          NULL|         NULL|          NULL|       NULL|               NULL|                    NULL|           NULL|          72000.0|     M|   2017-04-21|          2017-04|          0|            0|            1|            0|            0|          0|  30-39|               NULL|             NULL|         0|\n",
      "|00116118485d4dfda...|                NULL|                 19.0|   0.2|  NULL|          NULL|    NULL|     NULL|      NULL|          NULL|         NULL|          NULL|       NULL|               NULL|                    NULL|           NULL|             NULL|  NULL|   2018-04-25|          2018-04|          0|            0|            0|            0|            0|          0|   NULL|               NULL|             NULL|         0|\n",
      "|0011e0d4e6b944f99...|2298d6c36e964ae4a...|                 10.5| 11.93|   3.0|             3|     7.0|        7|  discount|             1|            1|             1|          1|                  1|                       0|              0|          57000.0|     O|   2018-01-09|          2018-01|          0|            0|            0|            1|            0|          0|  40-49|                7.0|             7.75|         1|\n",
      "|0020c2b971eb4e918...|                NULL|                  6.0| 24.31|  NULL|          NULL|    NULL|     NULL|      NULL|          NULL|         NULL|          NULL|       NULL|               NULL|                    NULL|           NULL|          90000.0|     F|   2016-03-04|          2016-03|          0|            0|            0|            0|            1|          0|  50-59|               NULL|             NULL|         0|\n",
      "|0020c2b971eb4e918...|                NULL|                 29.0| 27.94|  NULL|          NULL|    NULL|     NULL|      NULL|          NULL|         NULL|          NULL|       NULL|               NULL|                    NULL|           NULL|          90000.0|     F|   2016-03-04|          2016-03|          0|            0|            0|            0|            1|          0|  50-59|               NULL|             NULL|         0|\n",
      "|0020ccbbb6d84e358...|                NULL|                 1.75| 16.27|  NULL|          NULL|    NULL|     NULL|      NULL|          NULL|         NULL|          NULL|       NULL|               NULL|                    NULL|           NULL|          60000.0|     F|   2016-11-11|          2016-11|          0|            1|            0|            0|            0|          0|  18-29|               NULL|             NULL|         0|\n",
      "|0020ccbbb6d84e358...|                NULL|                18.75| 10.76|  NULL|          NULL|    NULL|     NULL|      NULL|          NULL|         NULL|          NULL|       NULL|               NULL|                    NULL|           NULL|          60000.0|     F|   2016-11-11|          2016-11|          0|            1|            0|            0|            0|          0|  18-29|               NULL|             NULL|         0|\n",
      "|0020ccbbb6d84e358...|9b98b8c7a33c4b65b...|                 25.0| 10.32|   5.0|             5|     7.0|        5|      bogo|             1|            1|             0|          1|                  0|                       0|              1|          60000.0|     F|   2016-11-11|          2016-11|          0|            1|            0|            0|            0|          0|  18-29|               21.0|            24.25|         1|\n",
      "|0020ccbbb6d84e358...|f19421c1d4aa40978...|                15.75| 14.53|   5.0|             5|     5.0|        5|      bogo|             1|            1|             1|          1|                  0|                       0|              1|          60000.0|     F|   2016-11-11|          2016-11|          0|            1|            0|            0|            0|          0|  18-29|               14.0|             14.5|         1|\n",
      "|003d66b6608740288...|                NULL|                  3.0|  2.07|  NULL|          NULL|    NULL|     NULL|      NULL|          NULL|         NULL|          NULL|       NULL|               NULL|                    NULL|           NULL|          73000.0|     F|   2017-06-21|          2017-06|          0|            1|            0|            0|            0|          0|  18-29|               NULL|             NULL|         0|\n",
      "+--------------------+--------------------+---------------------+------+------+--------------+--------+---------+----------+--------------+-------------+--------------+-----------+-------------------+------------------------+---------------+-----------------+------+-------------+-----------------+-----------+-------------+-------------+-------------+-------------+-----------+-------+-------------------+-----------------+----------+\n",
      "only showing top 10 rows\n",
      "\n",
      "None\n",
      "+--------------------+--------------------+-------------------+--------------+-------------+--------------+-----------+----------+-----------------+\n",
      "|          account_id|            offer_id|offer_received_date|channel_mobile|channel_email|channel_social|channel_web|offer_type|offer_viewed_date|\n",
      "+--------------------+--------------------+-------------------+--------------+-------------+--------------+-----------+----------+-----------------+\n",
      "|8ec6ce2a7e7949b1b...|fafdcd668e3743c1b...|                0.0|             1|            1|             1|          1|  discount|              0.5|\n",
      "|8ec6ce2a7e7949b1b...|fafdcd668e3743c1b...|                0.0|             1|            1|             1|          1|  discount|            21.75|\n",
      "|e2127556f4f64592b...|2906b810c7d441179...|                0.0|             1|            1|             0|          1|  discount|             0.75|\n",
      "|389bc3fa690240e79...|f19421c1d4aa40978...|                0.0|             1|            1|             1|          1|      bogo|              0.0|\n",
      "|389bc3fa690240e79...|f19421c1d4aa40978...|                0.0|             1|            1|             1|          1|      bogo|             21.0|\n",
      "+--------------------+--------------------+-------------------+--------------+-------------+--------------+-----------+----------+-----------------+\n",
      "only showing top 5 rows\n",
      "\n",
      "None\n"
     ]
    }
   ],
   "source": [
    "# 1. Adicionar dados de oferta às transações #\n",
    "# Adicionando dados sobre a oferta utilizado (caso tenha sido utilizada naquele dia)\n",
    "df_joined = transaction.alias(\"d2\").join(\n",
    "    offer_complete.alias(\"d1\"),\n",
    "    on=[\"account_id\", \"time_since_test_start\"],\n",
    "    how=\"left\"\n",
    ")\n",
    "\n",
    "# Lista de colunas (como são iguais nas duas, tudo bem)\n",
    "cols = transaction.columns\n",
    "\n",
    "# Aplica coalesce para preencher os nulos de transaction com valores de offer_complete\n",
    "offer_transaction = df_joined.select(\n",
    "    *[F.coalesce(F.col(f\"d2.{c}\"), F.col(f\"d1.{c}\")).alias(c) for c in cols]\n",
    ")\n",
    "\n",
    "del(df_joined, cols, offer_complete)\n",
    "# 1. --------------------------------------- #\n",
    "\n",
    "# 2. Selecionando colunas da tabela de envios de ofertas e visualização de ofertas #\n",
    "offer_r = (offer_received\n",
    "    .select(\n",
    "        \"time_since_test_start\",\n",
    "        \"account_id\",\n",
    "        \"offer_id\",\n",
    "        # Veiculação da oferta\n",
    "        \"channel_mobile\",\n",
    "        \"channel_email\",\n",
    "        \"channel_social\",\n",
    "        \"channel_web\",\n",
    "        # Tipo da oferta\n",
    "        \"offer_type\")\n",
    "    .withColumnRenamed('time_since_test_start', 'offer_received_date')\n",
    ")\n",
    "offer_v = (offer_viewed\n",
    "    .select(\"time_since_test_start\",\"account_id\",\"offer_id\")\n",
    "    .withColumnRenamed('time_since_test_start', 'offer_viewed_date')\n",
    ")\n",
    "\n",
    "# Realizando um join nas duas tabelas de ofertas recebidas e visualizadas\n",
    "offer_summary = (offer_r\n",
    "    .join(\n",
    "        offer_v,\n",
    "        on=[\"account_id\",\"offer_id\"],\n",
    "        how=\"left\")\n",
    ")\n",
    "# Esta tabela offer_summary será utilizada para gerar indicadores de uso de cupons\n",
    "# E também efetividade de veículação\n",
    "# 2. ----------------------------------------------------------------------------- #\n",
    "\n",
    "# 3. Adicionando data na qual a oferta foi recebida #\n",
    "# Join com dados de data recebida\n",
    "df_joined = (offer_transaction.alias(\"p\")\n",
    "    .join(\n",
    "        # Selecionando apenas as variáveis que interessam para este join\n",
    "        offer_r.select(\"offer_received_date\",\"account_id\",\"offer_id\").alias(\"r\"),\n",
    "        on=[\"account_id\", \"offer_id\"],\n",
    "        how=\"left\")\n",
    "    .filter(\n",
    "        (F.col(\"r.offer_received_date\") <= F.col(\"p.time_since_test_start\"))\n",
    "        | F.col(\"p.offer_id\").isNull())\n",
    ")\n",
    "\n",
    "# Criar janela particionada por evento, ordenada por data descendente\n",
    "window_spec = Window.partitionBy(\"p.account_id\", \"p.offer_id\", \"p.time_since_test_start\").orderBy(F.col(\"r.offer_received_date\").desc())\n",
    "\n",
    "# Atribuir rank para pegar a mais recente (maior offer_received_date enquanto <= time_since_test_start)\n",
    "df_ranked = df_joined.withColumn(\"rank\", F.row_number().over(window_spec))\n",
    "\n",
    "# Filtrar apenas o de rank 1\n",
    "with_received_date = df_ranked.filter(F.col(\"rank\") == 1).drop(\"rank\")\n",
    "\n",
    "del(df_joined, offer_transaction, df_ranked, offer_r)\n",
    "# 3. ---------------------------------------------- #\n",
    "\n",
    "# 4. Adicionando data na qual a oferta foi visualizada #\n",
    "# Step 1: Join com offer_v\n",
    "df_joined = (with_received_date.alias(\"p\")\n",
    "    .join(\n",
    "        offer_v.alias(\"v\"),\n",
    "        on=[\"account_id\", \"offer_id\"],\n",
    "        how=\"left\"\n",
    "    )\n",
    "    .filter(\n",
    "        (F.col(\"v.offer_viewed_date\") <= F.col(\"p.time_since_test_start\"))\n",
    "        | F.col(\"p.offer_id\").isNull())\n",
    ")\n",
    "\n",
    "# Criar janela particionada por evento, ordenada por data descendente\n",
    "window_spec = Window.partitionBy(\"p.account_id\", \"p.offer_id\", \"p.time_since_test_start\").orderBy(F.col(\"v.offer_viewed_date\").desc())\n",
    "\n",
    "# Atribuir rank para pegar a mais recente (maior offer_viewed_date enquanto <= time_since_test_start)\n",
    "df_ranked = df_joined.withColumn(\"rank\", F.row_number().over(window_spec))\n",
    "\n",
    "# Filtrar apenas o de rank 1\n",
    "df_union = df_ranked.filter(F.col(\"rank\") == 1).drop(\"rank\")\n",
    "\n",
    "del(df_joined, with_received_date, df_ranked, offer_v)\n",
    "# 4. ---------------------------------------------- #\n",
    "\n",
    "# 5. Criando identificador para uso de oferta #\n",
    "df_union = (df_union\n",
    "    .withColumn(\"used_offer\",\n",
    "        F.when(F.col(\"offer_id\").isNotNull(), 1)\n",
    "        .otherwise(0))\n",
    "    .drop(\"event\")\n",
    ")\n",
    "# 5. ---------------------------------------- #\n",
    "\n",
    "print(df_union.show(10))\n",
    "\n",
    "print(offer_summary.show(5))"
   ]
  },
  {
   "cell_type": "markdown",
   "id": "1703f4d4",
   "metadata": {},
   "source": [
    "## 3.2. Série temporal das transações"
   ]
  },
  {
   "cell_type": "code",
   "execution_count": 26,
   "id": "72a6a95d",
   "metadata": {},
   "outputs": [
    {
     "data": {
      "application/vnd.plotly.v1+json": {
       "config": {
        "plotlyServerURL": "https://plot.ly"
       },
       "data": [
        {
         "hovertemplate": "used_offer=0<br>time_since_test_start=%{x}<br>count=%{y}<extra></extra>",
         "legendgroup": "0",
         "line": {
          "color": "#636efa",
          "dash": "solid"
         },
         "marker": {
          "symbol": "circle"
         },
         "mode": "lines+markers",
         "name": "0",
         "orientation": "v",
         "showlegend": true,
         "type": "scatter",
         "x": {
          "bdata": "AAECAwQFBgcICQoLDA0ODxAREhMUFRYXGBkaGxwd",
          "dtype": "i1"
         },
         "xaxis": "x",
         "y": {
          "bdata": "YQilCw4NNA0GDTYMjQstC1cNuQ9tDt0NEg1IDKILlA7yD0oOtRDMEJEQIQ7uD6QQKQ6OEOgQbBBOD64N",
          "dtype": "i2"
         },
         "yaxis": "y"
        },
        {
         "hovertemplate": "used_offer=1<br>time_since_test_start=%{x}<br>count=%{y}<extra></extra>",
         "legendgroup": "1",
         "line": {
          "color": "#EF553B",
          "dash": "solid"
         },
         "marker": {
          "symbol": "circle"
         },
         "mode": "lines+markers",
         "name": "1",
         "orientation": "v",
         "showlegend": true,
         "type": "scatter",
         "x": {
          "bdata": "AAECAwQFBgcICQoLDA0ODxAREhMUFRYXGBkaGxwd",
          "dtype": "i1"
         },
         "xaxis": "x",
         "y": {
          "bdata": "oAI0A70CJwKIASgB2wCvA/gD6AJDAqkBGQHhAAkEzgMWA8AFVAUVBJ0CoAUfBdwDLga3BQoE2wIEAlIB",
          "dtype": "i2"
         },
         "yaxis": "y"
        }
       ],
       "layout": {
        "legend": {
         "title": {
          "text": "used_offer"
         },
         "tracegroupgap": 0
        },
        "template": {
         "data": {
          "bar": [
           {
            "error_x": {
             "color": "#f2f5fa"
            },
            "error_y": {
             "color": "#f2f5fa"
            },
            "marker": {
             "line": {
              "color": "rgb(17,17,17)",
              "width": 0.5
             },
             "pattern": {
              "fillmode": "overlay",
              "size": 10,
              "solidity": 0.2
             }
            },
            "type": "bar"
           }
          ],
          "barpolar": [
           {
            "marker": {
             "line": {
              "color": "rgb(17,17,17)",
              "width": 0.5
             },
             "pattern": {
              "fillmode": "overlay",
              "size": 10,
              "solidity": 0.2
             }
            },
            "type": "barpolar"
           }
          ],
          "carpet": [
           {
            "aaxis": {
             "endlinecolor": "#A2B1C6",
             "gridcolor": "#506784",
             "linecolor": "#506784",
             "minorgridcolor": "#506784",
             "startlinecolor": "#A2B1C6"
            },
            "baxis": {
             "endlinecolor": "#A2B1C6",
             "gridcolor": "#506784",
             "linecolor": "#506784",
             "minorgridcolor": "#506784",
             "startlinecolor": "#A2B1C6"
            },
            "type": "carpet"
           }
          ],
          "choropleth": [
           {
            "colorbar": {
             "outlinewidth": 0,
             "ticks": ""
            },
            "type": "choropleth"
           }
          ],
          "contour": [
           {
            "colorbar": {
             "outlinewidth": 0,
             "ticks": ""
            },
            "colorscale": [
             [
              0,
              "#0d0887"
             ],
             [
              0.1111111111111111,
              "#46039f"
             ],
             [
              0.2222222222222222,
              "#7201a8"
             ],
             [
              0.3333333333333333,
              "#9c179e"
             ],
             [
              0.4444444444444444,
              "#bd3786"
             ],
             [
              0.5555555555555556,
              "#d8576b"
             ],
             [
              0.6666666666666666,
              "#ed7953"
             ],
             [
              0.7777777777777778,
              "#fb9f3a"
             ],
             [
              0.8888888888888888,
              "#fdca26"
             ],
             [
              1,
              "#f0f921"
             ]
            ],
            "type": "contour"
           }
          ],
          "contourcarpet": [
           {
            "colorbar": {
             "outlinewidth": 0,
             "ticks": ""
            },
            "type": "contourcarpet"
           }
          ],
          "heatmap": [
           {
            "colorbar": {
             "outlinewidth": 0,
             "ticks": ""
            },
            "colorscale": [
             [
              0,
              "#0d0887"
             ],
             [
              0.1111111111111111,
              "#46039f"
             ],
             [
              0.2222222222222222,
              "#7201a8"
             ],
             [
              0.3333333333333333,
              "#9c179e"
             ],
             [
              0.4444444444444444,
              "#bd3786"
             ],
             [
              0.5555555555555556,
              "#d8576b"
             ],
             [
              0.6666666666666666,
              "#ed7953"
             ],
             [
              0.7777777777777778,
              "#fb9f3a"
             ],
             [
              0.8888888888888888,
              "#fdca26"
             ],
             [
              1,
              "#f0f921"
             ]
            ],
            "type": "heatmap"
           }
          ],
          "histogram": [
           {
            "marker": {
             "pattern": {
              "fillmode": "overlay",
              "size": 10,
              "solidity": 0.2
             }
            },
            "type": "histogram"
           }
          ],
          "histogram2d": [
           {
            "colorbar": {
             "outlinewidth": 0,
             "ticks": ""
            },
            "colorscale": [
             [
              0,
              "#0d0887"
             ],
             [
              0.1111111111111111,
              "#46039f"
             ],
             [
              0.2222222222222222,
              "#7201a8"
             ],
             [
              0.3333333333333333,
              "#9c179e"
             ],
             [
              0.4444444444444444,
              "#bd3786"
             ],
             [
              0.5555555555555556,
              "#d8576b"
             ],
             [
              0.6666666666666666,
              "#ed7953"
             ],
             [
              0.7777777777777778,
              "#fb9f3a"
             ],
             [
              0.8888888888888888,
              "#fdca26"
             ],
             [
              1,
              "#f0f921"
             ]
            ],
            "type": "histogram2d"
           }
          ],
          "histogram2dcontour": [
           {
            "colorbar": {
             "outlinewidth": 0,
             "ticks": ""
            },
            "colorscale": [
             [
              0,
              "#0d0887"
             ],
             [
              0.1111111111111111,
              "#46039f"
             ],
             [
              0.2222222222222222,
              "#7201a8"
             ],
             [
              0.3333333333333333,
              "#9c179e"
             ],
             [
              0.4444444444444444,
              "#bd3786"
             ],
             [
              0.5555555555555556,
              "#d8576b"
             ],
             [
              0.6666666666666666,
              "#ed7953"
             ],
             [
              0.7777777777777778,
              "#fb9f3a"
             ],
             [
              0.8888888888888888,
              "#fdca26"
             ],
             [
              1,
              "#f0f921"
             ]
            ],
            "type": "histogram2dcontour"
           }
          ],
          "mesh3d": [
           {
            "colorbar": {
             "outlinewidth": 0,
             "ticks": ""
            },
            "type": "mesh3d"
           }
          ],
          "parcoords": [
           {
            "line": {
             "colorbar": {
              "outlinewidth": 0,
              "ticks": ""
             }
            },
            "type": "parcoords"
           }
          ],
          "pie": [
           {
            "automargin": true,
            "type": "pie"
           }
          ],
          "scatter": [
           {
            "marker": {
             "line": {
              "color": "#283442"
             }
            },
            "type": "scatter"
           }
          ],
          "scatter3d": [
           {
            "line": {
             "colorbar": {
              "outlinewidth": 0,
              "ticks": ""
             }
            },
            "marker": {
             "colorbar": {
              "outlinewidth": 0,
              "ticks": ""
             }
            },
            "type": "scatter3d"
           }
          ],
          "scattercarpet": [
           {
            "marker": {
             "colorbar": {
              "outlinewidth": 0,
              "ticks": ""
             }
            },
            "type": "scattercarpet"
           }
          ],
          "scattergeo": [
           {
            "marker": {
             "colorbar": {
              "outlinewidth": 0,
              "ticks": ""
             }
            },
            "type": "scattergeo"
           }
          ],
          "scattergl": [
           {
            "marker": {
             "line": {
              "color": "#283442"
             }
            },
            "type": "scattergl"
           }
          ],
          "scattermap": [
           {
            "marker": {
             "colorbar": {
              "outlinewidth": 0,
              "ticks": ""
             }
            },
            "type": "scattermap"
           }
          ],
          "scattermapbox": [
           {
            "marker": {
             "colorbar": {
              "outlinewidth": 0,
              "ticks": ""
             }
            },
            "type": "scattermapbox"
           }
          ],
          "scatterpolar": [
           {
            "marker": {
             "colorbar": {
              "outlinewidth": 0,
              "ticks": ""
             }
            },
            "type": "scatterpolar"
           }
          ],
          "scatterpolargl": [
           {
            "marker": {
             "colorbar": {
              "outlinewidth": 0,
              "ticks": ""
             }
            },
            "type": "scatterpolargl"
           }
          ],
          "scatterternary": [
           {
            "marker": {
             "colorbar": {
              "outlinewidth": 0,
              "ticks": ""
             }
            },
            "type": "scatterternary"
           }
          ],
          "surface": [
           {
            "colorbar": {
             "outlinewidth": 0,
             "ticks": ""
            },
            "colorscale": [
             [
              0,
              "#0d0887"
             ],
             [
              0.1111111111111111,
              "#46039f"
             ],
             [
              0.2222222222222222,
              "#7201a8"
             ],
             [
              0.3333333333333333,
              "#9c179e"
             ],
             [
              0.4444444444444444,
              "#bd3786"
             ],
             [
              0.5555555555555556,
              "#d8576b"
             ],
             [
              0.6666666666666666,
              "#ed7953"
             ],
             [
              0.7777777777777778,
              "#fb9f3a"
             ],
             [
              0.8888888888888888,
              "#fdca26"
             ],
             [
              1,
              "#f0f921"
             ]
            ],
            "type": "surface"
           }
          ],
          "table": [
           {
            "cells": {
             "fill": {
              "color": "#506784"
             },
             "line": {
              "color": "rgb(17,17,17)"
             }
            },
            "header": {
             "fill": {
              "color": "#2a3f5f"
             },
             "line": {
              "color": "rgb(17,17,17)"
             }
            },
            "type": "table"
           }
          ]
         },
         "layout": {
          "annotationdefaults": {
           "arrowcolor": "#f2f5fa",
           "arrowhead": 0,
           "arrowwidth": 1
          },
          "autotypenumbers": "strict",
          "coloraxis": {
           "colorbar": {
            "outlinewidth": 0,
            "ticks": ""
           }
          },
          "colorscale": {
           "diverging": [
            [
             0,
             "#8e0152"
            ],
            [
             0.1,
             "#c51b7d"
            ],
            [
             0.2,
             "#de77ae"
            ],
            [
             0.3,
             "#f1b6da"
            ],
            [
             0.4,
             "#fde0ef"
            ],
            [
             0.5,
             "#f7f7f7"
            ],
            [
             0.6,
             "#e6f5d0"
            ],
            [
             0.7,
             "#b8e186"
            ],
            [
             0.8,
             "#7fbc41"
            ],
            [
             0.9,
             "#4d9221"
            ],
            [
             1,
             "#276419"
            ]
           ],
           "sequential": [
            [
             0,
             "#0d0887"
            ],
            [
             0.1111111111111111,
             "#46039f"
            ],
            [
             0.2222222222222222,
             "#7201a8"
            ],
            [
             0.3333333333333333,
             "#9c179e"
            ],
            [
             0.4444444444444444,
             "#bd3786"
            ],
            [
             0.5555555555555556,
             "#d8576b"
            ],
            [
             0.6666666666666666,
             "#ed7953"
            ],
            [
             0.7777777777777778,
             "#fb9f3a"
            ],
            [
             0.8888888888888888,
             "#fdca26"
            ],
            [
             1,
             "#f0f921"
            ]
           ],
           "sequentialminus": [
            [
             0,
             "#0d0887"
            ],
            [
             0.1111111111111111,
             "#46039f"
            ],
            [
             0.2222222222222222,
             "#7201a8"
            ],
            [
             0.3333333333333333,
             "#9c179e"
            ],
            [
             0.4444444444444444,
             "#bd3786"
            ],
            [
             0.5555555555555556,
             "#d8576b"
            ],
            [
             0.6666666666666666,
             "#ed7953"
            ],
            [
             0.7777777777777778,
             "#fb9f3a"
            ],
            [
             0.8888888888888888,
             "#fdca26"
            ],
            [
             1,
             "#f0f921"
            ]
           ]
          },
          "colorway": [
           "#636efa",
           "#EF553B",
           "#00cc96",
           "#ab63fa",
           "#FFA15A",
           "#19d3f3",
           "#FF6692",
           "#B6E880",
           "#FF97FF",
           "#FECB52"
          ],
          "font": {
           "color": "#f2f5fa"
          },
          "geo": {
           "bgcolor": "rgb(17,17,17)",
           "lakecolor": "rgb(17,17,17)",
           "landcolor": "rgb(17,17,17)",
           "showlakes": true,
           "showland": true,
           "subunitcolor": "#506784"
          },
          "hoverlabel": {
           "align": "left"
          },
          "hovermode": "closest",
          "mapbox": {
           "style": "dark"
          },
          "paper_bgcolor": "rgb(17,17,17)",
          "plot_bgcolor": "rgb(17,17,17)",
          "polar": {
           "angularaxis": {
            "gridcolor": "#506784",
            "linecolor": "#506784",
            "ticks": ""
           },
           "bgcolor": "rgb(17,17,17)",
           "radialaxis": {
            "gridcolor": "#506784",
            "linecolor": "#506784",
            "ticks": ""
           }
          },
          "scene": {
           "xaxis": {
            "backgroundcolor": "rgb(17,17,17)",
            "gridcolor": "#506784",
            "gridwidth": 2,
            "linecolor": "#506784",
            "showbackground": true,
            "ticks": "",
            "zerolinecolor": "#C8D4E3"
           },
           "yaxis": {
            "backgroundcolor": "rgb(17,17,17)",
            "gridcolor": "#506784",
            "gridwidth": 2,
            "linecolor": "#506784",
            "showbackground": true,
            "ticks": "",
            "zerolinecolor": "#C8D4E3"
           },
           "zaxis": {
            "backgroundcolor": "rgb(17,17,17)",
            "gridcolor": "#506784",
            "gridwidth": 2,
            "linecolor": "#506784",
            "showbackground": true,
            "ticks": "",
            "zerolinecolor": "#C8D4E3"
           }
          },
          "shapedefaults": {
           "line": {
            "color": "#f2f5fa"
           }
          },
          "sliderdefaults": {
           "bgcolor": "#C8D4E3",
           "bordercolor": "rgb(17,17,17)",
           "borderwidth": 1,
           "tickwidth": 0
          },
          "ternary": {
           "aaxis": {
            "gridcolor": "#506784",
            "linecolor": "#506784",
            "ticks": ""
           },
           "baxis": {
            "gridcolor": "#506784",
            "linecolor": "#506784",
            "ticks": ""
           },
           "bgcolor": "rgb(17,17,17)",
           "caxis": {
            "gridcolor": "#506784",
            "linecolor": "#506784",
            "ticks": ""
           }
          },
          "title": {
           "x": 0.05
          },
          "updatemenudefaults": {
           "bgcolor": "#506784",
           "borderwidth": 0
          },
          "xaxis": {
           "automargin": true,
           "gridcolor": "#283442",
           "linecolor": "#506784",
           "ticks": "",
           "title": {
            "standoff": 15
           },
           "zerolinecolor": "#283442",
           "zerolinewidth": 2
          },
          "yaxis": {
           "automargin": true,
           "gridcolor": "#283442",
           "linecolor": "#506784",
           "ticks": "",
           "title": {
            "standoff": 15
           },
           "zerolinecolor": "#283442",
           "zerolinewidth": 2
          }
         }
        },
        "title": {
         "text": "Contagem de compras ao longo do periodo com e sem uso de cupom"
        },
        "xaxis": {
         "anchor": "y",
         "domain": [
          0,
          1
         ],
         "title": {
          "text": "Tempo desde o início do teste"
         }
        },
        "yaxis": {
         "anchor": "x",
         "domain": [
          0,
          1
         ],
         "title": {
          "text": "Contagem de eventos"
         }
        }
       }
      }
     },
     "metadata": {},
     "output_type": "display_data"
    }
   ],
   "source": [
    "date_grouped = (df_union\n",
    "    .withColumn(\"time_since_test_start\", F.floor(F.col(\"time_since_test_start\")))\n",
    "    .groupBy([\"time_since_test_start\", \"used_offer\"])\n",
    "    .agg(\n",
    "        F.count(F.col(\"time_since_test_start\")).alias(\"count\"),\n",
    "        F.sum(F.col(\"amount\")).alias(\"ttl_amount\")\n",
    "    )\n",
    "    .orderBy(F.col(\"time_since_test_start\").asc(), F.col(\"used_offer\").asc())\n",
    ")\n",
    "\n",
    "fig = px.line(\n",
    "    date_grouped.toPandas(),\n",
    "    x=\"time_since_test_start\",\n",
    "    y=\"count\",\n",
    "    color=\"used_offer\", # uso ou não se oferta\n",
    "    markers=True, # se quiser mostrar pontos nos valores\n",
    "    title=\"Contagem de compras ao longo do periodo com e sem uso de cupom\"\n",
    ")\n",
    "\n",
    "fig.update_layout(\n",
    "    xaxis_title=\"Tempo desde o início do teste\",\n",
    "    yaxis_title=\"Contagem de eventos\",\n",
    "    template=\"plotly_dark\"\n",
    ")\n",
    "\n",
    "fig.show()\n",
    "\n",
    "del(date_grouped)"
   ]
  },
  {
   "cell_type": "markdown",
   "id": "398557e9",
   "metadata": {},
   "source": [
    "# 4. Gerando indicadores extras"
   ]
  },
  {
   "cell_type": "markdown",
   "id": "d615c2e0",
   "metadata": {},
   "source": [
    "- Frequencia de compra por semana por cliente\n",
    "- Percentual de ofertas utilizadas por cliente\n",
    "    - Geral\n",
    "    - Tipo de oferta\n",
    "    - Veículo\n",
    "- Percentual de ofertas visualizadas por cliente\n",
    "    - Geral\n",
    "    - Tipo de oferta\n",
    "    - Veículo"
   ]
  },
  {
   "cell_type": "markdown",
   "id": "f50d137c",
   "metadata": {},
   "source": [
    "Quantidade de transações por cliente"
   ]
  },
  {
   "cell_type": "code",
   "execution_count": 27,
   "id": "742a8975",
   "metadata": {},
   "outputs": [
    {
     "name": "stdout",
     "output_type": "stream",
     "text": [
      "+--------------------+--------+---------------------+------+------+--------------+--------+---------+----------+--------------+-------------+--------------+-----------+-------------------+------------------------+---------------+-----------------+------+-------------+-----------------+-----------+-------------+-------------+-------------+-------------+-----------+-------+-------------------+-----------------+----------+------------------+\n",
      "|          account_id|offer_id|time_since_test_start|amount|reward|discount_value|duration|min_value|offer_type|channel_mobile|channel_email|channel_social|channel_web|offer_type_discount|offer_type_informational|offer_type_bogo|credit_card_limit|gender|registered_on|year_month_joined|age_bin_18-|age_bin_18-29|age_bin_30-39|age_bin_40-49|age_bin_50-59|age_bin_60+|age_bin|offer_received_date|offer_viewed_date|used_offer|total_transactions|\n",
      "+--------------------+--------+---------------------+------+------+--------------+--------+---------+----------+--------------+-------------+--------------+-----------+-------------------+------------------------+---------------+-----------------+------+-------------+-----------------+-----------+-------------+-------------+-------------+-------------+-----------+-------+-------------------+-----------------+----------+------------------+\n",
      "|0020ccbbb6d84e358...|    NULL|                 1.75| 16.27|  NULL|          NULL|    NULL|     NULL|      NULL|          NULL|         NULL|          NULL|       NULL|               NULL|                    NULL|           NULL|          60000.0|     F|   2016-11-11|          2016-11|          0|            1|            0|            0|            0|          0|  18-29|               NULL|             NULL|         0|                12|\n",
      "|0020ccbbb6d84e358...|    NULL|                 10.0| 13.86|  NULL|          NULL|    NULL|     NULL|      NULL|          NULL|         NULL|          NULL|       NULL|               NULL|                    NULL|           NULL|          60000.0|     F|   2016-11-11|          2016-11|          0|            1|            0|            0|            0|          0|  18-29|               NULL|             NULL|         0|                12|\n",
      "|0020ccbbb6d84e358...|    NULL|                 11.5|  6.81|  NULL|          NULL|    NULL|     NULL|      NULL|          NULL|         NULL|          NULL|       NULL|               NULL|                    NULL|           NULL|          60000.0|     F|   2016-11-11|          2016-11|          0|            1|            0|            0|            0|          0|  18-29|               NULL|             NULL|         0|                12|\n",
      "|0020ccbbb6d84e358...|    NULL|                 12.5| 14.27|  NULL|          NULL|    NULL|     NULL|      NULL|          NULL|         NULL|          NULL|       NULL|               NULL|                    NULL|           NULL|          60000.0|     F|   2016-11-11|          2016-11|          0|            1|            0|            0|            0|          0|  18-29|               NULL|             NULL|         0|                12|\n",
      "|0020ccbbb6d84e358...|    NULL|                17.75|  8.93|  NULL|          NULL|    NULL|     NULL|      NULL|          NULL|         NULL|          NULL|       NULL|               NULL|                    NULL|           NULL|          60000.0|     F|   2016-11-11|          2016-11|          0|            1|            0|            0|            0|          0|  18-29|               NULL|             NULL|         0|                12|\n",
      "+--------------------+--------+---------------------+------+------+--------------+--------+---------+----------+--------------+-------------+--------------+-----------+-------------------+------------------------+---------------+-----------------+------+-------------+-----------------+-----------+-------------+-------------+-------------+-------------+-----------+-------+-------------------+-----------------+----------+------------------+\n",
      "only showing top 5 rows\n",
      "\n",
      "None\n"
     ]
    }
   ],
   "source": [
    "# Cria uma janela particionada por account_id\n",
    "window_spec = Window.partitionBy(\"account_id\")\n",
    "\n",
    "# Adiciona a coluna total_transactions\n",
    "df_union = df_union.withColumn(\"total_transactions\", F.count(\"amount\").over(window_spec))\n",
    "\n",
    "print(df_union.show(5))"
   ]
  },
  {
   "cell_type": "markdown",
   "id": "f28feb7f",
   "metadata": {},
   "source": [
    "Tipos de ofertas mais utilizadas por cliente (offer_type)"
   ]
  },
  {
   "cell_type": "code",
   "execution_count": 28,
   "id": "4c92f1fe",
   "metadata": {},
   "outputs": [
    {
     "name": "stdout",
     "output_type": "stream",
     "text": [
      "+--------------------+--------------------+---------------------+------+------+--------------+--------+---------+----------+--------------+-------------+--------------+-----------+-------------------+------------------------+---------------+-----------------+------+-------------+-----------------+-----------+-------------+-------------+-------------+-------------+-----------+-------+-------------------+-----------------+----------+------------------+--------------------+\n",
      "|          account_id|            offer_id|time_since_test_start|amount|reward|discount_value|duration|min_value|offer_type|channel_mobile|channel_email|channel_social|channel_web|offer_type_discount|offer_type_informational|offer_type_bogo|credit_card_limit|gender|registered_on|year_month_joined|age_bin_18-|age_bin_18-29|age_bin_30-39|age_bin_40-49|age_bin_50-59|age_bin_60+|age_bin|offer_received_date|offer_viewed_date|used_offer|total_transactions|most_used_offer_type|\n",
      "+--------------------+--------------------+---------------------+------+------+--------------+--------+---------+----------+--------------+-------------+--------------+-----------+-------------------+------------------------+---------------+-----------------+------+-------------+-----------------+-----------+-------------+-------------+-------------+-------------+-----------+-------+-------------------+-----------------+----------+------------------+--------------------+\n",
      "|0020ccbbb6d84e358...|                NULL|                 1.75| 16.27|  NULL|          NULL|    NULL|     NULL|      NULL|          NULL|         NULL|          NULL|       NULL|               NULL|                    NULL|           NULL|          60000.0|     F|   2016-11-11|          2016-11|          0|            1|            0|            0|            0|          0|  18-29|               NULL|             NULL|         0|                12|                bogo|\n",
      "|0020ccbbb6d84e358...|                NULL|                18.75| 10.76|  NULL|          NULL|    NULL|     NULL|      NULL|          NULL|         NULL|          NULL|       NULL|               NULL|                    NULL|           NULL|          60000.0|     F|   2016-11-11|          2016-11|          0|            1|            0|            0|            0|          0|  18-29|               NULL|             NULL|         0|                12|                bogo|\n",
      "|0020ccbbb6d84e358...|9b98b8c7a33c4b65b...|                 25.0| 10.32|   5.0|             5|     7.0|        5|      bogo|             1|            1|             0|          1|                  0|                       0|              1|          60000.0|     F|   2016-11-11|          2016-11|          0|            1|            0|            0|            0|          0|  18-29|               21.0|            24.25|         1|                12|                bogo|\n",
      "|0020ccbbb6d84e358...|f19421c1d4aa40978...|                15.75| 14.53|   5.0|             5|     5.0|        5|      bogo|             1|            1|             1|          1|                  0|                       0|              1|          60000.0|     F|   2016-11-11|          2016-11|          0|            1|            0|            0|            0|          0|  18-29|               14.0|             14.5|         1|                12|                bogo|\n",
      "|0020ccbbb6d84e358...|                NULL|                 11.5|  6.81|  NULL|          NULL|    NULL|     NULL|      NULL|          NULL|         NULL|          NULL|       NULL|               NULL|                    NULL|           NULL|          60000.0|     F|   2016-11-11|          2016-11|          0|            1|            0|            0|            0|          0|  18-29|               NULL|             NULL|         0|                12|                bogo|\n",
      "+--------------------+--------------------+---------------------+------+------+--------------+--------+---------+----------+--------------+-------------+--------------+-----------+-------------------+------------------------+---------------+-----------------+------+-------------+-----------------+-----------+-------------+-------------+-------------+-------------+-----------+-------+-------------------+-----------------+----------+------------------+--------------------+\n",
      "only showing top 5 rows\n",
      "\n",
      "None\n"
     ]
    }
   ],
   "source": [
    "# Filtrar apenas as linhas com offer_type não nulo\n",
    "df_offers = df_union.filter(F.col(\"offer_type\").isNotNull())\n",
    "\n",
    "# Contar quantas vezes cada cliente usou cada tipo de oferta\n",
    "df_offer_counts = (df_offers\n",
    "    .groupBy(\"account_id\", \"offer_type\")\n",
    "    .agg(F.count(\"*\").alias(\"offer_type_count\"))\n",
    ")\n",
    "\n",
    "# Janela para rankear os tipos de oferta mais usados por cliente\n",
    "window_spec = Window.partitionBy(\"account_id\").orderBy(F.col(\"offer_type_count\").desc())\n",
    "\n",
    "# Adicionar ranking\n",
    "df_ranked = df_offer_counts.withColumn(\"rank\", F.row_number().over(window_spec))\n",
    "\n",
    "# Manter apenas a oferta mais usada por cliente (rank == 1)\n",
    "df_top_offer_type = df_ranked.filter(F.col(\"rank\") == 1).drop(\"rank\", \"offer_type_count\").withColumnRenamed(\"offer_type\", \"most_used_offer_type\")\n",
    "\n",
    "# Juntar de volta com o dataframe original, se quiser\n",
    "df_union = (df_union.alias(\"a\")\n",
    "    .join(\n",
    "        df_top_offer_type.alias(\"b\"),\n",
    "        on=\"account_id\",\n",
    "        how=\"left\")\n",
    ")\n",
    "\n",
    "print(df_union.show(5))\n",
    "\n",
    "del(df_offers, df_offer_counts, df_ranked, df_top_offer_type)"
   ]
  },
  {
   "cell_type": "markdown",
   "id": "89fa00ad",
   "metadata": {},
   "source": [
    "Taxa de pedidos com cupom"
   ]
  },
  {
   "cell_type": "code",
   "execution_count": 29,
   "id": "c5a100fa",
   "metadata": {},
   "outputs": [
    {
     "name": "stdout",
     "output_type": "stream",
     "text": [
      "+--------------------+--------------------+---------------------+------+------+--------------+--------+---------+----------+--------------+-------------+--------------+-----------+-------------------+------------------------+---------------+-----------------+------+-------------+-----------------+-----------+-------------+-------------+-------------+-------------+-----------+-------+-------------------+-----------------+----------+------------------+--------------------+----------------------+\n",
      "|          account_id|            offer_id|time_since_test_start|amount|reward|discount_value|duration|min_value|offer_type|channel_mobile|channel_email|channel_social|channel_web|offer_type_discount|offer_type_informational|offer_type_bogo|credit_card_limit|gender|registered_on|year_month_joined|age_bin_18-|age_bin_18-29|age_bin_30-39|age_bin_40-49|age_bin_50-59|age_bin_60+|age_bin|offer_received_date|offer_viewed_date|used_offer|total_transactions|most_used_offer_type|transactons_offer_rate|\n",
      "+--------------------+--------------------+---------------------+------+------+--------------+--------+---------+----------+--------------+-------------+--------------+-----------+-------------------+------------------------+---------------+-----------------+------+-------------+-----------------+-----------+-------------+-------------+-------------+-------------+-----------+-------+-------------------+-----------------+----------+------------------+--------------------+----------------------+\n",
      "|0020ccbbb6d84e358...|                NULL|                 1.75| 16.27|  NULL|          NULL|    NULL|     NULL|      NULL|          NULL|         NULL|          NULL|       NULL|               NULL|                    NULL|           NULL|          60000.0|     F|   2016-11-11|          2016-11|          0|            1|            0|            0|            0|          0|  18-29|               NULL|             NULL|         0|                12|                bogo|                  0.25|\n",
      "|0020ccbbb6d84e358...|                NULL|                18.75| 10.76|  NULL|          NULL|    NULL|     NULL|      NULL|          NULL|         NULL|          NULL|       NULL|               NULL|                    NULL|           NULL|          60000.0|     F|   2016-11-11|          2016-11|          0|            1|            0|            0|            0|          0|  18-29|               NULL|             NULL|         0|                12|                bogo|                  0.25|\n",
      "|0020ccbbb6d84e358...|9b98b8c7a33c4b65b...|                 25.0| 10.32|   5.0|             5|     7.0|        5|      bogo|             1|            1|             0|          1|                  0|                       0|              1|          60000.0|     F|   2016-11-11|          2016-11|          0|            1|            0|            0|            0|          0|  18-29|               21.0|            24.25|         1|                12|                bogo|                  0.25|\n",
      "|0020ccbbb6d84e358...|f19421c1d4aa40978...|                15.75| 14.53|   5.0|             5|     5.0|        5|      bogo|             1|            1|             1|          1|                  0|                       0|              1|          60000.0|     F|   2016-11-11|          2016-11|          0|            1|            0|            0|            0|          0|  18-29|               14.0|             14.5|         1|                12|                bogo|                  0.25|\n",
      "|0020ccbbb6d84e358...|                NULL|                 11.5|  6.81|  NULL|          NULL|    NULL|     NULL|      NULL|          NULL|         NULL|          NULL|       NULL|               NULL|                    NULL|           NULL|          60000.0|     F|   2016-11-11|          2016-11|          0|            1|            0|            0|            0|          0|  18-29|               NULL|             NULL|         0|                12|                bogo|                  0.25|\n",
      "+--------------------+--------------------+---------------------+------+------+--------------+--------+---------+----------+--------------+-------------+--------------+-----------+-------------------+------------------------+---------------+-----------------+------+-------------+-----------------+-----------+-------------+-------------+-------------+-------------+-----------+-------+-------------------+-----------------+----------+------------------+--------------------+----------------------+\n",
      "only showing top 5 rows\n",
      "\n",
      "None\n"
     ]
    }
   ],
   "source": [
    "# Calcular taxa de uso de cupom por cliente\n",
    "offer_rate = (df_union\n",
    "    .groupBy(\"account_id\").agg(\n",
    "        F.count(\"*\").alias(\"total_transactions\"),\n",
    "        F.sum(F.col(\"used_offer\")).alias(\"num_transactions_with_offer\"))\n",
    "    .withColumn(\n",
    "        \"transactons_offer_rate\",\n",
    "        F.col(\"num_transactions_with_offer\") / F.col(\"total_transactions\"))\n",
    ")\n",
    "\n",
    "# Juntar no dataframe original, se quiser\n",
    "df_union = df_union.join(offer_rate.select(\"account_id\", \"transactons_offer_rate\"), on=\"account_id\", how=\"left\")\n",
    "\n",
    "print(df_union.show(5))\n",
    "\n",
    "del(offer_rate)"
   ]
  },
  {
   "cell_type": "markdown",
   "id": "b5b9a61b",
   "metadata": {},
   "source": [
    "Tempo médio que usuário demora para utilizar e ver o cupom"
   ]
  },
  {
   "cell_type": "code",
   "execution_count": 30,
   "id": "16dbb06d",
   "metadata": {},
   "outputs": [
    {
     "name": "stdout",
     "output_type": "stream",
     "text": [
      "+--------------------+--------------------+---------------------+------+------+--------------+--------+---------+----------+--------------+-------------+--------------+-----------+-------------------+------------------------+---------------+-----------------+------+-------------+-----------------+-----------+-------------+-------------+-------------+-------------+-----------+-------+-------------------+-----------------+----------+------------------+--------------------+----------------------+---------------------+----------------------+\n",
      "|          account_id|            offer_id|time_since_test_start|amount|reward|discount_value|duration|min_value|offer_type|channel_mobile|channel_email|channel_social|channel_web|offer_type_discount|offer_type_informational|offer_type_bogo|credit_card_limit|gender|registered_on|year_month_joined|age_bin_18-|age_bin_18-29|age_bin_30-39|age_bin_40-49|age_bin_50-59|age_bin_60+|age_bin|offer_received_date|offer_viewed_date|used_offer|total_transactions|most_used_offer_type|transactons_offer_rate|avg_time_to_use_offer|avg_time_to_view_offer|\n",
      "+--------------------+--------------------+---------------------+------+------+--------------+--------+---------+----------+--------------+-------------+--------------+-----------+-------------------+------------------------+---------------+-----------------+------+-------------+-----------------+-----------+-------------+-------------+-------------+-------------+-----------+-------+-------------------+-----------------+----------+------------------+--------------------+----------------------+---------------------+----------------------+\n",
      "|0020ccbbb6d84e358...|                NULL|                 1.75| 16.27|  NULL|          NULL|    NULL|     NULL|      NULL|          NULL|         NULL|          NULL|       NULL|               NULL|                    NULL|           NULL|          60000.0|     F|   2016-11-11|          2016-11|          0|            1|            0|            0|            0|          0|  18-29|               NULL|             NULL|         0|                12|                bogo|                  0.25|   2.6666666666666665|    1.4166666666666667|\n",
      "|0020ccbbb6d84e358...|                NULL|                18.75| 10.76|  NULL|          NULL|    NULL|     NULL|      NULL|          NULL|         NULL|          NULL|       NULL|               NULL|                    NULL|           NULL|          60000.0|     F|   2016-11-11|          2016-11|          0|            1|            0|            0|            0|          0|  18-29|               NULL|             NULL|         0|                12|                bogo|                  0.25|   2.6666666666666665|    1.4166666666666667|\n",
      "|0020ccbbb6d84e358...|9b98b8c7a33c4b65b...|                 25.0| 10.32|   5.0|             5|     7.0|        5|      bogo|             1|            1|             0|          1|                  0|                       0|              1|          60000.0|     F|   2016-11-11|          2016-11|          0|            1|            0|            0|            0|          0|  18-29|               21.0|            24.25|         1|                12|                bogo|                  0.25|   2.6666666666666665|    1.4166666666666667|\n",
      "|0020ccbbb6d84e358...|f19421c1d4aa40978...|                15.75| 14.53|   5.0|             5|     5.0|        5|      bogo|             1|            1|             1|          1|                  0|                       0|              1|          60000.0|     F|   2016-11-11|          2016-11|          0|            1|            0|            0|            0|          0|  18-29|               14.0|             14.5|         1|                12|                bogo|                  0.25|   2.6666666666666665|    1.4166666666666667|\n",
      "|0020ccbbb6d84e358...|                NULL|                 11.5|  6.81|  NULL|          NULL|    NULL|     NULL|      NULL|          NULL|         NULL|          NULL|       NULL|               NULL|                    NULL|           NULL|          60000.0|     F|   2016-11-11|          2016-11|          0|            1|            0|            0|            0|          0|  18-29|               NULL|             NULL|         0|                12|                bogo|                  0.25|   2.6666666666666665|    1.4166666666666667|\n",
      "|0020ccbbb6d84e358...|                NULL|                17.75|  8.93|  NULL|          NULL|    NULL|     NULL|      NULL|          NULL|         NULL|          NULL|       NULL|               NULL|                    NULL|           NULL|          60000.0|     F|   2016-11-11|          2016-11|          0|            1|            0|            0|            0|          0|  18-29|               NULL|             NULL|         0|                12|                bogo|                  0.25|   2.6666666666666665|    1.4166666666666667|\n",
      "|0020ccbbb6d84e358...|                NULL|                 18.0| 20.08|  NULL|          NULL|    NULL|     NULL|      NULL|          NULL|         NULL|          NULL|       NULL|               NULL|                    NULL|           NULL|          60000.0|     F|   2016-11-11|          2016-11|          0|            1|            0|            0|            0|          0|  18-29|               NULL|             NULL|         0|                12|                bogo|                  0.25|   2.6666666666666665|    1.4166666666666667|\n",
      "|0020ccbbb6d84e358...|2298d6c36e964ae4a...|                 9.25| 11.65|   3.0|             3|     7.0|        7|  discount|             1|            1|             1|          1|                  1|                       0|              0|          60000.0|     F|   2016-11-11|          2016-11|          0|            1|            0|            0|            0|          0|  18-29|                7.0|              7.0|         1|                12|                bogo|                  0.25|   2.6666666666666665|    1.4166666666666667|\n",
      "|0020ccbbb6d84e358...|                NULL|                 10.0| 13.86|  NULL|          NULL|    NULL|     NULL|      NULL|          NULL|         NULL|          NULL|       NULL|               NULL|                    NULL|           NULL|          60000.0|     F|   2016-11-11|          2016-11|          0|            1|            0|            0|            0|          0|  18-29|               NULL|             NULL|         0|                12|                bogo|                  0.25|   2.6666666666666665|    1.4166666666666667|\n",
      "|0020ccbbb6d84e358...|                NULL|                19.25|  19.1|  NULL|          NULL|    NULL|     NULL|      NULL|          NULL|         NULL|          NULL|       NULL|               NULL|                    NULL|           NULL|          60000.0|     F|   2016-11-11|          2016-11|          0|            1|            0|            0|            0|          0|  18-29|               NULL|             NULL|         0|                12|                bogo|                  0.25|   2.6666666666666665|    1.4166666666666667|\n",
      "|0020ccbbb6d84e358...|                NULL|                 28.0|  7.47|  NULL|          NULL|    NULL|     NULL|      NULL|          NULL|         NULL|          NULL|       NULL|               NULL|                    NULL|           NULL|          60000.0|     F|   2016-11-11|          2016-11|          0|            1|            0|            0|            0|          0|  18-29|               NULL|             NULL|         0|                12|                bogo|                  0.25|   2.6666666666666665|    1.4166666666666667|\n",
      "|0020ccbbb6d84e358...|                NULL|                 12.5| 14.27|  NULL|          NULL|    NULL|     NULL|      NULL|          NULL|         NULL|          NULL|       NULL|               NULL|                    NULL|           NULL|          60000.0|     F|   2016-11-11|          2016-11|          0|            1|            0|            0|            0|          0|  18-29|               NULL|             NULL|         0|                12|                bogo|                  0.25|   2.6666666666666665|    1.4166666666666667|\n",
      "|004b041fbfe448599...|                NULL|                16.25| 19.48|  NULL|          NULL|    NULL|     NULL|      NULL|          NULL|         NULL|          NULL|       NULL|               NULL|                    NULL|           NULL|          74000.0|     F|   2018-05-08|          2018-05|          0|            0|            0|            0|            1|          0|  50-59|               NULL|             NULL|         0|                 6|            discount|    0.3333333333333333|                  3.5|                 3.375|\n",
      "|004b041fbfe448599...|                NULL|                 0.75| 25.62|  NULL|          NULL|    NULL|     NULL|      NULL|          NULL|         NULL|          NULL|       NULL|               NULL|                    NULL|           NULL|          74000.0|     F|   2018-05-08|          2018-05|          0|            0|            0|            0|            1|          0|  50-59|               NULL|             NULL|         0|                 6|            discount|    0.3333333333333333|                  3.5|                 3.375|\n",
      "|004b041fbfe448599...|fafdcd668e3743c1b...|                29.75| 19.93|   2.0|             2|    10.0|       10|  discount|             1|            1|             1|          1|                  1|                       0|              0|          74000.0|     F|   2018-05-08|          2018-05|          0|            0|            0|            0|            1|          0|  50-59|               24.0|             24.0|         1|                 6|            discount|    0.3333333333333333|                  3.5|                 3.375|\n",
      "+--------------------+--------------------+---------------------+------+------+--------------+--------+---------+----------+--------------+-------------+--------------+-----------+-------------------+------------------------+---------------+-----------------+------+-------------+-----------------+-----------+-------------+-------------+-------------+-------------+-----------+-------+-------------------+-----------------+----------+------------------+--------------------+----------------------+---------------------+----------------------+\n",
      "only showing top 15 rows\n",
      "\n",
      "None\n"
     ]
    }
   ],
   "source": [
    "# Filtrar e calcular tempo de uso\n",
    "time_to_use_df = (df_union\n",
    "    .filter(F.col(\"used_offer\") == 1)\n",
    "    .withColumn(\n",
    "        \"time_to_use_offer\",\n",
    "        F.col(\"time_since_test_start\") - F.col(\"offer_received_date\"))\n",
    "    .withColumn(\n",
    "        \"time_to_view_offer\",\n",
    "        F.col(\"time_since_test_start\") - F.col(\"offer_viewed_date\"))\n",
    ")\n",
    "\n",
    "# Média de tempo par utilizar cupom por cliente\n",
    "avg_time_df = (time_to_use_df\n",
    "    .groupBy(\"account_id\")\n",
    "    .agg(\n",
    "        F.avg(\"time_to_use_offer\").alias(\"avg_time_to_use_offer\"),\n",
    "        F.avg(\"time_to_view_offer\").alias(\"avg_time_to_view_offer\"))\n",
    ")\n",
    "\n",
    "# Juntar com o df_union\n",
    "df_union = df_union.join(avg_time_df, on=\"account_id\", how=\"left\")\n",
    "\n",
    "del(time_to_use_df, avg_time_df)\n",
    "\n",
    "print(df_union.show(15))"
   ]
  },
  {
   "cell_type": "markdown",
   "id": "83c14b88",
   "metadata": {},
   "source": [
    "Percentual de cupons utilizados por cliente (geral)"
   ]
  },
  {
   "cell_type": "code",
   "execution_count": 31,
   "id": "9b70b06c",
   "metadata": {},
   "outputs": [
    {
     "name": "stdout",
     "output_type": "stream",
     "text": [
      "+--------------------+--------------------+---------------------+------+------+--------------+--------+---------+----------+--------------+-------------+--------------+-----------+-------------------+------------------------+---------------+-----------------+------+-------------+-----------------+-----------+-------------+-------------+-------------+-------------+-----------+-------+-------------------+-----------------+----------+------------------+--------------------+----------------------+---------------------+----------------------+---------------------+\n",
      "|          account_id|            offer_id|time_since_test_start|amount|reward|discount_value|duration|min_value|offer_type|channel_mobile|channel_email|channel_social|channel_web|offer_type_discount|offer_type_informational|offer_type_bogo|credit_card_limit|gender|registered_on|year_month_joined|age_bin_18-|age_bin_18-29|age_bin_30-39|age_bin_40-49|age_bin_50-59|age_bin_60+|age_bin|offer_received_date|offer_viewed_date|used_offer|total_transactions|most_used_offer_type|transactons_offer_rate|avg_time_to_use_offer|avg_time_to_view_offer|all_coupon_usage_rate|\n",
      "+--------------------+--------------------+---------------------+------+------+--------------+--------+---------+----------+--------------+-------------+--------------+-----------+-------------------+------------------------+---------------+-----------------+------+-------------+-----------------+-----------+-------------+-------------+-------------+-------------+-----------+-------+-------------------+-----------------+----------+------------------+--------------------+----------------------+---------------------+----------------------+---------------------+\n",
      "|0020ccbbb6d84e358...|                NULL|                 1.75| 16.27|  NULL|          NULL|    NULL|     NULL|      NULL|          NULL|         NULL|          NULL|       NULL|               NULL|                    NULL|           NULL|          60000.0|     F|   2016-11-11|          2016-11|          0|            1|            0|            0|            0|          0|  18-29|               NULL|             NULL|         0|                12|                bogo|                  0.25|   2.6666666666666665|    1.4166666666666667|                 0.75|\n",
      "|0020ccbbb6d84e358...|                NULL|                18.75| 10.76|  NULL|          NULL|    NULL|     NULL|      NULL|          NULL|         NULL|          NULL|       NULL|               NULL|                    NULL|           NULL|          60000.0|     F|   2016-11-11|          2016-11|          0|            1|            0|            0|            0|          0|  18-29|               NULL|             NULL|         0|                12|                bogo|                  0.25|   2.6666666666666665|    1.4166666666666667|                 0.75|\n",
      "|0020ccbbb6d84e358...|9b98b8c7a33c4b65b...|                 25.0| 10.32|   5.0|             5|     7.0|        5|      bogo|             1|            1|             0|          1|                  0|                       0|              1|          60000.0|     F|   2016-11-11|          2016-11|          0|            1|            0|            0|            0|          0|  18-29|               21.0|            24.25|         1|                12|                bogo|                  0.25|   2.6666666666666665|    1.4166666666666667|                 0.75|\n",
      "|0020ccbbb6d84e358...|f19421c1d4aa40978...|                15.75| 14.53|   5.0|             5|     5.0|        5|      bogo|             1|            1|             1|          1|                  0|                       0|              1|          60000.0|     F|   2016-11-11|          2016-11|          0|            1|            0|            0|            0|          0|  18-29|               14.0|             14.5|         1|                12|                bogo|                  0.25|   2.6666666666666665|    1.4166666666666667|                 0.75|\n",
      "|0020ccbbb6d84e358...|                NULL|                 11.5|  6.81|  NULL|          NULL|    NULL|     NULL|      NULL|          NULL|         NULL|          NULL|       NULL|               NULL|                    NULL|           NULL|          60000.0|     F|   2016-11-11|          2016-11|          0|            1|            0|            0|            0|          0|  18-29|               NULL|             NULL|         0|                12|                bogo|                  0.25|   2.6666666666666665|    1.4166666666666667|                 0.75|\n",
      "|0020ccbbb6d84e358...|                NULL|                17.75|  8.93|  NULL|          NULL|    NULL|     NULL|      NULL|          NULL|         NULL|          NULL|       NULL|               NULL|                    NULL|           NULL|          60000.0|     F|   2016-11-11|          2016-11|          0|            1|            0|            0|            0|          0|  18-29|               NULL|             NULL|         0|                12|                bogo|                  0.25|   2.6666666666666665|    1.4166666666666667|                 0.75|\n",
      "|0020ccbbb6d84e358...|                NULL|                 18.0| 20.08|  NULL|          NULL|    NULL|     NULL|      NULL|          NULL|         NULL|          NULL|       NULL|               NULL|                    NULL|           NULL|          60000.0|     F|   2016-11-11|          2016-11|          0|            1|            0|            0|            0|          0|  18-29|               NULL|             NULL|         0|                12|                bogo|                  0.25|   2.6666666666666665|    1.4166666666666667|                 0.75|\n",
      "|0020ccbbb6d84e358...|2298d6c36e964ae4a...|                 9.25| 11.65|   3.0|             3|     7.0|        7|  discount|             1|            1|             1|          1|                  1|                       0|              0|          60000.0|     F|   2016-11-11|          2016-11|          0|            1|            0|            0|            0|          0|  18-29|                7.0|              7.0|         1|                12|                bogo|                  0.25|   2.6666666666666665|    1.4166666666666667|                 0.75|\n",
      "|0020ccbbb6d84e358...|                NULL|                 10.0| 13.86|  NULL|          NULL|    NULL|     NULL|      NULL|          NULL|         NULL|          NULL|       NULL|               NULL|                    NULL|           NULL|          60000.0|     F|   2016-11-11|          2016-11|          0|            1|            0|            0|            0|          0|  18-29|               NULL|             NULL|         0|                12|                bogo|                  0.25|   2.6666666666666665|    1.4166666666666667|                 0.75|\n",
      "|0020ccbbb6d84e358...|                NULL|                19.25|  19.1|  NULL|          NULL|    NULL|     NULL|      NULL|          NULL|         NULL|          NULL|       NULL|               NULL|                    NULL|           NULL|          60000.0|     F|   2016-11-11|          2016-11|          0|            1|            0|            0|            0|          0|  18-29|               NULL|             NULL|         0|                12|                bogo|                  0.25|   2.6666666666666665|    1.4166666666666667|                 0.75|\n",
      "|0020ccbbb6d84e358...|                NULL|                 28.0|  7.47|  NULL|          NULL|    NULL|     NULL|      NULL|          NULL|         NULL|          NULL|       NULL|               NULL|                    NULL|           NULL|          60000.0|     F|   2016-11-11|          2016-11|          0|            1|            0|            0|            0|          0|  18-29|               NULL|             NULL|         0|                12|                bogo|                  0.25|   2.6666666666666665|    1.4166666666666667|                 0.75|\n",
      "|0020ccbbb6d84e358...|                NULL|                 12.5| 14.27|  NULL|          NULL|    NULL|     NULL|      NULL|          NULL|         NULL|          NULL|       NULL|               NULL|                    NULL|           NULL|          60000.0|     F|   2016-11-11|          2016-11|          0|            1|            0|            0|            0|          0|  18-29|               NULL|             NULL|         0|                12|                bogo|                  0.25|   2.6666666666666665|    1.4166666666666667|                 0.75|\n",
      "|004b041fbfe448599...|                NULL|                16.25| 19.48|  NULL|          NULL|    NULL|     NULL|      NULL|          NULL|         NULL|          NULL|       NULL|               NULL|                    NULL|           NULL|          74000.0|     F|   2018-05-08|          2018-05|          0|            0|            0|            0|            1|          0|  50-59|               NULL|             NULL|         0|                 6|            discount|    0.3333333333333333|                  3.5|                 3.375|   0.6666666666666666|\n",
      "|004b041fbfe448599...|                NULL|                 0.75| 25.62|  NULL|          NULL|    NULL|     NULL|      NULL|          NULL|         NULL|          NULL|       NULL|               NULL|                    NULL|           NULL|          74000.0|     F|   2018-05-08|          2018-05|          0|            0|            0|            0|            1|          0|  50-59|               NULL|             NULL|         0|                 6|            discount|    0.3333333333333333|                  3.5|                 3.375|   0.6666666666666666|\n",
      "|004b041fbfe448599...|fafdcd668e3743c1b...|                29.75| 19.93|   2.0|             2|    10.0|       10|  discount|             1|            1|             1|          1|                  1|                       0|              0|          74000.0|     F|   2018-05-08|          2018-05|          0|            0|            0|            0|            1|          0|  50-59|               24.0|             24.0|         1|                 6|            discount|    0.3333333333333333|                  3.5|                 3.375|   0.6666666666666666|\n",
      "+--------------------+--------------------+---------------------+------+------+--------------+--------+---------+----------+--------------+-------------+--------------+-----------+-------------------+------------------------+---------------+-----------------+------+-------------+-----------------+-----------+-------------+-------------+-------------+-------------+-----------+-------+-------------------+-----------------+----------+------------------+--------------------+----------------------+---------------------+----------------------+---------------------+\n",
      "only showing top 15 rows\n",
      "\n",
      "None\n"
     ]
    }
   ],
   "source": [
    "# Total de ofertas recebidas por cliente\n",
    "offers_received_df = offer_summary.groupBy(\"account_id\").agg(\n",
    "    F.count(\"*\").alias(\"total_offers_received\")\n",
    ")\n",
    "\n",
    "# Total de ofertas utilizadas por cliente (usando a tabela principal com coluna used_offer)\n",
    "offers_used_df = df_union.filter(F.col(\"used_offer\") == 1).groupBy(\"account_id\").agg(\n",
    "    F.count(\"*\").alias(\"total_offers_used\")\n",
    ")\n",
    "\n",
    "usage_rate_df = (offers_received_df\n",
    "    # Juntar as duas contagens\n",
    "    .join(offers_used_df, on=\"account_id\", how=\"left\")\n",
    "    # Coluna com porcentagem de uso de cupons\n",
    "    .withColumn(\n",
    "        \"all_coupon_usage_rate\",\n",
    "        F.col(\"total_offers_used\") / F.col(\"total_offers_received\"))\n",
    ")\n",
    "\n",
    "df_union = (df_union\n",
    "    .join(\n",
    "        usage_rate_df.select(\"account_id\", \"all_coupon_usage_rate\"),\n",
    "        on=\"account_id\",\n",
    "        how=\"left\")\n",
    ")\n",
    "\n",
    "del(usage_rate_df, offers_received_df)\n",
    "\n",
    "print(df_union.show(15))"
   ]
  },
  {
   "cell_type": "markdown",
   "id": "0e0a5f51",
   "metadata": {},
   "source": [
    "Percentual de cupons utilizados por cliente (veiculo)"
   ]
  },
  {
   "cell_type": "code",
   "execution_count": null,
   "id": "890452f3",
   "metadata": {},
   "outputs": [
    {
     "name": "stdout",
     "output_type": "stream",
     "text": [
      "+--------------------+--------------------+---------------------+------+------+--------------+--------+---------+----------+--------------+-------------+--------------+-----------+-------------------+------------------------+---------------+-----------------+------+-------------+-----------------+-----------+-------------+-------------+-------------+-------------+-----------+-------+-------------------+-----------------+----------+------------------+--------------------+----------------------+---------------------+----------------------+---------------------+------------------+------------------+------------------+------------------+\n",
      "|          account_id|            offer_id|time_since_test_start|amount|reward|discount_value|duration|min_value|offer_type|channel_mobile|channel_email|channel_social|channel_web|offer_type_discount|offer_type_informational|offer_type_bogo|credit_card_limit|gender|registered_on|year_month_joined|age_bin_18-|age_bin_18-29|age_bin_30-39|age_bin_40-49|age_bin_50-59|age_bin_60+|age_bin|offer_received_date|offer_viewed_date|used_offer|total_transactions|most_used_offer_type|transactons_offer_rate|avg_time_to_use_offer|avg_time_to_view_offer|all_coupon_usage_rate|   pct_used_mobile|    pct_used_email|   pct_used_social|      pct_used_web|\n",
      "+--------------------+--------------------+---------------------+------+------+--------------+--------+---------+----------+--------------+-------------+--------------+-----------+-------------------+------------------------+---------------+-----------------+------+-------------+-----------------+-----------+-------------+-------------+-------------+-------------+-----------+-------+-------------------+-----------------+----------+------------------+--------------------+----------------------+---------------------+----------------------+---------------------+------------------+------------------+------------------+------------------+\n",
      "|0020ccbbb6d84e358...|                NULL|                 1.75| 16.27|  NULL|          NULL|    NULL|     NULL|      NULL|          NULL|         NULL|          NULL|       NULL|               NULL|                    NULL|           NULL|          60000.0|     F|   2016-11-11|          2016-11|          0|            1|            0|            0|            0|          0|  18-29|               NULL|             NULL|         0|                12|                bogo|                  0.25|   2.6666666666666665|    1.4166666666666667|                 0.75|              0.75|              0.75|0.6666666666666666|               1.0|\n",
      "|0020ccbbb6d84e358...|                NULL|                18.75| 10.76|  NULL|          NULL|    NULL|     NULL|      NULL|          NULL|         NULL|          NULL|       NULL|               NULL|                    NULL|           NULL|          60000.0|     F|   2016-11-11|          2016-11|          0|            1|            0|            0|            0|          0|  18-29|               NULL|             NULL|         0|                12|                bogo|                  0.25|   2.6666666666666665|    1.4166666666666667|                 0.75|              0.75|              0.75|0.6666666666666666|               1.0|\n",
      "|0020ccbbb6d84e358...|9b98b8c7a33c4b65b...|                 25.0| 10.32|   5.0|             5|     7.0|        5|      bogo|             1|            1|             0|          1|                  0|                       0|              1|          60000.0|     F|   2016-11-11|          2016-11|          0|            1|            0|            0|            0|          0|  18-29|               21.0|            24.25|         1|                12|                bogo|                  0.25|   2.6666666666666665|    1.4166666666666667|                 0.75|              0.75|              0.75|0.6666666666666666|               1.0|\n",
      "|0020ccbbb6d84e358...|f19421c1d4aa40978...|                15.75| 14.53|   5.0|             5|     5.0|        5|      bogo|             1|            1|             1|          1|                  0|                       0|              1|          60000.0|     F|   2016-11-11|          2016-11|          0|            1|            0|            0|            0|          0|  18-29|               14.0|             14.5|         1|                12|                bogo|                  0.25|   2.6666666666666665|    1.4166666666666667|                 0.75|              0.75|              0.75|0.6666666666666666|               1.0|\n",
      "|0020ccbbb6d84e358...|                NULL|                 11.5|  6.81|  NULL|          NULL|    NULL|     NULL|      NULL|          NULL|         NULL|          NULL|       NULL|               NULL|                    NULL|           NULL|          60000.0|     F|   2016-11-11|          2016-11|          0|            1|            0|            0|            0|          0|  18-29|               NULL|             NULL|         0|                12|                bogo|                  0.25|   2.6666666666666665|    1.4166666666666667|                 0.75|              0.75|              0.75|0.6666666666666666|               1.0|\n",
      "|0020ccbbb6d84e358...|                NULL|                17.75|  8.93|  NULL|          NULL|    NULL|     NULL|      NULL|          NULL|         NULL|          NULL|       NULL|               NULL|                    NULL|           NULL|          60000.0|     F|   2016-11-11|          2016-11|          0|            1|            0|            0|            0|          0|  18-29|               NULL|             NULL|         0|                12|                bogo|                  0.25|   2.6666666666666665|    1.4166666666666667|                 0.75|              0.75|              0.75|0.6666666666666666|               1.0|\n",
      "|0020ccbbb6d84e358...|                NULL|                 18.0| 20.08|  NULL|          NULL|    NULL|     NULL|      NULL|          NULL|         NULL|          NULL|       NULL|               NULL|                    NULL|           NULL|          60000.0|     F|   2016-11-11|          2016-11|          0|            1|            0|            0|            0|          0|  18-29|               NULL|             NULL|         0|                12|                bogo|                  0.25|   2.6666666666666665|    1.4166666666666667|                 0.75|              0.75|              0.75|0.6666666666666666|               1.0|\n",
      "|0020ccbbb6d84e358...|2298d6c36e964ae4a...|                 9.25| 11.65|   3.0|             3|     7.0|        7|  discount|             1|            1|             1|          1|                  1|                       0|              0|          60000.0|     F|   2016-11-11|          2016-11|          0|            1|            0|            0|            0|          0|  18-29|                7.0|              7.0|         1|                12|                bogo|                  0.25|   2.6666666666666665|    1.4166666666666667|                 0.75|              0.75|              0.75|0.6666666666666666|               1.0|\n",
      "|0020ccbbb6d84e358...|                NULL|                 10.0| 13.86|  NULL|          NULL|    NULL|     NULL|      NULL|          NULL|         NULL|          NULL|       NULL|               NULL|                    NULL|           NULL|          60000.0|     F|   2016-11-11|          2016-11|          0|            1|            0|            0|            0|          0|  18-29|               NULL|             NULL|         0|                12|                bogo|                  0.25|   2.6666666666666665|    1.4166666666666667|                 0.75|              0.75|              0.75|0.6666666666666666|               1.0|\n",
      "|0020ccbbb6d84e358...|                NULL|                19.25|  19.1|  NULL|          NULL|    NULL|     NULL|      NULL|          NULL|         NULL|          NULL|       NULL|               NULL|                    NULL|           NULL|          60000.0|     F|   2016-11-11|          2016-11|          0|            1|            0|            0|            0|          0|  18-29|               NULL|             NULL|         0|                12|                bogo|                  0.25|   2.6666666666666665|    1.4166666666666667|                 0.75|              0.75|              0.75|0.6666666666666666|               1.0|\n",
      "|0020ccbbb6d84e358...|                NULL|                 28.0|  7.47|  NULL|          NULL|    NULL|     NULL|      NULL|          NULL|         NULL|          NULL|       NULL|               NULL|                    NULL|           NULL|          60000.0|     F|   2016-11-11|          2016-11|          0|            1|            0|            0|            0|          0|  18-29|               NULL|             NULL|         0|                12|                bogo|                  0.25|   2.6666666666666665|    1.4166666666666667|                 0.75|              0.75|              0.75|0.6666666666666666|               1.0|\n",
      "|0020ccbbb6d84e358...|                NULL|                 12.5| 14.27|  NULL|          NULL|    NULL|     NULL|      NULL|          NULL|         NULL|          NULL|       NULL|               NULL|                    NULL|           NULL|          60000.0|     F|   2016-11-11|          2016-11|          0|            1|            0|            0|            0|          0|  18-29|               NULL|             NULL|         0|                12|                bogo|                  0.25|   2.6666666666666665|    1.4166666666666667|                 0.75|              0.75|              0.75|0.6666666666666666|               1.0|\n",
      "|004b041fbfe448599...|                NULL|                16.25| 19.48|  NULL|          NULL|    NULL|     NULL|      NULL|          NULL|         NULL|          NULL|       NULL|               NULL|                    NULL|           NULL|          74000.0|     F|   2018-05-08|          2018-05|          0|            0|            0|            0|            1|          0|  50-59|               NULL|             NULL|         0|                 6|            discount|    0.3333333333333333|                  3.5|                 3.375|   0.6666666666666666|0.6666666666666666|0.6666666666666666|               1.0|0.6666666666666666|\n",
      "|004b041fbfe448599...|                NULL|                 0.75| 25.62|  NULL|          NULL|    NULL|     NULL|      NULL|          NULL|         NULL|          NULL|       NULL|               NULL|                    NULL|           NULL|          74000.0|     F|   2018-05-08|          2018-05|          0|            0|            0|            0|            1|          0|  50-59|               NULL|             NULL|         0|                 6|            discount|    0.3333333333333333|                  3.5|                 3.375|   0.6666666666666666|0.6666666666666666|0.6666666666666666|               1.0|0.6666666666666666|\n",
      "|004b041fbfe448599...|fafdcd668e3743c1b...|                29.75| 19.93|   2.0|             2|    10.0|       10|  discount|             1|            1|             1|          1|                  1|                       0|              0|          74000.0|     F|   2018-05-08|          2018-05|          0|            0|            0|            0|            1|          0|  50-59|               24.0|             24.0|         1|                 6|            discount|    0.3333333333333333|                  3.5|                 3.375|   0.6666666666666666|0.6666666666666666|0.6666666666666666|               1.0|0.6666666666666666|\n",
      "+--------------------+--------------------+---------------------+------+------+--------------+--------+---------+----------+--------------+-------------+--------------+-----------+-------------------+------------------------+---------------+-----------------+------+-------------+-----------------+-----------+-------------+-------------+-------------+-------------+-----------+-------+-------------------+-----------------+----------+------------------+--------------------+----------------------+---------------------+----------------------+---------------------+------------------+------------------+------------------+------------------+\n",
      "only showing top 15 rows\n",
      "\n",
      "None\n"
     ]
    }
   ],
   "source": [
    "# Filtrar linhas que contem ofertas utilizadas\n",
    "used_offers = (df_union\n",
    "    .filter(F.col(\"used_offer\") == 1)\n",
    "    .select(\"account_id\", \"offer_id\", \"used_offer\")\n",
    ")\n",
    "\n",
    "# Adicionar a informação de uso ao offer_summary\n",
    "offer_summary_with_usage = (offer_summary\n",
    "    .join(used_offers, on=[\"account_id\", \"offer_id\"], how=\"left\")\n",
    "    .fillna({\"used_offer\": 0})\n",
    ")\n",
    "\n",
    "# Derivar uso por canal\n",
    "# Multiplicando \"used_offer\" por cada canal obtemos o resultado de uso da oferta\n",
    "# quando o canal também é utilizado\n",
    "for channel in [\"mobile\", \"email\", \"social\", \"web\"]:\n",
    "    offer_summary_with_usage = offer_summary_with_usage.withColumn(\n",
    "        f\"used_channel_{channel}\",\n",
    "        F.col(\"used_offer\") * F.col(f\"channel_{channel}\")\n",
    "    )\n",
    "\n",
    "# Agrupar por clientes\n",
    "offer_summary_with_usage = (offer_summary_with_usage\n",
    "    .groupBy(\"account_id\")\n",
    "    .agg(\n",
    "        F.sum(\"channel_mobile\").alias(\"total_mobile\"),\n",
    "        F.sum(\"channel_email\").alias(\"total_email\"),\n",
    "        F.sum(\"channel_social\").alias(\"total_social\"),\n",
    "        F.sum(\"channel_web\").alias(\"total_web\"),\n",
    "        F.sum(\"used_channel_mobile\").alias(\"used_mobile\"),\n",
    "        F.sum(\"used_channel_email\").alias(\"used_email\"),\n",
    "        F.sum(\"used_channel_social\").alias(\"used_social\"),\n",
    "        F.sum(\"used_channel_web\").alias(\"used_web\"))\n",
    "    # Calculo dos percentuais por canal\n",
    "    .withColumn(\n",
    "        \"pct_used_channel_mobile\",\n",
    "        F.when(F.col(\"total_mobile\") > 0, F.col(\"used_mobile\") / F.col(\"total_mobile\"))\n",
    "        .otherwise(None))\n",
    "    .withColumn(\n",
    "        \"pct_used_channel_email\",\n",
    "        F.when(F.col(\"total_email\") > 0, F.col(\"used_email\") / F.col(\"total_email\"))\n",
    "        .otherwise(None))\n",
    "    .withColumn(\n",
    "        \"pct_used_channel_social\",\n",
    "        F.when(F.col(\"total_social\") > 0, F.col(\"used_social\") / F.col(\"total_social\"))\n",
    "        .otherwise(None))\n",
    "    .withColumn(\n",
    "        \"pct_used_channel_web\",\n",
    "        F.when(F.col(\"total_web\") > 0, F.col(\"used_web\") / F.col(\"total_web\"))\n",
    "        .otherwise(None))\n",
    "    # Selecionar apenas colunas de interesse\n",
    "    .select(\n",
    "        \"account_id\", \"pct_used_channel_mobile\", \"pct_used_channel_email\",\n",
    "        \"pct_used_channel_social\", \"pct_used_channel_web\")\n",
    ")\n",
    "\n",
    "# Juntar com a tabela principal\n",
    "df_union = df_union.join(offer_summary_with_usage, on=\"account_id\", how=\"left\")\n",
    "\n",
    "del(used_offers, offer_summary_with_usage, channel)\n",
    "\n",
    "print(df_union.show(15))"
   ]
  },
  {
   "cell_type": "markdown",
   "id": "1142fc35",
   "metadata": {},
   "source": [
    "Percentual de cupons usados por cliente (tipo)"
   ]
  },
  {
   "cell_type": "code",
   "execution_count": null,
   "id": "164a15ae",
   "metadata": {},
   "outputs": [
    {
     "name": "stdout",
     "output_type": "stream",
     "text": [
      "+--------------------+--------------------+---------------------+------+------+--------------+--------+---------+----------+--------------+-------------+--------------+-----------+-------------------+------------------------+---------------+-----------------+------+-------------+-----------------+-----------+-------------+-------------+-------------+-------------+-----------+-------+-------------------+-----------------+----------+------------------+--------------------+----------------------+---------------------+----------------------+---------------------+------------------+------------------+------------------+------------------+-------------+-----------------+----------------------+\n",
      "|          account_id|            offer_id|time_since_test_start|amount|reward|discount_value|duration|min_value|offer_type|channel_mobile|channel_email|channel_social|channel_web|offer_type_discount|offer_type_informational|offer_type_bogo|credit_card_limit|gender|registered_on|year_month_joined|age_bin_18-|age_bin_18-29|age_bin_30-39|age_bin_40-49|age_bin_50-59|age_bin_60+|age_bin|offer_received_date|offer_viewed_date|used_offer|total_transactions|most_used_offer_type|transactons_offer_rate|avg_time_to_use_offer|avg_time_to_view_offer|all_coupon_usage_rate|   pct_used_mobile|    pct_used_email|   pct_used_social|      pct_used_web|pct_used_bogo|pct_used_discount|pct_used_informational|\n",
      "+--------------------+--------------------+---------------------+------+------+--------------+--------+---------+----------+--------------+-------------+--------------+-----------+-------------------+------------------------+---------------+-----------------+------+-------------+-----------------+-----------+-------------+-------------+-------------+-------------+-----------+-------+-------------------+-----------------+----------+------------------+--------------------+----------------------+---------------------+----------------------+---------------------+------------------+------------------+------------------+------------------+-------------+-----------------+----------------------+\n",
      "|0020ccbbb6d84e358...|                NULL|                 1.75| 16.27|  NULL|          NULL|    NULL|     NULL|      NULL|          NULL|         NULL|          NULL|       NULL|               NULL|                    NULL|           NULL|          60000.0|     F|   2016-11-11|          2016-11|          0|            1|            0|            0|            0|          0|  18-29|               NULL|             NULL|         0|                12|                bogo|                  0.25|   2.6666666666666665|    1.4166666666666667|                 0.75|              0.75|              0.75|0.6666666666666666|               1.0|          1.0|              1.0|                   0.0|\n",
      "|0020ccbbb6d84e358...|                NULL|                 10.0| 13.86|  NULL|          NULL|    NULL|     NULL|      NULL|          NULL|         NULL|          NULL|       NULL|               NULL|                    NULL|           NULL|          60000.0|     F|   2016-11-11|          2016-11|          0|            1|            0|            0|            0|          0|  18-29|               NULL|             NULL|         0|                12|                bogo|                  0.25|   2.6666666666666665|    1.4166666666666667|                 0.75|              0.75|              0.75|0.6666666666666666|               1.0|          1.0|              1.0|                   0.0|\n",
      "|0020ccbbb6d84e358...|                NULL|                 11.5|  6.81|  NULL|          NULL|    NULL|     NULL|      NULL|          NULL|         NULL|          NULL|       NULL|               NULL|                    NULL|           NULL|          60000.0|     F|   2016-11-11|          2016-11|          0|            1|            0|            0|            0|          0|  18-29|               NULL|             NULL|         0|                12|                bogo|                  0.25|   2.6666666666666665|    1.4166666666666667|                 0.75|              0.75|              0.75|0.6666666666666666|               1.0|          1.0|              1.0|                   0.0|\n",
      "|0020ccbbb6d84e358...|                NULL|                 12.5| 14.27|  NULL|          NULL|    NULL|     NULL|      NULL|          NULL|         NULL|          NULL|       NULL|               NULL|                    NULL|           NULL|          60000.0|     F|   2016-11-11|          2016-11|          0|            1|            0|            0|            0|          0|  18-29|               NULL|             NULL|         0|                12|                bogo|                  0.25|   2.6666666666666665|    1.4166666666666667|                 0.75|              0.75|              0.75|0.6666666666666666|               1.0|          1.0|              1.0|                   0.0|\n",
      "|0020ccbbb6d84e358...|                NULL|                17.75|  8.93|  NULL|          NULL|    NULL|     NULL|      NULL|          NULL|         NULL|          NULL|       NULL|               NULL|                    NULL|           NULL|          60000.0|     F|   2016-11-11|          2016-11|          0|            1|            0|            0|            0|          0|  18-29|               NULL|             NULL|         0|                12|                bogo|                  0.25|   2.6666666666666665|    1.4166666666666667|                 0.75|              0.75|              0.75|0.6666666666666666|               1.0|          1.0|              1.0|                   0.0|\n",
      "|0020ccbbb6d84e358...|                NULL|                 18.0| 20.08|  NULL|          NULL|    NULL|     NULL|      NULL|          NULL|         NULL|          NULL|       NULL|               NULL|                    NULL|           NULL|          60000.0|     F|   2016-11-11|          2016-11|          0|            1|            0|            0|            0|          0|  18-29|               NULL|             NULL|         0|                12|                bogo|                  0.25|   2.6666666666666665|    1.4166666666666667|                 0.75|              0.75|              0.75|0.6666666666666666|               1.0|          1.0|              1.0|                   0.0|\n",
      "|0020ccbbb6d84e358...|                NULL|                18.75| 10.76|  NULL|          NULL|    NULL|     NULL|      NULL|          NULL|         NULL|          NULL|       NULL|               NULL|                    NULL|           NULL|          60000.0|     F|   2016-11-11|          2016-11|          0|            1|            0|            0|            0|          0|  18-29|               NULL|             NULL|         0|                12|                bogo|                  0.25|   2.6666666666666665|    1.4166666666666667|                 0.75|              0.75|              0.75|0.6666666666666666|               1.0|          1.0|              1.0|                   0.0|\n",
      "|0020ccbbb6d84e358...|                NULL|                19.25|  19.1|  NULL|          NULL|    NULL|     NULL|      NULL|          NULL|         NULL|          NULL|       NULL|               NULL|                    NULL|           NULL|          60000.0|     F|   2016-11-11|          2016-11|          0|            1|            0|            0|            0|          0|  18-29|               NULL|             NULL|         0|                12|                bogo|                  0.25|   2.6666666666666665|    1.4166666666666667|                 0.75|              0.75|              0.75|0.6666666666666666|               1.0|          1.0|              1.0|                   0.0|\n",
      "|0020ccbbb6d84e358...|                NULL|                 28.0|  7.47|  NULL|          NULL|    NULL|     NULL|      NULL|          NULL|         NULL|          NULL|       NULL|               NULL|                    NULL|           NULL|          60000.0|     F|   2016-11-11|          2016-11|          0|            1|            0|            0|            0|          0|  18-29|               NULL|             NULL|         0|                12|                bogo|                  0.25|   2.6666666666666665|    1.4166666666666667|                 0.75|              0.75|              0.75|0.6666666666666666|               1.0|          1.0|              1.0|                   0.0|\n",
      "|0020ccbbb6d84e358...|2298d6c36e964ae4a...|                 9.25| 11.65|   3.0|             3|     7.0|        7|  discount|             1|            1|             1|          1|                  1|                       0|              0|          60000.0|     F|   2016-11-11|          2016-11|          0|            1|            0|            0|            0|          0|  18-29|                7.0|              7.0|         1|                12|                bogo|                  0.25|   2.6666666666666665|    1.4166666666666667|                 0.75|              0.75|              0.75|0.6666666666666666|               1.0|          1.0|              1.0|                   0.0|\n",
      "|0020ccbbb6d84e358...|9b98b8c7a33c4b65b...|                 25.0| 10.32|   5.0|             5|     7.0|        5|      bogo|             1|            1|             0|          1|                  0|                       0|              1|          60000.0|     F|   2016-11-11|          2016-11|          0|            1|            0|            0|            0|          0|  18-29|               21.0|            24.25|         1|                12|                bogo|                  0.25|   2.6666666666666665|    1.4166666666666667|                 0.75|              0.75|              0.75|0.6666666666666666|               1.0|          1.0|              1.0|                   0.0|\n",
      "|0020ccbbb6d84e358...|f19421c1d4aa40978...|                15.75| 14.53|   5.0|             5|     5.0|        5|      bogo|             1|            1|             1|          1|                  0|                       0|              1|          60000.0|     F|   2016-11-11|          2016-11|          0|            1|            0|            0|            0|          0|  18-29|               14.0|             14.5|         1|                12|                bogo|                  0.25|   2.6666666666666665|    1.4166666666666667|                 0.75|              0.75|              0.75|0.6666666666666666|               1.0|          1.0|              1.0|                   0.0|\n",
      "|004b041fbfe448599...|                NULL|                 0.75| 25.62|  NULL|          NULL|    NULL|     NULL|      NULL|          NULL|         NULL|          NULL|       NULL|               NULL|                    NULL|           NULL|          74000.0|     F|   2018-05-08|          2018-05|          0|            0|            0|            0|            1|          0|  50-59|               NULL|             NULL|         0|                 6|            discount|    0.3333333333333333|                  3.5|                 3.375|   0.6666666666666666|0.6666666666666666|0.6666666666666666|               1.0|0.6666666666666666|          1.0|              1.0|                   0.0|\n",
      "|004b041fbfe448599...|                NULL|                 14.0|  24.3|  NULL|          NULL|    NULL|     NULL|      NULL|          NULL|         NULL|          NULL|       NULL|               NULL|                    NULL|           NULL|          74000.0|     F|   2018-05-08|          2018-05|          0|            0|            0|            0|            1|          0|  50-59|               NULL|             NULL|         0|                 6|            discount|    0.3333333333333333|                  3.5|                 3.375|   0.6666666666666666|0.6666666666666666|0.6666666666666666|               1.0|0.6666666666666666|          1.0|              1.0|                   0.0|\n",
      "|004b041fbfe448599...|                NULL|                14.75| 21.11|  NULL|          NULL|    NULL|     NULL|      NULL|          NULL|         NULL|          NULL|       NULL|               NULL|                    NULL|           NULL|          74000.0|     F|   2018-05-08|          2018-05|          0|            0|            0|            0|            1|          0|  50-59|               NULL|             NULL|         0|                 6|            discount|    0.3333333333333333|                  3.5|                 3.375|   0.6666666666666666|0.6666666666666666|0.6666666666666666|               1.0|0.6666666666666666|          1.0|              1.0|                   0.0|\n",
      "+--------------------+--------------------+---------------------+------+------+--------------+--------+---------+----------+--------------+-------------+--------------+-----------+-------------------+------------------------+---------------+-----------------+------+-------------+-----------------+-----------+-------------+-------------+-------------+-------------+-----------+-------+-------------------+-----------------+----------+------------------+--------------------+----------------------+---------------------+----------------------+---------------------+------------------+------------------+------------------+------------------+-------------+-----------------+----------------------+\n",
      "only showing top 15 rows\n",
      "\n",
      "None\n"
     ]
    }
   ],
   "source": [
    "# Filtrar linhas que contem ofertas utilizadas\n",
    "used_offers = (df_union\n",
    "    .filter(F.col(\"used_offer\") == 1)\n",
    "    .select(\"account_id\", \"offer_id\", \"used_offer\")\n",
    ")\n",
    "\n",
    "offer_summary_with_usage = (offer_summary\n",
    "    # Adicionar a coluna used_offer na tabela de ofertas\n",
    "    .join(used_offers, on=[\"account_id\", \"offer_id\"], how=\"left\")\n",
    "    .fillna({\"used_offer\": 0})\n",
    "    # Agrupar por cliente e tipo de oferta, contando qtd de ofertas usadas e totais\n",
    "    .groupBy([\"account_id\", \"offer_type\"])\n",
    "    .agg(\n",
    "        F.count(\"*\").alias(\"total_offers\"),\n",
    "        F.sum(\"used_offer\").alias(\"used_offers\"))\n",
    "    # Calcular percentual\n",
    "    .withColumn(\n",
    "        \"pct_used_type\",\n",
    "        F.when(F.col(\"total_offers\") > 0, F.col(\"used_offers\") / F.col(\"total_offers\"))\n",
    "        .otherwise(None))\n",
    "    .groupBy(\"account_id\")\n",
    "    # Pivot para deixar cada tipo como uma coluna\n",
    "    .pivot(\n",
    "        \"offer_type\",\n",
    "        [\"bogo\", \"discount\", \"informational\"])\n",
    "    .agg(F.first(\"pct_used_type\"))\n",
    "    # Renomear colunas\n",
    "    .withColumnRenamed(\"bogo\", \"pct_used_type_bogo\")\n",
    "    .withColumnRenamed(\"discount\", \"pct_used_type_discount\")\n",
    "    .withColumnRenamed(\"informational\", \"pct_used_type_informational\")\n",
    ")\n",
    "\n",
    "# Join com df_union\n",
    "df_union = df_union.join(offer_summary_with_usage, on=\"account_id\", how=\"left\")\n",
    "\n",
    "del(used_offers, offer_summary_with_usage)\n",
    "\n",
    "print(df_union.show(15))"
   ]
  },
  {
   "cell_type": "markdown",
   "id": "671778a5",
   "metadata": {},
   "source": [
    "Percentual de cupons visualizados por cliente (geral)"
   ]
  },
  {
   "cell_type": "code",
   "execution_count": null,
   "id": "11ffd314",
   "metadata": {},
   "outputs": [],
   "source": []
  },
  {
   "cell_type": "markdown",
   "id": "d3da1535",
   "metadata": {},
   "source": [
    "Percentual de cupons visualizados por cliente (veiculo)"
   ]
  },
  {
   "cell_type": "code",
   "execution_count": null,
   "id": "541414bd",
   "metadata": {},
   "outputs": [],
   "source": []
  },
  {
   "cell_type": "markdown",
   "id": "ed82ba53",
   "metadata": {},
   "source": [
    "Percentual de cupons visualizados por cliente (tipo)"
   ]
  },
  {
   "cell_type": "code",
   "execution_count": null,
   "id": "215723fb",
   "metadata": {},
   "outputs": [],
   "source": []
  },
  {
   "cell_type": "markdown",
   "id": "6b71423d",
   "metadata": {},
   "source": [
    "Frequencia de compras por semana"
   ]
  },
  {
   "cell_type": "code",
   "execution_count": null,
   "id": "43378436",
   "metadata": {},
   "outputs": [],
   "source": []
  },
  {
   "cell_type": "markdown",
   "id": "162ed0c3",
   "metadata": {},
   "source": [
    "# 5. Fechar sessão spark"
   ]
  },
  {
   "cell_type": "code",
   "execution_count": 34,
   "id": "79c33c3c",
   "metadata": {},
   "outputs": [],
   "source": [
    "spark.stop()"
   ]
  }
 ],
 "metadata": {
  "kernelspec": {
   "display_name": "ifoodcase_311",
   "language": "python",
   "name": "python3"
  },
  "language_info": {
   "codemirror_mode": {
    "name": "ipython",
    "version": 3
   },
   "file_extension": ".py",
   "mimetype": "text/x-python",
   "name": "python",
   "nbconvert_exporter": "python",
   "pygments_lexer": "ipython3",
   "version": "3.11.11"
  }
 },
 "nbformat": 4,
 "nbformat_minor": 5
}
